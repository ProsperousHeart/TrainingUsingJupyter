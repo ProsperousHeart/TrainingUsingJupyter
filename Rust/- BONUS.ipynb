{
 "cells": [
  {
   "cell_type": "markdown",
   "id": "f6f96461",
   "metadata": {},
   "source": [
    "# Tools\n",
    "\n",
    "If you use JEtBrains as an IDE, you should consider getting [this](https://plugins.jetbrains.com/plugin/8182-rust).\n",
    "\n",
    "VS code? [This](https://marketplace.visualstudio.com/items?itemName=rust-lang.rust-analyzer).\n",
    "\n",
    "Others check [this out](https://www.rust-lang.org/tools).\n",
    "\n",
    "## Others\n",
    "\n",
    " https://www.shuttle.rs"
   ]
  },
  {
   "cell_type": "code",
   "execution_count": null,
   "id": "c1672edd",
   "metadata": {},
   "outputs": [],
   "source": []
  }
 ],
 "metadata": {
  "kernelspec": {
   "display_name": "Python 3 (ipykernel)",
   "language": "python",
   "name": "python3"
  },
  "language_info": {
   "codemirror_mode": {
    "name": "ipython",
    "version": 3
   },
   "file_extension": ".py",
   "mimetype": "text/x-python",
   "name": "python",
   "nbconvert_exporter": "python",
   "pygments_lexer": "ipython3",
   "version": "3.10.2"
  }
 },
 "nbformat": 4,
 "nbformat_minor": 5
}
