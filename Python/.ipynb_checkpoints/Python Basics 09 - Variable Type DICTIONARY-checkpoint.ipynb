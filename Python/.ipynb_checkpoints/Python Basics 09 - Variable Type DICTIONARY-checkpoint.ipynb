{
 "cells": [
  {
   "cell_type": "markdown",
   "metadata": {},
   "source": [
    "# [Dictionaries](http://www.learnpython.org/en/Dictionaries)\n",
    "\n",
    "There are other things like NamedTuples you can use, however there are some great options when using dictionaries that you can't when using NamedTuples.\n",
    "\n",
    "## Structure\n",
    "\n",
    "The **dictionary** documentation can be found [here](https://docs.python.org/3/tutorial/datastructures.html#dictionaries).\n",
    "\n",
    "One of the things I love about programming is that there is no one right way to code.\n",
    "\n",
    "Here I will share with you 3 ways you can create a dictionary.<hr>\n",
    "\n",
    "Unlike sequences (like **strings**, **lists**, and **tuples**) indexed by a range of numbers? Items within a dictionary are indexed by keys.\n",
    "\n",
    "`new_dict = dict()\n",
    "new_dict['some_key'] = \"Whatever you want here. Any data type. PEP8 says should all be the same, but that's a style guideline.\"\n",
    "new_dict[4] = 4\n",
    "new_dict2 = {'sum things': [\"Go Here\"]}\"`\n",
    "\n",
    "If there is more than one item in a dictionary, then they will be separated by a comma."
   ]
  },
  {
   "cell_type": "code",
   "execution_count": 10,
   "metadata": {},
   "outputs": [
    {
     "data": {
      "text/plain": [
       "{4: 4,\n",
       " 'some_key': \"Whatever you want here. Any data type. PEP8 says should all be the same, but that's a style guideline.\"}"
      ]
     },
     "execution_count": 10,
     "metadata": {},
     "output_type": "execute_result"
    }
   ],
   "source": [
    "new_dict = dict()\n",
    "new_dict['some_key'] = \"Whatever you want here. Any data type. PEP8 says should all be the same, but that's a style guideline.\"\n",
    "new_dict[4] = 4\n",
    "new_dict"
   ]
  },
  {
   "cell_type": "code",
   "execution_count": 11,
   "metadata": {},
   "outputs": [
    {
     "data": {
      "text/plain": [
       "{'sum things': ['Go Here']}"
      ]
     },
     "execution_count": 11,
     "metadata": {},
     "output_type": "execute_result"
    }
   ],
   "source": [
    "new_dict2 = {'sum things': [\"Go Here\"]}\n",
    "new_dict2"
   ]
  },
  {
   "cell_type": "markdown",
   "metadata": {},
   "source": [
    "Another great way to create a dictionary is by using keyword arguments:<br>\n",
    "`dict(sape=4139, guido=4127, jack=4098)`"
   ]
  },
  {
   "cell_type": "code",
   "execution_count": 16,
   "metadata": {},
   "outputs": [
    {
     "data": {
      "text/plain": [
       "{'guido': 4127, 'jack': 4098, 'sape': 4139}"
      ]
     },
     "execution_count": 16,
     "metadata": {},
     "output_type": "execute_result"
    }
   ],
   "source": [
    "dict(sape=4139, guido=4127, jack=4098)"
   ]
  },
  {
   "cell_type": "markdown",
   "metadata": {},
   "source": [
    "## Things To Keep In Mind\n",
    "\n",
    "You cannot use a list as a key. Keys must be immutable like **strings** and **numnbers**.\n",
    "\n",
    "A dictionary is _kind of_ like a [set](https://docs.python.org/3/tutorial/datastructures.html#sets) in that if you try to create multiple keys with the same value? It will only keep 1 key / value pair.\n",
    "\n",
    "The last one.\n",
    "\n",
    "Prior to 3.6 they were also unordered ... Rumor has it that [this was changed in 3.6 version](https://docs.python.org/3/whatsnew/3.6.html)! ;)\n",
    "\n",
    "## Built-In Methods\n",
    "\n",
    "Be sure to check out the structure of a **dictionary** [here](https://docs.python.org/3.3/library/stdtypes.html#dict)!\n",
    "\n",
    "When you utilize these documents, you provide yourself the ability to do more. \n",
    "\n",
    "How? \n",
    "\n",
    "Because you know what's already available and won't have to reinvent the wheel!"
   ]
  },
  {
   "cell_type": "markdown",
   "metadata": {},
   "source": [
    "## Dict Comprehensions\n",
    "\n",
    "Like list comprehensions, this provides you the ability to create dictionaries from some arbitrary (seemingly random) key and value expressions. For example:\n",
    "\n",
    "`{x: x**2 for x in (2, 4, 6)}`"
   ]
  },
  {
   "cell_type": "code",
   "execution_count": 15,
   "metadata": {},
   "outputs": [
    {
     "data": {
      "text/plain": [
       "{2: 4, 4: 16, 6: 36}"
      ]
     },
     "execution_count": 15,
     "metadata": {},
     "output_type": "execute_result"
    }
   ],
   "source": [
    "{x: x**2 for x in (2, 4, 6)}"
   ]
  },
  {
   "attachments": {},
   "cell_type": "markdown",
   "metadata": {},
   "source": [
    "## Add & Update\n",
    "\n",
    "`dict = {'Name': 'Zara', 'Age': 7, 'Class': 'First'}\n",
    "dict['Age'] = 8\t \t\t\t\t\t\t# update existing entry\n",
    "dict['School'] = \"DPS School\"\t\t\t# Add new entry\n",
    "print(\"dict['Age']: \", dict['Age']) \t#Prints value at key ‘Age’\n",
    "print(dict)\t\t\t\t\t\t\t\t# Prints complete dictionary\n",
    "print(dict.keys())   \t\t\t\t\t# Prints all the keys\n",
    "print(dict.values()) \t\t\t\t\t# Prints all the values!`"
   ]
  },
  {
   "cell_type": "code",
   "execution_count": 71,
   "metadata": {},
   "outputs": [],
   "source": [
    "new_dict = {'Name': 'Zara', 'Age': 7, 'Class': 'First'}\n",
    "new_dict['Age'] = 8\t \t\t\t\t\t\t# update existing entry\n",
    "new_dict['School'] = \"DPS School\"\t\t\t# Add new entry"
   ]
  },
  {
   "cell_type": "code",
   "execution_count": 72,
   "metadata": {},
   "outputs": [
    {
     "name": "stdout",
     "output_type": "stream",
     "text": [
      "new_dict['Age']:  8\n"
     ]
    }
   ],
   "source": [
    "print(\"new_dict['Age']: \", new_dict['Age']) \t#Prints value at key ‘Age’"
   ]
  },
  {
   "cell_type": "code",
   "execution_count": 73,
   "metadata": {},
   "outputs": [
    {
     "name": "stdout",
     "output_type": "stream",
     "text": [
      "{'Name': 'Zara', 'Age': 8, 'Class': 'First', 'School': 'DPS School'}\n"
     ]
    }
   ],
   "source": [
    "print(new_dict)\t\t\t\t\t\t\t\t# Prints complete dictionary"
   ]
  },
  {
   "cell_type": "code",
   "execution_count": 74,
   "metadata": {},
   "outputs": [
    {
     "name": "stdout",
     "output_type": "stream",
     "text": [
      "dict_keys(['Name', 'Age', 'Class', 'School'])\n"
     ]
    }
   ],
   "source": [
    "print(new_dict.keys())   \t\t\t\t\t# Prints all the keys"
   ]
  },
  {
   "cell_type": "code",
   "execution_count": 75,
   "metadata": {},
   "outputs": [
    {
     "name": "stdout",
     "output_type": "stream",
     "text": [
      "dict_values(['Zara', 8, 'First', 'DPS School'])\n"
     ]
    }
   ],
   "source": [
    "print(new_dict.values()) \t\t\t\t\t# Prints all the values!"
   ]
  },
  {
   "attachments": {},
   "cell_type": "markdown",
   "metadata": {},
   "source": [
    "## Deletion\n",
    "\n",
    "`dict = {'Name': 'Zara', 'Age': 7, 'Class': 'First'}\n",
    "del dict['Name']\t\t# remove entry with key 'Name'\n",
    "dict.pop(\"Age\")\t\t# returns entry and removes from dictionary\n",
    "dict.clear()\t\t\t\t# remove all entries in dict\n",
    "del dict\t\t\t\t\t# removes dict from local scope (doesn’t actually delete)`\n",
    "\n",
    "**QUESTION:**  What kind of [exception](https://docs.python.org/3/tutorial/errors.html) will be raised if you try to access your deleted dictionary?"
   ]
  },
  {
   "cell_type": "code",
   "execution_count": 87,
   "metadata": {},
   "outputs": [],
   "source": [
    "new_dict = {'Name': 'Zara', 'Age': 7, 'Class': 'First'}"
   ]
  },
  {
   "cell_type": "code",
   "execution_count": 88,
   "metadata": {},
   "outputs": [
    {
     "data": {
      "text/plain": [
       "{'Age': 7, 'Class': 'First'}"
      ]
     },
     "execution_count": 88,
     "metadata": {},
     "output_type": "execute_result"
    }
   ],
   "source": [
    "del new_dict['Name']                    # remove entry with key 'Name'\n",
    "new_dict"
   ]
  },
  {
   "cell_type": "code",
   "execution_count": 89,
   "metadata": {},
   "outputs": [
    {
     "name": "stdout",
     "output_type": "stream",
     "text": [
      "7\n",
      "{'Class': 'First'}\n"
     ]
    }
   ],
   "source": [
    "popped_item = new_dict.pop(\"Age\")        # returns entry and removes from dictionary\n",
    "print(popped_item)\n",
    "print(new_dict)"
   ]
  },
  {
   "cell_type": "code",
   "execution_count": 90,
   "metadata": {},
   "outputs": [
    {
     "data": {
      "text/plain": [
       "{}"
      ]
     },
     "execution_count": 90,
     "metadata": {},
     "output_type": "execute_result"
    }
   ],
   "source": [
    "new_dict.clear()                         # remove all entries in dict\n",
    "new_dict"
   ]
  },
  {
   "cell_type": "code",
   "execution_count": 91,
   "metadata": {},
   "outputs": [
    {
     "ename": "NameError",
     "evalue": "name 'new_dict' is not defined",
     "output_type": "error",
     "traceback": [
      "\u001b[1;31m---------------------------------------------------------------------------\u001b[0m",
      "\u001b[1;31mNameError\u001b[0m                                 Traceback (most recent call last)",
      "\u001b[1;32m<ipython-input-91-ac2463ecf525>\u001b[0m in \u001b[0;36m<module>\u001b[1;34m()\u001b[0m\n\u001b[0;32m      1\u001b[0m \u001b[1;32mdel\u001b[0m \u001b[0mnew_dict\u001b[0m                             \u001b[1;31m# removes dict from local scope\u001b[0m\u001b[1;33m\u001b[0m\u001b[0m\n\u001b[1;32m----> 2\u001b[1;33m \u001b[0mnew_dict\u001b[0m\u001b[1;33m\u001b[0m\u001b[0m\n\u001b[0m",
      "\u001b[1;31mNameError\u001b[0m: name 'new_dict' is not defined"
     ]
    }
   ],
   "source": [
    "del new_dict                             # removes dict from local scope\n",
    "new_dict                                 # what kind of error will happen here?"
   ]
  },
  {
   "cell_type": "markdown",
   "metadata": {},
   "source": [
    "## Iteration Over Dicts\n",
    "\n",
    "Can be iterated similar to a list, however prior to version 3.6 it would not keep the order - unless it was an [OrderedDict](https://docs.python.org/2/library/collections.html#collections.OrderedDict) datatype.\n",
    "\n",
    "`phonebook = {'Sally': 8675309, 'Jane': 9745199}\n",
    "for name, number in phonebook.items():\n",
    "    print('You can call {} at {}'.format(name, number))`"
   ]
  },
  {
   "cell_type": "code",
   "execution_count": null,
   "metadata": {},
   "outputs": [],
   "source": []
  }
 ],
 "metadata": {
  "kernelspec": {
   "display_name": "Python 3",
   "language": "python",
   "name": "python3"
  },
  "language_info": {
   "codemirror_mode": {
    "name": "ipython",
    "version": 3
   },
   "file_extension": ".py",
   "mimetype": "text/x-python",
   "name": "python",
   "nbconvert_exporter": "python",
   "pygments_lexer": "ipython3",
   "version": "3.6.4"
  }
 },
 "nbformat": 4,
 "nbformat_minor": 2
}
