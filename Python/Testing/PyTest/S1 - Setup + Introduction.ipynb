{
 "cells": [
  {
   "cell_type": "markdown",
   "id": "fec16ad6",
   "metadata": {},
   "source": [
    "Please note that these are the notes from going through a training on Udemy. At some point, I will go back through this and make it more robust."
   ]
  },
  {
   "cell_type": "markdown",
   "id": "92edd953",
   "metadata": {},
   "source": [
    "# What Is PyTest?\n",
    "\n",
    "PyTest is a unit testing framework for python.\n",
    "\n",
    "# [Setup On Windows64](https://www.udemy.com/course/big-data-testing/learn/lecture/7235048#overview)\n",
    "\n",
    "1. download your python\n",
    "2. install python\n",
    "3. setup environment variable\n",
    "\n",
    "# [Setup PyCharm](https://www.udemy.com/course/big-data-testing/learn/lecture/7235098#overview)\n",
    "\n",
    "PyCharm is an editor for python program - or any code, really. You can edit AND run the code.\n",
    "\n",
    "1. download community version\n",
    "2. install PyCharm\n",
    "3. open & create project\n",
    "\n",
    "# [Configure PIP (Package Installation Manager)](https://www.udemy.com/course/big-data-testing/learn/lecture/7235044#overview)\n",
    "\n",
    "The way to download and install libraries. Can also directly install them.\n",
    "\n",
    "1. find location\n",
    "2. make entry in environment variable\n",
    "\n",
    "`pip` is in Scripts folder, as well as `easy_install`.\n",
    "\n",
    "Copy the location of the executable, and add to system PATH variable.\n",
    "\n",
    "You can test by simply running `pip` in your command line prompt."
   ]
  },
  {
   "cell_type": "markdown",
   "id": "5897049a",
   "metadata": {},
   "source": [
    "# [Intro to PyTest: Unit Testing Framework for Python](https://www.udemy.com/course/big-data-testing/learn/lecture/7235238#overview)\n",
    "\n",
    "## What Is PyTest?\n",
    "\n",
    "- unit testing framework for Python ()other optinos could be UnitTest or Nose)\n",
    "- options to conditionally execute cases\n",
    "- can setup pre-requisites and post setups\n",
    "- can add assertions\n",
    "- options to generate a report\n",
    "\n",
    "There are many advantages for using a framework for testing, including those outlined above.\n",
    "\n",
    "## Setup PyTest\n",
    "\n",
    "Run `pip install pytest` to install. If you want to ensure it's there, run python and then `help(modules)` to see what is installed."
   ]
  }
 ],
 "metadata": {
  "kernelspec": {
   "display_name": "Python 3 (ipykernel)",
   "language": "python",
   "name": "python3"
  },
  "language_info": {
   "codemirror_mode": {
    "name": "ipython",
    "version": 3
   },
   "file_extension": ".py",
   "mimetype": "text/x-python",
   "name": "python",
   "nbconvert_exporter": "python",
   "pygments_lexer": "ipython3",
   "version": "3.10.2"
  }
 },
 "nbformat": 4,
 "nbformat_minor": 5
}
