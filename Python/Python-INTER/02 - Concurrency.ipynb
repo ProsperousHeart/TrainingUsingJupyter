{
 "cells": [
  {
   "cell_type": "markdown",
   "metadata": {},
   "source": [
    "# Introduction\n",
    "\n",
    "**Concurrency** - the act of having your computer do multiple things at the same time. There are many benefits to doing this, but can lead to issues. So it is important to understand these and utilize them where appropriate.\n",
    "\n",
    "There are 3 basic types of concurrency available in python:\n",
    "1. threading\n",
    "2. asyncio (introduced in Python 3.4)\n",
    "3. multiprocessing\n",
    "\n",
    "## Background\n",
    "\n",
    "Once asyncio was introduced we then saw **async** and **await** added in Python 3.5 - eventually becoming keywords in 3.7 version.\n",
    "\n",
    "The **asyncio.run()** function was added as well.\n",
    "\n",
    "Originally, some of the samples used here were only tested in Python 3.8.5 but I will be running 3.10.2 version.\n",
    "\n",
    "Things you will need to know for this:\n",
    "- be proficient in python\n",
    "- understand classes, functions, iteration\n",
    "- created a few python projects\n",
    "- experience with async in any language (bonus)"
   ]
  },
  {
   "cell_type": "markdown",
   "metadata": {},
   "source": [
    "## Setup\n",
    "\n",
    "### Cloud Workspace\n",
    "\n",
    "In the GitHub repo [here](https://github.com/LinkedInLearning/async-python-foundations-applied-concepts-2422322), there is a way to run the code in VS Code via the browser with [Gitpod](https://gitpod.io/#/https://github.com/LinkedInLearning/async-python-foundations-applied-concepts-2422322). Otherwise can download locally.\n",
    "\n",
    "### Local Setup\n",
    "\n",
    "The process if you were doing locally would be:\n",
    "\n",
    "1. clone the repo\n",
    "\n",
    "2. cd into the course directory\n",
    "\n",
    "3. create a virtual environment to keep dependencies isolated then activate\n",
    "```python\n",
    "python3 -m venv venv\n",
    "source venv/bin/activate\n",
    "```\n",
    "\n",
    "... or you can follow [this](https://github.com/ProsperousHeart/cheatsheets/blob/master/Processes/virtualenvs.md)\n",
    "\n",
    "4. install requirements:  `pip install -r requirements.txt`\n",
    "\n",
    "5. ensure you have [redis](https://redis.io/download) installed (can use `brew install redis` if you utilize that package)"
   ]
  },
  {
   "cell_type": "markdown",
   "metadata": {},
   "source": [
    "# Understanding Asynchronous Programs"
   ]
  },
  {
   "cell_type": "markdown",
   "metadata": {},
   "source": [
    "## [sync vs async](https://www.linkedin.com/learning/async-python-foundations-applied-concepts/what-makes-programs-slow-and-when-async-execution-can-help?autoSkip=true&autoplay=true&resume=false&u=76276956)\n",
    "\n",
    "With async, you can only optimize things you can walk away from.\n",
    "\n",
    "Async conurrency prevents \"too many cooks in the kitchen\".\n",
    "\n",
    "### I/O Bound vs CPU Bound\n",
    "\n",
    "#### I/O Bound\n",
    "\n",
    "Likely to benefit from async:\n",
    "\n",
    "- HTTP requests\n",
    "- database access\n",
    "- persistent connections (sockets, WebSockets)\n",
    "- sending emails\n",
    "- network & API calls\n",
    "\n",
    "It makes the call, and while waiting for a response it can do other things.\n",
    "\n",
    "#### CPU Bound\n",
    "\n",
    "Likely not to benefit from async:\n",
    "\n",
    "- heavy arithmetic operations\n",
    "- image processing\n",
    "- slow algorithms\n",
    "- parsing\n",
    "- string manipulation\n",
    "\n",
    "Would need to be split up into a few processes or threads."
   ]
  },
  {
   "cell_type": "markdown",
   "metadata": {},
   "source": [
    "## [Async/Await](https://www.linkedin.com/learning/async-python-foundations-applied-concepts/how-async-works-async-await?autoSkip=true&autoplay=true&resume=false&u=76276956)\n",
    "\n",
    "The **event loop** is at the heart of asynchronous programming. It manages tasks using what's called the **event queue** - also known as the task queue.\n",
    "\n",
    "Since Python 3.5 we've had async/await syntax. It allows us to write async code that ready synchronously.\n",
    "\n",
    "### Code Example 1\n",
    "\n",
    "#### Synchronous Code Example 1\n",
    "\n",
    "```python\n",
    "def sync_function(secs):\n",
    "    ...\n",
    "    results = blocking_function()\n",
    "    return results\n",
    "```\n",
    "\n",
    "#### Async Code Example 1\n",
    "\n",
    "```python\n",
    "async def function(secs):\n",
    "    ...\n",
    "    results = await non_blocking_awaitable()\n",
    "    return results\n",
    "```"
   ]
  },
  {
   "cell_type": "markdown",
   "metadata": {},
   "source": [
    "### Code Example 2\n",
    "\n",
    "When defining an **async** function we can then **await** another function. And just like functions can call others, you can similarly chain async functions.\n",
    "\n",
    "#### Synchronous Code Example 2\n",
    "\n",
    "```python\n",
    "def sync_function():\n",
    "    ...\n",
    "    results = blocking_function()\n",
    "    return results\n",
    "```\n",
    "\n",
    "#### Async Code Example 2\n",
    "\n",
    "```python\n",
    "# chaining\n",
    "async def my_function():\n",
    "    ...\n",
    "    results = await non_blocking_awaitable()\n",
    "    return results\n",
    "\n",
    "async def another_function():\n",
    "    results = await my_function()  # when called, we get an awaitable\n",
    "    return results\n",
    "```\n",
    "\n",
    "**Rule of thumb:** only get an awaitable from within an async function. That function then becomes something you can await."
   ]
  },
  {
   "cell_type": "markdown",
   "metadata": {},
   "source": [
    "## [How async Python differs from other languages](https://www.linkedin.com/learning/async-python-foundations-applied-concepts/how-async-python-differs-from-other-languages?autoSkip=true&autoplay=true&resume=false&u=76276956)\n",
    "\n",
    "[David Beazley](https://www.dabeaz.com/) wrote some rules for async Python, but the following were suggested by the course creator:\n",
    "\n",
    "1. async Python does not run itself\n",
    "\n",
    "2. we can only **Await** from an **async** function\n",
    "\n",
    "3. awaiting something does not magically make it async"
   ]
  },
  {
   "attachments": {
    "image.png": {
     "image/png": "[encoded data removed]"
    }
   },
   "cell_type": "markdown",
   "metadata": {},
   "source": [
    "### Rule 1:  async Python does not run itself\n",
    "\n",
    "```python\n",
    "async def my_func(argument):\n",
    "    ... \n",
    "    await something()\n",
    "\n",
    "my_function()\n",
    "```\n",
    "\n",
    "![image.png](attachment:image.png)\n",
    "\n",
    "You cannot run this code as if it were regular code. You must explicitly hand over control to the event loop.\n",
    "\n",
    "```python\n",
    "import asyncio\n",
    "\n",
    "async def my_function(argument):\n",
    "    ... \n",
    "    await something()\n",
    "    \n",
    "asyncio.run(my_function())\n",
    "```\n",
    "\n",
    "There are other ways of handling execution to the event loop, but this is the most straightforward."
   ]
  },
  {
   "attachments": {
    "image.png": {
     "image/png": "[encoded data removed]"
    }
   },
   "cell_type": "markdown",
   "metadata": {},
   "source": [
    "### Rule 2:  we can only await from an async function\n",
    "\n",
    "```python\n",
    "def my_func(argument):\n",
    "    ...\n",
    "    await something()\n",
    "\n",
    "my_func()\n",
    "```\n",
    "![image.png](attachment:image.png)"
   ]
  },
  {
   "cell_type": "markdown",
   "metadata": {},
   "source": [
    "### Rule 3:  awaiting something does not magically make it async\n",
    "\n",
    "If you take a blocking API and add await to it, it won't turn into a non-blocking API."
   ]
  },
  {
   "cell_type": "markdown",
   "metadata": {},
   "source": [
    "## [Async sleep & gather](https://www.linkedin.com/learning/async-python-foundations-applied-concepts/async-sleep-and-gather?autoSkip=true&autoplay=true&resume=false&u=76276956)"
   ]
  },
  {
   "cell_type": "markdown",
   "metadata": {},
   "source": [
    "# Additional Resources\n",
    "Here are some of the resources I utilized for creating thsi training.\n",
    "1. LinkedIn Learning\n",
    "    - [Async Python Foundations:  Applied Concepts](https://www.linkedin.com/learning/async-python-foundations-applied-concepts) - be sure to check out the GitHub repo [here](https://github.com/LinkedInLearning/async-python-foundations-applied-concepts-2422322)!\n",
    "    - [Faster Python Code](https://www.linkedin.com/learning/faster-python-code)\n",
    "    - [Optimizing Python Services](https://www.linkedin.com/learning/faster-python-services)\n",
    "    - [Python 3.10 First Look](https://www.linkedin.com/learning/python-3-10-first-look/)\n",
    "2. From RealPython\n",
    "    - [Speed Up Your Python Program With Concurrency](https://realpython.com/python-concurrency/) (an article) - be sure to check out [their GitHub repo](https://github.com/realpython/materials/tree/master/concurrency-overview)!\n",
    "    - [Speed Up Python With Concurrency](https://realpython.com/courses/speed-python-concurrency/) (a video course)"
   ]
  }
 ],
 "metadata": {
  "kernelspec": {
   "display_name": "Python 3",
   "language": "python",
   "name": "python3"
  },
  "language_info": {
   "codemirror_mode": {
    "name": "ipython",
    "version": 3
   },
   "file_extension": ".py",
   "mimetype": "text/x-python",
   "name": "python",
   "nbconvert_exporter": "python",
   "pygments_lexer": "ipython3",
   "version": "3.6.5"
  }
 },
 "nbformat": 4,
 "nbformat_minor": 2
}
