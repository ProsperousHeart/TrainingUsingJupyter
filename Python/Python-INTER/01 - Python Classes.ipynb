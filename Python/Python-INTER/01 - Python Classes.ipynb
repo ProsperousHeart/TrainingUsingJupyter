{
 "cells": [
  {
   "cell_type": "markdown",
   "metadata": {},
   "source": [
    "# Python Classes\n",
    "\n",
    "You can find the most recent 3.x version documentation [here](https://docs.python.org/3/tutorial/classes.html)\n",
    "\n",
    "Classes are what allow you to create new data types - which means new _instances_ of that type can be made. These data types can have things like:\n",
    "- attributes for maintaining the object's state (e.g.:  eye color, name, etc)\n",
    "- methods (functions that can be run against the instance) for modifying it's state\n",
    "\n",
    "But these are just the main key components. Python classes provide all the same standard features of Object Oriented Programming:\n",
    "- [class inheritance](https://docs.python.org/3/tutorial/classes.html#inheritance)\n",
    "- arbitrary amounts & kinds of data\n",
    "- created at runtime\n",
    "- can be modified after creation\n",
    "\n",
    "Built-in types (classes already built into python) can be used as base classes for extension by a user or developer.\n",
    "\n",
    "Special syntax (_e.g.:  arithmetic operators_) can also be redefined for class instances.\n",
    "\n",
    "Before we get started, you may not be aware that there is something called [PEP 3107 - function annotation](https://www.python.org/dev/peps/pep-3107/). This can come in very handy later on down the line & it is highly suggested you use this."
   ]
  },
  {
   "cell_type": "markdown",
   "metadata": {},
   "source": [
    "## Scopes & Namespaces\n",
    "\n",
    "### namespaces\n",
    "\n",
    "When you hear the term _**namespace**_ it refers to a mapping from names to objects. Most are currently implemented as Python dictionaries but may change in the future.\n",
    "\n",
    "Things to note for **_namespaces_**:\n",
    "- there is no relation between names in different namespaces\n",
    "- when using dot notation, items after the `.` are generally referred to as attributes:  `class_obj.attr1`\n",
    "- they are cred at different moments & have different lifetimes (_e.g.:  namespace for builtin names when interpreter starts up; global namespace when module is used; function namespace is created when called and lasts until function ends_)\n",
    "\n",
    "Class definitions (creations of new classe instances) essentially creates additional namespaces in the local scope."
   ]
  },
  {
   "cell_type": "markdown",
   "metadata": {},
   "source": [
    "### scopes\n",
    "\n",
    "This is how your program accesses variables, bjects, and other pieces of your program. It's the region where a namespace is directly accessible. Here it refers to the idea that if you were to try to acess something the \"local\" namespace hasn't heard of, you will run into an error.\n",
    "\n",
    "When trying to access something, the scope with which the program looks starts from the inside out:\n",
    "1. innermost scope:  _what is in my local (immediate) namespace?_\n",
    "2. enclosed functions scope:  _what is surrounding the local namespace, starting with the nearest enclosing scope? **--- contains non-local and non-global names**_\n",
    "3. current module's global names\n",
    "4. namespace with built-in names\n",
    "\n",
    "If a name (label) is declared global, then all references (pointers) and assignments (changing of data) have their namespace starting in that 3rd layer - the layer containing a module's global names.\n",
    "\n",
    "In order to access variables outside the local (level 1) scope, you need to indicate so with the `nonlocal` statement in front of the variable name. If you do not utilize either this [nonlocal](https://docs.python.org/3/reference/simple_stmts.html#nonlocal) or [global](https://docs.python.org/3/reference/simple_stmts.html#global) statement, the original variables become **read-only** and an attempt to overwrite the original data will simply create a _new_ local variable int he innermost scope leaving original unchanged.\n",
    "\n",
    "What's the difference between **global** and **nonlocal**?\n",
    "_**nonlocal** tells the interpreter to look at the enclosing scope, whereas **global** indicates the global scope._\n",
    "\n",
    "As a reminder, when you delete an object with `del var` (for example) you are removing the binding of the text from the namespace referened by the local scope."
   ]
  },
  {
   "cell_type": "markdown",
   "metadata": {},
   "source": [
    "Below is an example of python code that demonstrates these scope & namespace concepts from official documentation:\n",
    "```python\n",
    "def scope_test():\n",
    "    # this is the main function that is originally called\n",
    "    \n",
    "    def do_local():\n",
    "        # this represents local namespace & scope (nothing changed to original spam)\n",
    "        spam = \"local spam\"\n",
    "\n",
    "    def do_nonlocal():\n",
    "        nonlocal spam\n",
    "        spam = \"nonlocal spam\"\n",
    "\n",
    "    def do_global():\n",
    "        global spam\n",
    "        spam = \"global spam\"\n",
    "\n",
    "    spam = \"test spam\"\n",
    "    do_local()\n",
    "    print(\"After local assignment:\", spam)\n",
    "    do_nonlocal()\n",
    "    print(\"After nonlocal assignment:\", spam)\n",
    "    do_global()\n",
    "    print(\"After global assignment:\", spam)\n",
    "\n",
    "scope_test()\n",
    "print(\"In global scope:\", spam)\n",
    "```"
   ]
  },
  {
   "cell_type": "code",
   "execution_count": null,
   "metadata": {},
   "outputs": [],
   "source": []
  },
  {
   "cell_type": "markdown",
   "metadata": {},
   "source": [
    "You can see how the **nonlocal** and **global** optiosn affect variable binding - and how it could potentially introduce bugs when accidentally changing data."
   ]
  },
  {
   "cell_type": "markdown",
   "metadata": {},
   "source": [
    "# The New Language Of Classes\n",
    "\n",
    "If you've taken my [python basics bootcamp](https://prosperousheart.com/python-bootcamp) or have reviewed my free educational material on GitHub, you have the basics for programming in Python. But classes are an extension to create a wider realm of possibility."
   ]
  },
  {
   "cell_type": "markdown",
   "metadata": {},
   "source": [
    "## Class Syntax\n",
    "\n",
    "There is a specific structure in how python interpreter expects to see classes written. In it's simplest pseudocode, a class definition looks like this:\n",
    "\n",
    "```python\n",
    "class ClassName:\n",
    "    <statement-0>\n",
    "    .\n",
    "    .\n",
    "    .\n",
    "    <statement-N>\n",
    "```\n",
    "\n",
    "Similar to functions there is a declarative statement (**class**) that si required for execution to have effect. And although not required, the [class naming convention](https://www.python.org/dev/peps/pep-0008/#class-names) is camel casing or CapWords.\n",
    "\n",
    "Within a new class, there are likely functions but other statements are allowed - sometimes even useful! These functions normally have a specific argument list.\n",
    "\n",
    "When a new object is instantiated from these classes, a new namespace is created and then used as a local scope for that object. This _class object_ essentially acts as a wrapper around this namespace, and changes can be made upon that object that do not necessarily affect that instance of it."
   ]
  },
  {
   "cell_type": "markdown",
   "metadata": {},
   "source": [
    "## [Class Objects](https://docs.python.org/3/tutorial/classes.html#class-objects)\n",
    "\n",
    "When it comes to classes, there are 2 supported operations:\n",
    "1. attribute references (accessing and/or manipulating data)\n",
    "2. instantiation (creation of new class objects)\n",
    "\n",
    "**NOTE:**  you may see two terms throughout this training:\n",
    "1. `instance variable`\n",
    "2. `class variable`\n",
    "\n",
    "    **Instance variables** isthe unique data related to a specific instance (creation) of a class.\n",
    "    \n",
    "    **Class variables** are attributes and methods shared by all instances (creations) of a class.\n",
    "\n",
    "```python\n",
    "class Dog:\n",
    "    \n",
    "    # class variable shared by all instances\n",
    "    kind = 'canine'\n",
    "\n",
    "    def __init__(self, name, eye_c, breed):\n",
    "        # instance variables unique to each instance\n",
    "        self.name = name\n",
    "        self.eye_color = eye_c\n",
    "        self.breed = breed\n",
    "```"
   ]
  },
  {
   "cell_type": "markdown",
   "metadata": {},
   "source": [
    "### Class Attributes (Attribute References)\n",
    "\n",
    "Every time you create a class object, you create an _instance_ of that object ... Meaning a piece of code with the same attributes as other instances of that class type, but are not referring to the same piece of data (not pointing to the same location).\n",
    "\n",
    "Each instance of a class has a set of attributes, or pieces of data associated with them.\n",
    "\n",
    "So when thinking of creating classes, think of all the base attributes. For example ...\n",
    "\n",
    "If you were to create a class for a cat, what attributes would it have?\n",
    "- number of legs\n",
    "- color of fur\n",
    "- sex\n",
    "- age\n",
    "- eye color\n",
    "\n",
    "And the list could go on. Each of these attributes, you would have the ability to update a particular instance vs all cats.\n",
    "\n",
    "You access each attribute by using __dot syntax__ like so:<br>\n",
    "`new_cup.staves = 10`\n",
    "\n",
    "This is the standard syntax for all attribute references, whether built-in or user-defined:  `obj.name`\n",
    "\n",
    "Valid attribute names are the ones in a class's namespace when the object was created and are either:\n",
    "- data attributes:  do not need to be declared because they are created upon instantiation (creation)\n",
    "- methods (function that belongs to an object)\n",
    "\n",
    "<div class=\"alert alert-success\">\n",
    "    \n",
    "```python\n",
    "class MyClass:\n",
    "    \"\"\"A simple example class\"\"\"\n",
    "    i = 12345\n",
    "\n",
    "    def f(self):\n",
    "        return 'hello world'\n",
    "```\n",
    "</div>\n",
    "\n",
    "In the above example from official documentation, attributes of the **MyClass** class are as follows:\n",
    "- `MyClass.i` returns an integer\n",
    "- `MyClass.f` returns a function or **method object** (meaning until you call the method, it simply stores the method object)\n",
    "\n",
    "    ```python\n",
    "    x = MyClass()\n",
    "    xf = x.f  # stores the function, but it's not called yet\n",
    "    xf()  # will call the actual function - would be the same as x.f()\n",
    "    ```\n",
    "\n",
    "You can also update an attribute with an assignment operation such as:  `MyClass.i = 42`"
   ]
  },
  {
   "cell_type": "markdown",
   "metadata": {},
   "source": [
    "#### Warning For Mutable Attributes\n",
    "\n",
    "What do you think would happen if you ran the below code?\n",
    "\n",
    "```python\n",
    "class Dog:\n",
    "\n",
    "    tricks = []             # mistaken use of a class variable\n",
    "\n",
    "    def __init__(self, name):\n",
    "        self.name = name\n",
    "\n",
    "    def add_trick(self, trick):\n",
    "        self.tricks.append(trick)\n",
    "\n",
    "d = Dog('Fido')\n",
    "e = Dog('Buddy')\n",
    "d.add_trick('roll over')\n",
    "e.add_trick('play dead')\n",
    "d.tricks\n",
    "```"
   ]
  },
  {
   "cell_type": "code",
   "execution_count": null,
   "metadata": {},
   "outputs": [],
   "source": []
  },
  {
   "cell_type": "markdown",
   "metadata": {},
   "source": [
    "Is it what you would expect of 2 dogs if you only taught one trick per dog?\n",
    "\n",
    "_How would you fix the above code?_ Move the **tricks** class attribute into the `__init__` function so each \"new dog\" has it's own set of tricks."
   ]
  },
  {
   "cell_type": "markdown",
   "metadata": {},
   "source": [
    "### Class Object Instantiation\n",
    "\n",
    "If there are no required input parameters that do not already have a default value, then you would see something like `varName = MyClass()` to create a new instance of the **MyClass** variable and assigns it to the **local** variable `temp`."
   ]
  },
  {
   "cell_type": "markdown",
   "metadata": {},
   "source": [
    "If you [use proper docstrings](https://www.python.org/dev/peps/pep-0257/) you can always run the function (or call the function attribute on an object) `.__doc__` to learn more about the object - data, function, module, etc.\n",
    "\n",
    "<div class=\"alert alert-warning\">\n",
    "What would be returned if you ran:\n",
    "    \n",
    "```python\n",
    "class MyClass:\n",
    "    \"\"\"A simple example class\"\"\"\n",
    "    i = 12345\n",
    "\n",
    "    def f(self):\n",
    "        return 'hello world'\n",
    "        \n",
    "temp = MyClass()\n",
    "temp.__doc__\n",
    "```\n",
    "</div>\n",
    "\n",
    "This is called a **dunder method** - aka a \"magic method\"."
   ]
  },
  {
   "cell_type": "code",
   "execution_count": null,
   "metadata": {},
   "outputs": [],
   "source": []
  },
  {
   "cell_type": "markdown",
   "metadata": {},
   "source": [
    "## Magic Methods (Dunders)\n",
    "\n",
    "This is a term you will hear among many programmer groups. These **magic methods** are special methods with double underscores at the beginning and end of their names. (*Also known as __dunder methods__!*)\n",
    "\n",
    "These methods allow you to create functionality that can't be represented in a normal method.\n",
    "\n",
    "There are a lot of methods available (such as those listed in [this article on GitHub](https://rszalski.github.io/magicmethods)) but the one you'll see most? Is the one that allows you to create an instance (or instantiate) an object of said class type.\n",
    "\n",
    "Instantiating a class object (or \"calling\") create a base object - sometimes referred to as empty. But in reality, it's just the defaults assigned to it. You can change the initial \"empty\" state with the special **dunder method** `__init__`."
   ]
  },
  {
   "cell_type": "markdown",
   "metadata": {},
   "source": [
    "### `__init__`\n",
    "\n",
    "The `__init__` dunder or magic method is the most important method within a class. This is the function of the class object that is called when an instance of the object is instantiated or created.\n",
    "\n",
    "All `__init__` methods __must__ start with __*self*__ as the first parameter. This is what is automatically invoked when a new class object is created.\n",
    "\n",
    "_NOTE:  This parameter indicates to Python that when calling __self__ you are referring to the INSTANCE that is calling the method, vs making a change to all instances._\n",
    "\n",
    "<hr>\n",
    "\n",
    "```python\n",
    "class Wood_Cup:\n",
    "    \"\"\"\n",
    "    This class is to create a wooden cup object.\n",
    "    \n",
    "    \"\"\"\n",
    "    \n",
    "    def __init__(self, wood_type_obj = None, size = None, art_class_obj = None, handle_loc = \"R\", staves = 0):\n",
    "        \"\"\"\n",
    "        This is the __init__ method which allows someone to create an instance of the Wood_Cup class.\n",
    "        \n",
    "        This function determines what attributes each instance of the class will have.\n",
    "        \n",
    "        \"\"\"\n",
    "        \n",
    "        self.staves = staves\n",
    "        self.wood_type = wood_type_obj\n",
    "        self.art_class_obj = art_class_obj\n",
    "        self.staves = staves\n",
    "        self.size = size\n",
    "```\n",
    "\n",
    "<hr>\n",
    "\n",
    "When creating or instantiating a new instance of a class, you do not need to add *__self__* as an input parameter.\n",
    "\n",
    "Such as:  `new_cup = Wood_Cup(\"birch\", \"B\", None, \"L\", 8)`\n",
    "\n",
    "There are lots of built-in methods for classes that can really help to clean up your code as well as make it more pliable."
   ]
  },
  {
   "cell_type": "markdown",
   "metadata": {},
   "source": [
    "Another example from official documentation:\n",
    "\n",
    "```python\n",
    "class Complex:\n",
    "    def __init__(self, realpart, imagpart):\n",
    "        self.r = realpart\n",
    "        self.i = imagpart\n",
    "\n",
    "x = Complex(3.0, -4.5)\n",
    "x.r, x.i\n",
    "```"
   ]
  },
  {
   "cell_type": "code",
   "execution_count": null,
   "metadata": {},
   "outputs": [],
   "source": []
  },
  {
   "cell_type": "markdown",
   "metadata": {},
   "source": [
    "<div class=\"alert alert-warning\">\n",
    "How would you create a class object (instantiate a new object from the above MyClass) and then:<br>\n",
    "    1. call <b>i</b><br>\n",
    "    2. change <b>i</b><br>\n",
    "    3. call <b>i</b>\n",
    "</div>"
   ]
  },
  {
   "cell_type": "code",
   "execution_count": null,
   "metadata": {},
   "outputs": [],
   "source": []
  },
  {
   "cell_type": "code",
   "execution_count": null,
   "metadata": {},
   "outputs": [],
   "source": []
  },
  {
   "cell_type": "code",
   "execution_count": null,
   "metadata": {},
   "outputs": [],
   "source": []
  }
 ],
 "metadata": {
  "kernelspec": {
   "display_name": "Python 3",
   "language": "python",
   "name": "python3"
  },
  "language_info": {
   "codemirror_mode": {
    "name": "ipython",
    "version": 3
   },
   "file_extension": ".py",
   "mimetype": "text/x-python",
   "name": "python",
   "nbconvert_exporter": "python",
   "pygments_lexer": "ipython3",
   "version": "3.6.5"
  }
 },
 "nbformat": 4,
 "nbformat_minor": 2
}
