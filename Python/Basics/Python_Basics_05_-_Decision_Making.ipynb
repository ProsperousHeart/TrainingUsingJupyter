{
 "cells": [
  {
   "cell_type": "markdown",
   "metadata": {},
   "source": [
    "<a href='https://www.learntocodeonline.com/'><img src='https://github.com/ProsperousHeart/TrainingUsingJupyter/blob/master/IMGs/learn-to-code-online.png?raw=true'></img></a>"
   ]
  },
  {
   "cell_type": "markdown",
   "metadata": {},
   "source": [
    "# Intro To Decision Making\n",
    "\n",
    "In this section we will cover:\n",
    "- what is \"decision making\"?\n",
    "- how does it affect your code?\n",
    "- if statements\n",
    "- loops\n",
    "- iterators & generators"
   ]
  },
  {
   "cell_type": "markdown",
   "metadata": {},
   "source": [
    "# What Is Decision Making\n",
    "\n",
    "In life, we make decisions based on some input and (usually) logical reasoning. The same goes for programming.\n",
    "\n",
    "It is the anticipation of conditions occurring while executing a program & taking specific actions according to said conditions.\n",
    "\n",
    "Decision structures evaluation multiple expressions, which product either a **True** or **False** as an outcome. These allow for a program to determine what to do next.\n",
    "\n",
    "<img src='https://github.com/ProsperousHeart/TrainingUsingJupyter/blob/master/IMGs/basics-decisions-flow.png?raw=true'></img>"
   ]
  },
  {
   "cell_type": "markdown",
   "metadata": {},
   "source": [
    "# How Does Decision Making Affect Your Code?\n",
    "\n",
    "Python assumes the following:\n",
    "- non-zero and non-null (not None) values as **True**\n",
    "- zero or null (None) values as **False**\n",
    "\n",
    "When using an **if statement** with only 1 line in the code suite, you **_can_** put it all on one line like this:\n",
    "\n",
    "```python\n",
    "var = 100\n",
    "if var == 100:  print('Value of expression is:  {}'.format(var))\n",
    "```\n",
    "\n",
    "However, it is highly suggested not to do that. Not just for conformity, but also to make it easy on your eyes when you're troubleshooting.\n",
    "\n",
    "```python\n",
    "var = 100\n",
    "if var == 100:\n",
    "    print('Value of expression is:  {}'.format(var))\n",
    "```\n",
    "\n",
    "Can you see the difference?"
   ]
  },
  {
   "cell_type": "markdown",
   "metadata": {},
   "source": [
    "# if Statements\n",
    "\n",
    "There are three major parts to an **if** statement block:\n",
    "1. The [if statement](http://www.tutorialspoint.com/python3/python_if_statement.htm)\n",
    "2. Optional [else statement](http://www.tutorialspoint.com/python3/python_if_else.htm)\n",
    "3. Optional [nested if statements](http://www.tutorialspoint.com/python3/nested_if_statements_in_python.htm)\n",
    "\n",
    "<img src='https://github.com/ProsperousHeart/TrainingUsingJupyter/blob/master/IMGs/basics-decisions-ifstmts.png?raw=true'></img>"
   ]
  },
  {
   "cell_type": "markdown",
   "metadata": {},
   "source": [
    "# Loops\n",
    "\n",
    "If you need to do something repeatedly, instead of cluttering up your code you can use [loops](http://www.learnpython.org/en/Loops).\n",
    "\n",
    "Loops are statements generally done sequentially, but you have the ability to execute a block of code more than once.\n",
    "\n",
    "<img src='https://github.com/ProsperousHeart/TrainingUsingJupyter/blob/master/IMGs/basics-decisions-loopconditions.png?raw=true'></img>\n",
    "\n",
    "**CAUTION:**  be sure to put in loop controls to avoid infinite loops!\n",
    "\n",
    "<div class=\"alert alert-warning\">\n",
    "Here's an example of an infinite loop.<br>\n",
    "<b>Do not run this!!!!</b>\n",
    "\n",
    "```python\n",
    "x = 0\n",
    "while x >= 0:\n",
    "    print('Doing something')\n",
    "    x += 1\n",
    "```\n",
    "</div>\n",
    "\n",
    "There are 3 \"loop types\":\n",
    "1. [while loop](http://www.tutorialspoint.com/python3/python_while_loop.htm)\n",
    "2. [for loop](http://www.tutorialspoint.com/python3/python_for_loop.htm)\n",
    "3. [nested loops](http://www.tutorialspoint.com/python3/python_nested_loops.htm)\n",
    "\n",
    "<img src='https://github.com/ProsperousHeart/TrainingUsingJupyter/blob/master/IMGs/basics-decisions-looptypes.png?raw=true'></img>"
   ]
  },
  {
   "cell_type": "markdown",
   "metadata": {},
   "source": [
    "## Loop Control Statements\n",
    "\n",
    "Loop control statements change the execution from a normal sequence progression.\n",
    "\n",
    "There are 3 loop control statements available to you:\n",
    "1. [break](http://www.tutorialspoint.com/python3/python_break_statement.htm) statement\n",
    "2. [continue](http://www.tutorialspoint.com/python3/python_continue_statement.htm) statement\n",
    "3. [pass](http://www.tutorialspoint.com/python3/python_pass_statement.htm) statement\n",
    "\n",
    "<img src='https://github.com/ProsperousHeart/TrainingUsingJupyter/blob/master/IMGs/basics-decisions-loopcontrol.png?raw=true'></img>\n",
    "\n",
    "<div class=\"alert alert-info\">\n",
    "<b>For example ...</b>\n",
    "\n",
    "```python\n",
    "# prints numbers 0-4\n",
    "count = 0\n",
    "while True:\n",
    "    print(count)\n",
    "    count += 1\n",
    "    if count >= 5:\n",
    "        break\n",
    "\n",
    "print()        \n",
    "\n",
    "# print only odd numbers\n",
    "for x in range(10):\n",
    "    # check if x is even\n",
    "    if x % 2:\n",
    "        continue\n",
    "    print(x)\n",
    "```\n",
    "</div>"
   ]
  },
  {
   "cell_type": "code",
   "execution_count": null,
   "metadata": {},
   "outputs": [],
   "source": []
  },
  {
   "cell_type": "markdown",
   "metadata": {},
   "source": [
    "## else Clause In Loops\n",
    "\n",
    "Loops, like [if](#if-Statements) and [try-except](Python_Basics_17_-_Exceptions_&_Assertions.ipynb) statements, also have an [else clause](http://www.learnpython.org/en/Loops).\n",
    "\n",
    "Just like the others, this clause is used when the **for** or **while** statements fail.\n",
    "\n",
    "However - if **break** was executed inside the loop? Then it's skipped.\n",
    "\n",
    "<div class=\"alert alert-info\">\n",
    "<b>For example ...</b>\n",
    "\n",
    "```python\n",
    "# prints 0-4 and then \"count reached value of 5\"\n",
    "count = 0\n",
    "while count<5:\n",
    "    print(count)\n",
    "    count += 1\n",
    "else:\n",
    "    print(\"Count value reached %d\" % count)\n",
    "\n",
    "print()\n",
    "\n",
    "# prints 1-4\n",
    "for x in range(1, 10):\n",
    "    if x % 5 == 0:\n",
    "        break\n",
    "    print(x)\n",
    "else:\n",
    "    print('Not printed - loop is terminated because of break not fail condition')\n",
    "```\n",
    "</div>"
   ]
  },
  {
   "cell_type": "code",
   "execution_count": null,
   "metadata": {},
   "outputs": [],
   "source": []
  },
  {
   "cell_type": "markdown",
   "metadata": {},
   "source": []
  }
 ],
 "metadata": {
  "kernelspec": {
   "display_name": "Python 3",
   "language": "python",
   "name": "python3"
  },
  "language_info": {
   "codemirror_mode": {
    "name": "ipython",
    "version": 3
   },
   "file_extension": ".py",
   "mimetype": "text/x-python",
   "name": "python",
   "nbconvert_exporter": "python",
   "pygments_lexer": "ipython3",
   "version": "3.6.6"
  }
 },
 "nbformat": 4,
 "nbformat_minor": 2
}
