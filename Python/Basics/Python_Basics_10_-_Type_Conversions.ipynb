{
 "cells": [
  {
   "cell_type": "markdown",
   "metadata": {},
   "source": [
    "<a href='https://www.learntocodeonline.com/'><img src='https://github.com/ProsperousHeart/TrainingUsingJupyter/blob/master/IMGs/learn-to-code-online.png?raw=true'></a>"
   ]
  },
  {
   "cell_type": "markdown",
   "metadata": {},
   "source": [
    "# Type Conversion\n",
    "\n",
    "This is what it's called when you convert from one variable type to another, such as:\n",
    "\n",
    "<div class=\"alert alert-success\">\n",
    "<b>Try this!</b>\n",
    "\n",
    "```python\n",
    "some_int = int(3.4)\n",
    "print(some_int)\n",
    "```\n",
    "</div>"
   ]
  },
  {
   "cell_type": "code",
   "execution_count": null,
   "metadata": {},
   "outputs": [],
   "source": []
  },
  {
   "cell_type": "markdown",
   "metadata": {},
   "source": [
    "<div class=\"alert alert-success\">\n",
    "<b>Try this!</b>\n",
    "\n",
    "```python\n",
    "some_str = str(42)\n",
    "print(some_str)\n",
    "some_str\n",
    "```\n",
    "</div>"
   ]
  },
  {
   "cell_type": "code",
   "execution_count": null,
   "metadata": {},
   "outputs": [],
   "source": []
  },
  {
   "cell_type": "markdown",
   "metadata": {},
   "source": [
    "<div class=\"alert alert-success\">\n",
    "<b>Try this!</b>\n",
    "\n",
    "```python\n",
    "some_float = float(1)\n",
    "print(some_float)\n",
    "```\n",
    "</div>"
   ]
  },
  {
   "cell_type": "code",
   "execution_count": null,
   "metadata": {},
   "outputs": [],
   "source": []
  },
  {
   "cell_type": "markdown",
   "metadata": {},
   "source": [
    "Be careful though! Not all types can be converted.\n",
    "\n",
    "<div class=\"alert alert-success\">\n",
    "<b>Try this!</b>\n",
    "\n",
    "```python\n",
    "other_int = int(\"zero\")\n",
    "```\n",
    "\n",
    "<b>... then this:</b>\n",
    "```python\n",
    "some_int = int(\"3.4\")\n",
    "```\n",
    "</div>\n",
    "\n",
    "_**QUESTION:** What's wrong with these examples?_"
   ]
  },
  {
   "cell_type": "code",
   "execution_count": null,
   "metadata": {},
   "outputs": [],
   "source": []
  },
  {
   "cell_type": "code",
   "execution_count": null,
   "metadata": {},
   "outputs": [],
   "source": []
  },
  {
   "cell_type": "markdown",
   "metadata": {},
   "source": [
    "### Possible Type Coversions\n",
    "\n",
    "| Function | Description |\n",
    "|----------------- | --------------------------------------------- |\n",
    "| int(x, [, base]) | converts x to an INT - base specifies base if x is a string |\n",
    "| float(x) | converts x to a floating-point number |\n",
    "| complex(real [, imag]) | creates a complex number |\n",
    "| str(x) | Converts object x to a string representation |\n",
    "| repr(x) | Converts object x to an expression string |\n",
    "| tuple(s) | Converts s to a tuple |\n",
    "| list(s) | Converts s to a list |\n",
    "| set(s) | Converts s to a set |\n",
    "| dict(d) | Creates a dictionary. d must be a sequence of (key,value) tuples |\n",
    "| frozenset(s) | Converts s to a frozen set |\n",
    "| chr(x) | Converts an integer to a character |\n",
    "| ord(x) | Converts a single character to its integer value |\n",
    "| hex(x) | Converts an integer to a hexadecimal string |\n",
    "| oct(x) | Converts an integer to an octal string |"
   ]
  },
  {
   "cell_type": "code",
   "execution_count": null,
   "metadata": {},
   "outputs": [],
   "source": []
  }
 ],
 "metadata": {
  "kernelspec": {
   "display_name": "Python 3",
   "language": "python",
   "name": "python3"
  },
  "language_info": {
   "codemirror_mode": {
    "name": "ipython",
    "version": 3
   },
   "file_extension": ".py",
   "mimetype": "text/x-python",
   "name": "python",
   "nbconvert_exporter": "python",
   "pygments_lexer": "ipython3",
   "version": "3.6.6"
  }
 },
 "nbformat": 4,
 "nbformat_minor": 2
}
