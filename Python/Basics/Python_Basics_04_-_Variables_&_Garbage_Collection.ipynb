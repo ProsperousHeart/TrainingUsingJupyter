{
 "cells": [
  {
   "cell_type": "markdown",
   "metadata": {},
   "source": [
    "<a href='https://www.learntocodeonline.com/'><img src='https://github.com/ProsperousHeart/TrainingUsingJupyter/blob/master/IMGs/learn-to-code-online.png?raw=true'></a>"
   ]
  },
  {
   "cell_type": "markdown",
   "metadata": {},
   "source": [
    "# What Are Python Identifiers?\n",
    "\n",
    "Python **identifiers** are sed to identify:\n",
    "- a variable\n",
    "- a function\n",
    "- a class\n",
    "- a module\n",
    "- an object\n",
    "\n",
    "Checkout [Variable Creation Tips](#Variable-Creation-Tips) on how they should be structure."
   ]
  },
  {
   "cell_type": "markdown",
   "metadata": {},
   "source": [
    "# What Is A Variable?\n",
    "\n",
    "In school math, a **variable** was usually a single character that represents some number.\n",
    "\n",
    "In programming, it refers to reserved memory locations to store values.\n",
    "\n",
    "They are created by using assignment statements, as mentioned in *Python Basics 02*.\n",
    "\n",
    "As a recap...\n",
    "- Left side of the assignment variable `=` is generally considered the variable, but more closely resembles the label of the variable\n",
    "- Right side of the `=` is the data to store in a memory location\n",
    "\n",
    "You as the propgrammer are who gives meaning to said variable.\n",
    "\n",
    "## What Is A Variable Type?\n",
    "\n",
    "A *variable type* refers to the **type** of data being stored.\n",
    "\n",
    "Here are some of the variable types:\n",
    "- integer\n",
    "- float\n",
    "- string\n",
    "- list\n",
    "- tuple\n",
    "- dictionary"
   ]
  },
  {
   "cell_type": "markdown",
   "metadata": {},
   "source": [
    "# Variable Creation Tips\n",
    "\n",
    "## Avoid Reserved Words\n",
    "\n",
    "**Reserved words** are special keywords that mean something.\n",
    "\n",
    "Check out [python documentation](https://docs.python.org/3/reference/lexical_analysis.html#keywords) for your specific version to learn which ones to avoid.\n",
    "\n",
    "## Make It Meaningful\n",
    "\n",
    "Make sure that the variable name (also known as a label) is meaningful - that it indicates what it is supposed to do.\n",
    "\n",
    "**Bad Variable:**\n",
    "\n",
    "`a = 1`\n",
    "\n",
    "**Good Variable:**\n",
    "\n",
    "`num_dogs = 1`\n",
    "\n",
    "## Make It Mneumonic (Memorable)\n",
    "\n",
    "This is helpful for you to keep things straight, as well as anyone coming after you to work on the program.\n",
    "\n",
    "## Casing\n",
    "\n",
    "Be sure that you ALWAYS start with a lower case letter. According to PEP8, upper case indicates you are referring to a Class.\n",
    "\n",
    "`NumApples` is OK if this is the name of a class.\n",
    "\n",
    "## Alphanumeric ONLY\n",
    "\n",
    "Anything else causes an issue. This is usually because other characters like `!` for example mean something else, or are not understood by Python.\n",
    "\n",
    "<div class=\"alert alert-success\">\n",
    "<b>Try this!</b>\n",
    "\n",
    "```python\n",
    "a!jkl = 6\n",
    "```\n",
    "</div>"
   ]
  },
  {
   "cell_type": "code",
   "execution_count": null,
   "metadata": {},
   "outputs": [],
   "source": []
  },
  {
   "cell_type": "markdown",
   "metadata": {},
   "source": [
    "## Underscores vs Title Casing\n",
    "\n",
    "Let's say you wanted to create a variable that refers to a number of apples you have.\n",
    "\n",
    "`numApples` and `num_apples` and `num_Apples` are all acceptable variables.\n",
    "\n",
    "There may be a PEP8 suggestion on best practices, but it would be in your favor to know what's \"best practice\" for your company, if they have one. If not, I suggest following PEP8.\n",
    "\n",
    "## Variables Are Case Sensitive!\n",
    "\n",
    "This is pretty self explanatory. Be sure you use the same case ...\n",
    "\n",
    "<div class=\"alert alert-success\">\n",
    "<b>Try this!</b>\n",
    "\n",
    "```python\n",
    "varOne = 1\n",
    "print(varOne)\n",
    "```\n",
    "\n",
    "<b>... then this:</b>\n",
    "```python\n",
    "print(varone)\n",
    "```\n",
    "</div>"
   ]
  },
  {
   "cell_type": "code",
   "execution_count": null,
   "metadata": {},
   "outputs": [],
   "source": []
  },
  {
   "cell_type": "code",
   "execution_count": null,
   "metadata": {},
   "outputs": [],
   "source": []
  },
  {
   "cell_type": "markdown",
   "metadata": {},
   "source": [
    "# Garbage Collection\n",
    "\n",
    "As mentioned earlier, variables are pieces of memory that store particular data.\n",
    "\n",
    "While python has automatic garbage collection (meaning it deletes data it no longer needs) you will want to be aware that if you know FOR A FACT that something isn't needed after you pass it to a function? (*A function is a piece of code that does some kind of computation or action.*)\n",
    "\n",
    "Use `del` to remove the pre-created variable.\n",
    "\n",
    "<div class=\"alert alert-success\">\n",
    "<b>Try this!</b>\n",
    "\n",
    "```python\n",
    "del varOne\n",
    "```\n",
    "\n",
    "<b>... then this:</b>\n",
    "```python\n",
    "varOne\n",
    "```\n",
    "</div>"
   ]
  },
  {
   "cell_type": "code",
   "execution_count": null,
   "metadata": {},
   "outputs": [],
   "source": []
  },
  {
   "cell_type": "code",
   "execution_count": null,
   "metadata": {},
   "outputs": [],
   "source": []
  }
 ],
 "metadata": {
  "kernelspec": {
   "display_name": "Python 3",
   "language": "python",
   "name": "python3"
  },
  "language_info": {
   "codemirror_mode": {
    "name": "ipython",
    "version": 3
   },
   "file_extension": ".py",
   "mimetype": "text/x-python",
   "name": "python",
   "nbconvert_exporter": "python",
   "pygments_lexer": "ipython3",
   "version": "3.6.6"
  }
 },
 "nbformat": 4,
 "nbformat_minor": 2
}
