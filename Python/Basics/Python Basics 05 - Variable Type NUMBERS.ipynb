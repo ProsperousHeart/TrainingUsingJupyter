{
 "cells": [
  {
   "cell_type": "markdown",
   "metadata": {},
   "source": [
    "# Variable Type:  Numbers\n",
    "\n",
    "In python3 there are 3 different numerical types:\n",
    "- integer (int)\n",
    "- float (floating point real numbers)\n",
    "- complex (consists of ordered paid of real floating-point numbers denoted by `x +yj` where `x` & `y` are real numbers and `j` is the imaginary unit)\n",
    "\n",
    "The variable **long** is no longer in python3."
   ]
  },
  {
   "cell_type": "code",
   "execution_count": null,
   "metadata": {},
   "outputs": [],
   "source": []
  }
 ],
 "metadata": {
  "kernelspec": {
   "display_name": "Python 3",
   "language": "python",
   "name": "python3"
  },
  "language_info": {
   "codemirror_mode": {
    "name": "ipython",
    "version": 3
   },
   "file_extension": ".py",
   "mimetype": "text/x-python",
   "name": "python",
   "nbconvert_exporter": "python",
   "pygments_lexer": "ipython3",
   "version": "3.6.4"
  }
 },
 "nbformat": 4,
 "nbformat_minor": 2
}
