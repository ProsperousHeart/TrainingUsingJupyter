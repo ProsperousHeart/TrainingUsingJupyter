{
 "cells": [
  {
   "cell_type": "markdown",
   "metadata": {},
   "source": [
    "# Variable Type:  [List](http://www.tutorialspoint.com/python/python_lists.htm)\n",
    "\n",
    "This is the most versatile variable type - also known as an object.\n",
    "\n",
    "It is written as a list of comma-separated values between square brackets (similar to a Java array).\n",
    "\n",
    "`new_list = [1, \"string\", ...]` where `...` is simply indicative of additional elements.\n",
    "\n",
    "The reason why this is so versatile is because the items within a list does NOT need to be of the same data type and you can have as many items as you require (and have capability to hold).\n",
    "\n",
    "Please be advised that [PEP484](https://www.python.org/dev/peps/pep-0484) highly encourages that the items in a list are of the same type, however it is not enforced. Just a styling guideline."
   ]
  },
  {
   "cell_type": "code",
   "execution_count": 114,
   "metadata": {},
   "outputs": [
    {
     "name": "stdout",
     "output_type": "stream",
     "text": [
      "['abcd', 786, 2.34, 'John', 70.2]\n",
      "[123, 'john']\n"
     ]
    }
   ],
   "source": [
    "new_list = ['abcd', 786, 2.34, \"John\", 70.2]\n",
    "tiny_list = [123, 'john']\n",
    "print(new_list)\n",
    "print(tiny_list)"
   ]
  },
  {
   "cell_type": "markdown",
   "metadata": {},
   "source": [
    "# Basic List Operations\n",
    "\n",
    "Basic operations for lists are:\n",
    "- length:  `len(new_list)`\n",
    "- concatentation\n",
    "- repetition (multiplication)\n",
    "- membership\n",
    "- iteration"
   ]
  },
  {
   "cell_type": "markdown",
   "metadata": {},
   "source": [
    "## Indexing\n",
    "\n",
    "Similar to string indices, list indices start at 0 & can be sliced, concatenated, etc.\n",
    "\n",
    "When you using indexing to return an element of a list, it returns that element - it does not return a list."
   ]
  },
  {
   "cell_type": "code",
   "execution_count": 115,
   "metadata": {},
   "outputs": [
    {
     "name": "stdout",
     "output_type": "stream",
     "text": [
      "abcd\n"
     ]
    }
   ],
   "source": [
    "print(new_list[0])"
   ]
  },
  {
   "cell_type": "code",
   "execution_count": 116,
   "metadata": {},
   "outputs": [
    {
     "data": {
      "text/plain": [
       "'john'"
      ]
     },
     "execution_count": 116,
     "metadata": {},
     "output_type": "execute_result"
    }
   ],
   "source": [
    "tiny_list[-1]"
   ]
  },
  {
   "cell_type": "markdown",
   "metadata": {},
   "source": [
    "## Slicing\n",
    "\n",
    "Another thing to keep in mind is that with **slicing** is that when you slice a string, it returns a new string.\n",
    "\n",
    "When you slice a list? It returns a new list."
   ]
  },
  {
   "cell_type": "code",
   "execution_count": 117,
   "metadata": {},
   "outputs": [
    {
     "name": "stdout",
     "output_type": "stream",
     "text": [
      "['John', 70.2]\n"
     ]
    }
   ],
   "source": [
    "print(new_list[3:])"
   ]
  },
  {
   "cell_type": "code",
   "execution_count": 118,
   "metadata": {},
   "outputs": [
    {
     "name": "stdout",
     "output_type": "stream",
     "text": [
      "[123, 'john']\n",
      "new_tiny_list == tiny_list:  True\n",
      "new_tiny_list is tiny_list:  False\n"
     ]
    }
   ],
   "source": [
    "new_tiny_list = tiny_list[:]    # makes a new copy - does not refer to same memory location\n",
    "print(new_tiny_list)\n",
    "print(\"new_tiny_list == tiny_list:  {}\".format(new_tiny_list == tiny_list))\n",
    "print(\"new_tiny_list is tiny_list:  {}\".format(new_tiny_list is tiny_list))"
   ]
  },
  {
   "cell_type": "markdown",
   "metadata": {},
   "source": [
    "## Multiplication\n",
    "\n",
    "When you multiply lists, similar to strings it makes a copy and adds to it."
   ]
  },
  {
   "cell_type": "code",
   "execution_count": 119,
   "metadata": {},
   "outputs": [
    {
     "name": "stdout",
     "output_type": "stream",
     "text": [
      "[123, 'john', 123, 'john']\n"
     ]
    }
   ],
   "source": [
    "print(tiny_list * 2)"
   ]
  },
  {
   "cell_type": "markdown",
   "metadata": {},
   "source": [
    "However, unless you reassign the value back into the list, then it will remain unchanged."
   ]
  },
  {
   "cell_type": "code",
   "execution_count": 120,
   "metadata": {},
   "outputs": [
    {
     "name": "stdout",
     "output_type": "stream",
     "text": [
      "[123, 'john']\n"
     ]
    }
   ],
   "source": [
    "print(tiny_list)"
   ]
  },
  {
   "cell_type": "markdown",
   "metadata": {},
   "source": [
    "## Concatenation\n",
    "\n",
    "Just like in a string, you can use concatenation to add to a list.\n",
    "\n",
    "Keep in mind that unless you reassign the list returned from the concatenation, then nothing is changed in place."
   ]
  },
  {
   "cell_type": "code",
   "execution_count": 129,
   "metadata": {},
   "outputs": [
    {
     "name": "stdout",
     "output_type": "stream",
     "text": [
      "tiny_list = [123, 'john']\n",
      "new_list = ['abcd', 678, 2.34, 'John', 70.2]\n",
      "\n",
      "CONCATENATION:  [123, 'john', 'abcd', 678, 2.34, 'John', 70.2]\n",
      "\n",
      "tiny_list = [123, 'john']\n",
      "new_list = ['abcd', 678, 2.34, 'John', 70.2]\n"
     ]
    }
   ],
   "source": [
    "print(\"tiny_list = {}\".format(tiny_list))\n",
    "print(\"new_list = {}\\n\".format(new_list))\n",
    "print(\"CONCATENATION:  {}\\n\".format(tiny_list + new_list))\n",
    "print(\"tiny_list = {}\".format(tiny_list))\n",
    "print(\"new_list = {}\".format(new_list))"
   ]
  },
  {
   "cell_type": "markdown",
   "metadata": {},
   "source": [
    "## Updating A List\n",
    "\n",
    "The biggest difference between a list and a string is that whiel a string is immutable (can't change it)?\n",
    "\n",
    "You can replace (update) elements in a list very easily. You just need to assign a new value to the element at index `n` such as:\n",
    "`list_var[n] = some_data`"
   ]
  },
  {
   "cell_type": "code",
   "execution_count": 121,
   "metadata": {},
   "outputs": [
    {
     "name": "stdout",
     "output_type": "stream",
     "text": [
      "['abcd', 786, 2.34, 'John', 70.2]\n",
      "['abcd', 678, 2.34, 'John', 70.2]\n"
     ]
    }
   ],
   "source": [
    "print(new_list)\n",
    "new_list[1] = 678\n",
    "print(new_list)"
   ]
  },
  {
   "cell_type": "markdown",
   "metadata": {},
   "source": [
    "### Adding To A List\n",
    "\n",
    "There are two ways to add to a list:\n",
    "- append\n",
    "- extend\n",
    "\n",
    "#### List Append\n",
    "\n",
    "This built-in method for lists will only take a single input, otherwise it will error out.\n",
    "\n",
    "`list_var.append(something)`\n",
    "\n",
    "This allows you to add a single element to the end of a list."
   ]
  },
  {
   "cell_type": "code",
   "execution_count": 122,
   "metadata": {},
   "outputs": [
    {
     "name": "stdout",
     "output_type": "stream",
     "text": [
      "[123, 'john']\n",
      "[123, 'john', ['This is a list', 2]]\n"
     ]
    }
   ],
   "source": [
    "print(new_tiny_list)\n",
    "new_tiny_list.append([\"This is a list\", 2])\n",
    "print(new_tiny_list)"
   ]
  },
  {
   "cell_type": "code",
   "execution_count": 123,
   "metadata": {},
   "outputs": [
    {
     "ename": "TypeError",
     "evalue": "append() takes exactly one argument (2 given)",
     "output_type": "error",
     "traceback": [
      "\u001b[1;31m---------------------------------------------------------------------------\u001b[0m",
      "\u001b[1;31mTypeError\u001b[0m                                 Traceback (most recent call last)",
      "\u001b[1;32m<ipython-input-123-7d231b49294d>\u001b[0m in \u001b[0;36m<module>\u001b[1;34m()\u001b[0m\n\u001b[1;32m----> 1\u001b[1;33m \u001b[0mtiny_list\u001b[0m\u001b[1;33m.\u001b[0m\u001b[0mappend\u001b[0m\u001b[1;33m(\u001b[0m\u001b[1;36m1\u001b[0m\u001b[1;33m,\u001b[0m \u001b[1;36m2\u001b[0m\u001b[1;33m)\u001b[0m\u001b[1;33m\u001b[0m\u001b[0m\n\u001b[0m",
      "\u001b[1;31mTypeError\u001b[0m: append() takes exactly one argument (2 given)"
     ]
    }
   ],
   "source": [
    "tiny_list.append(1, 2)"
   ]
  },
  {
   "cell_type": "markdown",
   "metadata": {},
   "source": [
    "#### List Extend\n",
    "\n",
    "This allows you to add every element of what you are trying to add as a new element in the list.\n",
    "\n",
    "`listVar.extend(new_list)`\n",
    "\n",
    "This also only takes in a single element, so you must use a list or tuple."
   ]
  },
  {
   "cell_type": "code",
   "execution_count": 124,
   "metadata": {},
   "outputs": [
    {
     "name": "stdout",
     "output_type": "stream",
     "text": [
      "[123, 'john', ['This is a list', 2]]\n"
     ]
    }
   ],
   "source": [
    "print(new_tiny_list)"
   ]
  },
  {
   "cell_type": "code",
   "execution_count": 125,
   "metadata": {},
   "outputs": [
    {
     "ename": "TypeError",
     "evalue": "extend() takes exactly one argument (4 given)",
     "output_type": "error",
     "traceback": [
      "\u001b[1;31m---------------------------------------------------------------------------\u001b[0m",
      "\u001b[1;31mTypeError\u001b[0m                                 Traceback (most recent call last)",
      "\u001b[1;32m<ipython-input-125-00fd52303914>\u001b[0m in \u001b[0;36m<module>\u001b[1;34m()\u001b[0m\n\u001b[1;32m----> 1\u001b[1;33m \u001b[0mnew_tiny_list\u001b[0m\u001b[1;33m.\u001b[0m\u001b[0mextend\u001b[0m\u001b[1;33m(\u001b[0m\u001b[1;36m1\u001b[0m\u001b[1;33m,\u001b[0m \u001b[1;36m2\u001b[0m\u001b[1;33m,\u001b[0m \u001b[1;36m3\u001b[0m\u001b[1;33m,\u001b[0m \u001b[1;34m\"fun\"\u001b[0m\u001b[1;33m)\u001b[0m\u001b[1;33m\u001b[0m\u001b[0m\n\u001b[0m",
      "\u001b[1;31mTypeError\u001b[0m: extend() takes exactly one argument (4 given)"
     ]
    }
   ],
   "source": [
    "new_tiny_list.extend(1, 2, 3, \"fun\")"
   ]
  },
  {
   "cell_type": "code",
   "execution_count": 126,
   "metadata": {},
   "outputs": [
    {
     "name": "stdout",
     "output_type": "stream",
     "text": [
      "[123, 'john', ['This is a list', 2], 1, 2, 3, 'fun']\n"
     ]
    }
   ],
   "source": [
    "new_tiny_list.extend([1, 2, 3, \"fun\"])\n",
    "print(new_tiny_list)"
   ]
  },
  {
   "cell_type": "markdown",
   "metadata": {},
   "source": [
    "#### Push\n",
    "\n",
    "?"
   ]
  },
  {
   "cell_type": "code",
   "execution_count": null,
   "metadata": {},
   "outputs": [],
   "source": []
  },
  {
   "cell_type": "markdown",
   "metadata": {},
   "source": [
    "### Removing From A List\n",
    "\n",
    "You have several options to remove items from a list."
   ]
  },
  {
   "cell_type": "markdown",
   "metadata": {},
   "source": [
    "#### Deletion of An Element\n",
    "\n",
    "`del new_list[n]`"
   ]
  },
  {
   "cell_type": "code",
   "execution_count": null,
   "metadata": {},
   "outputs": [],
   "source": []
  },
  {
   "cell_type": "markdown",
   "metadata": {},
   "source": [
    "#### Pop\n",
    "\n",
    "?"
   ]
  },
  {
   "cell_type": "code",
   "execution_count": null,
   "metadata": {},
   "outputs": [],
   "source": []
  },
  {
   "cell_type": "markdown",
   "metadata": {},
   "source": [
    "## Membership\n",
    "\n",
    "?\n",
    "\n",
    "## Iteration\n",
    "\n",
    "?"
   ]
  },
  {
   "attachments": {},
   "cell_type": "markdown",
   "metadata": {},
   "source": [
    "# Additional Resources\n",
    "\n",
    "http://effbot.org/zone/python-list.htm\n",
    "\n",
    "http://www.learnpython.org/en/List_Comprehensions"
   ]
  },
  {
   "cell_type": "code",
   "execution_count": null,
   "metadata": {},
   "outputs": [],
   "source": []
  }
 ],
 "metadata": {
  "kernelspec": {
   "display_name": "Python 3",
   "language": "python",
   "name": "python3"
  },
  "language_info": {
   "codemirror_mode": {
    "name": "ipython",
    "version": 3
   },
   "file_extension": ".py",
   "mimetype": "text/x-python",
   "name": "python",
   "nbconvert_exporter": "python",
   "pygments_lexer": "ipython3",
   "version": "3.6.4"
  }
 },
 "nbformat": 4,
 "nbformat_minor": 2
}
