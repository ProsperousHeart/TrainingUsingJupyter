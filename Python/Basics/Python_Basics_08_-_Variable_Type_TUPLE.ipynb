{
 "cells": [
  {
   "cell_type": "markdown",
   "metadata": {},
   "source": [
    "<a href='https://www.learntocodeonline.com/'>![Learn To Code Online](../../IMGs/learn-to-code-online.png)</a>"
   ]
  },
  {
   "cell_type": "markdown",
   "metadata": {},
   "source": [
    "# Tuples\n",
    "\n",
    "Tuples are a sequence of immuteable (**read only**) data similar to a list. Instead of enclosed in brackets, they're enclosed in parentheses.\n",
    "\n",
    "**NOTE:**  anyt set of multiple comma-separated objects written without identifying symbols default to tuples."
   ]
  },
  {
   "cell_type": "code",
   "execution_count": 15,
   "metadata": {},
   "outputs": [
    {
     "name": "stdout",
     "output_type": "stream",
     "text": [
      "('abcd', 786, 2.23, 'John', 70.2) (123, 'Susan')\n"
     ]
    }
   ],
   "source": [
    "new_tuple = ('abcd', 786, 2.23, 'John', 70.2)\n",
    "tiny_tuple = (123, \"Susan\")\n",
    "print(new_tuple, tiny_tuple)"
   ]
  },
  {
   "cell_type": "code",
   "execution_count": 16,
   "metadata": {},
   "outputs": [
    {
     "data": {
      "text/plain": [
       "'John'"
      ]
     },
     "execution_count": 16,
     "metadata": {},
     "output_type": "execute_result"
    }
   ],
   "source": [
    "new_tuple[3]"
   ]
  },
  {
   "cell_type": "code",
   "execution_count": 17,
   "metadata": {},
   "outputs": [
    {
     "data": {
      "text/plain": [
       "('John', 70.2)"
      ]
     },
     "execution_count": 17,
     "metadata": {},
     "output_type": "execute_result"
    }
   ],
   "source": [
    "new_tuple[3:]"
   ]
  },
  {
   "cell_type": "code",
   "execution_count": 18,
   "metadata": {},
   "outputs": [
    {
     "name": "stdout",
     "output_type": "stream",
     "text": [
      "('abcd', 786, 2.23, 'John', 70.2, 'abcd', 786, 2.23, 'John', 70.2)\n",
      "('abcd', 786, 2.23, 'John', 70.2)\n"
     ]
    }
   ],
   "source": [
    "print(new_tuple * 2)\n",
    "print(new_tuple)"
   ]
  },
  {
   "cell_type": "code",
   "execution_count": 19,
   "metadata": {},
   "outputs": [
    {
     "name": "stdout",
     "output_type": "stream",
     "text": [
      "('abcd', 786, 2.23, 'John', 70.2, 123, 'Susan')\n"
     ]
    }
   ],
   "source": [
    "print(new_tuple + tiny_tuple)"
   ]
  },
  {
   "cell_type": "code",
   "execution_count": 22,
   "metadata": {},
   "outputs": [
    {
     "name": "stdout",
     "output_type": "stream",
     "text": [
      "Is 70.2 in new_tuple?\tTrue\n",
      "Is 70 in new_tuple?\tFalse\n"
     ]
    }
   ],
   "source": [
    "print(\"Is 70.2 in new_tuple?\\t{}\".format(70.2 in new_tuple))\n",
    "print(\"Is 70 in new_tuple?\\t{}\".format(70 in new_tuple))"
   ]
  },
  {
   "cell_type": "code",
   "execution_count": 23,
   "metadata": {},
   "outputs": [
    {
     "name": "stdout",
     "output_type": "stream",
     "text": [
      "abcd\n",
      "786\n",
      "2.23\n",
      "John\n",
      "70.2\n"
     ]
    }
   ],
   "source": [
    "for item in new_tuple:\n",
    "    print(item)"
   ]
  },
  {
   "cell_type": "markdown",
   "metadata": {},
   "source": [
    "## Deletion Of Items In A Tuple\n",
    "\n",
    "Quite simply - just not possible. In order to \"delete\" an item, you would need to create a new tuple with only the elements you are looking to create."
   ]
  },
  {
   "cell_type": "code",
   "execution_count": 14,
   "metadata": {},
   "outputs": [
    {
     "name": "stdout",
     "output_type": "stream",
     "text": [
      "('abcd', 786, 2.23, 'John', 123, 'Susan')\n"
     ]
    }
   ],
   "source": [
    "new_tuple = new_tuple[:4] + tiny_tuple\n",
    "print(new_tuple)"
   ]
  },
  {
   "cell_type": "code",
   "execution_count": null,
   "metadata": {},
   "outputs": [],
   "source": []
  }
 ],
 "metadata": {
  "kernelspec": {
   "display_name": "Python 3",
   "language": "python",
   "name": "python3"
  },
  "language_info": {
   "codemirror_mode": {
    "name": "ipython",
    "version": 3
   },
   "file_extension": ".py",
   "mimetype": "text/x-python",
   "name": "python",
   "nbconvert_exporter": "python",
   "pygments_lexer": "ipython3",
   "version": "3.6.6"
  }
 },
 "nbformat": 4,
 "nbformat_minor": 2
}
