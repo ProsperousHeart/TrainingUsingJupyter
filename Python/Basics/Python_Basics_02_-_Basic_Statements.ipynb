{
 "cells": [
  {
   "cell_type": "markdown",
   "metadata": {},
   "source": [
    "<a href='https://www.learntocodeonline.com/'><img src='https://github.com/ProsperousHeart/TrainingUsingJupyter/blob/master/IMGs/learn-to-code-online.png?raw=true'></a>"
   ]
  },
  {
   "cell_type": "markdown",
   "metadata": {},
   "source": [
    "# Print Statements\n",
    "\n",
    "**Print statements** allow you to print data. This can be any data type, but be aware of how you need to print said data.\n",
    "\n",
    "`print(some_info)`\n",
    "\n",
    "And you can also do some pretty cool string formatting with this, but that will come later."
   ]
  },
  {
   "cell_type": "markdown",
   "metadata": {},
   "source": [
    "## Hello World\n",
    "\n",
    "This is where you will be able to create your very first program:  `Hello World!`\n",
    "\n",
    "In every programming language, this is generally the very first thing you must do in order to ensure you can make even more extensive programs.\n",
    "\n",
    "When you are able to successfully do this, you know you have properly installed everything you need for the time being.\n",
    "\n",
    "And how do you confirm this in Python?\n",
    "\n",
    "<div class=\"alert alert-success\">\n",
    "<b>Try this!</b>\n",
    "\n",
    "```python\n",
    "print('Hello World!')\n",
    "```\n",
    "</div>"
   ]
  },
  {
   "cell_type": "code",
   "execution_count": null,
   "metadata": {},
   "outputs": [],
   "source": []
  },
  {
   "cell_type": "markdown",
   "metadata": {},
   "source": [
    "## Things To Know About print()\n",
    "\n",
    "After every print statement, a newline character is added.\n",
    "\n",
    "<div class=\"alert alert-success\">\n",
    "<b>Try this!</b>\n",
    "\n",
    "```python\n",
    "print('Line 1')\n",
    "print()    # prints \"\\n\" (newline)\n",
    "print('Line 3')\n",
    "```\n",
    "</div>"
   ]
  },
  {
   "cell_type": "code",
   "execution_count": null,
   "metadata": {},
   "outputs": [],
   "source": []
  },
  {
   "cell_type": "markdown",
   "metadata": {},
   "source": [
    "The **print** function can pass in 0 or more expressions, however you need to have a `,` in between.\n",
    "\n",
    "If using the comma, it will print each piece of data on the same line separated by a space.\n",
    "\n",
    "<div class=\"alert alert-success\">\n",
    "<b>Try this!</b>\n",
    "\n",
    "```python\n",
    "print(1, \"two\")\n",
    "```\n",
    "</div>"
   ]
  },
  {
   "cell_type": "code",
   "execution_count": null,
   "metadata": {},
   "outputs": [],
   "source": []
  },
  {
   "cell_type": "markdown",
   "metadata": {},
   "source": [
    "## Final Thoughts\n",
    "\n",
    "In **_python2_** the **print** function did not require parentheses.\n",
    "\n",
    "_python2_:  `print \"This line will be printed\"`\n",
    "_python3_:  `print(\"This line will be printed\")`\n",
    "\n",
    "By doing this, **python3** was able to move towards a better representation to show that print was a function - something that we will cover later on.\n",
    "\n",
    "<hr>"
   ]
  },
  {
   "cell_type": "markdown",
   "metadata": {},
   "source": [
    "# Assignment Statements\n",
    "\n",
    "These kinds of statements are assigning a label (or variable name) to a set of data.\n",
    "\n",
    "In other words, a **variable** name points to a *specific section of memory* that holds some data.\n",
    "\n",
    "A **label** is simply a way to refer to that **variable**.\n",
    "\n",
    "One thing to keep in mind? Python, like several other programming languages, reads information starting from right to left.\n",
    "\n",
    "For example:  `a = 1`\n",
    "\n",
    "The above statement reads as:<br>\n",
    "*`int` 1 is assigned to the variable name (label) `a`*\n",
    "\n",
    "\n",
    "## Easily Create New Tuples!\n",
    "\n",
    "If you add a comma to multiple items on the right side, Python will convert the data to a tuple.\n",
    "\n",
    "<div class=\"alert alert-success\">\n",
    "<b>Try this!</b>\n",
    "\n",
    "```python\n",
    "a = 1, 2    # this is an assignment statement\n",
    "a           # this is just to show you what is in 'a'\n",
    "```\n",
    "</div>"
   ]
  },
  {
   "cell_type": "code",
   "execution_count": null,
   "metadata": {},
   "outputs": [],
   "source": []
  },
  {
   "cell_type": "markdown",
   "metadata": {},
   "source": [
    "<div class=\"alert alert-success\">\n",
    "<b>Try this!</b>\n",
    "\n",
    "```python\n",
    "b = \"this\"\n",
    "c = \"that\"\n",
    "a = a, b, c\n",
    "a\n",
    "```\n",
    "</div>"
   ]
  },
  {
   "cell_type": "code",
   "execution_count": null,
   "metadata": {},
   "outputs": [],
   "source": []
  },
  {
   "cell_type": "markdown",
   "metadata": {},
   "source": [
    "## Single Assignment Statements\n",
    "\n",
    "These are the ones you will normally see in most code. It's clean and precise.\n",
    "\n",
    "<div class=\"alert alert-success\">\n",
    "<b>Try this!</b>\n",
    "\n",
    "```python\n",
    "variableName = \"This is of variable type string.\"\n",
    "variableName    # this is not a print statement (next section)\n",
    "```\n",
    "</div>"
   ]
  },
  {
   "cell_type": "code",
   "execution_count": null,
   "metadata": {},
   "outputs": [],
   "source": []
  },
  {
   "cell_type": "markdown",
   "metadata": {},
   "source": [
    "## Multiple Assignment Statements\n",
    "\n",
    "There are 2 different ways you can utilize multiple assignment statement options.\n",
    "\n",
    "### One Variable, Multiple Labels\n",
    "\n",
    "In this instance, \"variable\" refers to a memory location. And \"label\" refers to the name that references that location.\n",
    "\n",
    "<div class=\"alert alert-success\">\n",
    "<b>Try this!</b>\n",
    "\n",
    "```python\n",
    "a = b = c = 1\n",
    "print(a)\n",
    "print(b)\n",
    "print(c)\n",
    "print(a==b)\n",
    "print(a is b)     # meaning this points to the same memory location\n",
    "d = 1\n",
    "print(a==d)\n",
    "print(a is d)    # does it point to the same memory location? why?\n",
    "```\n",
    "</div>"
   ]
  },
  {
   "cell_type": "code",
   "execution_count": null,
   "metadata": {},
   "outputs": [],
   "source": []
  },
  {
   "cell_type": "code",
   "execution_count": null,
   "metadata": {},
   "outputs": [],
   "source": []
  },
  {
   "cell_type": "code",
   "execution_count": null,
   "metadata": {},
   "outputs": [],
   "source": []
  },
  {
   "cell_type": "code",
   "execution_count": null,
   "metadata": {},
   "outputs": [],
   "source": []
  },
  {
   "cell_type": "code",
   "execution_count": null,
   "metadata": {},
   "outputs": [],
   "source": []
  },
  {
   "cell_type": "code",
   "execution_count": null,
   "metadata": {},
   "outputs": [],
   "source": []
  },
  {
   "cell_type": "code",
   "execution_count": null,
   "metadata": {},
   "outputs": [],
   "source": []
  },
  {
   "cell_type": "code",
   "execution_count": null,
   "metadata": {},
   "outputs": [],
   "source": []
  },
  {
   "cell_type": "code",
   "execution_count": null,
   "metadata": {},
   "outputs": [],
   "source": []
  },
  {
   "cell_type": "markdown",
   "metadata": {},
   "source": [
    "## Multiple Assignment Statements\n",
    "\n",
    "### Each Label Is Assigned To A Different Memory Location (Variable)\n",
    "\n",
    "Pretty straight forward but might look something like this ...\n",
    "\n",
    "<div class=\"alert alert-success\">\n",
    "<b>Try this!</b>\n",
    "\n",
    "```python\n",
    "a, b, c = 1, 2, \"John\"\n",
    "print(a)\n",
    "print(b)\n",
    "print(c)\n",
    "a, b = 1, 2, \"John\"\n",
    "a, b** = 1, 2, \"John\"\n",
    "```\n",
    "</div>\n",
    "\n",
    "<div class=\"alert alert-warning\">\n",
    "Consider checking out star unpacking in <a href=\"https://github.com/ProsperousHeart/TrainingUsingJupyter/blob/master/Python/Recipes/Data%20Structures%20And%20Algorithms%2000%20-%20Unpacking%20And%20Deque.ipynb\">this Jupyter notebook</a> (it's suggested you download and run from your machine).\n",
    "</div>"
   ]
  },
  {
   "cell_type": "code",
   "execution_count": null,
   "metadata": {},
   "outputs": [],
   "source": []
  },
  {
   "cell_type": "code",
   "execution_count": null,
   "metadata": {},
   "outputs": [],
   "source": []
  },
  {
   "cell_type": "code",
   "execution_count": null,
   "metadata": {},
   "outputs": [],
   "source": []
  },
  {
   "cell_type": "code",
   "execution_count": null,
   "metadata": {},
   "outputs": [],
   "source": []
  },
  {
   "cell_type": "code",
   "execution_count": null,
   "metadata": {},
   "outputs": [],
   "source": []
  },
  {
   "cell_type": "code",
   "execution_count": null,
   "metadata": {},
   "outputs": [],
   "source": []
  },
  {
   "cell_type": "code",
   "execution_count": null,
   "metadata": {},
   "outputs": [],
   "source": []
  }
 ],
 "metadata": {
  "kernelspec": {
   "display_name": "Python 3",
   "language": "python",
   "name": "python3"
  },
  "language_info": {
   "codemirror_mode": {
    "name": "ipython",
    "version": 3
   },
   "file_extension": ".py",
   "mimetype": "text/x-python",
   "name": "python",
   "nbconvert_exporter": "python",
   "pygments_lexer": "ipython3",
   "version": "3.6.6"
  }
 },
 "nbformat": 4,
 "nbformat_minor": 2
}
