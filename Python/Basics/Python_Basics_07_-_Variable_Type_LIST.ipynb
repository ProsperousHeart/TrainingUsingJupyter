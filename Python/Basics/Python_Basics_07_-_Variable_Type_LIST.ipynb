{
 "cells": [
  {
   "cell_type": "markdown",
   "metadata": {},
   "source": [
    "<a href='https://www.learntocodeonline.com/'><img src='https://github.com/ProsperousHeart/TrainingUsingJupyter/blob/master/IMGs/learn-to-code-online.png?raw=true'></a>"
   ]
  },
  {
   "cell_type": "markdown",
   "metadata": {},
   "source": [
    "# Variable Type:  [List](http://www.tutorialspoint.com/python/python_lists.htm)\n",
    "\n",
    "This is the most versatile variable type - also known as an object.\n",
    "\n",
    "It is written as a list of comma-separated values between square brackets (similar to a Java array).\n",
    "\n",
    "`new_list = [1, \"string\", ...]` where `...` is simply indicative of additional elements.\n",
    "\n",
    "The reason why this is so versatile is because the items within a list does NOT need to be of the same data type and you can have as many items as you require (and have capability to hold).\n",
    "\n",
    "Please be advised that [PEP484](https://www.python.org/dev/peps/pep-0484) highly encourages that the items in a list are of the same type, however it is not enforced. Just a styling guideline.\n",
    "\n",
    "<div class=\"alert alert-success\">\n",
    "<b>Try this!</b>\n",
    "\n",
    "```python\n",
    "new_list = ['abcd', 786, 2.34, \"John\", 70.2]\n",
    "tiny_list = [123, 'john']\n",
    "print(new_list)\n",
    "print(tiny_list)\n",
    "```\n",
    "</div>"
   ]
  },
  {
   "cell_type": "code",
   "execution_count": null,
   "metadata": {},
   "outputs": [],
   "source": []
  },
  {
   "cell_type": "markdown",
   "metadata": {},
   "source": [
    "# Basic List Operations\n",
    "\n",
    "Basic operations for lists are:\n",
    "- length:  `len(new_list)`\n",
    "- concatentation\n",
    "- repetition (multiplication)\n",
    "- membership\n",
    "- iteration"
   ]
  },
  {
   "cell_type": "markdown",
   "metadata": {},
   "source": [
    "## Indexing\n",
    "\n",
    "Similar to string indices, list indices start at 0 & can be sliced, concatenated, etc.\n",
    "\n",
    "When you using indexing to return an element of a list, it returns that element - it does not return a list.\n",
    "\n",
    "<div class=\"alert alert-success\">\n",
    "<b>Try this!</b>\n",
    "\n",
    "```python\n",
    "print(new_list[0])\n",
    "```\n",
    "\n",
    "<b>... then this:</b>\n",
    "```python\n",
    "print(tiny_list[-1])\n",
    "```\n",
    "</div>"
   ]
  },
  {
   "cell_type": "code",
   "execution_count": null,
   "metadata": {},
   "outputs": [],
   "source": []
  },
  {
   "cell_type": "code",
   "execution_count": null,
   "metadata": {},
   "outputs": [],
   "source": []
  },
  {
   "cell_type": "markdown",
   "metadata": {},
   "source": [
    "## Slicing\n",
    "\n",
    "Another thing to keep in mind is that with **slicing** is that when you slice a string, it returns a new string.\n",
    "\n",
    "When you slice a list? It returns a new list.\n",
    "\n",
    "<div class=\"alert alert-success\">\n",
    "<b>Try this!</b>\n",
    "\n",
    "```python\n",
    "print(new_list[3:])\n",
    "```\n",
    "\n",
    "<b>... then this:</b>\n",
    "```python\n",
    "new_tiny_list = tiny_list[:]    # makes a new copy - does not refer to same memory location\n",
    "print(new_tiny_list)\n",
    "print(\"new_tiny_list == tiny_list:  {}\".format(new_tiny_list == tiny_list))\n",
    "print(\"new_tiny_list is tiny_list:  {}\".format(new_tiny_list is tiny_list))\n",
    "```\n",
    "</div>"
   ]
  },
  {
   "cell_type": "code",
   "execution_count": null,
   "metadata": {},
   "outputs": [],
   "source": []
  },
  {
   "cell_type": "code",
   "execution_count": null,
   "metadata": {},
   "outputs": [],
   "source": []
  },
  {
   "cell_type": "markdown",
   "metadata": {},
   "source": [
    "## Multiplication\n",
    "\n",
    "When you multiply lists, similar to strings it makes a copy and adds to it.\n",
    "\n",
    "<div class=\"alert alert-success\">\n",
    "<b>Try this!</b>\n",
    "\n",
    "```python\n",
    "print(tiny_list * 2)\n",
    "```\n",
    "</div>"
   ]
  },
  {
   "cell_type": "code",
   "execution_count": null,
   "metadata": {},
   "outputs": [],
   "source": []
  },
  {
   "cell_type": "markdown",
   "metadata": {},
   "source": [
    "However, unless you reassign the value back into the list, then it will remain unchanged.\n",
    "\n",
    "<div class=\"alert alert-success\">\n",
    "<b>Try this!</b>\n",
    "\n",
    "```python\n",
    "print(tiny_list)\n",
    "tiny_list = tiny_list * 2\n",
    "print(tiny_list)\n",
    "```\n",
    "</div>"
   ]
  },
  {
   "cell_type": "code",
   "execution_count": null,
   "metadata": {},
   "outputs": [],
   "source": []
  },
  {
   "cell_type": "markdown",
   "metadata": {},
   "source": [
    "## Concatenation\n",
    "\n",
    "Just like in a string, you can use concatenation to add to a list.\n",
    "\n",
    "Keep in mind that unless you reassign the list returned from the concatenation, then nothing is changed in place.\n",
    "\n",
    "<div class=\"alert alert-success\">\n",
    "<b>Try this!</b>\n",
    "\n",
    "```python\n",
    "print(\"tiny_list = {}\".format(tiny_list))\n",
    "print(\"new_list = {}\\n\".format(new_list))\n",
    "print(\"CONCATENATION:  {}\\n\".format(tiny_list + new_list))\n",
    "print(\"tiny_list = {}\".format(tiny_list))\n",
    "print(\"new_list = {}\".format(new_list))\n",
    "```\n",
    "</div>"
   ]
  },
  {
   "cell_type": "code",
   "execution_count": null,
   "metadata": {},
   "outputs": [],
   "source": []
  },
  {
   "cell_type": "markdown",
   "metadata": {},
   "source": [
    "## Updating A List\n",
    "\n",
    "The biggest difference between a list and a string is that whiel a string is immutable (can't change it)?\n",
    "\n",
    "You can replace (update) elements in a list very easily. You just need to assign a new value to the element at index `n` such as:\n",
    "`list_var[n] = some_data`\n",
    "\n",
    "<div class=\"alert alert-success\">\n",
    "<b>Try this!</b>\n",
    "\n",
    "```python\n",
    "print(new_list)\n",
    "new_list[1] = 678\n",
    "print(new_list)\n",
    "```\n",
    "</div>"
   ]
  },
  {
   "cell_type": "code",
   "execution_count": null,
   "metadata": {},
   "outputs": [],
   "source": []
  },
  {
   "cell_type": "markdown",
   "metadata": {},
   "source": [
    "### Adding To A List\n",
    "\n",
    "There are two ways to add to a list:\n",
    "- append\n",
    "- extend\n",
    "\n",
    "#### List Append\n",
    "\n",
    "This built-in method for lists will only take a single input, otherwise it will error out.\n",
    "\n",
    "`list_var.append(something)`\n",
    "\n",
    "This allows you to add a single element to the end of a list.\n",
    "\n",
    "<div class=\"alert alert-success\">\n",
    "<b>Try this!</b>\n",
    "\n",
    "```python\n",
    "print(new_tiny_list)\n",
    "new_tiny_list.append([\"This is a list\", 2])\n",
    "print(new_tiny_list)\n",
    "```\n",
    "\n",
    "<b>... then this:</b>\n",
    "```python\n",
    "tiny_list.append(1, 2)\n",
    "```\n",
    "\n",
    "<i>What happens? Why?</i>\n",
    "</div>"
   ]
  },
  {
   "cell_type": "code",
   "execution_count": null,
   "metadata": {},
   "outputs": [],
   "source": []
  },
  {
   "cell_type": "code",
   "execution_count": null,
   "metadata": {},
   "outputs": [],
   "source": []
  },
  {
   "cell_type": "markdown",
   "metadata": {},
   "source": [
    "#### List Extend\n",
    "\n",
    "This allows you to add every element of what you are trying to add as a new element in the list.\n",
    "\n",
    "`listVar.extend(new_list)`\n",
    "\n",
    "This also only takes in a single element, so you must use a list or tuple.\n",
    "\n",
    "<div class=\"alert alert-success\">\n",
    "<b>Try this!</b>\n",
    "\n",
    "```python\n",
    "print(new_tiny_list)\n",
    "```\n",
    "\n",
    "<b>... then this:</b>\n",
    "```python\n",
    "new_tiny_list.extend(1, 2, 3, \"fun\")\n",
    "```\n",
    "\n",
    "<b>... then this:</b>\n",
    "```python\n",
    "new_tiny_list.extend([1, 2, 3, \"fun\"])\n",
    "print(new_tiny_list)\n",
    "```\n",
    "</div>"
   ]
  },
  {
   "cell_type": "code",
   "execution_count": null,
   "metadata": {},
   "outputs": [],
   "source": []
  },
  {
   "cell_type": "code",
   "execution_count": null,
   "metadata": {},
   "outputs": [],
   "source": []
  },
  {
   "cell_type": "code",
   "execution_count": null,
   "metadata": {},
   "outputs": [],
   "source": []
  },
  {
   "cell_type": "markdown",
   "metadata": {},
   "source": [
    "### Removing From A List\n",
    "\n",
    "You have several options to remove items from a list."
   ]
  },
  {
   "cell_type": "markdown",
   "metadata": {},
   "source": [
    "#### Pop\n",
    "\n",
    "With our **append** we also have a [pop]() feature with lists, however you may want to consider [dequeue](https://github.com/ProsperousHeart/TrainingUsingJupyter/blob/master/Python/Recipes/Data%20Structures%20And%20Algorithms%2000%20-%20Unpacking%20And%20Deque.ipynb).\n",
    "\n",
    "`list.pop([index])`\n",
    "\n",
    "The notation above indicates that a single input of an index is optional, so you could do something like:\n",
    "\n",
    "<div class=\"alert alert-success\">\n",
    "\n",
    "```python\n",
    "temp_list = [1, 2, 3, 4, 5]\n",
    "print('temp_list:  {}'.format(temp_list))\n",
    "temp_var = temp_list.pop(2)\n",
    "print('temp_var:  {}'.format(temp_var))\n",
    "print('temp_list:  {}'.format(temp_list))\n",
    "temp_var1 = temp_list.pop()\n",
    "print('temp_var1:  {}'.format(temp_var1))\n",
    "print('temp_list:  {}'.format(temp_list))\n",
    "```\n",
    "</div>\n",
    "\n",
    "Why do we have **append** and **pop** but no **push**?\n",
    "[Here](https://stackoverflow.com/a/1569007/10474024) is a great response."
   ]
  },
  {
   "cell_type": "code",
   "execution_count": null,
   "metadata": {},
   "outputs": [],
   "source": []
  },
  {
   "cell_type": "markdown",
   "metadata": {},
   "source": [
    "#### Deletion of An Element\n",
    "\n",
    "`del new_list[n]`\n",
    "\n",
    "You can delete an element of a list by simply providing the position.\n",
    "\n",
    "<div class=\"alert alert-success\">\n",
    "<b>Try this!</b>\n",
    "\n",
    "```python\n",
    "print(temp_list)\n",
    "del temp_list[1]\n",
    "print(temp_list)\n",
    "```\n",
    "</div>"
   ]
  },
  {
   "cell_type": "code",
   "execution_count": null,
   "metadata": {},
   "outputs": [],
   "source": []
  },
  {
   "cell_type": "markdown",
   "metadata": {},
   "source": [
    "## Membership\n",
    "\n",
    "Python membership operators test if some element is a member of a sequence (such as a list, string, set, etc). There are only 2 ways to test for membership:\n",
    "\n",
    "- `x in y`\n",
    "- `x not in y`\n",
    "\n",
    "<div class=\"alert alert-success\">\n",
    "<b>Try this!</b>\n",
    "\n",
    "```python\n",
    "temp1 = 'ab'\n",
    "temp2 = 'ce'\n",
    "temp_str = 'abcde'\n",
    "print('temp1 in temp_str:  {}'.format(temp1 in temp_str))\n",
    "print('temp2 in temp_str:  {}'.format(temp2 in temp_str))\n",
    "```\n",
    "</div>"
   ]
  },
  {
   "cell_type": "code",
   "execution_count": null,
   "metadata": {},
   "outputs": [],
   "source": []
  },
  {
   "cell_type": "markdown",
   "metadata": {},
   "source": [
    "## Iteration\n",
    "\n",
    "An **iterable** is anything you can loop over.\n",
    "\n",
    "**Sequences** are iterables that have a specific set of features.\n",
    "\n",
    "Lots of built-in objects in python are iterables, but not all iterables are sequences. (e.g.:  sets, dictionaries, generators, files, etc) - Therefore sequences are a *type* of iterable."
   ]
  },
  {
   "cell_type": "code",
   "execution_count": null,
   "metadata": {},
   "outputs": [],
   "source": []
  },
  {
   "cell_type": "markdown",
   "metadata": {},
   "source": [
    "# Additional Resources\n",
    "\n",
    "http://effbot.org/zone/python-list.htm\n",
    "\n",
    "http://www.learnpython.org/en/List_Comprehensions"
   ]
  },
  {
   "cell_type": "code",
   "execution_count": null,
   "metadata": {},
   "outputs": [],
   "source": []
  }
 ],
 "metadata": {
  "kernelspec": {
   "display_name": "Python 3",
   "language": "python",
   "name": "python3"
  },
  "language_info": {
   "codemirror_mode": {
    "name": "ipython",
    "version": 3
   },
   "file_extension": ".py",
   "mimetype": "text/x-python",
   "name": "python",
   "nbconvert_exporter": "python",
   "pygments_lexer": "ipython3",
   "version": "3.6.6"
  }
 },
 "nbformat": 4,
 "nbformat_minor": 2
}
