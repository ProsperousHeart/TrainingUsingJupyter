{
 "cells": [
  {
   "cell_type": "markdown",
   "metadata": {},
   "source": [
    "<a href='https://www.learntocodeonline.com/'>![Learn To Code Online](../../IMGs/learn-to-code-online.png)</a>"
   ]
  },
  {
   "cell_type": "markdown",
   "metadata": {},
   "source": [
    "# Variable Type:  [Strings](http://www.tutorialspoint.com/python/python_strings.htm)\n",
    "\n",
    "A **string** is a contiguous set of characters represented in single quotes `'like this'` or double quotes `\"like this\"` - single quotes are preferred.\n",
    "\n",
    "If you would like to check out the built-in string methods, be sure to [go here](http://www.tutorialspoint.com/python/python_strings.htm)."
   ]
  },
  {
   "cell_type": "code",
   "execution_count": 3,
   "metadata": {},
   "outputs": [
    {
     "name": "stdout",
     "output_type": "stream",
     "text": [
      "Hello World!\n"
     ]
    },
    {
     "data": {
      "text/plain": [
       "'Hello World!'"
      ]
     },
     "execution_count": 3,
     "metadata": {},
     "output_type": "execute_result"
    }
   ],
   "source": [
    "new_str = 'Hello World!'\n",
    "print(new_str)\n",
    "new_str"
   ]
  },
  {
   "cell_type": "markdown",
   "metadata": {},
   "source": [
    "## Special String Characters\n",
    "\n",
    "Sometimes you need to utilize the backslash (`\\`) to denote a special character, including but not limited to:\n",
    "- newline:  `\\n`\n",
    "- new tab:  `\\t`\n",
    "\n",
    "## How To Use String Sequence - Indexing\n",
    "\n",
    "**Indexing** is when you call on an index of a string and the element at that index is returned.\n",
    "\n",
    "`myString[x]`\n",
    "\n",
    "In other words, it returns the single character substring at position (or index) `x`"
   ]
  },
  {
   "cell_type": "code",
   "execution_count": 4,
   "metadata": {},
   "outputs": [
    {
     "data": {
      "text/plain": [
       "'H'"
      ]
     },
     "execution_count": 4,
     "metadata": {},
     "output_type": "execute_result"
    }
   ],
   "source": [
    "new_str[0]"
   ]
  },
  {
   "cell_type": "code",
   "execution_count": 5,
   "metadata": {},
   "outputs": [
    {
     "data": {
      "text/plain": [
       "'!'"
      ]
     },
     "execution_count": 5,
     "metadata": {},
     "output_type": "execute_result"
    }
   ],
   "source": [
    "new_str[-1]"
   ]
  },
  {
   "cell_type": "markdown",
   "metadata": {},
   "source": [
    "## How To Use String Sequence - Slicing\n",
    "\n",
    "The way this works is that just like indexing, you follow the string's variable name with brackets. Inside those brackets, there is a particular way to do your slicing.\n",
    "\n",
    "`var_name = [int1:int2]`\n",
    "\n",
    "`int1` is the starting index while `int2` is the exclusive index, meaning up to but not including.\n",
    "\n",
    "When you use slicing, it returns a new string (a new memory location with that data) to whatever called it."
   ]
  },
  {
   "cell_type": "code",
   "execution_count": 6,
   "metadata": {},
   "outputs": [
    {
     "data": {
      "text/plain": [
       "'lo World!'"
      ]
     },
     "execution_count": 6,
     "metadata": {},
     "output_type": "execute_result"
    }
   ],
   "source": [
    "test = new_str[3:]    # from index to end\n",
    "test"
   ]
  },
  {
   "cell_type": "code",
   "execution_count": 7,
   "metadata": {},
   "outputs": [
    {
     "data": {
      "text/plain": [
       "'lo Wo'"
      ]
     },
     "execution_count": 7,
     "metadata": {},
     "output_type": "execute_result"
    }
   ],
   "source": [
    "test = new_str[3:8]    # start from 4th element up to and including 7th element\n",
    "test"
   ]
  },
  {
   "cell_type": "code",
   "execution_count": 13,
   "metadata": {},
   "outputs": [
    {
     "data": {
      "text/plain": [
       "'Hello'"
      ]
     },
     "execution_count": 13,
     "metadata": {},
     "output_type": "execute_result"
    }
   ],
   "source": [
    "test = new_str[:5]    # assign substring of new_str starting from the beginning up to and excluding element 5\n",
    "test"
   ]
  },
  {
   "cell_type": "markdown",
   "metadata": {},
   "source": [
    "## How To Use String Sequence - Multiplication\n",
    "\n",
    "When you use multiplication of a string, it returns to whatever called it `n` numbers of copies of the string you multiplied."
   ]
  },
  {
   "cell_type": "code",
   "execution_count": 10,
   "metadata": {},
   "outputs": [
    {
     "name": "stdout",
     "output_type": "stream",
     "text": [
      "**********\n"
     ]
    },
    {
     "data": {
      "text/plain": [
       "'**********'"
      ]
     },
     "execution_count": 10,
     "metadata": {},
     "output_type": "execute_result"
    }
   ],
   "source": [
    "test = '*' * 10\n",
    "print(test)\n",
    "test"
   ]
  },
  {
   "cell_type": "markdown",
   "metadata": {},
   "source": [
    "## How To Use String Sequence - Concatenation\n",
    "\n",
    "When you use concatenation (adding a string to a string) then you make a *new* string of the strings combined."
   ]
  },
  {
   "cell_type": "code",
   "execution_count": 11,
   "metadata": {},
   "outputs": [
    {
     "name": "stdout",
     "output_type": "stream",
     "text": [
      "Tell me a story!\n"
     ]
    },
    {
     "data": {
      "text/plain": [
       "'Tell me a story!'"
      ]
     },
     "execution_count": 11,
     "metadata": {},
     "output_type": "execute_result"
    }
   ],
   "source": [
    "test = 'Tell me ' + 'a story!'\n",
    "print(test)\n",
    "test"
   ]
  },
  {
   "cell_type": "markdown",
   "metadata": {},
   "source": [
    "## How To Update A String\n",
    "\n",
    "You cannot change a string - it is immutable.\n",
    "\n",
    "You can, however, assign a new string to the original variable"
   ]
  },
  {
   "cell_type": "code",
   "execution_count": 14,
   "metadata": {},
   "outputs": [
    {
     "name": "stdout",
     "output_type": "stream",
     "text": [
      "Hello World!\n"
     ]
    }
   ],
   "source": [
    "print(new_str)"
   ]
  },
  {
   "cell_type": "code",
   "execution_count": 17,
   "metadata": {},
   "outputs": [
    {
     "name": "stdout",
     "output_type": "stream",
     "text": [
      "Hello World! Are you ready to rumble? Are you ready to rumble?\n"
     ]
    },
    {
     "data": {
      "text/plain": [
       "'Hello World! Are you ready to rumble? Are you ready to rumble?'"
      ]
     },
     "execution_count": 17,
     "metadata": {},
     "output_type": "execute_result"
    }
   ],
   "source": [
    "new_str = new_str + \" Are you ready to rumble?\"\n",
    "print(new_str)\n",
    "new_str"
   ]
  },
  {
   "cell_type": "markdown",
   "metadata": {},
   "source": [
    "## Triple Quote Strings\n",
    "\n",
    "When you create a triple quuote string, the 2 major benefits to this are:\n",
    "- ability to have multi-likne string data\n",
    "- ability to create docstrings (for documentation)\n",
    "\n",
    "While some people use this as a way to \"comment\" out information, this is not an accurate use for it.\n",
    "\n",
    "Strings are not ignored by python. So it takes up space.\n",
    "\n",
    "Something cool about it is that if you print it? Then it will show all characters such as new line, new tab, etc."
   ]
  },
  {
   "cell_type": "code",
   "execution_count": 18,
   "metadata": {},
   "outputs": [
    {
     "name": "stdout",
     "output_type": "stream",
     "text": [
      "This is a\n",
      "multi-line\n",
      "string... \tHow cool!\n"
     ]
    },
    {
     "data": {
      "text/plain": [
       "'This is a\\nmulti-line\\nstring... \\tHow cool!'"
      ]
     },
     "execution_count": 18,
     "metadata": {},
     "output_type": "execute_result"
    }
   ],
   "source": [
    "new_str = \"\"\"This is a\n",
    "multi-line\n",
    "string... \\tHow cool!\"\"\"\n",
    "print(new_str)\n",
    "new_str"
   ]
  },
  {
   "cell_type": "markdown",
   "metadata": {},
   "source": [
    "## Raw String\n",
    "\n",
    "If you wish to have the information inside the string be represented as is (like with RegEx) you will need to put an r in front of the string.\n",
    "\n",
    "`test = r'This will be \\n a raw string.'`\n",
    "\n",
    "It would be the same as if you had done:\n",
    "\n",
    "`test = 'This will be \\\\n a raw string.'`"
   ]
  },
  {
   "cell_type": "code",
   "execution_count": 19,
   "metadata": {},
   "outputs": [
    {
     "name": "stdout",
     "output_type": "stream",
     "text": [
      "Thisis\\ta new\\nstring. Can you tell?\n"
     ]
    },
    {
     "data": {
      "text/plain": [
       "'Thisis\\\\ta new\\\\nstring. Can you tell?'"
      ]
     },
     "execution_count": 19,
     "metadata": {},
     "output_type": "execute_result"
    }
   ],
   "source": [
    "new_str = r'Thisis\\ta new\\nstring. Can you tell?'\n",
    "print(new_str)\n",
    "new_str"
   ]
  },
  {
   "cell_type": "markdown",
   "metadata": {},
   "source": [
    "## ASCII vs UNICODE\n",
    "\n",
    "Normal strings in python are stored as 8 bit ASCII. If you wish to use unicode, you need to put a u in front of the string.\n",
    "\n",
    "`test = u'This will be a unicode string.'`"
   ]
  },
  {
   "cell_type": "code",
   "execution_count": 31,
   "metadata": {},
   "outputs": [
    {
     "data": {
      "text/plain": [
       "True"
      ]
     },
     "execution_count": 31,
     "metadata": {},
     "output_type": "execute_result"
    }
   ],
   "source": [
    "new_str = u'This is an ascii string.'\n",
    "isinstance(new_str, str)"
   ]
  },
  {
   "cell_type": "code",
   "execution_count": 29,
   "metadata": {},
   "outputs": [
    {
     "ename": "NameError",
     "evalue": "name 'Unicode' is not defined",
     "output_type": "error",
     "traceback": [
      "\u001b[1;31m---------------------------------------------------------------------------\u001b[0m",
      "\u001b[1;31mNameError\u001b[0m                                 Traceback (most recent call last)",
      "\u001b[1;32m<ipython-input-29-dcee0a6bba9d>\u001b[0m in \u001b[0;36m<module>\u001b[1;34m()\u001b[0m\n\u001b[0;32m      1\u001b[0m \u001b[0mnew_str\u001b[0m \u001b[1;33m=\u001b[0m \u001b[1;34mu'This is a unicode string.'\u001b[0m\u001b[1;33m\u001b[0m\u001b[0m\n\u001b[1;32m----> 2\u001b[1;33m \u001b[0misinstance\u001b[0m\u001b[1;33m(\u001b[0m\u001b[0mnew_str\u001b[0m\u001b[1;33m,\u001b[0m \u001b[0mUnicode\u001b[0m\u001b[1;33m)\u001b[0m\u001b[1;33m\u001b[0m\u001b[0m\n\u001b[0m",
      "\u001b[1;31mNameError\u001b[0m: name 'Unicode' is not defined"
     ]
    }
   ],
   "source": [
    "new_str = u'This is a unicode string.'\n",
    "isinstance(new_str, unicode)"
   ]
  },
  {
   "cell_type": "markdown",
   "metadata": {},
   "source": [
    "## String Formatting\n",
    "\n",
    "Python uses C-style string formatting to create new and formatted strings.\n",
    "\n",
    "### Option 1:  %\n",
    "\n",
    "The `%` is used to format a set of variables in a tuple (fixed sized list).\n",
    "\n",
    "Here are the options that is dependent on whatever you're trying to format:\n",
    "- `%s` indicates a string (or any object with a string representation - like numbers)\n",
    "- `%d` indicates an integer\n",
    "- `%f` indicates a floating point number\n",
    "- `%.` indicates floating point numbers with a fixed amount of digits to the right of the dot\n",
    "- `%x` or `%X` indicates integers in HEX representation (lower vs upper case)"
   ]
  },
  {
   "cell_type": "code",
   "execution_count": 33,
   "metadata": {},
   "outputs": [
    {
     "name": "stdout",
     "output_type": "stream",
     "text": [
      "Hello, This is an ascii string.\n"
     ]
    }
   ],
   "source": [
    "name = \"John\"\n",
    "print(\"Hello, %s\" % (new_str,))"
   ]
  },
  {
   "cell_type": "code",
   "execution_count": 38,
   "metadata": {},
   "outputs": [
    {
     "name": "stdout",
     "output_type": "stream",
     "text": [
      "John is 42 years old.\n"
     ]
    }
   ],
   "source": [
    "age = 42\n",
    "print('%s is %d years old.' % (name, age))"
   ]
  },
  {
   "cell_type": "markdown",
   "metadata": {},
   "source": [
    "### Option 2:  {}\n",
    "\n",
    "While the above is well known, this option has even more features and is usually used in most programs.\n",
    "\n",
    "`new_str = 'This is a {} and I will be using it often.'.format(\"string\")`"
   ]
  },
  {
   "cell_type": "code",
   "execution_count": null,
   "metadata": {},
   "outputs": [],
   "source": []
  }
 ],
 "metadata": {
  "kernelspec": {
   "display_name": "Python 3",
   "language": "python",
   "name": "python3"
  },
  "language_info": {
   "codemirror_mode": {
    "name": "ipython",
    "version": 3
   },
   "file_extension": ".py",
   "mimetype": "text/x-python",
   "name": "python",
   "nbconvert_exporter": "python",
   "pygments_lexer": "ipython3",
   "version": "3.6.6"
  }
 },
 "nbformat": 4,
 "nbformat_minor": 2
}
