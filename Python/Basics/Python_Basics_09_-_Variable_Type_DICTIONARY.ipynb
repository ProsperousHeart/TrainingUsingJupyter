{
 "cells": [
  {
   "cell_type": "markdown",
   "metadata": {},
   "source": [
    "<a href='https://www.learntocodeonline.com/'><img src='https://github.com/ProsperousHeart/TrainingUsingJupyter/blob/master/IMGs/learn-to-code-online.png?raw=true'></a>"
   ]
  },
  {
   "cell_type": "markdown",
   "metadata": {},
   "source": [
    "# [Dictionaries](http://www.learnpython.org/en/Dictionaries)\n",
    "\n",
    "There are other things like [NamedTuples](https://docs.python.org/3/library/collections.html#collections.namedtuple) you can use, however there are some great options when using dictionaries that you can't when using NamedTuples.\n",
    "\n",
    "## Structure\n",
    "\n",
    "The **dictionary** documentation can be found [here](https://docs.python.org/3/tutorial/datastructures.html#dictionaries). It is a data set that is distinguished by the `{}` braces (similar to a set) but has a key and value pair. Each key **must** be unique. _(**NOTE:**  last assignment wins!)_\n",
    "\n",
    "One of the things I love about programming is that there is no one right way to code.\n",
    "\n",
    "Here I will share with you 3 ways you can create a dictionary.<hr>\n",
    "\n",
    "### Create Dict Option 1\n",
    "\n",
    "Unlike sequences (like **strings**, **lists**, and **tuples**) indexed by a range of numbers? Items within a dictionary are indexed by keys.\n",
    "\n",
    "<div class=\"alert alert-success\">\n",
    "<b>Try this!</b>\n",
    "\n",
    "```python\n",
    "new_dict = dict()\n",
    "new_dict['some_key'] = \"Whatever you want here. Any data type. PEP8 says should all be the same, but that's a style guideline.\"\n",
    "new_dict[4] = 4\n",
    "```\n",
    "</div>"
   ]
  },
  {
   "cell_type": "code",
   "execution_count": null,
   "metadata": {},
   "outputs": [],
   "source": []
  },
  {
   "cell_type": "markdown",
   "metadata": {},
   "source": [
    "### Create Dict Option 2\n",
    "\n",
    "<div class=\"alert alert-success\">\n",
    "<b>Try this!</b>\n",
    "\n",
    "```python\n",
    "new_dict2 = {'sum things': [\"Go Here\"]}\"\n",
    "```\n",
    "</div>\n",
    "\n",
    "If there is more than one item in a dictionary, then they will be separated by a comma."
   ]
  },
  {
   "cell_type": "code",
   "execution_count": null,
   "metadata": {},
   "outputs": [],
   "source": []
  },
  {
   "cell_type": "markdown",
   "metadata": {},
   "source": [
    "### Create Dict Option 3\n",
    "\n",
    "Another great way to create a dictionary is by using keyword arguments:<br>\n",
    "\n",
    "<div class=\"alert alert-success\">\n",
    "<b>Try this!</b>\n",
    "\n",
    "```python\n",
    "dict(sape=4139, guido=4127, jack=4098)\n",
    "```\n",
    "</div>"
   ]
  },
  {
   "cell_type": "code",
   "execution_count": null,
   "metadata": {},
   "outputs": [],
   "source": []
  },
  {
   "cell_type": "markdown",
   "metadata": {},
   "source": [
    "## Things To Keep In Mind\n",
    "\n",
    "You cannot use a list as a key. Keys must be immutable like **strings** and **numnbers**.\n",
    "\n",
    "A dictionary is _kind of_ like a [set](https://docs.python.org/3/tutorial/datastructures.html#sets) in that if you try to create multiple keys with the same value? It will only keep 1 key / value pair.\n",
    "\n",
    "The last one.\n",
    "\n",
    "Prior to 3.6 they were also unordered ... Rumor has it that [this was changed in 3.6 version](https://docs.python.org/3/whatsnew/3.6.html)! ;)\n",
    "\n",
    "## Built-In Methods\n",
    "\n",
    "Be sure to check out the structure of a **dictionary** [here](https://docs.python.org/3.3/library/stdtypes.html#dict)!\n",
    "\n",
    "When you utilize these documents, you provide yourself the ability to do more. \n",
    "\n",
    "How? \n",
    "\n",
    "Because you know what's already available and won't have to reinvent the wheel!"
   ]
  },
  {
   "cell_type": "markdown",
   "metadata": {},
   "source": [
    "## Dict Comprehensions\n",
    "\n",
    "Like list comprehensions, this provides you the ability to create dictionaries from some arbitrary (seemingly random) key and value expressions. For example:\n",
    "\n",
    "<div class=\"alert alert-success\">\n",
    "<b>Try this!</b>\n",
    "\n",
    "```python\n",
    "{x: x**2 for x in (2, 4, 6)}\n",
    "```\n",
    "</div>"
   ]
  },
  {
   "cell_type": "code",
   "execution_count": null,
   "metadata": {},
   "outputs": [],
   "source": []
  },
  {
   "cell_type": "markdown",
   "metadata": {},
   "source": [
    "## Add & Update\n",
    "\n",
    "Here are some ways with which you can interact with a dictionary.\n",
    "\n",
    "<div class=\"alert alert-success\">\n",
    "<b>Try this!</b>\n",
    "\n",
    "```python\n",
    "dict = {'Name': 'Zara', 'Age': 7, 'Class': 'First'}\n",
    "dict['Age'] = 8\t \t\t\t\t\t\t# update existing entry\n",
    "dict['School'] = \"DPS School\"\t\t\t# Add new entry\n",
    "print(\"dict['Age']: \", dict['Age']) \t#Prints value at key ‘Age’\n",
    "print(dict)\t\t\t\t\t\t\t\t# Prints complete dictionary\n",
    "print(dict.keys())   \t\t\t\t\t# Prints all the keys\n",
    "print(dict.values()) \t\t\t\t\t# Prints all the values!\n",
    "```\n",
    "</div>"
   ]
  },
  {
   "cell_type": "code",
   "execution_count": null,
   "metadata": {},
   "outputs": [],
   "source": []
  },
  {
   "cell_type": "code",
   "execution_count": null,
   "metadata": {},
   "outputs": [],
   "source": []
  },
  {
   "cell_type": "code",
   "execution_count": null,
   "metadata": {},
   "outputs": [],
   "source": []
  },
  {
   "cell_type": "code",
   "execution_count": null,
   "metadata": {},
   "outputs": [],
   "source": []
  },
  {
   "cell_type": "code",
   "execution_count": null,
   "metadata": {},
   "outputs": [],
   "source": []
  },
  {
   "cell_type": "markdown",
   "metadata": {},
   "source": [
    "## Deletion\n",
    "\n",
    "Here are some ways to remove an item from a dictionary, thank you [TutorialsPoint](http://www.tutorialspoint.com/python/python_dictionary.htm).\n",
    "\n",
    "<div class=\"alert alert-success\">\n",
    "<b>Try this!</b>\n",
    "\n",
    "```python\n",
    "temp_dict = {'Name': 'Zara', 'Age': 7, 'Class': 'First'}\n",
    "del temp_dict['Name']\t        # remove entry with key 'Name'\n",
    "temp_dict.pop(\"Age\")            # returns entry and removes from dictionary\n",
    "temp_dict.clear()\t\t\t\t# remove all entries in dict\n",
    "del temp_dict\t\t\t\t\t# removes dict from local scope (doesn’t actually delete)\n",
    "```\n",
    "</div>\n",
    "\n",
    "**QUESTION:**  What kind of [exception](https://docs.python.org/3/tutorial/errors.html) will be raised if you try to access your deleted dictionary?"
   ]
  },
  {
   "cell_type": "code",
   "execution_count": null,
   "metadata": {},
   "outputs": [],
   "source": []
  },
  {
   "cell_type": "code",
   "execution_count": null,
   "metadata": {},
   "outputs": [],
   "source": []
  },
  {
   "cell_type": "code",
   "execution_count": null,
   "metadata": {},
   "outputs": [],
   "source": []
  },
  {
   "cell_type": "code",
   "execution_count": null,
   "metadata": {},
   "outputs": [],
   "source": []
  },
  {
   "cell_type": "code",
   "execution_count": null,
   "metadata": {},
   "outputs": [],
   "source": []
  },
  {
   "cell_type": "markdown",
   "metadata": {},
   "source": [
    "## Iteration Over Dicts\n",
    "\n",
    "Can be iterated similar to a list, however prior to version 3.6 it would not keep the order - unless it was an [OrderedDict](https://docs.python.org/2/library/collections.html#collections.OrderedDict) datatype.\n",
    "\n",
    "<div class=\"alert alert-success\">\n",
    "<b>Try this!</b>\n",
    "\n",
    "```python\n",
    "phonebook = {'Sally': 8675309, 'Jane': 9745199}\n",
    "for name, number in phonebook.items():\n",
    "    print('You can call {} at {}'.format(name, number))\n",
    "```\n",
    "</div>"
   ]
  },
  {
   "cell_type": "code",
   "execution_count": null,
   "metadata": {},
   "outputs": [],
   "source": []
  }
 ],
 "metadata": {
  "kernelspec": {
   "display_name": "Python 3",
   "language": "python",
   "name": "python3"
  },
  "language_info": {
   "codemirror_mode": {
    "name": "ipython",
    "version": 3
   },
   "file_extension": ".py",
   "mimetype": "text/x-python",
   "name": "python",
   "nbconvert_exporter": "python",
   "pygments_lexer": "ipython3",
   "version": "3.6.6"
  }
 },
 "nbformat": 4,
 "nbformat_minor": 2
}
