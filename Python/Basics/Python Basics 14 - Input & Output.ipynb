{
 "cells": [
  {
   "cell_type": "markdown",
   "metadata": {},
   "source": [
    "Let's talk about using files in your code!\n",
    "\n",
    "There are basic methods and functions to manipulate files with. We'll cover the basics here.\n",
    "\n",
    "# Opening Files\n",
    "\n",
    "Before you can read or write to a file, you must first **open** it:  `open()`\n",
    "\n",
    "This will create a **file** object.\n",
    "\n",
    "```python\n",
    "file object = open(file_name [, access_mode][, buffering])\n",
    "```\n",
    "\n",
    "**file_name**\n",
    "A string value that contains the name of the file that you want to access. (It can include the full path on your local system as well.)\n",
    "\n",
    "**access_mode**\n",
    "Determines the mode with which to open the file with. This is an _optional_ parameter, and the default access mode is read (`r`).\n",
    "\n",
    "| Modes | Description |\n",
    "|----------------- | --------------------------------------------- |\n",
    "| r | Opens a file for **reading only**. The file pointer is placed at the beginning of the file. _(default mode)_ |\n",
    "| r+ | Opens a file for **both reading & writing**. File pointer is placed at the beginning of the file. |\n",
    "| w | Opens a file for **writing only** ... Ovewrwrites if the file exists, otherwise creates a new file. |\n",
    "| w+ | Opens a file for **both writing & reading** ... Ovewrwrites if the file exists, otherwise creates a new file for writing and reading. |\n",
    "| a | Opens a file for **appending** with the pointer at the end of the file, if it exists. If file does not exist, it creates a new file for writing. |\n",
    "| a+ | Opens a file for **both appending and reading** with the pointer at the end, if the file exists. If file does not exist, a new one is created for reading/writing. |\n",
    "\n",
    "**buffering**\n",
    "- If set to 0, then no buffering takes place.\n",
    "- If set to 1, line buffering is performed while accessing a file.\n",
    "- If > 1, buffering is performed with the indicated buffering size.\n",
    "- If < 0, buffer size is the system default."
   ]
  },
  {
   "cell_type": "markdown",
   "metadata": {},
   "source": [
    "# Closing Files\n",
    "\n",
    "`fileObject.close()`\n",
    "\n",
    "Ensure that before you close your file that you have saved to it what you need ... because when you call it? Here's what happens:\n",
    "\n",
    "- It flushes any unwritten information.\n",
    "- It closes the file object (no more reading/writing can be done).\n",
    "- It is best practice (and efficient coding) to use the `close()` method to close a file.\n",
    "\n",
    "[This Stack Overflow response](https://stackoverflow.com/a/17459915/10474024) provides some great additional details.\n",
    "\n",
    "## Examples\n",
    "\n",
    "Here are a couple of examples.\n",
    "\n",
    "### Example - Vulnerable Code\n",
    "\n",
    "Can you tell why this is \"vulnerable\"?\n",
    "\n",
    "```python\n",
    "fo = open('foo.txt', 'wb')\n",
    "print(\"Name of the file:  {}\".format(fo.name))\n",
    "fo.close()\n",
    "```"
   ]
  },
  {
   "cell_type": "code",
   "execution_count": null,
   "metadata": {},
   "outputs": [],
   "source": []
  },
  {
   "cell_type": "markdown",
   "metadata": {},
   "source": [
    "### Example - Best Practice\n",
    "\n",
    "Why do you think this is best practice? (Hint is in the Stack OVerflow link above!)\n",
    "\n",
    "```python\n",
    "with open('foo.txt', 'w+') as file_obj:\n",
    "    file_obj.write('some stuff')\n",
    "```"
   ]
  },
  {
   "cell_type": "code",
   "execution_count": null,
   "metadata": {},
   "outputs": [],
   "source": []
  },
  {
   "cell_type": "markdown",
   "metadata": {},
   "source": [
    "## Additional Best Practice Suggestions\n",
    "\n",
    "If you're not using the **with** statement, you should be using try/except/finally block.\n",
    "\n",
    "The **close()** method should be in the finally block of your try-except."
   ]
  },
  {
   "cell_type": "markdown",
   "metadata": {},
   "source": [
    "# Reading Files\n",
    "\n",
    "`fileobject.read([count])`\n",
    "\n",
    "This function of the file object allows you to read a string from an open file. There is an optional byte **count** where if empty usually reads until the end of the file.\n",
    "\n",
    "```python\n",
    "fo = open('foo.txt', 'r+')\n",
    "str_info = fo.read(10)\n",
    "print(\"Read string is:  {}\".format(str_info))\n",
    "fo.close()\n",
    "```"
   ]
  },
  {
   "cell_type": "code",
   "execution_count": null,
   "metadata": {},
   "outputs": [],
   "source": []
  },
  {
   "cell_type": "markdown",
   "metadata": {},
   "source": [
    "# Writing To Files\n",
    "\n",
    "`fileObject.write(some_str)`\n",
    "\n",
    "This **write()** function writes any string to an open file.\n",
    "\n",
    "It can be binary OR text - it just depends on how it's opened:\n",
    "- `rb` for binary\n",
    "- `rt` for text\n",
    "Keep in mind that this does NOT add a new line character. You need to add it in.\n",
    "\n",
    "```python\n",
    "fo = open('foo.txt', 'w')\n",
    "fo.write(\"Python is a great language.\\nYeah it's great!\\n\")\n",
    "fo.close()\n",
    "```"
   ]
  },
  {
   "cell_type": "code",
   "execution_count": null,
   "metadata": {},
   "outputs": [],
   "source": []
  },
  {
   "cell_type": "markdown",
   "metadata": {},
   "source": [
    "# File Positions\n",
    "\n",
    "When you open a file, you have the ability to determine and/or move to different locations in your file.\n",
    "\n",
    "`tell()` - this provides the current position in the file. The next read/write will occur at that many bytes from the beginning of your file.\n",
    "\n",
    "`seek(offset[, from])` - this changes the current file position.\n",
    "\n",
    "**offset** is an argument that indicates the number of bytes to be moved\n",
    "\n",
    "\n",
    "**from** is an argument that specifies the reference position from where the bytes are to be moved\n",
    "\n",
    "\n",
    " - If **from** is set to 0, then the reference position is at the beginning of the file.\n",
    " - If **from** is set to 1, then it uses the current position as the reference point.\n",
    " - If **from** is set to 2, then the end of the file is the reference point.\n",
    "\n",
    "## Example\n",
    "\n",
    "```python\n",
    "# open a file\n",
    "fo = open('foo.txt', 'r+')\n",
    "temp_str = fo.read(10)\n",
    "print(\"Read string is:  {}\".format(temp_str))\n",
    "\n",
    "# check current position\n",
    "pos = fo.tell()\n",
    "print('Current file position:  {}'.format(pos))\n",
    "\n",
    "# Reposition pointer at the beginning again\n",
    "pos = fo.seek(0, 0)\n",
    "temp_str = fo.read(10)\n",
    "print(\"Again read string is:  {}\".format(temp_str))\n",
    "# close opened file\n",
    "fo.close()\n",
    "```\n",
    "\n",
    "What would be the output if the original code was below?\n",
    "\n",
    "```python\n",
    "fo = open('foo.txt', 'w')\n",
    "fo.write(\"Python is a programming langauge.\\nYeah it's great!\\n\")\n",
    "fo.close()\n",
    "```"
   ]
  },
  {
   "cell_type": "code",
   "execution_count": null,
   "metadata": {},
   "outputs": [],
   "source": []
  },
  {
   "cell_type": "markdown",
   "metadata": {},
   "source": [
    "# Renaming & Deleting Files\n",
    "\n",
    "In order to do this, you need to import the **os** module. This module provides methods to perform file processing operations.\n",
    "\n",
    "## Renaming Files\n",
    "\n",
    "`rename()` requires two arguments:  `os.rename(curr_file_name, new_file_name)`\n",
    "\n",
    "```python\n",
    "import os\n",
    "os.rename('test1.txt', 'test2.txt')\n",
    "```\n",
    "\n",
    "## Removing Files\n",
    "\n",
    "`remove()` deletes files by supplying the name to be deleted:  `os.remove(file_name)`\n",
    "\n",
    "```python\n",
    "import os\n",
    "os.remove('text2.txt')\n",
    "```"
   ]
  },
  {
   "cell_type": "markdown",
   "metadata": {},
   "source": [
    "# Additional Notes & Resources\n",
    "\n",
    "Avoid using global variables - only use variables in the functions of the module.\n",
    "\n",
    "Remember - using `import *` can cause of lot of issues, which is why it is not suggested."
   ]
  }
 ],
 "metadata": {
  "kernelspec": {
   "display_name": "Python 3",
   "language": "python",
   "name": "python3"
  },
  "language_info": {
   "codemirror_mode": {
    "name": "ipython",
    "version": 3
   },
   "file_extension": ".py",
   "mimetype": "text/x-python",
   "name": "python",
   "nbconvert_exporter": "python",
   "pygments_lexer": "ipython3",
   "version": "3.6.6"
  }
 },
 "nbformat": 4,
 "nbformat_minor": 2
}
