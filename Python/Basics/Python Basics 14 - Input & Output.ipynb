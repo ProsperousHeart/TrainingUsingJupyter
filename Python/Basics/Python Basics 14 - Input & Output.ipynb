{
 "cells": [
  {
   "cell_type": "markdown",
   "metadata": {},
   "source": [
    "Let's talk about using files in your code!\n",
    "\n",
    "There are basic methods and functions to manipulate files with. We'll cover the basics here.\n",
    "\n",
    "# Opening Files\n",
    "\n",
    "Before you can read or write to a file, you must first **open** it:  `open()`\n",
    "\n",
    "This will create a **file** object.\n",
    "\n",
    "```python\n",
    "file object = open(file_name [, access_mode][, buffering])\n",
    "```\n",
    "\n",
    "**file_name**\n",
    "A string value that contains the name of the file that you want to access. (It can include the full path on your local system as well.)\n",
    "\n",
    "**access_mode**\n",
    "Determines the mode with which to open the file with. This is an _optional_ parameter, and the default access mode is read (`r`).\n",
    "\n",
    "| Modes | Description |\n",
    "|----------------- | --------------------------------------------- |\n",
    "| r | Opens a file for **reading only**. The file pointer is placed at the beginning of the file. _(default mode)_ |\n",
    "| r+ | Opens a file for **both reading & writing**. File pointer is placed at the beginning of the file. |\n",
    "| w | Opens a file for **writing only** ... Ovewrwrites if the file exists, otherwise creates a new file. |\n",
    "| w+ | Opens a file for **both writing & reading** ... Ovewrwrites if the file exists, otherwise creates a new file for writing and reading. |\n",
    "| a | Opens a file for **appending** with the pointer at the end of the file, if it exists. If file does not exist, it creates a new file for writing. |\n",
    "| a+ | Opens a file for **both appending and reading** with the pointer at the end, if the file exists. If file does not exist, a new one is created for reading/writing. |\n",
    "\n",
    "**buffering**\n",
    "- If set to 0, then no buffering takes place.\n",
    "- If set to 1, line buffering is performed while accessing a file.\n",
    "- If > 1, buffering is performed with the indicated buffering size.\n",
    "- If < 0, buffer size is the system default."
   ]
  },
  {
   "cell_type": "markdown",
   "metadata": {},
   "source": [
    "# Closing Files\n",
    "\n",
    "`fileObject.close()`\n",
    "\n",
    "Ensure that before you close your file that you have saved to it what you need ... because when you call it? Here's what happens:\n",
    "\n",
    "- It flushes any unwritten information.\n",
    "- It closes the file object (no more reading/writing can be done).\n",
    "- It is best practice (and efficient coding) to use the `close()` method to close a file.\n",
    "\n",
    "[This Stack Overflow response](https://stackoverflow.com/a/17459915/10474024) provides some great additional details.\n",
    "\n",
    "## Examples\n",
    "\n",
    "Here are a couple of examples.\n",
    "\n",
    "### Example - Vulnerable Code\n",
    "\n",
    "Can you tell why this is \"vulnerable\"?\n",
    "\n",
    "```python\n",
    "fo = open('foo.txt', 'wb')\n",
    "print(\"Name of the file:  {}\".format(fo.name))\n",
    "fo.close()\n",
    "```\n",
    "\n",
    "### Example - Best Practice\n",
    "\n",
    "Why do you think this is best practice? (Hint is in the Stack OVerflow link above!)\n",
    "\n",
    "```python\n",
    "with open('foo.txt', 'wb') as file_obj:\n",
    "    file_obj.write('some stuff')\n",
    "```\n",
    "\n",
    "## Additional Best Practice Suggestions\n",
    "\n",
    "If you're not using the **with** statement, you should be using try/except/finally block.\n",
    "\n",
    "The **close()** method should be in the finally block of your try-except."
   ]
  },
  {
   "cell_type": "markdown",
   "metadata": {},
   "source": [
    "# Reading Files"
   ]
  },
  {
   "cell_type": "markdown",
   "metadata": {},
   "source": [
    "# Additional Notes & Resources\n",
    "\n",
    "Avoid using global variables - only use variables in the functions of the module.\n",
    "\n",
    "Remember - using `import *` can cause of lot of issues, which is why it is not suggested."
   ]
  },
  {
   "cell_type": "markdown",
   "metadata": {},
   "source": [
    "### Possible Type Coversions\n",
    "\n",
    "| Function | Description |\n",
    "|----------------- | --------------------------------------------- |\n",
    "| int(x, [, base]) | converts x to an INT - base specifies base if x is a string |\n",
    "| float(x) | converts x to a floating-point number |\n",
    "| complex(real [, imag]) | creates a complex number |\n",
    "| str(x) | Converts object x to a string representation |\n",
    "| repr(x) | Converts object x to an expression string |\n",
    "| tuple(s) | Converts s to a tuple |\n",
    "| list(s) | Converts s to a list |\n",
    "| set(s) | Converts s to a set |\n",
    "| dict(d) | Creates a dictionary. d must be a sequence of (key,value) tuples |\n",
    "| frozenset(s) | Converts s to a frozen set |\n",
    "| chr(x) | Converts an integer to a character |\n",
    "| ord(x) | Converts a single character to its integer value |\n",
    "| hex(x) | Converts an integer to a hexadecimal string |\n",
    "| oct(x) | Converts an integer to an octal string |"
   ]
  },
  {
   "cell_type": "code",
   "execution_count": null,
   "metadata": {},
   "outputs": [],
   "source": []
  }
 ],
 "metadata": {
  "kernelspec": {
   "display_name": "Python 3",
   "language": "python",
   "name": "python3"
  },
  "language_info": {
   "codemirror_mode": {
    "name": "ipython",
    "version": 3
   },
   "file_extension": ".py",
   "mimetype": "text/x-python",
   "name": "python",
   "nbconvert_exporter": "python",
   "pygments_lexer": "ipython3",
   "version": "3.6.6"
  }
 },
 "nbformat": 4,
 "nbformat_minor": 2
}
