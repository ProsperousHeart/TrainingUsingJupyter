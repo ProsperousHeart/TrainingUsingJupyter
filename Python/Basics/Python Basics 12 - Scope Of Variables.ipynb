{
 "cells": [
  {
   "cell_type": "markdown",
   "metadata": {},
   "source": [
    "<a href='https://www.learntocodeonline.com/'>![Learn To Code Online](../../IMGs/learn-to-code-online.png)</a>"
   ]
  },
  {
   "cell_type": "markdown",
   "metadata": {},
   "source": [
    "# What Is Scope?\n",
    "\n",
    "Scope determines where you can access a variable or identifier. Dpeending upon when and where the identifier was instantiated (created) you may not have the ability to access it when you call it.\n",
    "\n",
    "When you call a function for example, the variables brought inside are brought into scope of that function. (Also known as it's local namespace.) Python then makes an educated guess on whether they are local or global.\n",
    "\n",
    "*__NOTE:__ Unless explicitly stated, a value in a function is assumed to be local*\n",
    "\n",
    "```python\n",
    "money = 2000\n",
    "def AddMoney():\n",
    "    # uncomment the next line to fix the code\n",
    "    # global money\n",
    "    money = money + 1\n",
    "    # QUESTION:  what would happen if you passed it in?\n",
    "\n",
    "print(money)\n",
    "AddMoney()\n",
    "print(Money)\n",
    "```"
   ]
  },
  {
   "cell_type": "code",
   "execution_count": null,
   "metadata": {},
   "outputs": [],
   "source": []
  },
  {
   "cell_type": "markdown",
   "metadata": {},
   "source": [
    "# Global vs Local Variables\n",
    "\n",
    "1. **local** - variables defined inside a function\n",
    "\n",
    "These can only be accessed from within the function they are declared.\n",
    "\n",
    "2. **global** - variables defined outside a function\n",
    "\n",
    "These can be accessed throughout your program by ALL functions.\n",
    "\n",
    "## Example\n",
    "\n",
    "How would you fix this program?\n",
    "\n",
    "```python\n",
    "total = 0      # this is a default global variable\n",
    "\n",
    "def sum(arg1, arg2):\n",
    "    \"\"\"Add both parameters and return calculation.\"\"\"\n",
    "    total = arg1 + arg2\n",
    "    print('Inside total:  {}'.format(total))\n",
    "    return total\n",
    "\n",
    "sum(10, 20)\n",
    "print('Outside total:  {}'.format(total))\n",
    "```"
   ]
  },
  {
   "cell_type": "code",
   "execution_count": null,
   "metadata": {},
   "outputs": [],
   "source": []
  },
  {
   "cell_type": "markdown",
   "metadata": {},
   "source": [
    "# Additional Notes & Resources\n",
    "\n",
    "Some key notes to keep in mind regarding global variables ...\n",
    "\n",
    "1. Using the **global** keyword should not be used, as functions are intended to be \"black boxes\" that interact with the \"outside world\" through inputs and outputs.\n",
    "\n",
    "2. Globals should **NEVER** change!\n",
    "\n",
    "3. Changing a global state makes it impossible to unit test code.\n",
    "\n",
    "4. If you change your globals, you can inadvertently create bugs in your code as well as incorrect calculations."
   ]
  },
  {
   "cell_type": "code",
   "execution_count": null,
   "metadata": {},
   "outputs": [],
   "source": []
  }
 ],
 "metadata": {
  "kernelspec": {
   "display_name": "Python 3",
   "language": "python",
   "name": "python3"
  },
  "language_info": {
   "codemirror_mode": {
    "name": "ipython",
    "version": 3
   },
   "file_extension": ".py",
   "mimetype": "text/x-python",
   "name": "python",
   "nbconvert_exporter": "python",
   "pygments_lexer": "ipython3",
   "version": "3.6.6"
  }
 },
 "nbformat": 4,
 "nbformat_minor": 2
}
