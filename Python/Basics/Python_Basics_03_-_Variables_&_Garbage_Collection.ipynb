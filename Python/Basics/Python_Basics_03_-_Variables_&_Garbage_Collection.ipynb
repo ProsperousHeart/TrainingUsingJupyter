{
 "cells": [
  {
   "cell_type": "markdown",
   "metadata": {},
   "source": [
    "<a href='https://www.learntocodeonline.com/'>![Learn To Code Online](../../IMGs/learn-to-code-online.png)</a>"
   ]
  },
  {
   "cell_type": "markdown",
   "metadata": {},
   "source": [
    "# What Is A Variable?\n",
    "\n",
    "In school math, a **variable** was usually a single character that represents some number.\n",
    "\n",
    "In programming, it refers to reserved memory locations to store values.\n",
    "\n",
    "They are created by using assignment statements, as mentioned in *Python Basics 02*.\n",
    "\n",
    "As a recap...\n",
    "- Left side of the assignment variable `=` is generally considered the variable, but more closely resembles the label of the variable\n",
    "- Right side of the `=` is the data to store in a memory location\n",
    "\n",
    "You as the propgrammer are who gives meaning to said variable.\n",
    "\n",
    "## What Is A Variable Type?\n",
    "\n",
    "A *variable type* refers to the **type** of data being stored.\n",
    "\n",
    "Here are some of the variable types:\n",
    "- integer\n",
    "- float\n",
    "- string\n",
    "- list\n",
    "- tuple\n",
    "- dictionary"
   ]
  },
  {
   "cell_type": "markdown",
   "metadata": {},
   "source": [
    "# Variable Creation Tips\n",
    "\n",
    "## Make It Meaningful\n",
    "\n",
    "Make sure that the variable name (also known as a label) is meaningful - that it indicates what it is supposed to do.\n",
    "\n",
    "**Bad Variable:**\n",
    "\n",
    "`a = 1`\n",
    "\n",
    "**Good Variable:**\n",
    "\n",
    "`num_dogs = 1`\n",
    "\n",
    "## Make It Mneumonic (Memorable)\n",
    "\n",
    "This is helpful for you to keep things straight, as well as anyone coming after you to work on the program.\n",
    "\n",
    "## Casing\n",
    "\n",
    "Be sure that you ALWAYS start with a lower case letter. According to PEP8, upper case indicates you are referring to a Class.\n",
    "\n",
    "`NumApples` is OK if this is the name of a class.\n",
    "\n",
    "## Alphanumeric ONLY\n",
    "\n",
    "Anything else causes an issue. This is usually because other characters like `!` for example mean something else, or are not understood by Python."
   ]
  },
  {
   "cell_type": "code",
   "execution_count": 1,
   "metadata": {},
   "outputs": [
    {
     "ename": "SyntaxError",
     "evalue": "invalid syntax (<ipython-input-1-94adcbb3fd93>, line 1)",
     "output_type": "error",
     "traceback": [
      "\u001b[1;36m  File \u001b[1;32m\"<ipython-input-1-94adcbb3fd93>\"\u001b[1;36m, line \u001b[1;32m1\u001b[0m\n\u001b[1;33m    a!jkl = 6\u001b[0m\n\u001b[1;37m     ^\u001b[0m\n\u001b[1;31mSyntaxError\u001b[0m\u001b[1;31m:\u001b[0m invalid syntax\n"
     ]
    }
   ],
   "source": [
    "a!jkl = 6"
   ]
  },
  {
   "cell_type": "markdown",
   "metadata": {},
   "source": [
    "## Underscores vs Title Casing\n",
    "\n",
    "Let's say you wanted to create a variable that refers to a number of apples you have.\n",
    "\n",
    "`numApples` and `num_apples` and `num_Apples` are all acceptable variables.\n",
    "\n",
    "There may be a PEP8 suggestion on best practices, but it would be in your favor to know what's \"best practice\" for your company, if they have one. If not, I suggest following PEP8.\n",
    "\n",
    "## Variables Are Case Sensitive!\n",
    "\n",
    "This is pretty self explanatory. Be sure you use the same case ..."
   ]
  },
  {
   "cell_type": "code",
   "execution_count": 2,
   "metadata": {},
   "outputs": [
    {
     "data": {
      "text/plain": [
       "1"
      ]
     },
     "execution_count": 2,
     "metadata": {},
     "output_type": "execute_result"
    }
   ],
   "source": [
    "varOne = 1\n",
    "varOne"
   ]
  },
  {
   "cell_type": "code",
   "execution_count": 3,
   "metadata": {},
   "outputs": [
    {
     "ename": "NameError",
     "evalue": "name 'varone' is not defined",
     "output_type": "error",
     "traceback": [
      "\u001b[1;31m---------------------------------------------------------------------------\u001b[0m",
      "\u001b[1;31mNameError\u001b[0m                                 Traceback (most recent call last)",
      "\u001b[1;32m<ipython-input-3-a9b4279d64c0>\u001b[0m in \u001b[0;36m<module>\u001b[1;34m()\u001b[0m\n\u001b[1;32m----> 1\u001b[1;33m \u001b[0mvarone\u001b[0m\u001b[1;33m\u001b[0m\u001b[0m\n\u001b[0m",
      "\u001b[1;31mNameError\u001b[0m: name 'varone' is not defined"
     ]
    }
   ],
   "source": [
    "varone"
   ]
  },
  {
   "cell_type": "markdown",
   "metadata": {},
   "source": [
    "# Garbage Collection\n",
    "\n",
    "As mentioned earlier, variables are pieces of memory that store particular data.\n",
    "\n",
    "While python has automatic garbage collection (meaning it deletes data it no longer needs) you will want to be aware that if you know FOR A FACT that something isn't needed after you pass it to a function? (*A function is a piece of code that does some kind of computation or action.*)\n",
    "\n",
    "Use `del` to remove the pre-created variable."
   ]
  },
  {
   "cell_type": "code",
   "execution_count": 4,
   "metadata": {},
   "outputs": [],
   "source": [
    "del varOne"
   ]
  },
  {
   "cell_type": "code",
   "execution_count": 5,
   "metadata": {},
   "outputs": [
    {
     "ename": "NameError",
     "evalue": "name 'varOne' is not defined",
     "output_type": "error",
     "traceback": [
      "\u001b[1;31m---------------------------------------------------------------------------\u001b[0m",
      "\u001b[1;31mNameError\u001b[0m                                 Traceback (most recent call last)",
      "\u001b[1;32m<ipython-input-5-d5abdf563296>\u001b[0m in \u001b[0;36m<module>\u001b[1;34m()\u001b[0m\n\u001b[1;32m----> 1\u001b[1;33m \u001b[0mvarOne\u001b[0m\u001b[1;33m\u001b[0m\u001b[0m\n\u001b[0m",
      "\u001b[1;31mNameError\u001b[0m: name 'varOne' is not defined"
     ]
    }
   ],
   "source": [
    "varOne"
   ]
  },
  {
   "cell_type": "code",
   "execution_count": null,
   "metadata": {},
   "outputs": [],
   "source": []
  }
 ],
 "metadata": {
  "kernelspec": {
   "display_name": "Python 3",
   "language": "python",
   "name": "python3"
  },
  "language_info": {
   "codemirror_mode": {
    "name": "ipython",
    "version": 3
   },
   "file_extension": ".py",
   "mimetype": "text/x-python",
   "name": "python",
   "nbconvert_exporter": "python",
   "pygments_lexer": "ipython3",
   "version": "3.6.6"
  }
 },
 "nbformat": 4,
 "nbformat_minor": 2
}
