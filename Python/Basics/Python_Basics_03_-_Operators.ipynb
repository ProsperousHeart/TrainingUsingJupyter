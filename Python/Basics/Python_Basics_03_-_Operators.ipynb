{
 "cells": [
  {
   "cell_type": "markdown",
   "metadata": {},
   "source": [
    "<a href='https://www.learntocodeonline.com/'><img src='https://github.com/ProsperousHeart/TrainingUsingJupyter/blob/master/IMGs/learn-to-code-online.png?raw=true'></a>"
   ]
  },
  {
   "cell_type": "markdown",
   "metadata": {},
   "source": [
    "# What Are Operators?\n",
    "\n",
    "**Operators** are constructs which can manipulate the value of operands.\n",
    "\n",
    "In other words ...\n",
    "\n",
    "If this math example:  `4 + 5 = 9`\n",
    "\n",
    "The **4** and **5** are **operands** and the **+** is an **operator**.\n",
    "\n",
    "## Types Of Operators\n",
    "\n",
    "There are several types:\n",
    "\n",
    "- arithmetic\n",
    "- comparison (relational)\n",
    "- [assignment](Python_Basics_02_-_Syntax_And_Basic_Statements.ipynb#Assignment-Statements)\n",
    "- logical\n",
    "- bitwise\n",
    "- membership\n",
    "- identity"
   ]
  },
  {
   "cell_type": "markdown",
   "metadata": {},
   "source": [
    "# Arithmetic Operators\n",
    "\n",
    "<img src='https://github.com/ProsperousHeart/TrainingUsingJupyter/blob/master/IMGs/basics-operators-arithmetic.png?raw=true'></img>"
   ]
  },
  {
   "cell_type": "markdown",
   "metadata": {},
   "source": [
    "# Relational vs Assignment Operators\n",
    "\n",
    "[Conditional operators](http://www.learnpython.org/en/Conditions) (or comparison operators) are evaluated expressions that render **boolean** (true or false) values.\n",
    "\n",
    "For example ...\n",
    "`=` is an assignment operator, while `==` or `!=` are comparison operators.\n",
    "\n",
    "## Comparison (Relational) Operators\n",
    "\n",
    "<img src='https://github.com/ProsperousHeart/TrainingUsingJupyter/blob/master/IMGs/basics-operators-comparison.png?raw=true'></img>\n",
    "\n",
    "\n",
    "## Assignment Operators\n",
    "\n",
    "<img src='https://github.com/ProsperousHeart/TrainingUsingJupyter/blob/master/IMGs/basics-operators-assignment.png?raw=true'></img>"
   ]
  },
  {
   "attachments": {},
   "cell_type": "markdown",
   "metadata": {},
   "source": [
    "# Bitwise Operators\n",
    "\n",
    "These operators work on the bits (1s and 0s) by performing bit by bit operations.\n",
    "\n",
    "**bin()** is a built-in function to obtain binary representation of a number!\n",
    "\n",
    "<img src='https://github.com/ProsperousHeart/TrainingUsingJupyter/blob/master/IMGs/basics-operators-bitwise.png?raw=true'></img>\n",
    "\n",
    "<div class=\"alert alert-success\">\n",
    "<b>Try this!</b>\n",
    "\n",
    "```python\n",
    "temp1 = 60    # 00111100\n",
    "print(bin(temp1))\n",
    "temp2 = 13    # 00001101\n",
    "print(bin(temp2))\n",
    "print(bin(temp1&temp2))\n",
    "print(bin(temp1|temp2))\n",
    "print(bin(temp1^temp2))\n",
    "print(bin(~temp1))\n",
    "print(bin(temp1))\n",
    "print(bin(temp1<<4))\n",
    "print(bin(temp2))\n",
    "print(bin(temp2>>1))\n",
    "```\n",
    "</div>"
   ]
  },
  {
   "cell_type": "code",
   "execution_count": null,
   "metadata": {},
   "outputs": [],
   "source": []
  },
  {
   "cell_type": "markdown",
   "metadata": {},
   "source": [
    "# Logical Operators\n",
    "\n"
   ]
  }
 ],
 "metadata": {
  "kernelspec": {
   "display_name": "Python 3",
   "language": "python",
   "name": "python3"
  },
  "language_info": {
   "codemirror_mode": {
    "name": "ipython",
    "version": 3
   },
   "file_extension": ".py",
   "mimetype": "text/x-python",
   "name": "python",
   "nbconvert_exporter": "python",
   "pygments_lexer": "ipython3",
   "version": "3.6.6"
  }
 },
 "nbformat": 4,
 "nbformat_minor": 2
}
