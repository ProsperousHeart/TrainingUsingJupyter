{
 "cells": [
  {
   "cell_type": "markdown",
   "metadata": {},
   "source": [
    "<a href='https://www.learntocodeonline.com/'><img src='https://github.com/ProsperousHeart/TrainingUsingJupyter/blob/master/IMGs/learn-to-code-online.png?raw=true'></a>"
   ]
  },
  {
   "cell_type": "markdown",
   "metadata": {},
   "source": [
    "# What Are Operators?\n",
    "\n",
    "**Operators** are constructs which can manipulate the value of operands.\n",
    "\n",
    "In other words ...\n",
    "\n",
    "If this math example:  `4 + 5 = 9`\n",
    "\n",
    "The **4** and **5** are **operands** and the **+** is an **operator**.\n",
    "\n",
    "## Types Of Operators\n",
    "\n",
    "There are several types:\n",
    "\n",
    "- arithmetic\n",
    "- comparison (relational)\n",
    "- [assignment](Python_Basics_02_-_Syntax_And_Basic_Statements.ipynb#Assignment-Statements)\n",
    "- logical\n",
    "- bitwise\n",
    "- membership\n",
    "- identity"
   ]
  },
  {
   "cell_type": "markdown",
   "metadata": {},
   "source": [
    "# Arithmetic Operators\n",
    "\n",
    "<img src='https://github.com/ProsperousHeart/TrainingUsingJupyter/blob/master/IMGs/basics-operators-arithmetic.png?raw=true'></img>"
   ]
  },
  {
   "cell_type": "markdown",
   "metadata": {},
   "source": [
    "# Relational vs Assignment Operators\n",
    "\n",
    "[Conditional operators](http://www.learnpython.org/en/Conditions) (or comparison operators) are evaluated expressions that render **boolean** (true or false) values.\n",
    "\n",
    "For example ...\n",
    "`=` is an assignment operator, while `==` or `!=` are comparison operators.\n",
    "\n",
    "## Comparison (Relational) Operators\n",
    "\n",
    "<img src='https://github.com/ProsperousHeart/TrainingUsingJupyter/blob/master/IMGs/basics-operators-comparison.png?raw=true'></img>\n",
    "\n",
    "\n",
    "## Assignment Operators\n",
    "\n",
    "<img src='https://github.com/ProsperousHeart/TrainingUsingJupyter/blob/master/IMGs/basics-operators-assignment.png?raw=true'></img>"
   ]
  },
  {
   "cell_type": "markdown",
   "metadata": {},
   "source": [
    "# Bitwise Operators\n",
    "\n",
    "These operators work on the bits (1s and 0s) by performing bit by bit operations.\n",
    "\n",
    "**bin()** is a built-in function to obtain binary representation of a number!\n",
    "\n",
    "<img src='https://github.com/ProsperousHeart/TrainingUsingJupyter/blob/master/IMGs/basics-operators-bitwise.png?raw=true'></img>\n",
    "\n",
    "<div class=\"alert alert-success\">\n",
    "<b>Try this!</b>\n",
    "\n",
    "```python\n",
    "temp1 = 60    # 00111100\n",
    "print(bin(temp1))\n",
    "temp2 = 13    # 00001101\n",
    "print(bin(temp2))\n",
    "print(bin(temp1&temp2))\n",
    "print(bin(temp1|temp2))\n",
    "print(bin(temp1^temp2))\n",
    "print(bin(~temp1))\n",
    "print(bin(temp1))\n",
    "print(bin(temp1<<4))\n",
    "print(bin(temp2))\n",
    "print(bin(temp2>>1))\n",
    "```\n",
    "</div>"
   ]
  },
  {
   "cell_type": "code",
   "execution_count": null,
   "metadata": {},
   "outputs": [],
   "source": []
  },
  {
   "cell_type": "markdown",
   "metadata": {},
   "source": [
    "# Logical Operators\n",
    "\n",
    "**Logical operators** compare the evaluation of 2 expressions and return a **True** or **False** boolean object.\n",
    "\n",
    "<img src='https://github.com/ProsperousHeart/TrainingUsingJupyter/blob/master/IMGs/basics-operators-logical.png?raw=true'></img>"
   ]
  },
  {
   "cell_type": "code",
   "execution_count": null,
   "metadata": {},
   "outputs": [],
   "source": []
  },
  {
   "cell_type": "markdown",
   "metadata": {},
   "source": [
    "# Membership Operators\n",
    "\n",
    "**[Membership operators](http://www.tutorialspoint.com/python3/membership_operators_example.htm)** test for membership in a sequence such as in:\n",
    "- strings\n",
    "- lists\n",
    "- tuples\n",
    "\n",
    "Python membership operators test if some element is a member of a sequence (such as a list, string, set, etc). There are only 2 ways to test for membership:\n",
    "\n",
    "- `x in y`\n",
    "- `x not in y`\n",
    "\n",
    "<img src='https://github.com/ProsperousHeart/TrainingUsingJupyter/blob/master/IMGs/basics-operators-membership.png?raw=true'></img>\n",
    "\n",
    "<div class=\"alert alert-success\">\n",
    "<b>Try this!</b>\n",
    "\n",
    "```python\n",
    "temp1 = 'ab'\n",
    "temp2 = 'ce'\n",
    "temp_str = 'abcde'\n",
    "print('temp1 in temp_str:  {}'.format(temp1 in temp_str))\n",
    "print('temp2 in temp_str:  {}'.format(temp2 in temp_str))\n",
    "```\n",
    "</div>"
   ]
  },
  {
   "cell_type": "code",
   "execution_count": null,
   "metadata": {},
   "outputs": [],
   "source": []
  },
  {
   "cell_type": "markdown",
   "metadata": {},
   "source": [
    "# Identity Operators\n",
    "\n",
    "**[Identity operators](http://www.tutorialspoint.com/python3/identity_operators_example.htm)** compare memory locations of two objects.\n",
    "\n",
    "The data might be the same, but is the **memory location**?\n",
    "\n",
    "<img src='https://github.com/ProsperousHeart/TrainingUsingJupyter/blob/master/IMGs/basics-operators-identity.png?raw=true'></img>\n",
    "\n",
    "**NOTE:**  This should really only be used for comparing something to None and thus NEVER used to compare one data set to another. (That's what [comparison operators](#Comparison-(Relational)-Operators) are used for.)"
   ]
  },
  {
   "cell_type": "code",
   "execution_count": null,
   "metadata": {},
   "outputs": [],
   "source": []
  },
  {
   "cell_type": "markdown",
   "metadata": {},
   "source": [
    "# Operator Precedence\n",
    "\n",
    "<img src='https://github.com/ProsperousHeart/TrainingUsingJupyter/blob/master/IMGs/basics-operators-precedence.png?raw=true'></img>"
   ]
  },
  {
   "cell_type": "code",
   "execution_count": null,
   "metadata": {},
   "outputs": [],
   "source": []
  }
 ],
 "metadata": {
  "kernelspec": {
   "display_name": "Python 3",
   "language": "python",
   "name": "python3"
  },
  "language_info": {
   "codemirror_mode": {
    "name": "ipython",
    "version": 3
   },
   "file_extension": ".py",
   "mimetype": "text/x-python",
   "name": "python",
   "nbconvert_exporter": "python",
   "pygments_lexer": "ipython3",
   "version": "3.6.6"
  }
 },
 "nbformat": 4,
 "nbformat_minor": 2
}
