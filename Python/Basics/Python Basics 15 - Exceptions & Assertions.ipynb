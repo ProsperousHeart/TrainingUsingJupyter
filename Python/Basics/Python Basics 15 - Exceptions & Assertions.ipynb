{
 "cells": [
  {
   "cell_type": "markdown",
   "metadata": {},
   "source": [
    "# What Is An Exception?\n",
    "\n",
    "**Exceptions** are events that disrupt the normal flow of a program's instructions. It is basically a situation that Python cannot cope with. For example:  expecting one kind of input and it being different.\n",
    "\n",
    "An exception is an object that represents an error. When this object is raised, it not handled it will immediately terminate the program.\n",
    "\n",
    "When used properly, it allows you to perform better troubleshooting.\n",
    "(In Java, it is known as a try-catch block.)"
   ]
  },
  {
   "cell_type": "markdown",
   "metadata": {},
   "source": [
    "# How To Handle Exceptions\n",
    "\n",
    "When you have code that you know could potentially break your script (like reading/writing to a file, end user input, etc) you can defend your program by using a **try** block with an **except** statement, followed by a block of code to handle the problem elegantly.\n",
    "\n",
    "Here is some example pseudo code:\n",
    "\n",
    "```python\n",
    "try:\n",
    "    # do operation here (this is intended for a single line of code)\n",
    "    pass\n",
    "except ExceptionTypeI:\n",
    "    # Exception is a BaseException type...\n",
    "    # but is bad practice to use this catch all!\n",
    "    # This section of code will only run if this kind of Exception is hit\n",
    "    pass\n",
    "except ExceptionTypeII:\n",
    "    # This section of code will only run if this kind of Exception is hit\n",
    "    pass\n",
    "# there can be multiple kinds of exceptions\n",
    "else:\n",
    "    # this block of code executes if no exception\n",
    "    pass\n",
    "```\n",
    "\n",
    "## Example\n",
    "\n",
    "What do you think will happen if you run this code?\n",
    "\n",
    "```python\n",
    "try:\n",
    "    fh = open('textfile', 'w')\n",
    "    fh.write('This is my test file for exception handling!!')\n",
    "except IOError:\n",
    "    print(\"ERROR:  can't find file or read data\")\n",
    "else:\n",
    "    print(\"Written content in the file successfully.\")\n",
    "    fh.close()\n",
    "```"
   ]
  },
  {
   "cell_type": "code",
   "execution_count": null,
   "metadata": {},
   "outputs": [],
   "source": []
  },
  {
   "cell_type": "markdown",
   "metadata": {},
   "source": [
    "Or how about this one?\n",
    "\n",
    "```python\n",
    "try:\n",
    "    fh = open('textfile', 'r')\n",
    "    fh.write('This is my test file for exception handling!!')\n",
    "except IOError:\n",
    "    print(\"ERROR:  can't find file or read data\")\n",
    "else:\n",
    "    print(\"Written content in the file successfully.\")\n",
    "    fh.close()\n",
    "```"
   ]
  },
  {
   "cell_type": "code",
   "execution_count": null,
   "metadata": {},
   "outputs": [],
   "source": []
  },
  {
   "cell_type": "markdown",
   "metadata": {},
   "source": [
    "# Additional Notes & Resources\n",
    "\n",
    "A single **try** statement can have _multiple_ **except** statements.\n",
    "\n",
    "If you have a generic **except Exception** clause, it makes it more difficult to troubleshoot your code.\n",
    "\n",
    "As mentioned prior, the **else** clause option runs if no exception was raised against the code in the **try** block. It is where code should go that doesn't need the **try** block protection."
   ]
  },
  {
   "cell_type": "markdown",
   "metadata": {},
   "source": [
    "### Possible Type Coversions\n",
    "\n",
    "| Function | Description |\n",
    "|----------------- | --------------------------------------------- |\n",
    "| int(x, [, base]) | converts x to an INT - base specifies base if x is a string |\n",
    "| float(x) | converts x to a floating-point number |\n",
    "| complex(real [, imag]) | creates a complex number |\n",
    "| str(x) | Converts object x to a string representation |\n",
    "| repr(x) | Converts object x to an expression string |\n",
    "| tuple(s) | Converts s to a tuple |\n",
    "| list(s) | Converts s to a list |\n",
    "| set(s) | Converts s to a set |\n",
    "| dict(d) | Creates a dictionary. d must be a sequence of (key,value) tuples |\n",
    "| frozenset(s) | Converts s to a frozen set |\n",
    "| chr(x) | Converts an integer to a character |\n",
    "| ord(x) | Converts a single character to its integer value |\n",
    "| hex(x) | Converts an integer to a hexadecimal string |\n",
    "| oct(x) | Converts an integer to an octal string |"
   ]
  },
  {
   "cell_type": "code",
   "execution_count": null,
   "metadata": {},
   "outputs": [],
   "source": []
  }
 ],
 "metadata": {
  "kernelspec": {
   "display_name": "Python 3",
   "language": "python",
   "name": "python3"
  },
  "language_info": {
   "codemirror_mode": {
    "name": "ipython",
    "version": 3
   },
   "file_extension": ".py",
   "mimetype": "text/x-python",
   "name": "python",
   "nbconvert_exporter": "python",
   "pygments_lexer": "ipython3",
   "version": "3.6.6"
  }
 },
 "nbformat": 4,
 "nbformat_minor": 2
}
