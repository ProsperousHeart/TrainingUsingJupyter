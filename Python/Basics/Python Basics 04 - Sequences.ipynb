{
 "cells": [
  {
   "cell_type": "markdown",
   "metadata": {},
   "source": [
    "<a href='https://www.learntocodeonline.com/'>![Learn To Code Online](../../IMGs/learn-to-code-online.png)</a>"
   ]
  },
  {
   "cell_type": "markdown",
   "metadata": {},
   "source": [
    "# What Are Sequences?\n",
    "\n",
    "These are the *most basic* data structure where each element is assigned a number (called a **position** or **index**) starting at 0.\n",
    "\n",
    "# What Kinds Of Sequences?\n",
    "\n",
    "???\n",
    "\n",
    "# What Can You Do With Sequences?\n",
    "\n",
    "Most sequence types can do the following:\n",
    "- indexing\n",
    "- slicing\n",
    "- adding\n",
    "- multiplying\n",
    "- checking for membership\n",
    "\n",
    "There are also built-in functions for most data object types, including but not limited to:\n",
    "- length\n",
    "- smallest element\n",
    "\n",
    "When you begin learning more advanced programming options, you can even create your own!"
   ]
  },
  {
   "cell_type": "code",
   "execution_count": null,
   "metadata": {},
   "outputs": [],
   "source": []
  }
 ],
 "metadata": {
  "kernelspec": {
   "display_name": "Python 3",
   "language": "python",
   "name": "python3"
  },
  "language_info": {
   "codemirror_mode": {
    "name": "ipython",
    "version": 3
   },
   "file_extension": ".py",
   "mimetype": "text/x-python",
   "name": "python",
   "nbconvert_exporter": "python",
   "pygments_lexer": "ipython3",
   "version": "3.6.6"
  }
 },
 "nbformat": 4,
 "nbformat_minor": 2
}
