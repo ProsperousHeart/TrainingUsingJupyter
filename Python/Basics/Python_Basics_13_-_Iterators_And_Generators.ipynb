{
 "cells": [
  {
   "cell_type": "markdown",
   "metadata": {},
   "source": [
    "<a href='https://www.learntocodeonline.com/'><img src='https://github.com/ProsperousHeart/TrainingUsingJupyter/blob/master/IMGs/learn-to-code-online.png?raw=true'></a>"
   ]
  },
  {
   "cell_type": "markdown",
   "metadata": {},
   "source": [
    "# Introduction\n",
    "\n",
    "In this section, we will be covering:\n",
    "- What is an iterator and how to create one\n",
    "- What is a generator and how to create one"
   ]
  },
  {
   "cell_type": "markdown",
   "metadata": {},
   "source": [
    "# Iterators\n",
    "\n",
    "## What Is An Iterator?\n",
    "\n",
    "An **iterator** is an object that allows a programmer to traverse through elements of another object. They are used in things like:\n",
    "- strings\n",
    "- lists\n",
    "- tuples\n",
    "- user created classes\n",
    "\n",
    "Methods of an iterator include `iter()` and `next()` methods.\n",
    "\n",
    "<div class=\"alert alert-success\">\n",
    "<b>For example ...</b>\n",
    "\n",
    "```python\n",
    "new_list = [1, 2, 3, 4]\n",
    "it = iter(new_list)    # builds an iterator object and assigns to:  it\n",
    "print(next(it))\n",
    "```\n",
    "</div>"
   ]
  },
  {
   "cell_type": "code",
   "execution_count": 1,
   "metadata": {},
   "outputs": [
    {
     "name": "stdout",
     "output_type": "stream",
     "text": [
      "1\n"
     ]
    }
   ],
   "source": [
    "new_list = [1, 2, 3, 4]\n",
    "it = iter(new_list)    # builds an iterator object and assigns to:  it\n",
    "print(next(it))"
   ]
  },
  {
   "cell_type": "markdown",
   "metadata": {},
   "source": [
    "With iterator objects, you can also use a regular for statement to traverse through the elements like this:\n",
    "\n",
    "<div class=\"alert alert-success\">\n",
    "\n",
    "```python\n",
    "# using the code from above ...\n",
    "for x in it:\n",
    "    print(x, end=\" \")\n",
    "```\n",
    "</div>\n",
    "\n",
    "<div class=\"alert alert-info\">\n",
    "After running, is the output as you expected? Why or why not?\n",
    "</div>"
   ]
  },
  {
   "cell_type": "code",
   "execution_count": null,
   "metadata": {},
   "outputs": [],
   "source": []
  },
  {
   "cell_type": "markdown",
   "metadata": {},
   "source": [
    "... or you can use the `next()` function!\n",
    "\n",
    "<div class=\"alert alert-success\">\n",
    "\n",
    "```python\n",
    "it = iter(new_list)\n",
    "while True:\n",
    "    try:\n",
    "        print(next(it))\n",
    "    except StopIteration:\n",
    "        print('Got to end!')\n",
    "```\n",
    "</div>"
   ]
  },
  {
   "cell_type": "code",
   "execution_count": null,
   "metadata": {},
   "outputs": [],
   "source": []
  },
  {
   "cell_type": "markdown",
   "metadata": {},
   "source": [
    "# Generators\n",
    "\n",
    "**Generators** are used to create iterators. Each generator is a simple function that returns an iterable set of items, one at a time, in a special way.\n",
    "\n",
    "They **yield** a sequence of values, which keeps track of the values provided and remembers the last execution.\n",
    "\n",
    "When the function is called, it automatically returns a generator object even before code execution.\n",
    "\n",
    "**NOTE:**  You can potentially generate an infinite number of values, so **pay attention** to your code!\n",
    "\n",
    "<div class=\"alert alert-success\">\n",
    "<b>Try this!</b>\n",
    "\n",
    "```python\n",
    "# This defines a generator, which generates an iterator\n",
    "import sys\n",
    "def fibonacci(n):  # generator function\n",
    "    a, b, counter = 0, 1, 0\n",
    "    while True:\n",
    "        if counter > n:\n",
    "            return\n",
    "        yield a\n",
    "        a, b = b, a + b\n",
    "        counter += 1\n",
    "\n",
    "fibo = fibonacci(5)    # fibo is now an iterator object\n",
    "\n",
    "while True:\n",
    "    try:\n",
    "        print(next(fibo), end = \" \")\n",
    "    except StopIteration:\n",
    "        sys.exit('At the end!')    # terminates program\n",
    "```\n",
    "</div>"
   ]
  },
  {
   "cell_type": "code",
   "execution_count": null,
   "metadata": {},
   "outputs": [],
   "source": []
  },
  {
   "cell_type": "markdown",
   "metadata": {},
   "source": [
    "<div class=\"alert alert-success\">\n",
    "<b>Try this!</b>\n",
    "\n",
    "```python\n",
    "import random\n",
    "def lottery():\n",
    "    # returns 6 numbers between 1 and 40\n",
    "    for i in range(6):\n",
    "        yield random.randint(1, 40)\n",
    "    \n",
    "    # returns a 7th number between 1 and 15\n",
    "    yield random.randint(1, 15)\n",
    "\n",
    "for random_number in lottery():\n",
    "    print('And the next number is ... {}!'.format(random_number))\n",
    "```\n",
    "</div>"
   ]
  },
  {
   "cell_type": "code",
   "execution_count": null,
   "metadata": {},
   "outputs": [],
   "source": []
  }
 ],
 "metadata": {
  "kernelspec": {
   "display_name": "Python 3",
   "language": "python",
   "name": "python3"
  },
  "language_info": {
   "codemirror_mode": {
    "name": "ipython",
    "version": 3
   },
   "file_extension": ".py",
   "mimetype": "text/x-python",
   "name": "python",
   "nbconvert_exporter": "python",
   "pygments_lexer": "ipython3",
   "version": "3.6.6"
  }
 },
 "nbformat": 4,
 "nbformat_minor": 2
}
