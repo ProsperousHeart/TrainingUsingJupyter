{
 "cells": [
  {
   "attachments": {},
   "cell_type": "markdown",
   "metadata": {},
   "source": [
    "Here you will find additional resources used in reference to create this training.\n",
    "\n",
    "- http://www.tutorialspoint.com/python\n",
    "\n",
    "- http://mojones.net/how-to-pick-bad-function-and-variable-names.html\n",
    "\n",
    "- http://www.learnpython.org/en/Variables_and_Types\n",
    "\n",
    "- http://www.python-course.eu/global_vs_local_variables.php \n",
    "\n",
    "- https://docs.python.org/2.5/ref/keywords.html \n",
    "\n",
    "- https://docs.python.org/ \n",
    "\n",
    "- https://docs.python.org/3/tutorial/introduction.html#strings \n",
    "\n",
    "- http://www.python-course.eu/python3_course.php"
   ]
  },
  {
   "cell_type": "code",
   "execution_count": null,
   "metadata": {},
   "outputs": [],
   "source": []
  }
 ],
 "metadata": {
  "kernelspec": {
   "display_name": "Python 3",
   "language": "python",
   "name": "python3"
  },
  "language_info": {
   "codemirror_mode": {
    "name": "ipython",
    "version": 3
   },
   "file_extension": ".py",
   "mimetype": "text/x-python",
   "name": "python",
   "nbconvert_exporter": "python",
   "pygments_lexer": "ipython3",
   "version": "3.6.6"
  }
 },
 "nbformat": 4,
 "nbformat_minor": 2
}
