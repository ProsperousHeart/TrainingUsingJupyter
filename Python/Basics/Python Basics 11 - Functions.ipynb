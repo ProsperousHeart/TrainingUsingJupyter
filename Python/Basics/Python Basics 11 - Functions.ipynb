{
 "cells": [
  {
   "attachments": {},
   "cell_type": "markdown",
   "metadata": {},
   "source": [
    "# What Is A Function?\n",
    "\n",
    "Functions are a block of **organized**, reusable code used to perform a single, related action. It provides for better modularity & a higher degree of code reuse.\n",
    "\n",
    "I touch more on this in my presentation \"[How To Think Like A Programmer](https://www.linkedin.com/feed/update/urn:li:activity:6475399796298444800)\" (Dec 2018).\n",
    "\n",
    "Some functions are built into python and it's data objects, while others are user-defined.\n",
    "\n",
    "They are always called by something, for example but not limited to:\n",
    "- another method or function\n",
    "- variable\n",
    "\n",
    "# How Do You Define A Function?\n",
    "\n",
    "Here is an example (pseudo-code):\n",
    "\n",
    "```python\n",
    "def function_name():\n",
    "    \"\"\"function docstring\"\"\"\n",
    "    # function suite\n",
    "    return [expression, ...]\n",
    "```\n",
    "\n",
    "Each function is made up of 5 parts.\n",
    "\n",
    "1. **The _def_ line**\n",
    "\n",
    "This line starts with the **def** or define keyword followed by the name of the function and a set of parenthesis.\n",
    "\n",
    "2. **Optional Input Parameters**\n",
    "\n",
    "Depending on the requirements of your function, you may have input parameters with which may be needed to complete the function's design. There may be 0 or more input parameters that you can force or make optional.\n",
    "\n",
    "3. **Docstring**\n",
    "\n",
    "There are many suggested ways to do documentation ...\n",
    "\n",
    "- [PEP 257](https://www.python.org/dev/peps/pep-0257/) from Python Developer's Guide\n",
    "\n",
    "- Geeks For Geeks on [docstring](https://www.geeksforgeeks.org/python-docstrings/)\n",
    "\n",
    "- Python For Beginners on [docstring](https://www.pythonforbeginners.com/basics/python-docstrings)\n",
    "\n",
    "- Hitchhiker's Guide to Python on [docstring](https://docs.python-guide.org/writing/documentation/)\n",
    "\n",
    "- RealPython's [Complete Guide To Python Documentation](https://realpython.com/documenting-python-code/)\n",
    "\n",
    "... and some work well with modules that created an outprint of said documentation!the func\n",
    "\n",
    "But at the bare minimum, at least explain:\n",
    "- what the function does\n",
    "- how the input variables are used\n",
    "- if it returns something, what?\n",
    "\n",
    "\n",
    "4. **The Code Block**\n",
    "\n",
    "This starts after the `:` and (unless it's a single line function) is indented on a new line by 4 spaces. This is the piece of code that actually does the computations/changes.\n",
    "\n",
    "5. **The Return**\n",
    "\n",
    "If you never utilize the `return` statement to send data back, then if you attempt to call the function and store it in a variable? You would get back `None` as the data.\n",
    "\n",
    "For example:\n",
    "\n",
    "```python\n",
    "def temp_func():\n",
    "    \"\"\"\n",
    "    This function prints a statement explanation.\n",
    "    \n",
    "    \"\"\"\n",
    "    \n",
    "    print('This \"returns\" None. Even if you used \"return\" or \"return None\"')\n",
    "\n",
    "temp_data = temp_func()\n",
    "print('temp_data (type: {}):  {}'.format(type(temp_data), temp_data))\n",
    "```"
   ]
  },
  {
   "cell_type": "code",
   "execution_count": null,
   "metadata": {},
   "outputs": [],
   "source": []
  },
  {
   "cell_type": "markdown",
   "metadata": {},
   "source": [
    "The **return** statement exits the function & can optionally pass back data.\n",
    "\n",
    "`return` is the same as `return None`"
   ]
  },
  {
   "cell_type": "markdown",
   "metadata": {},
   "source": [
    "## Arguments:  Pass By Reference vs Value\n",
    "\n",
    "When defining a function, all parameters (aka arguments) are passed by reference. Meaning the function has a local scope variable that refers to that piece of data. But this can be very dangerous, if not also confusing.\n",
    "\n",
    "_**REMEMBER:**  a variable is simply a label that points to a particular piece in your computer's memory that holds some data set._\n",
    "\n",
    "That's why I really like the explanation given [here](https://jeffknupp.com/blog/2012/11/13/is-python-callbyvalue-or-callbyreference-neither/) from Jeff Knup.\n",
    "\n",
    "Python is really more **pass by object**.\n",
    "\n",
    "Running code like this for example:\n",
    "\n",
    "```python\n",
    "def foo(bar):\n",
    "    \"\"\"Appends 42 to list\"\"\"\n",
    "    bar.append(42)\n",
    "    print(bar)\n",
    "    # >> [42]\n",
    "\n",
    "numr_list = []\n",
    "foo(numr_list)\n",
    "print(numr_list)\n",
    "# >> [42]\n",
    "```\n",
    "\n",
    "... you would have a change to the original piece of data. And this generally causes unintended and unanticipated (potentially disastrous) results."
   ]
  },
  {
   "cell_type": "code",
   "execution_count": null,
   "metadata": {},
   "outputs": [],
   "source": []
  },
  {
   "cell_type": "markdown",
   "metadata": {},
   "source": [
    "Whereas running code like this for example:\n",
    "\n",
    "```python\n",
    "def foo(bar):\n",
    "    \"\"\"Appends 42 to local list\"\"\"\n",
    "    bar = bar[:] # makes a copy of incoming data\n",
    "    bar.append(42)\n",
    "    print(bar)\n",
    "    # >> [42]\n",
    "\n",
    "numr_list = []\n",
    "foo(numr_list)\n",
    "print(numr_list)\n",
    "# >> []\n",
    "```\n",
    "\n",
    "... the original data would be in tact."
   ]
  },
  {
   "cell_type": "code",
   "execution_count": null,
   "metadata": {},
   "outputs": [],
   "source": []
  },
  {
   "cell_type": "markdown",
   "metadata": {},
   "source": [
    "It is **highly recommended** that you do not modiy the input objects. If you must:\n",
    "\n",
    "1. Create a new variable that calls the function using input data\n",
    "2. Have function make a local variable with a copy of the original information\n",
    "3. Perform calculations and return to calling variable\n",
    "4. Confirm after conclusion the anticipated results and reassign as needed"
   ]
  },
  {
   "cell_type": "markdown",
   "metadata": {},
   "source": [
    "## Arguments:  Required Arguments\n",
    "\n",
    "These are the arguments passed to a function that do not have a default value assigned to them.\n",
    "\n",
    "When a function is called, these are the minimum number of inputs that must be included and in the right order."
   ]
  },
  {
   "cell_type": "markdown",
   "metadata": {},
   "source": [
    "### Possible Type Coversions\n",
    "\n",
    "| Function | Description |\n",
    "|----------------- | --------------------------------------------- |\n",
    "| int(x, [, base]) | converts x to an INT - base specifies base if x is a string |\n",
    "| float(x) | converts x to a floating-point number |\n",
    "| complex(real [, imag]) | creates a complex number |\n",
    "| str(x) | Converts object x to a string representation |\n",
    "| repr(x) | Converts object x to an expression string |\n",
    "| tuple(s) | Converts s to a tuple |\n",
    "| list(s) | Converts s to a list |\n",
    "| set(s) | Converts s to a set |\n",
    "| dict(d) | Creates a dictionary. d must be a sequence of (key,value) tuples |\n",
    "| frozenset(s) | Converts s to a frozen set |\n",
    "| chr(x) | Converts an integer to a character |\n",
    "| ord(x) | Converts a single character to its integer value |\n",
    "| hex(x) | Converts an integer to a hexadecimal string |\n",
    "| oct(x) | Converts an integer to an octal string |"
   ]
  },
  {
   "cell_type": "code",
   "execution_count": null,
   "metadata": {},
   "outputs": [],
   "source": []
  }
 ],
 "metadata": {
  "kernelspec": {
   "display_name": "Python 3",
   "language": "python",
   "name": "python3"
  },
  "language_info": {
   "codemirror_mode": {
    "name": "ipython",
    "version": 3
   },
   "file_extension": ".py",
   "mimetype": "text/x-python",
   "name": "python",
   "nbconvert_exporter": "python",
   "pygments_lexer": "ipython3",
   "version": "3.6.6"
  }
 },
 "nbformat": 4,
 "nbformat_minor": 2
}
