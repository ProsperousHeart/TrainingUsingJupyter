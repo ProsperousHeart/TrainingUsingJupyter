{
 "cells": [
  {
   "cell_type": "markdown",
   "id": "3de9ad50",
   "metadata": {},
   "source": [
    "# About namedtuple\n",
    "\n",
    "A [namedtuple()](https://docs.python.org/3/library/collections.html#namedtuple-factory-function-for-tuples-with-named-fields) is a factory (built-in) function for creating tuple-like subclasses with named fields. This class type assigns meaning to each position in a tuple that allos for mroe readable, self-documenting code. It can be used wherever regular tuples are used, and add the ability to access fields by name instead of position index - similar to dictionaries.\n",
    "\n",
    "When you create (or instantiate) a new object from **namedtuple** it will return a new tuple subclass. This new subclass is used to create tuple-like objects with fields accessible by attribute lookup, as well as being indexable & iterable. Another benefit is that these subclass instances also have helpful docstring (based on the information you give upon creation) and _**`__repr__()`**_ method that lists the tuple contents in a `name=value` format.\n",
    "\n",
    "Additional benefits:\n",
    "- no per-instance dictionaries\n",
    "- lightweight\n",
    "- require no more memory than regular tuples\n",
    "- supports [pickling](https://docs.python.org/3/library/pickle.html) if the named tuple class is assigned to a variable that matches **_typename_**.\n",
    "\n",
    "In order to utilize the `namedtuple` class from `collections` you will have to import it into your file or Jupyter notebook using the following line of code:\n",
    "```python\n",
    "from collections import namedtuple\n",
    "```\n",
    "\n",
    "To make the rest of this notebook work, run the above code in the below box:"
   ]
  },
  {
   "cell_type": "code",
   "execution_count": null,
   "id": "59c0cbbb",
   "metadata": {},
   "outputs": [],
   "source": []
  },
  {
   "cell_type": "markdown",
   "id": "cde7b38b",
   "metadata": {},
   "source": [
    "# How The Code Works\n",
    "\n",
    "For the full explanation of how the function is utilized, see [here](https://docs.python.org/3/library/collections.html#collections.namedtuple). The pseudocode will look like this:\n",
    "```python\n",
    "collections.namedtuple(typename, field_names, *, rename=False, defaults=None, module=None)\n",
    "```\n",
    "\n",
    "As outlined in the above code, **namedtuple** and **field_names** are required. The other attributes are optional and have default inputs.\n",
    "\n",
    "## Required Fields\n",
    "\n",
    "### typename\n",
    "\n",
    "Your new **namedtuple** class is a tuple subclass called _**typename**_ (whatever you created when you called the function).\n",
    "\n",
    "### field_names\n",
    "\n",
    "The _**field_names**_ input is meant to be a sequence of strings similar to `['x', 'y']` or a single string where each field name is separated by whitespace and/or commas, such as `x y` or `x, y`.\n",
    "\n",
    "Any valid python identifier may be used for these, except when starting with an undescore. This means they cannot be a [keyword](https://docs.python.org/3/library/keyword.html#module-keyword) (such as class, for, return, global, pass, or raise) and must consist of letters, numbers, digits and underscores."
   ]
  },
  {
   "cell_type": "markdown",
   "id": "506c5d0f",
   "metadata": {},
   "source": [
    "## Optional Fields\n",
    "\n",
    "### rename\n",
    "\n",
    "```python\n",
    "collections.namedtuple(typename, field_names, *, rename=False, defaults=None, module=None)\n",
    "```\n",
    "\n",
    "By default, this is set to **False** assuming you will not use field names that are not allowed.\n",
    "\n",
    "If changed to **True**, invalid field names will be automatically replaced with positional names.\n",
    "\n",
    "For example, `['abc', 'def', 'ghi', 'abc']` would become `['abc', '_1', 'ghi', '_3']` in order to eliminate `def` and duplicate field name `abc`.\n",
    "\n",
    "<div class=\"alert alert-success\">\n",
    "<b>Try this!</b>\n",
    "\n",
    "```python\n",
    "new_fields = ['abc', 'def', 'ghi', 'abc']\n",
    "new_NT = namedtuple(\"temp_tup\", new_fields, rename=True)\n",
    "new_tup = new_NT(1, 2, 3, 4)\n",
    "print(new_tup)\n",
    "```\n",
    "</div>"
   ]
  },
  {
   "cell_type": "code",
   "execution_count": null,
   "id": "490cca96",
   "metadata": {},
   "outputs": [],
   "source": []
  },
  {
   "cell_type": "markdown",
   "id": "6465f553",
   "metadata": {},
   "source": [
    "<div class=\"alert alert-danger\">\n",
    "    What happens if you do not set <b>rename</b> to True?\n",
    "</div>"
   ]
  },
  {
   "cell_type": "markdown",
   "id": "d800793c",
   "metadata": {},
   "source": [
    "<div class=\"alert alert-success\">\n",
    "Now try <b>this!</b>\n",
    "\n",
    "```python\n",
    "# print(list(new_tup._asdict().keys()))\n",
    "print (new_tup._fields)\n",
    "```\n",
    "</div>"
   ]
  },
  {
   "cell_type": "code",
   "execution_count": null,
   "id": "2ad8ee8a",
   "metadata": {},
   "outputs": [],
   "source": []
  },
  {
   "cell_type": "markdown",
   "id": "5c9b1c90",
   "metadata": {},
   "source": [
    "You'll learn more about this built in function pr attribute for **namedtuple** later on."
   ]
  },
  {
   "cell_type": "markdown",
   "id": "023561e5",
   "metadata": {},
   "source": [
    "### defaults\n",
    "\n",
    "```python\n",
    "collections.namedtuple(typename, field_names, *, rename=False, defaults=None, module=None)\n",
    "```\n",
    "\n",
    "By default, if you do nothing else then the **defaults** attribute will be set to `None`.\n",
    "\n",
    "Otherwise, any iterable of default values can be used. Since fields with default values must come after required attributes, then they are applied to the right-most parameters.\n",
    "\n",
    "Let's say you had:\n",
    "```python\n",
    "field_names = ['x', 'y', 'z']\n",
    "defaults = (1, 2)\n",
    "```\n",
    "\n",
    "Then:\n",
    "- `x` would be a required argument upon namedtuple object creation\n",
    "- `'y' = 1` (`'y'` defaults to 1)\n",
    "- `'z' = 2` (`'z'` defaults to 2)"
   ]
  },
  {
   "cell_type": "markdown",
   "id": "42520189",
   "metadata": {},
   "source": [
    "<div class=\"alert alert-danger\">\n",
    "What would happen if you tried to create a <b>namedtuple</b> with more defaults than field_names?\n",
    "</div>"
   ]
  },
  {
   "cell_type": "code",
   "execution_count": null,
   "id": "3e377b84",
   "metadata": {},
   "outputs": [],
   "source": []
  },
  {
   "cell_type": "markdown",
   "id": "dda7e0dd",
   "metadata": {},
   "source": [
    "### module\n",
    "\n",
    "```python\n",
    "collections.namedtuple(typename, field_names, *, rename=False, defaults=None, module=None)\n",
    "```\n",
    "\n",
    "If **module** is defined by a string, then you are setting the value of the `__module__` attribute to that string.\n",
    "\n",
    "<div class=\"alert alert-success\">\n",
    "Try <b>this!</b>\n",
    "\n",
    "```python\n",
    "print(new_tup.__module__)\n",
    "new_NT = namedtuple(\"temp_tup\", new_fields, rename=True, module=\"Cruella\")\n",
    "new_tup = new_NT(1, 2, 3, 4)\n",
    "print(new_tup.__module__)\n",
    "```\n",
    "</div>"
   ]
  },
  {
   "cell_type": "code",
   "execution_count": null,
   "id": "ff24ed15",
   "metadata": {},
   "outputs": [],
   "source": []
  },
  {
   "cell_type": "markdown",
   "id": "16459c61",
   "metadata": {},
   "source": [
    "# Working With NamedTuple Examples\n",
    "\n",
    "## Point\n",
    "\n",
    "Here is an example of a **namedtuple** called _Point_.\n",
    "\n",
    "<div class=\"alert alert-success\">\n",
    "Try <b>this!</b>\n",
    "    \n",
    "```python\n",
    "Point = namedtuple('Point', ['x', 'y'])\n",
    "p = Point(11, y=22)    # instantiate with positional or keyword arguments\n",
    "```\n",
    "</div>"
   ]
  },
  {
   "cell_type": "code",
   "execution_count": null,
   "id": "c67e31fe",
   "metadata": {},
   "outputs": [],
   "source": []
  },
  {
   "cell_type": "markdown",
   "id": "9449af68",
   "metadata": {},
   "source": [
    "<div class=\"alert alert-success\">\n",
    "Now try <b>this!</b>\n",
    "\n",
    "```python\n",
    "p[0] + p[1]    # indexable like the plain tuple (11, 22)\n",
    "```\n",
    "</div>"
   ]
  },
  {
   "cell_type": "code",
   "execution_count": null,
   "id": "cd11a45a",
   "metadata": {},
   "outputs": [],
   "source": []
  },
  {
   "cell_type": "markdown",
   "id": "e817d5d6",
   "metadata": {},
   "source": [
    "<div class=\"alert alert-success\">\n",
    "Now try <b>this!</b>\n",
    "\n",
    "```python\n",
    "x, y = p    # unpack like a regular tuple\n",
    "x, y\n",
    "```\n",
    "</div>"
   ]
  },
  {
   "cell_type": "code",
   "execution_count": null,
   "id": "9f9dd805",
   "metadata": {},
   "outputs": [],
   "source": []
  },
  {
   "cell_type": "markdown",
   "id": "509673ae",
   "metadata": {},
   "source": [
    "<div class=\"alert alert-success\">\n",
    "Now try <b>this!</b>\n",
    "\n",
    "```python\n",
    "p.x + p.y    # fields also accessible by name\n",
    "```\n",
    "</div>"
   ]
  },
  {
   "cell_type": "code",
   "execution_count": null,
   "id": "eef131b9",
   "metadata": {},
   "outputs": [],
   "source": []
  },
  {
   "cell_type": "markdown",
   "id": "89e241d2",
   "metadata": {},
   "source": [
    "<div class=\"alert alert-success\">\n",
    "Now try <b>this!</b>\n",
    "\n",
    "```python\n",
    "p    # readable __repr__ with a name=value style\n",
    "```\n",
    "</div>"
   ]
  },
  {
   "cell_type": "code",
   "execution_count": null,
   "id": "8ece6fce",
   "metadata": {},
   "outputs": [],
   "source": []
  },
  {
   "cell_type": "markdown",
   "id": "88c4fbd4",
   "metadata": {},
   "source": [
    "## Car \"Class\"\n",
    "\n",
    "Here is an example of a **namedtuple** called Car_.\n",
    "\n",
    "```python\n",
    "tuple_name = \"Car\"\n",
    "fields = [\"price\", \"brand\", \"model\", \"year\", \"mileage\", \"color\"]\n",
    "car_class = namedtuple(tuple_name, fields)\n",
    "```"
   ]
  },
  {
   "cell_type": "markdown",
   "id": "b88b422e",
   "metadata": {},
   "source": [
    "# Built-In Methods & Attributes\n",
    "\n",
    "To prevent conflicts with field names, the method and attribute names start with an underscore."
   ]
  },
  {
   "cell_type": "markdown",
   "id": "48ac7a29",
   "metadata": {},
   "source": [
    "## ._make(iterable)\n",
    "\n",
    "This method makes a new instance from an existing sequence or iterable.\n",
    "\n",
    "<div class=\"alert alert-success\">\n",
    "Now try <b>this!</b>\n",
    "\n",
    "```python\n",
    "t = [11, 22]\n",
    "Point._make(t)\n",
    "```\n",
    "</div>"
   ]
  },
  {
   "cell_type": "code",
   "execution_count": null,
   "id": "14e5d757",
   "metadata": {},
   "outputs": [],
   "source": []
  },
  {
   "cell_type": "markdown",
   "id": "5a1db9a9",
   "metadata": {},
   "source": [
    "## ._asdict()\n",
    "\n",
    "This method returns a new regular [dict](https://docs.python.org/3/library/stdtypes.html#dict), which maps field names to their corresponding values.\n",
    "\n",
    "As of Python 3.7, regular dicts are guaranteed to be ordered. If [OrderedDict](https://docs.python.org/3/library/collections.html#collections.OrderedDict) is required, cast the result to desired type:  `OrderedDict(nt._asdict())`\n",
    "\n",
    "<div class=\"alert alert-success\">\n",
    "Now try <b>this!</b>\n",
    "\n",
    "```python\n",
    "p = Point(x=11, y=22)\n",
    "p._asdict()\n",
    "```\n",
    "</div>"
   ]
  },
  {
   "cell_type": "code",
   "execution_count": null,
   "id": "3ffc73da",
   "metadata": {},
   "outputs": [],
   "source": []
  },
  {
   "cell_type": "markdown",
   "id": "4fdb00da",
   "metadata": {},
   "source": [
    "## [._replace(**kwargs)](https://docs.python.org/3/library/collections.html#collections.somenamedtuple._replace)\n",
    "\n",
    "Thsi method returns a new instance of the **namedtuple** replacing specific fields with new values.\n",
    "\n",
    "<div class=\"alert alert-success\">\n",
    "Now try <b>this!</b>\n",
    "\n",
    "```python\n",
    "p = Point(x=11, y=22)\n",
    "p._replace(x=33)\n",
    "```\n",
    "</div>"
   ]
  },
  {
   "cell_type": "code",
   "execution_count": null,
   "id": "8a8ef5ca",
   "metadata": {},
   "outputs": [],
   "source": []
  },
  {
   "cell_type": "markdown",
   "id": "5a20d226",
   "metadata": {},
   "source": [
    "## ._fields\n",
    "\n",
    "This attribute returns a **tuple** of strings listing the field names.\n",
    "\n",
    "<div class=\"alert alert-success\">\n",
    "Now try <b>this!</b>\n",
    "\n",
    "```python\n",
    "# Point = namedtuple('Point', ['x', 'y'])\n",
    "print(p)\n",
    "print(p._fields)            # view the field names\n",
    "Color = namedtuple('Color', 'red green blue')\n",
    "Pixel = namedtuple('Pixel', Point._fields + Color._fields)\n",
    "Pixel(11, 22, 128, 255, 0)\n",
    "```\n",
    "</div>"
   ]
  },
  {
   "cell_type": "code",
   "execution_count": null,
   "id": "11510982",
   "metadata": {},
   "outputs": [],
   "source": []
  },
  {
   "cell_type": "markdown",
   "id": "183f689e",
   "metadata": {},
   "source": [
    "## ._field_defaults\n",
    "\n",
    "Thsi attribute returns a dictionary mapping of field names to default values.\n",
    "\n",
    "<div class=\"alert alert-success\">\n",
    "Now try <b>this!</b>\n",
    "\n",
    "```python\n",
    "Account = namedtuple('Account', ['type', 'balance'], defaults=[0])\n",
    "Account._field_defaults\n",
    "```\n",
    "</div>"
   ]
  },
  {
   "cell_type": "code",
   "execution_count": null,
   "id": "9d3add28",
   "metadata": {},
   "outputs": [],
   "source": []
  },
  {
   "cell_type": "markdown",
   "id": "0ee53a05",
   "metadata": {},
   "source": [
    "<div class=\"alert alert-success\">\n",
    "Now try <b>this!</b>\n",
    "\n",
    "```python\n",
    "Account('premium')\n",
    "```\n",
    "</div>"
   ]
  },
  {
   "cell_type": "code",
   "execution_count": null,
   "id": "cbf7809c",
   "metadata": {},
   "outputs": [],
   "source": []
  },
  {
   "cell_type": "markdown",
   "id": "750bc0f7",
   "metadata": {},
   "source": [
    "# Additional Benefits\n",
    "\n",
    "## Automatic Assignment\n",
    "\n",
    "Named tuples are especially useful for assigning field names to result tuples returned by the [csv](https://docs.python.org/3/library/csv.html#module-csv) or [sqlite3](https://docs.python.org/3/library/sqlite3.html#module-sqlite3) modules.\n",
    "\n",
    "Below are examples of what your code could look like if you have the appropriate file or database.\n",
    "\n",
    "### csv\n",
    "\n",
    "```python\n",
    "import csv\n",
    "\n",
    "EmployeeRecord = namedtuple('EmployeeRecord', 'name, age, title, department, paygrade')\n",
    "\n",
    "for emp in map(EmployeeRecord._make, csv.reader(open(\"employees.csv\", \"rb\"))):\n",
    "print(emp.name, emp.title)\n",
    "```\n",
    "\n",
    "### sqlite3\n",
    "\n",
    "```python\n",
    "import sqlite3\n",
    "\n",
    "EmployeeRecord = namedtuple('EmployeeRecord', 'name, age, title, department, paygrade')\n",
    "\n",
    "conn = sqlite3.connect('/companydata')\n",
    "cursor = conn.cursor()\n",
    "cursor.execute('SELECT name, age, title, department, paygrade FROM employees')\n",
    "for emp in map(EmployeeRecord._make, cursor.fetchall()):\n",
    "    print(emp.name, emp.title)\n",
    "```"
   ]
  },
  {
   "cell_type": "markdown",
   "id": "a78ab19a",
   "metadata": {},
   "source": [
    "## Utilizing Built-In Python Rules & Functions\n",
    "\n",
    "### Using the [getattr()](https://docs.python.org/3/library/functions.html#getattr) function\n",
    "\n",
    "Retrieves a field whose name is stored in the string provided.\n",
    "\n",
    "<div class=\"alert alert-success\">\n",
    "Try <b>this!</b>\n",
    "\n",
    "```python\n",
    "getattr(p, 'x')\n",
    "```\n",
    "</div>"
   ]
  },
  {
   "cell_type": "code",
   "execution_count": null,
   "id": "25594b1a",
   "metadata": {},
   "outputs": [],
   "source": []
  },
  {
   "cell_type": "markdown",
   "id": "a664e445",
   "metadata": {},
   "source": [
    "<div class=\"alert alert-danger\">\n",
    "What happens if you request a field that doesn't exist? How would you resolve that?\n",
    "    \n",
    "<b>Check the link shared above!</b>\n",
    "</div>"
   ]
  },
  {
   "cell_type": "markdown",
   "id": "ee5ab9f0",
   "metadata": {},
   "source": [
    "### Convert Dictionary To namedtuple\n",
    "\n",
    "You will use the double-star operator `**` as described in [Unpacking Argument Lists](https://docs.python.org/3/tutorial/controlflow.html#tut-unpacking-arguments).\n",
    "\n",
    "<div class=\"alert alert-success\">\n",
    "Try <b>this!</b>\n",
    "\n",
    "```python\n",
    "d = {'x': 11, 'y': 22}\n",
    "Point(**d)\n",
    "```\n",
    "</div>"
   ]
  },
  {
   "cell_type": "code",
   "execution_count": null,
   "id": "62efae24",
   "metadata": {},
   "outputs": [],
   "source": []
  },
  {
   "cell_type": "markdown",
   "id": "569d0972",
   "metadata": {},
   "source": [
    "## Inheritance (Subclassing)\n",
    "\n",
    "Since a **namedtuple** is a regular python class, it is easy to add or change functionality with a subclass.\n",
    "\n",
    "In the below example, you will see how to add a calulated field and a fixed-width print format:\n",
    "\n",
    "<div class=\"alert alert-success\">\n",
    "Now try <b>this!</b>\n",
    "\n",
    "```python\n",
    "class Point(namedtuple('Point', ['x', 'y'])):\n",
    "    \n",
    "    __slots__ = ()\n",
    "    \n",
    "    @property\n",
    "    def hypot(self):\n",
    "        return (self.x ** 2 + self.y ** 2) ** 0.5\n",
    "    \n",
    "    def __str__(self):\n",
    "        return 'Point: x=%6.3f  y=%6.3f  hypot=%6.3f' % (self.x, self.y, self.hypot)\n",
    "\n",
    "for p in Point(3, 4), Point(14, 5/7):\n",
    "    print(p)\n",
    "```\n",
    "</div>"
   ]
  },
  {
   "cell_type": "code",
   "execution_count": null,
   "id": "09caa78c",
   "metadata": {},
   "outputs": [],
   "source": []
  },
  {
   "cell_type": "markdown",
   "id": "c02cc352",
   "metadata": {},
   "source": [
    "In the above, `__slots__` is set to an empty tuple. This helps keep memory requirements low by preventing the creation of instance dictionaries.\n",
    "\n",
    "It is important to note that _subclassing_ is not useful for adding new fields. If necessary, simply create a new **namedtuple** type from the [`fields`](https://docs.python.org/3/library/collections.html#collections.somenamedtuple._fields) attribute.\n",
    "\n",
    "<div class=\"alert alert-success\">\n",
    "Try <b>this!</b>\n",
    "\n",
    "```python\n",
    "Point3D = namedtuple('Point3D', Point._fields + ('z',))\n",
    "p3D = Point3D(p.x, p.y, 42)\n",
    "print(p3D)\n",
    "```\n",
    "</div>"
   ]
  },
  {
   "cell_type": "code",
   "execution_count": null,
   "id": "20f2f840",
   "metadata": {},
   "outputs": [],
   "source": []
  },
  {
   "cell_type": "markdown",
   "id": "a043c6c7",
   "metadata": {},
   "source": [
    "## Docstrings\n",
    "\n",
    "The **docstrings** of **namedtuples** can be customized by making direct assignments to:  `__doc__` fields.\n",
    "\n",
    "<div class=\"alert alert-success\">\n",
    "Now try <b>this!</b>\n",
    "\n",
    "```python\n",
    "book = namedtuple('Book', ['id', 'title', 'authors'])\n",
    "book.__doc__ += ': Hardcover book in active collection'\n",
    "book.id.__doc__ = '13-digit ISBN'\n",
    "book.title.__doc__ = 'Title of first printing'\n",
    "book.authors.__doc__ = 'List of authors sorted by last name'\n",
    "help(book)\n",
    "```\n",
    "</div>"
   ]
  },
  {
   "cell_type": "code",
   "execution_count": null,
   "id": "20c0f926",
   "metadata": {},
   "outputs": [],
   "source": []
  },
  {
   "cell_type": "markdown",
   "id": "ea5413b0",
   "metadata": {},
   "source": [
    "# Final Last Words\n",
    "\n",
    "For a way to add type hints for **namedtuples**, see [typing.NamedTuple](https://docs.python.org/3/library/typing.html#typing.NamedTuple). It also provides an elegant notation using the [class](https://docs.python.org/3/reference/compound_stmts.html#class) keyword.\n",
    "\n",
    "```python\n",
    "class Component(NamedTuple):\n",
    "    part_number: int\n",
    "    weight: float\n",
    "    description: Optional[str] = None\n",
    "```\n",
    "\n",
    "---\n",
    "\n",
    "See [types.SimpleNamespace()](https://docs.python.org/3/library/types.html#types.SimpleNamespace) for a mutable namespace based on an underlying dictionary instead of a tuple.\n",
    "\n",
    "---\n",
    "\n",
    "The [dataclasses](https://docs.python.org/3/library/dataclasses.html#module-dataclasses) module provides a decorator and functions for automatically adding generated special methods to user-defined classes."
   ]
  }
 ],
 "metadata": {
  "kernelspec": {
   "display_name": "Python 3 (ipykernel)",
   "language": "python",
   "name": "python3"
  },
  "language_info": {
   "codemirror_mode": {
    "name": "ipython",
    "version": 3
   },
   "file_extension": ".py",
   "mimetype": "text/x-python",
   "name": "python",
   "nbconvert_exporter": "python",
   "pygments_lexer": "ipython3",
   "version": "3.10.2"
  }
 },
 "nbformat": 4,
 "nbformat_minor": 5
}
