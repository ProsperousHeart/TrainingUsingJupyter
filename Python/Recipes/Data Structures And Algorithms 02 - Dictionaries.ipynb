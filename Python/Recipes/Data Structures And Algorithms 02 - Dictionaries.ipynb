{
 "cells": [
  {
   "cell_type": "markdown",
   "metadata": {},
   "source": [
    "# Mapping Keys To Multiple Values\n",
    "\n",
    "When creating a dictionary where you wish to store multiple values in a single key, you would usually do something like ...\n",
    "\n",
    "<div class=\"alert alert-info\">\n",
    "    \n",
    "```python\n",
    "d_list = {\n",
    "    'a': [1,2,3],\n",
    "    'b': [4,5]\n",
    "}\n",
    "\n",
    "d_set = {\n",
    "    'a': {1,2,3},\n",
    "    'b': {4,5}\n",
    "}\n",
    "```\n",
    "</div>\n",
    "\n",
    "... or even ...\n",
    "\n",
    "<div class=\"alert alert-info\">\n",
    "    \n",
    "```python\n",
    "d = new dict()\n",
    "d[a] = []\n",
    "d[a].append(1)\n",
    "d[a].append(2)\n",
    "d[b] = [1, 2, 3]\n",
    "```\n",
    "</div>\n",
    "\n",
    "In other words ...\n",
    "\n",
    "<div class=\"alert alert-warning\">\n",
    "\n",
    "```python\n",
    "d = dict()\n",
    "pairs = [('a', 1), ('b', 4), ('a', 2), ('a', 3), ('b', 5)]\n",
    "for key, value in pairs:\n",
    "    if key not in d:\n",
    "        d[key] = []    # or set() - depends on the need\n",
    "    d[key].append(value)\n",
    "```\n",
    "</div>"
   ]
  },
  {
   "cell_type": "code",
   "execution_count": null,
   "metadata": {},
   "outputs": [],
   "source": []
  },
  {
   "cell_type": "markdown",
   "metadata": {},
   "source": [
    "But why clutter up your code when there's other options? Like [defaultdict](https://docs.python.org/3.6/library/collections.html#collections.defaultdict) - which automatically initializes the first value (only need to focus on adding/removing items).\n",
    "\n",
    "<div class=\"alert alert-success\">\n",
    "  <strong>Try this!</strong>\n",
    "    \n",
    "```python\n",
    "d_list = defaultdict(list)\n",
    "d['a'].append(1)\n",
    "d['a'].append(2)\n",
    "d['b'].append(4)\n",
    "    \n",
    "d_set = defaultdict(set)\n",
    "d['a'].add(1)\n",
    "d['a'].add(2)\n",
    "d['b'].add(4)\n",
    "```\n",
    "</div>"
   ]
  },
  {
   "cell_type": "code",
   "execution_count": null,
   "metadata": {},
   "outputs": [],
   "source": []
  },
  {
   "cell_type": "markdown",
   "metadata": {},
   "source": [
    "The downfall is that this forces the dictionary to only be all of that kind of data structures. This is where you can use [defaultdict](https://docs.python.org/3.6/library/stdtypes.html#dict.setdefault), though many programmers find this \"unnatural\" and tedious.\n",
    "\n",
    "<div class=\"alert alert-info\">\n",
    "    \n",
    "```python\n",
    "d = dict()    # 'd = {}' could also work but is ambiguous as a set or dict\n",
    "d.setdefault('a', []).append(1)\n",
    "d.setdefault('a', []).append('stuff')\n",
    "d.setdefault('b', []).append(4)\n",
    "```\n",
    "</div>"
   ]
  },
  {
   "cell_type": "code",
   "execution_count": null,
   "metadata": {},
   "outputs": [],
   "source": []
  },
  {
   "cell_type": "markdown",
   "metadata": {},
   "source": [
    "Bottom line, `defaultdict` leads to cleaner code.\n",
    "\n",
    "<div class=\"alert alert-warning\">\n",
    "\n",
    "```python\n",
    "d = defaultdict(list)    # or set - depends on the need\n",
    "pairs = [('a', 1), ('b', 4), ('a', 2), ('a', 3), ('b', 5)]\n",
    "for key, value in pairs:\n",
    "    d[key].append(value)    # add instead of append for a set\n",
    "```\n",
    "</div>"
   ]
  },
  {
   "cell_type": "code",
   "execution_count": null,
   "metadata": {},
   "outputs": [],
   "source": []
  },
  {
   "cell_type": "markdown",
   "metadata": {},
   "source": [
    "# Keeping Order In An Unordered Dict\n",
    "\n",
    "What if you are looking to have an ordered dict? Perhaps you need to create a mapping to serialize into [JSON](https://www.json.org/) later and want to precisely control the order in your JSON object?\n",
    "\n",
    "Then you'll need to utilize one of my most-often-used objects:  [OrderedDict](https://docs.python.org/3.6/library/collections.html#collections.OrderedDict)\n",
    "\n",
    "<div class=\"alert alert-success\">\n",
    "  <strong>Try this!</strong>\n",
    "    \n",
    "```python\n",
    "from collections import OrderedDict\n",
    "d1 = OrderedDict()\n",
    "d1['a'] = [1, 2, 3]\n",
    "d1['b'] = [4, 5]\n",
    "print(d1)\n",
    "```\n",
    "\n",
    "vs\n",
    "\n",
    "```python\n",
    "from collections import OrderedDict\n",
    "d2 = dict()\n",
    "d2['a'] = [1, 2, 3]\n",
    "d2['b'] = [4, 5]\n",
    "print(d2)\n",
    "```\n",
    "</div>\n",
    "\n",
    "<div class=\"alert alert-warning\">\n",
    "Can you see the difference in the output?\n",
    "</div>"
   ]
  },
  {
   "cell_type": "code",
   "execution_count": null,
   "metadata": {},
   "outputs": [],
   "source": []
  },
  {
   "cell_type": "code",
   "execution_count": null,
   "metadata": {},
   "outputs": [],
   "source": []
  },
  {
   "cell_type": "markdown",
   "metadata": {},
   "source": [
    "# Doing Calculations With Dictionaries\n",
    "\n",
    "Let's say you were looking for the [min](https://docs.python.org/3/library/functions.html#min)/[max](https://docs.python.org/3/library/functions.html#max) of items in your dictionary. Since they both start at the beginning of the iterable provided, it is best to utilize your python [zip()](https://docs.python.org/3.6/library/functions.html#zip) function.\n",
    "\n",
    "This [zip()](https://docs.python.org/3.6/library/functions.html#zip) function creates an iterator that aggregates elements from each of it's iterables. Therefore, whatever the iterables are? They must have the same number of elements or else it will fail.\n",
    "\n",
    "Keep in mind that using this `zip` function, if there is ever multiple values, it will compare the value and then the key.\n",
    "\n",
    "<div class=\"alert alert-success\">\n",
    "  <strong>Try this!</strong>\n",
    "\n",
    "```python\n",
    "portfolio = {\n",
    "    'USDCAD': 1.33198,\n",
    "    'GBPJPY': 148.245,\n",
    "    'AUDCAD': 0.94067,\n",
    "    'XAUUSD': 1296.26\n",
    "}\n",
    "min_price = min(zip(portfolio.values(), portfolio.keys()))\n",
    "max_price = max(zip(portfolio.values(), portfolio.keys()))\n",
    "print(min_price)\n",
    "print(max_price)\n",
    "```\n",
    "</div>"
   ]
  },
  {
   "cell_type": "code",
   "execution_count": null,
   "metadata": {},
   "outputs": [],
   "source": []
  },
  {
   "cell_type": "markdown",
   "metadata": {},
   "source": [
    "<div class=\"alert alert-warning\">\n",
    "What would happen if you were to do:\n",
    "    \n",
    "```python\n",
    "portfolio = {\n",
    "    'USDCAD': 1.33198,\n",
    "    'GBPJPY': 148.245,\n",
    "    'AUDCAD': 0.94067,\n",
    "    'XAUUSD': 1296.26\n",
    "}\n",
    "zipped = zip(portfolio.values(), portfolio.keys())\n",
    "min_price = min(zipped)\n",
    "max_price = max(zipped)\n",
    "print(min_price)\n",
    "print(max_price)\n",
    "```\n",
    "\n",
    "Why or why did it not act the way you expected?\n",
    "\n",
    "<i><b><u>Hint</u>:</b>  The answer was previously provided!</i>\n",
    "</div>"
   ]
  },
  {
   "cell_type": "code",
   "execution_count": null,
   "metadata": {},
   "outputs": [],
   "source": []
  },
  {
   "cell_type": "markdown",
   "metadata": {},
   "source": [
    "Here's another way you could do it, but is not quite as fancy ...\n",
    "\n",
    "<div class=\"alert alert-warning\">\n",
    "\n",
    "```python\n",
    "print(min(portfolio.values()))\n",
    "print(max(portfolio.values()))\n",
    "```\n",
    "\n",
    "So what's different about this vs the zip?\n",
    "</div>"
   ]
  },
  {
   "cell_type": "code",
   "execution_count": null,
   "metadata": {},
   "outputs": [],
   "source": []
  },
  {
   "cell_type": "markdown",
   "metadata": {},
   "source": [
    "Now that you've seen the difference ... How can you get the rest of what you need?\n",
    "\n",
    "Apply a key function - one of the options parameters for `min` and `max`.\n",
    "\n",
    "<div class=\"alert alert-info\">\n",
    "    <b>Try this!</b>\n",
    "    \n",
    "```python\n",
    "portfolio = {\n",
    "    'USDCAD': 1.33198,\n",
    "    'GBPJPY': 148.245,\n",
    "    'AUDCAD': 0.94067,\n",
    "    'XAUUSD': 1296.26\n",
    "}\n",
    "print(min(portfolio, key = lambda pair: portfolio[pair]))\n",
    "print(max(portfolio, key = lambda pair: portfolio[pair]))\n",
    "```\n",
    "</div>"
   ]
  },
  {
   "cell_type": "code",
   "execution_count": null,
   "metadata": {},
   "outputs": [],
   "source": []
  },
  {
   "cell_type": "markdown",
   "metadata": {},
   "source": [
    "<div class=\"alert alert-danger\">\n",
    "    How would you get the value from the above code from <b>portfolio</b>?\n",
    "</div>"
   ]
  },
  {
   "cell_type": "code",
   "execution_count": null,
   "metadata": {},
   "outputs": [],
   "source": []
  },
  {
   "cell_type": "markdown",
   "metadata": {},
   "source": [
    "# Finding Common Data Between Dictionaries\n",
    "\n",
    "What's nifty about dictionaries is that with dictionary keys and items you can use common [set](https://docs.python.org/3/tutorial/datastructures.html#sets) operations to find commonalities, keys in one but not another, and even to filter contents!\n",
    "\n",
    "**NOTE:**  values method does not work because they are not guaranteed to be unique. If you know they are unique, you can convert to a set first to do the needful.\n",
    "\n",
    "<div class=\"alert alert-success\">\n",
    "    <b>Assume the following...</b>\n",
    "    \n",
    "```python\n",
    "studentA = {\n",
    "    'Geography': 82,\n",
    "    'Intro To Python': 100,\n",
    "    'Psychology': 88,\n",
    "    'Leadership': 87\n",
    "}\n",
    "studentB = {\n",
    "    'Intro To Python': 93,\n",
    "    'LISP': 78,\n",
    "    'Leadership': 87,\n",
    "    'Intro To Probability & Statistics': 80\n",
    "}\n",
    "```\n",
    "</div>\n",
    "\n",
    "**Find Keys In Common:**  `studentA.keys() & studentB.keys()`\n",
    "\n",
    "**Find Keys In A But Not B:**  `studentA.keys() - studentB.keys()`\n",
    "\n",
    "**Find (key, val) Pairs In Common:**  `studentA.items() & studentB.items()`"
   ]
  },
  {
   "cell_type": "code",
   "execution_count": null,
   "metadata": {},
   "outputs": [],
   "source": []
  },
  {
   "cell_type": "markdown",
   "metadata": {},
   "source": [
    "## What About Filtering?\n",
    "\n",
    "It's not quite filtering that you can do with [pandas DataFrame](https://pandas.pydata.org/pandas-docs/stable/reference/api/pandas.DataFrame.filter.html), but it can make your resource usage more efficient.\n",
    "\n",
    "Let's say from the above studentA and studentB scenario you only wanted to see the general classes.\n",
    "\n",
    "<div class=\"alert alert-info\">\n",
    "    <b>Try this!</b>\n",
    "    \n",
    "```python\n",
    "non_std = {'Intro To Python', 'Psychology', 'LISP', 'Intro To Probability & Statistics'}\n",
    "students = [studentA, studentB]\n",
    "for idx, student in enumerate(students):\n",
    "    # http://code.activestate.com/recipes/65117-converting-between-ascii-numbers-and-characters/\n",
    "    # https://www.cs.cmu.edu/~pattis/15-1XX/common/handouts/ascii.html\n",
    "    print('student{}:  {}'.format(chr(idx+65), student))\n",
    "    print('Removal of non-standard classes:  {}'.format({key:student[key] for key in student.keys() - non_std}))\n",
    "```\n",
    "</div>"
   ]
  },
  {
   "cell_type": "code",
   "execution_count": null,
   "metadata": {},
   "outputs": [],
   "source": []
  }
 ],
 "metadata": {
  "kernelspec": {
   "display_name": "Python 3",
   "language": "python",
   "name": "python3"
  },
  "language_info": {
   "codemirror_mode": {
    "name": "ipython",
    "version": 3
   },
   "file_extension": ".py",
   "mimetype": "text/x-python",
   "name": "python",
   "nbconvert_exporter": "python",
   "pygments_lexer": "ipython3",
   "version": "3.6.6"
  }
 },
 "nbformat": 4,
 "nbformat_minor": 2
}
