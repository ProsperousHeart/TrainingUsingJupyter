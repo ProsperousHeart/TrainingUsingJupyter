{
 "cells": [
  {
   "cell_type": "markdown",
   "metadata": {},
   "source": [
    "# Unpacking\n",
    "\n",
    "Any object that is an iterable, whether built-in (string, list, tuple, etc) or a custom class will work for unpacking.\n",
    "\n",
    "<div class=\"alert alert-block alert-success\">\n",
    "<b>Try This!</b><br>\n",
    "\n",
    "```python\n",
    "s = \"Hello World!\"\n",
    "s1, s2, s3, s4, s5, s6, s7, s8, s9, s10, s11, s12 = s\n",
    "print(s7)\n",
    "```\n",
    "</div>"
   ]
  },
  {
   "cell_type": "code",
   "execution_count": null,
   "metadata": {},
   "outputs": [],
   "source": []
  },
  {
   "cell_type": "markdown",
   "metadata": {},
   "source": [
    "<div class=\"alert alert-block alert-warning\">\n",
    "<b>Food For Thought:</b><br>\n",
    "What would happen if you didn't have the correct number of items on the left that correlates to the number of items to be unpacked on the right?\n",
    "</div>\n",
    "\n",
    "# What If I Don't Need All Of The Unpacked Data?\n",
    "\n",
    "Sometimes when unpacking, you may not require certain values. There is no special syntax for this, so you can use a throw-away variable.\n",
    "\n",
    "<div class=\"alert alert-block alert-danger\">\n",
    "<b>WARNING!</b><br>If you have data you do not need from unpacking, remember to use your <b>del</b> option to clear up your memory!\n",
    "</div>\n",
    "\n",
    "**Example:**\n",
    "```python\n",
    "data = ['Susie Q', 22, (1986, 7, 15)]\n",
    "_, age, birthdate = data\n",
    "del _\n",
    "```\n",
    "\n",
    "<div class=\"alert alert-block alert-info\">\n",
    "<b>Remember:</b><br>Whatever variable(s) you choose, be mindful that they are not used elsewhere. Otherwise, you will overwrite the data!\n",
    "</div>"
   ]
  },
  {
   "cell_type": "markdown",
   "metadata": {},
   "source": [
    "# What If I Don't Know The Number Of Items To Unpack?\n",
    "\n",
    "This is what is referred to as \"iterables of arbitrary length\" - and if not dealt with properly can cause you a lot of headache."
   ]
  },
  {
   "cell_type": "code",
   "execution_count": null,
   "metadata": {},
   "outputs": [],
   "source": []
  }
 ],
 "metadata": {
  "kernelspec": {
   "display_name": "Python 3",
   "language": "python",
   "name": "python3"
  },
  "language_info": {
   "codemirror_mode": {
    "name": "ipython",
    "version": 3
   },
   "file_extension": ".py",
   "mimetype": "text/x-python",
   "name": "python",
   "nbconvert_exporter": "python",
   "pygments_lexer": "ipython3",
   "version": "3.6.6"
  }
 },
 "nbformat": 4,
 "nbformat_minor": 2
}
