{
 "cells": [
  {
   "cell_type": "markdown",
   "metadata": {},
   "source": [
    "# Remove Duplicates From A Sequence\n",
    "\n",
    "While you have the ability to sort your iterables, it will no longer have the same sequence.\n",
    "\n",
    "Here's a couple of options to remove dupes and still keep your sequence.\n",
    "\n",
    "<div class=\"alert alert-info\">\n",
    "    <b>Assume the following...</b>\n",
    "    \n",
    "```python\n",
    "temp_list = ['duck', 'cat', 'dog', 'deer', 'fish', 'dog', 'rooster', 'lion', 'deer']\n",
    "```\n",
    "</div>\n",
    "\n",
    "<div class=\"alert alert-success\">\n",
    "    <b>Option 1</b>\n",
    "\n",
    "```python\n",
    "def filter_list(input_list:list):\n",
    "    \"\"\"\n",
    "    This function takes in an iterable (tested only for lists).\n",
    "    Returns the same list in order but without duplicates.\n",
    "    \n",
    "    \"\"\"\n",
    "    \n",
    "    temp_list = []\n",
    "    for item in input_list:\n",
    "        if item in temp_list:\n",
    "            continue\n",
    "        temp_list.append(item)\n",
    "    return temp_list\n",
    "print(filter_list(temp_list))\n",
    "```\n",
    "</div>"
   ]
  },
  {
   "cell_type": "code",
   "execution_count": 7,
   "metadata": {},
   "outputs": [
    {
     "name": "stdout",
     "output_type": "stream",
     "text": [
      "['duck', 'cat', 'dog', 'deer', 'fish', 'rooster', 'lion']\n"
     ]
    }
   ],
   "source": [
    "temp_list = ['duck', 'cat', 'dog', 'deer', 'fish', 'dog', 'rooster', 'lion', 'deer']\n",
    "\n",
    "def filter_list(input_list:list):\n",
    "    \"\"\"\n",
    "    This function takes in an iterable (tested only for lists).\n",
    "    Returns the same list in order but without duplicates.\n",
    "\n",
    "    \"\"\"\n",
    "\n",
    "    temp_list = []\n",
    "    for item in input_list:\n",
    "        if item in temp_list:\n",
    "            continue\n",
    "        temp_list.append(item)\n",
    "    return temp_list\n",
    "print(filter_list(temp_list))"
   ]
  },
  {
   "cell_type": "markdown",
   "metadata": {},
   "source": [
    "Here's an alternative and can be used only if the values in the sequence are hashable.\n",
    "\n",
    "<div class=\"alert alert-success\">\n",
    "    <b>Option 2</b>\n",
    "\n",
    "```python\n",
    "temp_list = ['duck', 'cat', 'dog', 'deer', 'fish', 'dog', 'rooster', 'lion', 'deer']\n",
    "\n",
    "def filter_list2(input_data):\n",
    "    \"\"\"\n",
    "    This function takes in a sequence.\n",
    "    Returns the same list in order but without duplicates.\n",
    "\n",
    "    \"\"\"\n",
    "\n",
    "    found = set()\n",
    "    for item in input_data:\n",
    "        if item not in found:\n",
    "            yield item\n",
    "            found.add(item) # no need to keep sequence of what's been seen\n",
    "\n",
    "print(list(filter_list2(temp_list)))\n",
    "```\n",
    "</div>"
   ]
  },
  {
   "cell_type": "code",
   "execution_count": 13,
   "metadata": {},
   "outputs": [
    {
     "name": "stdout",
     "output_type": "stream",
     "text": [
      "['duck', 'cat', 'dog', 'deer', 'fish', 'rooster', 'lion']\n"
     ]
    }
   ],
   "source": [
    "temp_list = ['duck', 'cat', 'dog', 'deer', 'fish', 'dog', 'rooster', 'lion', 'deer']\n",
    "\n",
    "def filter_list2(input_data):\n",
    "    \"\"\"\n",
    "    This function takes in a sequence.\n",
    "    Returns the same list in order but without duplicates.\n",
    "\n",
    "    \"\"\"\n",
    "\n",
    "    found = set()\n",
    "    for item in input_data:\n",
    "        if item not in found:\n",
    "            yield item\n",
    "            found.add(item) # no need to keep sequence of what's been seen\n",
    "\n",
    "print(list(filter_list2(temp_list)))"
   ]
  },
  {
   "cell_type": "markdown",
   "metadata": {},
   "source": [
    "And as always, there is more than one way to code - just [check this out](https://www.peterbe.com/plog/uniqifiers-benchmark)!\n",
    "\n",
    "Now for the examples above ...\n",
    "\n",
    "They both have the same number of lines of code ... \n",
    "Is there a difference?\n",
    "How can you know which is better?\n",
    "\n",
    "By testing!\n",
    "\n",
    "You can [check out these python speed/performance tips](https://wiki.python.org/moin/PythonSpeed/PerformanceTips), use [timeit](https://docs.python.org/3/library/timeit.html), and for the real nitty gritty? Checkout [python profilers](https://docs.python.org/3/library/profile.html).\n",
    "\n",
    "<div class=\"alert alert-info\">\n",
    "    <b>Try this for Option 1!</b>\n",
    "    \n",
    "```python\n",
    "import timeit\n",
    "SETUP = '''def filter_list(input_list:list):\n",
    "    \"\"\"\n",
    "    This function takes in an iterable (tested only for lists).\n",
    "    Returns the same list in order but without duplicates.\n",
    "\n",
    "    \"\"\"\n",
    "\n",
    "    temp_list = []\n",
    "    for item in input_list:\n",
    "        if item in temp_list:\n",
    "            continue\n",
    "        temp_list.append(item)\n",
    "    return temp_list'''\n",
    "TEST_CODE = '''filter_list(['duck', 'cat', 'dog', 'deer', 'fish', 'dog', 'rooster', 'lion', 'deer'])'''\n",
    "print(timeit.timeit(setup=SETUP, stmt=TEST_CODE))\n",
    "```\n",
    "</div>"
   ]
  },
  {
   "cell_type": "code",
   "execution_count": null,
   "metadata": {},
   "outputs": [],
   "source": [
    "temp_list = ['duck', 'cat', 'dog', 'deer', 'fish', 'dog', 'rooster', 'lion', 'deer']\n",
    "\n",
    "def filter_list2(input_data):\n",
    "    \"\"\"\n",
    "    This function takes in a sequence.\n",
    "    Returns the same list in order but without duplicates.\n",
    "\n",
    "    \"\"\"\n",
    "\n",
    "    found = set()\n",
    "    for item in input_data:\n",
    "        if item not in found:\n",
    "            yield item\n",
    "            found.add(item) # no need to keep sequence of what's been seen\n",
    "\n",
    "print(list(filter_list2(temp_list)))"
   ]
  },
  {
   "cell_type": "markdown",
   "metadata": {},
   "source": [
    "<div class=\"alert alert-info\">\n",
    "    <b>Try this for Option 2!</b>\n",
    "    \n",
    "```python\n",
    "import timeit\n",
    "SETUP = '''def filter_list2(input_data):\n",
    "    \"\"\"\n",
    "    This function takes in a sequence.\n",
    "    Returns the same list in order but without duplicates.\n",
    "\n",
    "    \"\"\"\n",
    "\n",
    "    found = set()\n",
    "    for item in input_data:\n",
    "        if item not in found:\n",
    "            yield item\n",
    "            found.add(item) # no need to keep sequence of what's been seen'''\n",
    "TEST_CODE = '''list(filter_list2(['duck', 'cat', 'dog', 'deer', 'fish', 'dog', 'rooster', 'lion', 'deer']))'''\n",
    "print(timeit.timeit(setup=SETUP, stmt=TEST_CODE))\n",
    "```\n",
    "</div>"
   ]
  },
  {
   "cell_type": "code",
   "execution_count": null,
   "metadata": {},
   "outputs": [],
   "source": []
  },
  {
   "cell_type": "markdown",
   "metadata": {},
   "source": [
    "So even though it be fancy ... is it better? Not with this small set. But it might be for a larger one or a different kind of sequence.\n",
    "\n",
    "That's why it's important to know how to test your code and determine which tricks might be best for your needs."
   ]
  },
  {
   "cell_type": "code",
   "execution_count": null,
   "metadata": {},
   "outputs": [],
   "source": [
    "<div class=\"alert alert-info\">\n",
    "    <b>Try this!</b>\n",
    "    \n",
    "```python\n",
    "portfolio = {\n",
    "    'USDCAD': 1.33198,\n",
    "    'GBPJPY': 148.245,\n",
    "    'AUDCAD': 0.94067,\n",
    "    'XAUUSD': 1296.26\n",
    "}\n",
    "print(min(portfolio, key = lambda pair: portfolio[pair]))\n",
    "print(max(portfolio, key = lambda pair: portfolio[pair]))\n",
    "```\n",
    "</div>"
   ]
  }
 ],
 "metadata": {
  "kernelspec": {
   "display_name": "Python 3",
   "language": "python",
   "name": "python3"
  },
  "language_info": {
   "codemirror_mode": {
    "name": "ipython",
    "version": 3
   },
   "file_extension": ".py",
   "mimetype": "text/x-python",
   "name": "python",
   "nbconvert_exporter": "python",
   "pygments_lexer": "ipython3",
   "version": "3.6.6"
  }
 },
 "nbformat": 4,
 "nbformat_minor": 2
}
