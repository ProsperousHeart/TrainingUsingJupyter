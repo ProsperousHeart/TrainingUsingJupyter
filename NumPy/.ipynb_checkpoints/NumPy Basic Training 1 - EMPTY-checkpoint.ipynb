{
 "cells": [
  {
   "cell_type": "markdown",
   "metadata": {},
   "source": [
    "___\n",
    "\n",
    "<a href='https://www.prosperousheart.com/'> <img src='files/learn to code online.png' /></a>\n",
    "___"
   ]
  },
  {
   "cell_type": "markdown",
   "metadata": {},
   "source": [
    "# NumPy \n",
    "\n",
    "NumPy (or Numpy) is a Linear Algebra Library for Python.<br>\n",
    "\n",
    "_**<font color=green>Why is it so important for Data Science with Python?</font>**_\n",
    "\n",
    "- Numpy is incredibly fast, as it has bindings to C libraries\n",
    "\n",
    "- Almost all of the libraries in the PyData Ecosystem rely on NumPy as one of their main building blocks\n",
    "\n",
    "__*[numpy](http://www.numpy.org/)*__ is the core library for scientific computing in Python. \n",
    "\n",
    "It provides a high-performance multidimensional array object, as well as tools for working with these arrays. \n",
    "\n",
    "If you are already familiar with MATLAB, you might find *[this tutorial useful](http://wiki.scipy.org/NumPy_for_Matlab_Users)* to get started with Numpy.\n",
    "\n",
    "For more info on why you would want to use Arrays instead of lists, [check out this great StackOverflow post](http://stackoverflow.com/questions/993984/why-numpy-instead-of-python-lists).\n",
    "\n",
    "We will only learn the basics of NumPy in this notebook. And to get started, we need to install it!"
   ]
  },
  {
   "cell_type": "markdown",
   "metadata": {},
   "source": [
    "## Installation Instructions\n",
    "\n",
    "It is **_highly recommended_** you install Python using the [Anaconda distribution](https://anaconda.org) to make sure all underlying dependencies (such as Linear Algebra libraries) all sync up with the use of a conda install.\n",
    "\n",
    "If you have Anaconda, install NumPy by going to your terminal or command prompt and typing:\n",
    "    \n",
    "    conda install numpy\n",
    "    \n",
    "If you do not have Anaconda and can not install it, **please refer to [Numpy's official documentation on various installation instructions.](http://docs.scipy.org/doc/numpy-1.10.1/user/install.html)**"
   ]
  },
  {
   "cell_type": "markdown",
   "metadata": {},
   "source": [
    "## Using NumPy\n",
    "\n",
    "Once you've installed NumPy you can import it as a library: \n",
    "\n",
    "`import numpy as np`"
   ]
  },
  {
   "cell_type": "code",
   "execution_count": null,
   "metadata": {},
   "outputs": [],
   "source": []
  },
  {
   "cell_type": "markdown",
   "metadata": {},
   "source": [
    "NumPy has many built-in functions and capabilities. In this notebook we will focus on some of the most important aspects of NumPy:\n",
    "- vectors\n",
    "- arrays\n",
    "- matrices\n",
    "- number generation\n",
    "\n",
    "Let's start by discussing basic arrays.\n",
    "\n",
    "# Arrays\n",
    "\n",
    "NumPy arrays are the main way we will use NumPy throughout the course. \n",
    "\n",
    "NumPy arrays essentially come in two flavors:\n",
    "- vectors \n",
    "- matrices\n",
    "\n",
    "**Vectors** are strictly 1-d arrays. (like a list)\n",
    "\n",
    "**Matrices** are 2-d (but you should note a matrix can still have only one row or one column).\n",
    "\n",
    "A numpy *array* is a grid of values, all of the same type, and is indexed by a tuple of nonnegative integers.\n",
    "\n",
    "-  __rank:__ The number of rows in the array\n",
    "-  __shape:__ tuple of integers giving the size of the array along each dimension\n",
    "\n",
    "\n",
    "## Creating NumPy Arrays\n",
    "\n",
    "We can initialize NumPy arrays from nested Python lists, and access elements using square brackets.\n",
    "\n",
    "You can read about other methods (than those listed below) of array creation [in the documentation](http://docs.scipy.org/doc/numpy/user/basics.creation.html#arrays-creation).\n",
    "\n",
    "### From a Python List\n",
    "\n",
    "We can create an array by directly converting a list or list of lists.\n",
    "\n",
    "**ACTION STEPS:**\n",
    "<div class=\"alert alert-block alert-success\">\n",
    "1. Return the value of **int_list**:  a list of integers [1, 4)<br>\n",
    "2. Create an array called **arr1** from that list:  `np.array(your_list)`<br>\n",
    "3. Show the type(**arr1**)<br>\n",
    "4. Show element 2 of **arr1**<br>\n",
    "5. Create **my_matrix** - a 3 element list where each element is made of 3 INTs<br>\n",
    "6. Create an array from **my_matrix** (see number 2 above)</div>"
   ]
  },
  {
   "cell_type": "code",
   "execution_count": null,
   "metadata": {},
   "outputs": [],
   "source": []
  },
  {
   "cell_type": "code",
   "execution_count": null,
   "metadata": {},
   "outputs": [],
   "source": []
  },
  {
   "cell_type": "code",
   "execution_count": null,
   "metadata": {},
   "outputs": [],
   "source": []
  },
  {
   "cell_type": "code",
   "execution_count": null,
   "metadata": {},
   "outputs": [],
   "source": []
  },
  {
   "cell_type": "code",
   "execution_count": null,
   "metadata": {},
   "outputs": [],
   "source": []
  },
  {
   "cell_type": "code",
   "execution_count": null,
   "metadata": {},
   "outputs": [],
   "source": []
  },
  {
   "cell_type": "markdown",
   "metadata": {},
   "source": [
    "## For Multiple Array (Matrix)\n",
    "\n",
    "`np.array(list)[row]` == `var[row]`\n",
    "\n",
    "`np.array(list)[row][col]` == `np.array(list)[row, col]`\n",
    "\n",
    "Action Steps:\n",
    "<div class=\"alert alert-block alert-success\">\n",
    "1. Create a variable **arr_shape2** and create an np.array like:<br>\n",
    "    | 1 | 2 | 3 |<br>\n",
    "    | 4 | 5 | 6 |<br>\n",
    "2. Provide **arr_shape2**'s shape<br>\n",
    "3. Provide **arr_shape2**'s type<br>\n",
    "4. Show element 1 of **arr_shape2**<br>\n",
    "5. Show element 1, column 2 of **arr_shape2**</div>\n",
    "\n",
    "<div class=\"alert alert-block alert-warning\">**Thoughts to Ponder:**<br>\n",
    "1. What other way could you do 5?</div>"
   ]
  },
  {
   "cell_type": "code",
   "execution_count": null,
   "metadata": {},
   "outputs": [],
   "source": []
  },
  {
   "cell_type": "code",
   "execution_count": null,
   "metadata": {},
   "outputs": [],
   "source": []
  },
  {
   "cell_type": "code",
   "execution_count": null,
   "metadata": {},
   "outputs": [],
   "source": []
  },
  {
   "cell_type": "code",
   "execution_count": null,
   "metadata": {},
   "outputs": [],
   "source": []
  },
  {
   "cell_type": "code",
   "execution_count": null,
   "metadata": {},
   "outputs": [],
   "source": []
  },
  {
   "cell_type": "markdown",
   "metadata": {},
   "source": [
    "### zeros ones\n",
    "\n",
    "This section will explain how to generate arrays of zeros.\n",
    "\n",
    "This is for a **numpy** rank 1 of `int1` zeros:\n",
    "\n",
    "`np.zeros(int1)`\n",
    "\n",
    "This is for a **numpy** rank `int1` of `int2` zeros:\n",
    "\n",
    "`np.zeros((int1, int2))`\n",
    "\n",
    "This takes in 2 options for the first & only argument.\n",
    "1. INTEGER - will create an array of 1 row, INT columns\n",
    "2. TUPLE - will create an array of (row, col)\n",
    "\n",
    "**ACTION PLAN:**\n",
    "<div class=\"alert alert block alert-success\">\n",
    "1. Create a **numpy** array of rank 1 of 3 zeros<br>\n",
    "2. Create a **numpy** array of rank 4 of 8 zeros<br</div>"
   ]
  },
  {
   "cell_type": "code",
   "execution_count": null,
   "metadata": {},
   "outputs": [],
   "source": []
  },
  {
   "cell_type": "code",
   "execution_count": null,
   "metadata": {},
   "outputs": [],
   "source": []
  },
  {
   "cell_type": "markdown",
   "metadata": {},
   "source": [
    "### ones\n",
    "\n",
    "This section will explain how to generate arrays of zeros or ones.\n",
    "\n",
    "This is for a **numpy** rank 1 of `int1` ones:\n",
    "\n",
    "`np.ones(int1)`\n",
    "\n",
    "This is for a **numpy** rank `int1` of `int2` ones:\n",
    "\n",
    "`np.ones((int1, int2))`\n",
    "\n",
    "**ACTION PLAN:**\n",
    "<div class=\"alert alert block alert-success\">\n",
    "1. Create a **numpy** array of rank 1 of 3 ones<br>\n",
    "2. Create a **numpy** array of rank 3 of 3 ones</div>"
   ]
  },
  {
   "cell_type": "code",
   "execution_count": null,
   "metadata": {},
   "outputs": [],
   "source": []
  },
  {
   "cell_type": "code",
   "execution_count": null,
   "metadata": {},
   "outputs": [],
   "source": []
  },
  {
   "cell_type": "markdown",
   "metadata": {},
   "source": [
    "### Create A Constant Array\n",
    "\n",
    "If you're looking to create an array full of any number, simply call the **_full()_** function on *numpy* as follows:\n",
    "\n",
    "`np.full((row, col), int_or_float)`\n",
    "\n",
    "**ACTION STEPS:**\n",
    "<div class=\"alert alert-block alert-success\">\n",
    "1. Create a constant array of 5 rows, 8 columns with 1 as the 2nd input parameter.<br>\n",
    "2. Create a constant array of 8 rows, 5 columns with 1.75 as the 2nd input parameter.</div>"
   ]
  },
  {
   "cell_type": "code",
   "execution_count": null,
   "metadata": {},
   "outputs": [],
   "source": []
  },
  {
   "cell_type": "code",
   "execution_count": null,
   "metadata": {},
   "outputs": [],
   "source": []
  },
  {
   "cell_type": "markdown",
   "metadata": {},
   "source": [
    "### linspace\n",
    "Return evenly spaced numbers over a specified interval.\n",
    "\n",
    "`np.linspace(float1, float2, float3)`\n",
    "\n",
    "- float1:  starting float\n",
    "- float2:  ending float\n",
    "- float3:  number of elements requested back\n",
    "\n",
    "**ACTION PLAN:**\n",
    "<div class=\"alert alert-block alert-success\">\n",
    "1. Create an array of 6 evenly spaced numbers from 0 up to and including 42<br>\n",
    "2. Create an array of 50 evenly spaced numbers from 0 up to and including 10<br>\n",
    "3. Show the shape of both</div>"
   ]
  },
  {
   "cell_type": "code",
   "execution_count": null,
   "metadata": {},
   "outputs": [],
   "source": []
  },
  {
   "cell_type": "code",
   "execution_count": null,
   "metadata": {},
   "outputs": [],
   "source": []
  },
  {
   "cell_type": "code",
   "execution_count": null,
   "metadata": {},
   "outputs": [],
   "source": []
  },
  {
   "cell_type": "markdown",
   "metadata": {},
   "source": [
    "## eye\n",
    "\n",
    "Creates an identity matrix.\n",
    "\n",
    "`np.eye(int1)`\n",
    "\n",
    "The INT required input parameter tells how many columns/rows it should create to make a square and fill in the diagonal.\n",
    "\n",
    "**ACTION PLAN:**\n",
    "<div class=\"alert alert-block alert-success\">\n",
    "1. Create a 4 by 4 identity matrix</div>"
   ]
  },
  {
   "cell_type": "code",
   "execution_count": null,
   "metadata": {},
   "outputs": [],
   "source": []
  },
  {
   "cell_type": "markdown",
   "metadata": {},
   "source": [
    "## Random \n",
    "\n",
    "NumPy also has lots of ways to create random number arrays:\n",
    "\n",
    "### rand\n",
    "Create an array of the given shape and populate it with\n",
    "random samples from a uniform distribution\n",
    "over ``[0, 1)``.\n",
    "\n",
    "`np.random.rand(int1)` \n",
    "\n",
    "Creates a vector array of int1 elements with shape (`int1`, ) using random numbers.\n",
    "\n",
    "`np.random.rand(int1, int2)` \n",
    "\n",
    "Creates a matrix with shape (int1, int2) using random data\n",
    "\n",
    "**ACTION PLAN:**\n",
    "<div class=\"alert alert-block alert-success\">\n",
    "1. Create a random array of rank 1 with 2 elements<br>\n",
    "2. Create a random 5 by 5 matrix</div>"
   ]
  },
  {
   "cell_type": "code",
   "execution_count": null,
   "metadata": {},
   "outputs": [],
   "source": []
  },
  {
   "cell_type": "code",
   "execution_count": null,
   "metadata": {},
   "outputs": [],
   "source": []
  },
  {
   "cell_type": "markdown",
   "metadata": {},
   "source": [
    "### randn\n",
    "\n",
    "Return a sample (or samples) from the \"standard normal\" distribution - unlike rand which is uniform.\n",
    "\n",
    "<div class=\"alert alert-block alert-info\">This can include negative floats unlike **rand** function.</div>\n",
    "\n",
    "`np.random.randn(int1)`\n",
    "\n",
    "Creates an array with shape (int1, ) filled with samples from the \"standard normal\" deviation.\n",
    "\n",
    "`np.random.randn(int1, int2)`\n",
    "\n",
    "Creates an array with shape (int1, int2) filled with samples from the \"standard normal\" deviation.\n",
    "\n",
    "**ACTION PLAN:**\n",
    "<div class=\"alert alert-block alert-success\">\n",
    "1. Create a vector array of 2 samples of \"standard normal\" distribution<br>\n",
    "2. Create a 5 by 5 matrix array of \"standard normal\" distribution</div>"
   ]
  },
  {
   "cell_type": "code",
   "execution_count": null,
   "metadata": {},
   "outputs": [],
   "source": []
  },
  {
   "cell_type": "code",
   "execution_count": null,
   "metadata": {},
   "outputs": [],
   "source": []
  },
  {
   "cell_type": "markdown",
   "metadata": {},
   "source": [
    "### randint\n",
    "Return random integers from `low` (inclusive) to `high` (exclusive).\n",
    "\n",
    "`np.random.randint(int1, int2, int3)`\n",
    "\n",
    "If int3 is not provided, this command will return a single INT. Otherwise, an array of shape (`int3`, ) will be returned.\n",
    "\n",
    "**ACTION PLAN:**\n",
    "<div class=\"alert alert-block alert-success\">\n",
    "1. Return a random integer from 1 up to but not including 100<br>\n",
    "2. Create a vector array of 10 random integers from 1 to 100 exclusive</div>"
   ]
  },
  {
   "cell_type": "code",
   "execution_count": null,
   "metadata": {},
   "outputs": [],
   "source": []
  },
  {
   "cell_type": "code",
   "execution_count": null,
   "metadata": {},
   "outputs": [],
   "source": []
  },
  {
   "cell_type": "markdown",
   "metadata": {},
   "source": [
    "# Array Attributes and Methods\n",
    "\n",
    "There are many built-in ways to generate Arrays - here are a few most common ones.\n",
    "\n",
    "## arange\n",
    "\n",
    "`np.arange(int1, int2, int3)`\n",
    "\n",
    "Provides an array of `int3` elements from `start_int` to `stop_int`.\n",
    "\n",
    "`np.arange(0, stop_int)` === `np.arnage(stop_int)`\n",
    "\n",
    "Provides an array of shape (int1, ) filled with integers starting from 0 up to but not including int1.\n",
    "\n",
    "- **1st argument:**  starting point\n",
    "- **2nd argument:**  up to and **not including** point\n",
    "- **3rd argument:**  preferred spacing\n",
    "\n",
    "<div class=\"alert alert-block alert-info\">**NOTE:** If None (or nothing provided) for 3rd argument it will default to 1</div>\n",
    "\n",
    "**ACTION STEPS:**\n",
    "<div class=\"alert alert-block alert-success\">\n",
    "1. Create a range of INTs from 0 to 25 & assign to **arr**<br>\n",
    "2. Create a range of INTs from 0 to 11 with a step of 2</div>"
   ]
  },
  {
   "cell_type": "code",
   "execution_count": null,
   "metadata": {},
   "outputs": [],
   "source": []
  },
  {
   "cell_type": "code",
   "execution_count": null,
   "metadata": {},
   "outputs": [],
   "source": []
  },
  {
   "cell_type": "markdown",
   "metadata": {},
   "source": [
    "## dtype\n",
    "\n",
    "You can also grab the data type of the object in the array.\n",
    "\n",
    "`var.dtype`\n",
    "\n",
    "**ACTION PLAN:**\n",
    "<div class=\"alert alert-block alert-success\">\n",
    "1. Call the dtype attribute for **arr**</div>"
   ]
  },
  {
   "cell_type": "code",
   "execution_count": null,
   "metadata": {},
   "outputs": [],
   "source": []
  },
  {
   "cell_type": "markdown",
   "metadata": {},
   "source": [
    "## max,min,argmax,argmin\n",
    "\n",
    "These are useful methods for finding max or min values.\n",
    "<br>... Or to find their index locations using argmin or argmax.\n",
    "\n",
    "`var.max()`\n",
    "\n",
    "Returns the max value in the array.\n",
    "\n",
    "`var.argmax()`\n",
    "\n",
    "Returns the location (index) of the max value within the array.\n",
    "\n",
    "`var.min()`\n",
    "\n",
    "Returns the min value in the array\n",
    "\n",
    "`var.argmin()`\n",
    "\n",
    "Returns the location (index) of the min value within the array.\n",
    "\n",
    "**ACTION PLAN:**\n",
    "<div class=\"alert alert-block alert-success\">\n",
    "1. Assign **arr** the creation of an array of 25 random values of standard deviation<br>\n",
    "2. Find the max of **arr**<br>\n",
    "3. Find the index of the max of **arr**<br>\n",
    "4. Find the min of **arr**<br>\n",
    "5. Find the index of min of **arr**</div>"
   ]
  },
  {
   "cell_type": "code",
   "execution_count": null,
   "metadata": {},
   "outputs": [],
   "source": []
  },
  {
   "cell_type": "code",
   "execution_count": null,
   "metadata": {},
   "outputs": [],
   "source": []
  },
  {
   "cell_type": "code",
   "execution_count": null,
   "metadata": {},
   "outputs": [],
   "source": []
  },
  {
   "cell_type": "code",
   "execution_count": null,
   "metadata": {},
   "outputs": [],
   "source": []
  },
  {
   "cell_type": "code",
   "execution_count": null,
   "metadata": {},
   "outputs": [],
   "source": []
  },
  {
   "cell_type": "markdown",
   "metadata": {},
   "source": [
    "# Shape\n",
    "\n",
    "Shape is an attribute that arrays have (not a method).\n",
    "\n",
    "`var.shape`\n",
    "\n",
    "Creates a **vector** and returns a 2 element tuple:  *(columns, rows)*\n",
    "\n",
    "#### For Single Array (Vector)\n",
    "\n",
    "Action Steps:\n",
    "<div class=\"alert alert-block alert-success\">\n",
    "1. Create a variable **arr_shape1** and assign it the value of an np.array() with 3 INTs & show result<br>\n",
    "2. Provide **arr_shape1**'s shape<br>\n",
    "3. Provide **arr_shape1**'s type<br>\n",
    "4. Show element 2 of **arr_shape1**</div>"
   ]
  },
  {
   "cell_type": "code",
   "execution_count": null,
   "metadata": {},
   "outputs": [],
   "source": []
  },
  {
   "cell_type": "code",
   "execution_count": null,
   "metadata": {},
   "outputs": [],
   "source": []
  },
  {
   "cell_type": "code",
   "execution_count": null,
   "metadata": {},
   "outputs": [],
   "source": []
  },
  {
   "cell_type": "code",
   "execution_count": null,
   "metadata": {},
   "outputs": [],
   "source": []
  },
  {
   "cell_type": "markdown",
   "metadata": {},
   "source": [
    "## Reshape\n",
    "Returns an array containing the same data with a new shape.\n",
    "\n",
    "`var.reshape(int1, int2)`\n",
    "\n",
    "Where **var** is some variable created for an array of shape `(int1, int2)`\n",
    "\n",
    "<div class=\"alert alert-block alert-info\">**REMEMBER:**<br>\n",
    "_int1 by int2 must create a matrix to fill that size<br><br>In other words ..._<br>\n",
    "- a 5 by 5 matrix will have 25 elements<br>\n",
    "- a 2 by 4 matrix will have 8 elements</div>\n",
    "\n",
    "<div class=\"alert alert-block alert-success\">**EXERCISES:**<br>\n",
    "1. print (or show) **arr**<br>\n",
    "2. Get the shape of vector **arr**<br>\n",
    "2. Reshape **arr** to be 1 row by 25 columns & show results<br>\n",
    "3. Provide the shape of answer to 2<br>\n",
    "4. Reshape **arr** as 25 rows by 1 column<br>\n",
    "5. Show shape of number 4<br>\n",
    "6. reshape **arr** to be 5x4</div>\n",
    "\n",
    "<div class=\"alert alert-block alert-warning\">**Thoughts to Ponder:**<br>\n",
    "1. What did you notice different beween 2 & 4?<br>\n",
    "2. What can you tell about this problem from the error in number 3?</div>"
   ]
  },
  {
   "cell_type": "code",
   "execution_count": null,
   "metadata": {},
   "outputs": [],
   "source": []
  },
  {
   "cell_type": "code",
   "execution_count": null,
   "metadata": {},
   "outputs": [],
   "source": []
  },
  {
   "cell_type": "code",
   "execution_count": null,
   "metadata": {},
   "outputs": [],
   "source": []
  },
  {
   "cell_type": "code",
   "execution_count": null,
   "metadata": {},
   "outputs": [],
   "source": []
  },
  {
   "cell_type": "code",
   "execution_count": null,
   "metadata": {},
   "outputs": [],
   "source": []
  },
  {
   "cell_type": "code",
   "execution_count": null,
   "metadata": {},
   "outputs": [],
   "source": []
  },
  {
   "cell_type": "code",
   "execution_count": null,
   "metadata": {},
   "outputs": [],
   "source": []
  },
  {
   "cell_type": "markdown",
   "metadata": {},
   "source": [
    "# Indexing & Slicing\n",
    "\n",
    "From here we're going to go over how to select elements or groups of elements from an array.\n",
    "\n",
    "**ACTION PLAN:**\n",
    "<div class=\"alert alert-block alert-success\">\n",
    "1. Assign **arr** the value returned from creating a sample array of ranged integers from [0, 11)</div>"
   ]
  },
  {
   "cell_type": "code",
   "execution_count": null,
   "metadata": {},
   "outputs": [],
   "source": []
  },
  {
   "cell_type": "markdown",
   "metadata": {},
   "source": [
    "## Bracket Indexing and Selection\n",
    "\n",
    "The simplest way to pick one or some elements of an array looks very similar to python lists.\n",
    "\n",
    "**ACTION PLAN:**\n",
    "<div class=\"alert alert-block alert-success\">\n",
    "1. Get element 8 of **arr**<br>\n",
    "2. Slice **arr** from element [1, 5)<br>\n",
    "3. Slice **arr** from element [None, 4)<br>\n",
    "4. Slice **arr** from element [0, 3)</div>\n",
    "\n",
    "<div class=\"alert alert-block alert-info\">**REMEMBER:**<br>\n",
    "If you see a None somewhere in documentation, it means you can leave it **_blank_**!!!</div>"
   ]
  },
  {
   "cell_type": "code",
   "execution_count": null,
   "metadata": {},
   "outputs": [],
   "source": []
  },
  {
   "cell_type": "code",
   "execution_count": null,
   "metadata": {},
   "outputs": [],
   "source": []
  },
  {
   "cell_type": "code",
   "execution_count": null,
   "metadata": {},
   "outputs": [],
   "source": []
  },
  {
   "cell_type": "code",
   "execution_count": null,
   "metadata": {},
   "outputs": [],
   "source": []
  },
  {
   "cell_type": "code",
   "execution_count": null,
   "metadata": {},
   "outputs": [],
   "source": []
  },
  {
   "cell_type": "markdown",
   "metadata": {},
   "source": [
    "## Broadcasting\n",
    "\n",
    "NumPy arrays differ from a normal Python list because of their ability to _**broadcast**_.\n",
    "\n",
    "Basically? When you broadcast, it changes all elements to be whatever you _\"broadcast\"_.\n",
    "\n",
    "`var[int1:int2]=int3`\n",
    "\n",
    "**ACTION PLAN:**\n",
    "<div class=\"alert alert-block alert-success\">\n",
    "1. Make the 1st 4 elements in **arr** be 100.<br>\n",
    "2. Assign **arr** the value of an array of a range of integers between 0 and up to excluding 11<br>\n",
    "3. Create a slice of **arr** from 0 up to and including 5 - call it **slice_of_arr**<br>\n",
    "4. Broadcast to entire **slice_of_arr** the value of (INT) 99<br>\n",
    "5. Print **slice_of_arr**<br>\n",
    "6. Print **arr**<br>\n",
    "7. Call the **copy()** function on **arr** and assign to **arr_copy**</div>\n",
    "\n",
    "<div class=\"alert alert-block alert-warning\">**Thoughts To Ponder:**<br>\n",
    "1. (arr == arr_copy) == True ???<br>\n",
    "2. (arr is arr_copy) == True ???</div>"
   ]
  },
  {
   "cell_type": "code",
   "execution_count": null,
   "metadata": {},
   "outputs": [],
   "source": []
  },
  {
   "cell_type": "code",
   "execution_count": null,
   "metadata": {},
   "outputs": [],
   "source": []
  },
  {
   "cell_type": "code",
   "execution_count": null,
   "metadata": {},
   "outputs": [],
   "source": []
  },
  {
   "cell_type": "code",
   "execution_count": null,
   "metadata": {},
   "outputs": [],
   "source": []
  },
  {
   "cell_type": "code",
   "execution_count": null,
   "metadata": {},
   "outputs": [],
   "source": []
  },
  {
   "cell_type": "code",
   "execution_count": null,
   "metadata": {},
   "outputs": [],
   "source": []
  },
  {
   "cell_type": "code",
   "execution_count": null,
   "metadata": {},
   "outputs": [],
   "source": []
  },
  {
   "cell_type": "markdown",
   "metadata": {},
   "source": [
    "## Indexing a 2D array (Matrices)\n",
    "\n",
    "The general format for a indexing a matrix is:\n",
    "\n",
    "- `arr_2d[row][col]`\n",
    "- `arr_2d[row,col]`\n",
    "\n",
    "I recommend usually using the comma notation for clarity.\n",
    "\n",
    "**ACTION PLAN:**\n",
    "<div class=\"alert alert-block alert-success\">\n",
    "1. Create **arr_2d** to be an array of rank 3 with 3 columns where each row is in increments of 5 starting at 5\n",
    "    _**HINT:** [[5, 10, 15], ...]_<br>\n",
    "2. What is row 1 of **arr_2d**?<br>\n",
    "3. What is returned from **arr_2d** at row 1, column 0?<br>\n",
    "4. Write number 3 a different way.<br>\n",
    "5. Create a slice of **arr_2d** from first 2 rows and columns 1 until the end<br>\n",
    "6. Reshape number 5 to be (1, 3)</div>\n",
    "\n",
    "<div class=\"alert alert-block alert-warning\">**Things To Ponder:**<br>\n",
    "- What exactly happened when you called **reshape(int1, int2)**?<br>\n",
    "- How to fix it?</div>"
   ]
  },
  {
   "cell_type": "code",
   "execution_count": null,
   "metadata": {},
   "outputs": [],
   "source": []
  },
  {
   "cell_type": "code",
   "execution_count": null,
   "metadata": {},
   "outputs": [],
   "source": []
  },
  {
   "cell_type": "code",
   "execution_count": null,
   "metadata": {},
   "outputs": [],
   "source": []
  },
  {
   "cell_type": "code",
   "execution_count": null,
   "metadata": {},
   "outputs": [],
   "source": []
  },
  {
   "cell_type": "code",
   "execution_count": null,
   "metadata": {},
   "outputs": [],
   "source": []
  },
  {
   "cell_type": "code",
   "execution_count": null,
   "metadata": {},
   "outputs": [],
   "source": []
  },
  {
   "cell_type": "markdown",
   "metadata": {},
   "source": [
    "## Fancy Indexing\n",
    "\n",
    "Fancy indexing allows you to select entire rows out of order.\n",
    "\n",
    "`some_array[[rowx, ...]]`\n",
    "\n",
    "This will return the rows at each index within the list input.\n",
    "\n",
    "**ACTION PLAN:**\n",
    "<div class=\"alert alert-block alert-success\">\n",
    "1. Assign **arr_2d** a zeros array of 10 by 10<br>\n",
    "2. What is the count of row 1 in **arr_2d**? _(Trick Question!)_<br>\n",
    "3. Assign to **arr_length** the answer to number 2<br>\n",
    "4. For each element in range of the answer to number 2, broadcast the element _(assign the element to that row)_<br>\n",
    "5. Grab rows 6, 2, 4, and 7 from **arr_2d**</div>\n",
    "\n",
    "<div class=\"alert alert-block alert-warning\">**Thoughts To Ponder:**<br>\n",
    "- What did number 4 teach you?</div>"
   ]
  },
  {
   "cell_type": "code",
   "execution_count": null,
   "metadata": {},
   "outputs": [],
   "source": []
  },
  {
   "cell_type": "code",
   "execution_count": null,
   "metadata": {},
   "outputs": [],
   "source": []
  },
  {
   "cell_type": "code",
   "execution_count": null,
   "metadata": {},
   "outputs": [],
   "source": []
  },
  {
   "cell_type": "code",
   "execution_count": null,
   "metadata": {},
   "outputs": [],
   "source": []
  },
  {
   "cell_type": "code",
   "execution_count": null,
   "metadata": {},
   "outputs": [],
   "source": []
  },
  {
   "cell_type": "markdown",
   "metadata": {},
   "source": [
    "## Slicing\n",
    "\n",
    "Similar to Python lists, NumPy arrays can be sliced. Since arrays may be multidimensional, you must specify a slice for each dimension of the array.\n",
    "\n",
    "**ACTION PLAN:**\n",
    "\n",
    "<div class=\"alert alert-block alert-success\">Create the following rank 2 array with shape (3, 4):</div>\n",
    "<div class=\"alert alert-block alert-warning\">[[ 1  2  3  4]<br>[ 5  6  7  8]<br>[ 9 10 11 12]]</div>"
   ]
  },
  {
   "cell_type": "code",
   "execution_count": null,
   "metadata": {},
   "outputs": [],
   "source": []
  },
  {
   "cell_type": "code",
   "execution_count": null,
   "metadata": {},
   "outputs": [],
   "source": []
  },
  {
   "cell_type": "markdown",
   "metadata": {},
   "source": [
    "Slicing with indexes is just like slicing with strings or lists.\n",
    "<div class=\"alert alert-block alert-info\">a = 'I love Python'<br>b = a[7:]    # 'Python'</div>\n",
    "\n",
    "Use slicing to:\n",
    "- pull out the subarray consisting of the first 2 rows and columns 1 and 2 & assign to **b**\n",
    "- ensure **b** has the following array of shape (2, 2)"
   ]
  },
  {
   "cell_type": "code",
   "execution_count": null,
   "metadata": {},
   "outputs": [],
   "source": []
  },
  {
   "cell_type": "markdown",
   "metadata": {},
   "source": [
    "A slice of an array is a view into the same data, so modifying it will modify the original array.\n",
    "\n",
    "Run these commands:\n",
    "<div class=\"alert alert-block alert-warning\">a[0, 1]<br>b[0, 0] = 77<br>a[0, 1]</div>\n",
    "<div class=\"alert alert-block alert-info\">**REMEMBER:** b[0, 0] is the same piece of data as a[0, 1]</div>"
   ]
  },
  {
   "cell_type": "code",
   "execution_count": null,
   "metadata": {},
   "outputs": [],
   "source": []
  },
  {
   "cell_type": "code",
   "execution_count": null,
   "metadata": {},
   "outputs": [],
   "source": []
  },
  {
   "cell_type": "code",
   "execution_count": null,
   "metadata": {},
   "outputs": [],
   "source": []
  },
  {
   "cell_type": "code",
   "execution_count": null,
   "metadata": {},
   "outputs": [],
   "source": []
  },
  {
   "cell_type": "markdown",
   "metadata": {},
   "source": [
    "You can also mix integer indexing with slice indexing. However, doing so will yield an array of lower rank than the original array. Note that this is quite different from the way that MATLAB handles array slicing...\n",
    "\n",
    "Create the following rank 2 array with shape (3, 4):\n",
    "\n",
    "<div class=\"alert alert-block alert-info\">[[ 1  2  3  4]<br>  [ 5  6  7  8]<br>  [ 9 10 11 12]]</div>\n",
    "\n",
    "Here is the code to run:\n",
    "\n",
    "**ACTION PLAN:**\n",
    "<div class=\"alert alert-block alert-success\">\n",
    "1. Create an array of rank 3, where each rank consists of a range of 4 integers from [1:12]</div>"
   ]
  },
  {
   "cell_type": "code",
   "execution_count": null,
   "metadata": {},
   "outputs": [],
   "source": []
  },
  {
   "cell_type": "markdown",
   "metadata": {},
   "source": [
    "There are two ways of accessing the data in the middle row of the array.\n",
    "1. Mixing integer indexing with slices yields an array of lower rank\n",
    "2. Using only slices yields an array of the same rank as the original array\n",
    "\n",
    "**ACTION PLAN:**\n",
    "<div class=\"alert alert-block alert-success\">\n",
    "1. Print **a** and it's shape<br>\n",
    "2. Create variable row_r1 that has a rank 1 view of the 2nd row of a<br>\n",
    "2. Create variable row_r2 that has rank 2 view of the 2nd row of a</div>\n",
    "    \n",
    "<div class=\"alert alert-block alert-info\">**REMEMBER:**  A \"rank\" is the row of a matrix.</div>\n",
    "\n",
    "<div class=\"alert alert-block alert-warning\">**Thoughts to Ponder:**<br>\n",
    "1. (row_r1 == row_r2) == True?<br>\n",
    "2. (row_r1 is row_r2) == True?<br>\n",
    "3. (a[1, :] is row_r1) == True?<br>\n",
    "4. (row_r2 is a[1:2, :]) == True?<div>"
   ]
  },
  {
   "cell_type": "code",
   "execution_count": null,
   "metadata": {},
   "outputs": [],
   "source": []
  },
  {
   "cell_type": "code",
   "execution_count": null,
   "metadata": {},
   "outputs": [],
   "source": []
  },
  {
   "cell_type": "code",
   "execution_count": null,
   "metadata": {},
   "outputs": [],
   "source": []
  },
  {
   "cell_type": "code",
   "execution_count": null,
   "metadata": {},
   "outputs": [],
   "source": []
  },
  {
   "cell_type": "code",
   "execution_count": null,
   "metadata": {},
   "outputs": [],
   "source": []
  },
  {
   "cell_type": "code",
   "execution_count": null,
   "metadata": {},
   "outputs": [],
   "source": []
  },
  {
   "cell_type": "code",
   "execution_count": null,
   "metadata": {},
   "outputs": [],
   "source": []
  },
  {
   "cell_type": "markdown",
   "metadata": {},
   "source": [
    "We can make the same distinction when accessing columns of an array...\n",
    "\n",
    "**ACTION PLAN:**\n",
    "<div class=\"alert alert-block alert-success\">\n",
    "1. print **a**<br>\n",
    "2. Assign **col_r1** the slice of a for all rows for column 1<br>\n",
    "3. Print **col_r1** and it's shape<br>\n",
    "4. Assign **col_r2** the slice of **a** for all rows between columns [1, 2)<br>\n",
    "5. print **col_r2** and it's shape</div>"
   ]
  },
  {
   "cell_type": "code",
   "execution_count": null,
   "metadata": {},
   "outputs": [],
   "source": []
  },
  {
   "cell_type": "code",
   "execution_count": null,
   "metadata": {},
   "outputs": [],
   "source": []
  },
  {
   "cell_type": "code",
   "execution_count": null,
   "metadata": {},
   "outputs": [],
   "source": []
  },
  {
   "cell_type": "markdown",
   "metadata": {},
   "source": [
    "In other words:\n",
    "- `a[:, 1]` is taking all of the rows of the first column and creating a 1 by x matrix (aka:  array)\n",
    "- `a[:,1:2]` is taking all rows of the columns between 1 and up to not including 2 in order to create an x by 1 column matrix\n",
    "\n",
    "Try this on for size:\n",
    "<div class=\"alert alert-block alert-warning\">print(a, a.shape)<br>print(a[:, 1], a[:, 1].shape)<br>print(a[:, :1], a[:, :1].shape)<br>print(a[:,2:], a[:,2:].shape)<br>print(a[:, 2:4], a[:, 2:4].shape)<br>print(a, a.shape)<br>print(a[1:,2:], a[1:,2:].shape)<div>"
   ]
  },
  {
   "cell_type": "code",
   "execution_count": null,
   "metadata": {},
   "outputs": [],
   "source": []
  },
  {
   "cell_type": "code",
   "execution_count": null,
   "metadata": {},
   "outputs": [],
   "source": []
  },
  {
   "cell_type": "code",
   "execution_count": null,
   "metadata": {},
   "outputs": [],
   "source": []
  },
  {
   "cell_type": "code",
   "execution_count": null,
   "metadata": {},
   "outputs": [],
   "source": []
  },
  {
   "cell_type": "code",
   "execution_count": null,
   "metadata": {},
   "outputs": [],
   "source": []
  },
  {
   "cell_type": "code",
   "execution_count": null,
   "metadata": {},
   "outputs": [],
   "source": []
  },
  {
   "cell_type": "code",
   "execution_count": null,
   "metadata": {},
   "outputs": [],
   "source": []
  },
  {
   "cell_type": "markdown",
   "metadata": {},
   "source": [
    "## Integer Array Indexing\n",
    "\n",
    "This feature is useful when selecting or mutating a single element from each row of a matrix.\n",
    "\n",
    "`arr_matrix[[row_x, ...], [col_a, ...]]`\n",
    "\n",
    "**ACTION PLAN:**\n",
    "<div class=\"alert alert-block alert-success\">\n",
    "1. Create matrix **a** as a 3 by 2 matrix of integers from 1 up to and including 6<br>\n",
    "2. Print an array of elements at (0, 0), (1, 1), and (2,0)<br>\n",
    "3. Print an array of elements at (0,1) and (0,1)</div>\n",
    "\n",
    "<div class=\"alert alert-class alert-warning\">**Thoughts To Ponder:**<br>\n",
    "Did number 3 break? Why or why not?</div>"
   ]
  },
  {
   "cell_type": "code",
   "execution_count": null,
   "metadata": {},
   "outputs": [],
   "source": []
  },
  {
   "cell_type": "code",
   "execution_count": null,
   "metadata": {},
   "outputs": [],
   "source": []
  },
  {
   "cell_type": "code",
   "execution_count": null,
   "metadata": {},
   "outputs": [],
   "source": []
  },
  {
   "cell_type": "markdown",
   "metadata": {},
   "source": [
    "This feature is useful when selecting or mutating a single element from each row of a matrix.\n",
    "\n",
    "**ACTION PLAN:**\n",
    "<div class=\"alert alert-block alert-success\">\n",
    "1. Reassign **a** to a 4 by 3 array of arrays from 1 up to and including 12<br>\n",
    "2. Create an array **b** of 4 integers, each between [0, 3)<br>\n",
    "3. Add 10 to the section of **a** where row input is a range [0, 4) and column input is **b**</div>\n",
    "\n",
    "<div class=\"alert alert-class alert-warning\">**Thoughts To Ponder:**<br>\n",
    "What exactly did you just do?</div>"
   ]
  },
  {
   "cell_type": "code",
   "execution_count": null,
   "metadata": {},
   "outputs": [],
   "source": []
  },
  {
   "cell_type": "code",
   "execution_count": null,
   "metadata": {},
   "outputs": [],
   "source": []
  },
  {
   "cell_type": "code",
   "execution_count": null,
   "metadata": {},
   "outputs": [],
   "source": []
  },
  {
   "cell_type": "markdown",
   "metadata": {},
   "source": [
    "## Boolean Array Indexing (Selection)\n",
    "\n",
    "This section will briefly go over how to use brackets for selection based off of comparison operators.\n",
    "\n",
    "1. If you add a comparison operator to an array such as `np.arange(1, 11)` you receive a new array of booleans.\n",
    "\n",
    "2. When you apply that array of **_bools_** to the original array you get back only the ones that are **_True_**\n",
    "\n",
    "`some_array(some_bool)`\n",
    "\n",
    "Frequently used to select elements of an array that satisfy some condition.\n",
    "\n",
    "**ACTION PLAN:**\n",
    "<div class=\"alert alert-class alert-success\">\n",
    "1. Create **bool_idx** and assign the value of **a > 10**<br>\n",
    "2. Print the value of **a** at \"index\" **bool_idx**<br></div>"
   ]
  },
  {
   "cell_type": "code",
   "execution_count": null,
   "metadata": {},
   "outputs": [],
   "source": []
  },
  {
   "cell_type": "code",
   "execution_count": null,
   "metadata": {},
   "outputs": [],
   "source": []
  },
  {
   "cell_type": "markdown",
   "metadata": {},
   "source": [
    "## More Indexing Help\n",
    "\n",
    "If you would like to learn more, please <a href='http://docs.scipy.org/doc/numpy/reference/arrays.indexing.html'>read the documentation</a>.\n",
    "\n",
    "Indexing a 2d matrix can be a bit confusing at first, especially when you start to add in step size.\n",
    "\n",
    "Try google image searching **_NumPy indexing_** to find useful images, like this one:\n",
    "\n",
    "<img src= 'https://www.safaribooksonline.com/library/view/python-for-data/9781449323592/httpatomoreillycomsourceoreillyimages1346882.png' width=500/>\n"
   ]
  },
  {
   "cell_type": "markdown",
   "metadata": {},
   "source": [
    "# Congratulations!\n",
    "\n",
    "You have now completed part 1 of the basic training on working with **NumPy**!"
   ]
  },
  {
   "cell_type": "code",
   "execution_count": null,
   "metadata": {},
   "outputs": [],
   "source": []
  }
 ],
 "metadata": {
  "kernelspec": {
   "display_name": "Python 3",
   "language": "python",
   "name": "python3"
  },
  "language_info": {
   "codemirror_mode": {
    "name": "ipython",
    "version": 3
   },
   "file_extension": ".py",
   "mimetype": "text/x-python",
   "name": "python",
   "nbconvert_exporter": "python",
   "pygments_lexer": "ipython3",
   "version": "3.6.4"
  }
 },
 "nbformat": 4,
 "nbformat_minor": 2
}
