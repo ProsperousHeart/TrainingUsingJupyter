{
 "cells": [
  {
   "cell_type": "markdown",
   "metadata": {},
   "source": [
    "___\n",
    "\n",
    "<a href='https://www.prosperousheart.com/'> <img src='files/learn to code online.png' /></a>\n",
    "___"
   ]
  },
  {
   "cell_type": "markdown",
   "metadata": {},
   "source": [
    "# NumPy \n",
    "\n",
    "NumPy (or Numpy) is a Linear Algebra Library for Python.<br>\n",
    "\n",
    "_**<font color=green>Why is it so important for Data Science with Python?</font>**_\n",
    "\n",
    "- Numpy is incredibly fast, as it has bindings to C libraries\n",
    "\n",
    "- Almost all of the libraries in the PyData Ecosystem rely on NumPy as one of their main building blocks\n",
    "\n",
    "__*[numpy](http://www.numpy.org/)*__ is the core library for scientific computing in Python. \n",
    "\n",
    "It provides a high-performance multidimensional array object, as well as tools for working with these arrays. \n",
    "\n",
    "If you are already familiar with MATLAB, you might find *[this tutorial useful](http://wiki.scipy.org/NumPy_for_Matlab_Users)* to get started with Numpy.\n",
    "\n",
    "For more info on why you would want to use Arrays instead of lists, [check out this great StackOverflow post](http://stackoverflow.com/questions/993984/why-numpy-instead-of-python-lists).\n",
    "\n",
    "We will only learn the basics of NumPy in this notebook. And to get started, we need to install it!"
   ]
  },
  {
   "cell_type": "markdown",
   "metadata": {},
   "source": [
    "## Installation Instructions\n",
    "\n",
    "It is **_highly recommended_** you install Python using the [Anaconda distribution](https://anaconda.org) to make sure all underlying dependencies (such as Linear Algebra libraries) all sync up with the use of a conda install.\n",
    "\n",
    "If you have Anaconda, install NumPy by going to your terminal or command prompt and typing:\n",
    "    \n",
    "    conda install numpy\n",
    "    \n",
    "If you do not have Anaconda and can not install it, **please refer to [Numpy's official documentation on various installation instructions.](http://docs.scipy.org/doc/numpy-1.10.1/user/install.html)**"
   ]
  },
  {
   "cell_type": "markdown",
   "metadata": {},
   "source": [
    "## Using NumPy\n",
    "\n",
    "Once you've installed NumPy you can import it as a library: \n",
    "\n",
    "`import numpy as np`"
   ]
  },
  {
   "cell_type": "code",
   "execution_count": 109,
   "metadata": {},
   "outputs": [],
   "source": [
    "import numpy as np"
   ]
  },
  {
   "cell_type": "markdown",
   "metadata": {},
   "source": [
    "NumPy has many built-in functions and capabilities. In this notebook we will focus on some of the most important aspects of NumPy:\n",
    "- vectors\n",
    "- arrays\n",
    "- matrices\n",
    "- number generation\n",
    "\n",
    "Let's start by discussing basic arrays.\n",
    "\n",
    "# Arrays\n",
    "\n",
    "NumPy arrays are the main way we will use NumPy throughout the course. \n",
    "\n",
    "NumPy arrays essentially come in two flavors:\n",
    "- vectors \n",
    "- matrices\n",
    "\n",
    "**Vectors** are strictly 1-d arrays. (like a list)\n",
    "\n",
    "**Matrices** are 2-d (but you should note a matrix can still have only one row or one column).\n",
    "\n",
    "A numpy *array* is a grid of values, all of the same type, and is indexed by a tuple of nonnegative integers.\n",
    "\n",
    "-  __rank:__ The number of rows in the array\n",
    "-  __shape:__ tuple of integers giving the size of the array along each dimension\n",
    "\n",
    "\n",
    "## Creating NumPy Arrays\n",
    "\n",
    "We can initialize NumPy arrays from nested Python lists, and access elements using square brackets.\n",
    "\n",
    "You can read about other methods (than those listed below) of array creation [in the documentation](http://docs.scipy.org/doc/numpy/user/basics.creation.html#arrays-creation).\n",
    "\n",
    "### From a Python List\n",
    "\n",
    "We can create an array by directly converting a list or list of lists.\n",
    "\n",
    "**ACTION STEPS:**\n",
    "<div class=\"alert alert-block alert-success\">\n",
    "1. Return the value of **int_list**:  a list of integers [1, 4)<br>\n",
    "2. Create an array called **arr1** from that list:  `np.array(your_list)`<br>\n",
    "3. Show the type(**arr1**)<br>\n",
    "4. Show element 2 of **arr1**<br>\n",
    "5. Create **my_matrix** - a 3 element list where each element is made of 3 INTs<br>\n",
    "6. Create an array from **my_matrix** (see number 2 above)</div>"
   ]
  },
  {
   "cell_type": "code",
   "execution_count": 110,
   "metadata": {},
   "outputs": [
    {
     "data": {
      "text/plain": [
       "[1, 2, 3]"
      ]
     },
     "execution_count": 110,
     "metadata": {},
     "output_type": "execute_result"
    }
   ],
   "source": [
    "int_list = [1, 2, 3]\n",
    "int_list"
   ]
  },
  {
   "cell_type": "code",
   "execution_count": 111,
   "metadata": {},
   "outputs": [
    {
     "data": {
      "text/plain": [
       "array([1, 2, 3])"
      ]
     },
     "execution_count": 111,
     "metadata": {},
     "output_type": "execute_result"
    }
   ],
   "source": [
    "arr1 = np.array(int_list)\n",
    "arr1"
   ]
  },
  {
   "cell_type": "code",
   "execution_count": 112,
   "metadata": {},
   "outputs": [
    {
     "data": {
      "text/plain": [
       "numpy.ndarray"
      ]
     },
     "execution_count": 112,
     "metadata": {},
     "output_type": "execute_result"
    }
   ],
   "source": [
    "type(arr1)"
   ]
  },
  {
   "cell_type": "code",
   "execution_count": 113,
   "metadata": {},
   "outputs": [
    {
     "data": {
      "text/plain": [
       "3"
      ]
     },
     "execution_count": 113,
     "metadata": {},
     "output_type": "execute_result"
    }
   ],
   "source": [
    "arr1[2]"
   ]
  },
  {
   "cell_type": "code",
   "execution_count": 114,
   "metadata": {},
   "outputs": [
    {
     "name": "stdout",
     "output_type": "stream",
     "text": [
      "[[1, 2, 3], [4, 5, 6], [7, 8, 9]]\n"
     ]
    }
   ],
   "source": [
    "my_matrix = [[1, 2, 3], [4, 5, 6], [7, 8, 9]]\n",
    "print(my_matrix)"
   ]
  },
  {
   "cell_type": "code",
   "execution_count": 115,
   "metadata": {},
   "outputs": [
    {
     "name": "stdout",
     "output_type": "stream",
     "text": [
      "[[1 2 3]\n",
      " [4 5 6]\n",
      " [7 8 9]]\n"
     ]
    }
   ],
   "source": [
    "print(np.array(my_matrix))"
   ]
  },
  {
   "cell_type": "markdown",
   "metadata": {},
   "source": [
    "## For Multiple Array (Matrix)\n",
    "\n",
    "`np.array(list)[row]` == `var[row]`\n",
    "\n",
    "`np.array(list)[row][col]` == `np.array(list)[row, col]`\n",
    "\n",
    "Action Steps:\n",
    "<div class=\"alert alert-block alert-success\">\n",
    "1. Create a variable **arr_shape2** and create an np.array like:<br>\n",
    "    | 1 | 2 | 3 |<br>\n",
    "    | 4 | 5 | 6 |<br>\n",
    "2. Provide **arr_shape2**'s shape<br>\n",
    "3. Provide **arr_shape2**'s type<br>\n",
    "4. Show element 1 of **arr_shape2**<br>\n",
    "5. Show element 1, column 2 of **arr_shape2**</div>\n",
    "\n",
    "<div class=\"alert alert-block alert-warning\">**Thoughts to Ponder:**<br>\n",
    "1. What other way could you do 5?</div>"
   ]
  },
  {
   "cell_type": "code",
   "execution_count": 116,
   "metadata": {},
   "outputs": [
    {
     "name": "stdout",
     "output_type": "stream",
     "text": [
      "[[1 2 3]\n",
      " [4 5 6]]\n"
     ]
    }
   ],
   "source": [
    "arr_shape2 = np.array([[1, 2, 3], [4, 5, 6]])\n",
    "print(arr_shape2)"
   ]
  },
  {
   "cell_type": "code",
   "execution_count": 117,
   "metadata": {},
   "outputs": [
    {
     "data": {
      "text/plain": [
       "(2, 3)"
      ]
     },
     "execution_count": 117,
     "metadata": {},
     "output_type": "execute_result"
    }
   ],
   "source": [
    "arr_shape2.shape"
   ]
  },
  {
   "cell_type": "code",
   "execution_count": 118,
   "metadata": {},
   "outputs": [
    {
     "data": {
      "text/plain": [
       "numpy.ndarray"
      ]
     },
     "execution_count": 118,
     "metadata": {},
     "output_type": "execute_result"
    }
   ],
   "source": [
    "type(arr_shape2)"
   ]
  },
  {
   "cell_type": "code",
   "execution_count": 119,
   "metadata": {},
   "outputs": [
    {
     "data": {
      "text/plain": [
       "array([4, 5, 6])"
      ]
     },
     "execution_count": 119,
     "metadata": {},
     "output_type": "execute_result"
    }
   ],
   "source": [
    "arr_shape2[1]"
   ]
  },
  {
   "cell_type": "code",
   "execution_count": 120,
   "metadata": {},
   "outputs": [
    {
     "name": "stdout",
     "output_type": "stream",
     "text": [
      "6\n",
      "6\n"
     ]
    }
   ],
   "source": [
    "print(arr_shape2[1, 2])\n",
    "print(arr_shape2[1][2])"
   ]
  },
  {
   "cell_type": "markdown",
   "metadata": {},
   "source": [
    "### zeros ones\n",
    "\n",
    "This section will explain how to generate arrays of zeros.\n",
    "\n",
    "This is for a **numpy** rank 1 of `int1` zeros:\n",
    "\n",
    "`np.zeros(int1)`\n",
    "\n",
    "This is for a **numpy** rank `int1` of `int2` zeros:\n",
    "\n",
    "`np.zeros((int1, int2))`\n",
    "\n",
    "This takes in 2 options for the first & only argument.\n",
    "1. INTEGER - will create an array of 1 row, INT columns\n",
    "2. TUPLE - will create an array of (row, col)\n",
    "\n",
    "**ACTION PLAN:**\n",
    "<div class=\"alert alert block alert-success\">\n",
    "1. Create a **numpy** array of rank 1 of 3 zeros<br>\n",
    "2. Create a **numpy** array of rank 4 of 8 zeros<br</div>"
   ]
  },
  {
   "cell_type": "code",
   "execution_count": 121,
   "metadata": {},
   "outputs": [
    {
     "data": {
      "text/plain": [
       "array([0., 0., 0.])"
      ]
     },
     "execution_count": 121,
     "metadata": {},
     "output_type": "execute_result"
    }
   ],
   "source": [
    "np.zeros(3)"
   ]
  },
  {
   "cell_type": "code",
   "execution_count": 122,
   "metadata": {},
   "outputs": [
    {
     "data": {
      "text/plain": [
       "array([[0., 0., 0., 0., 0., 0., 0., 0.],\n",
       "       [0., 0., 0., 0., 0., 0., 0., 0.],\n",
       "       [0., 0., 0., 0., 0., 0., 0., 0.],\n",
       "       [0., 0., 0., 0., 0., 0., 0., 0.]])"
      ]
     },
     "execution_count": 122,
     "metadata": {},
     "output_type": "execute_result"
    }
   ],
   "source": [
    "np.zeros((4, 8))"
   ]
  },
  {
   "cell_type": "markdown",
   "metadata": {},
   "source": [
    "### ones\n",
    "\n",
    "This section will explain how to generate arrays of zeros or ones.\n",
    "\n",
    "This is for a **numpy** rank 1 of `int1` ones:\n",
    "\n",
    "`np.ones(int1)`\n",
    "\n",
    "This is for a **numpy** rank `int1` of `int2` ones:\n",
    "\n",
    "`np.ones((int1, int2))`\n",
    "\n",
    "**ACTION PLAN:**\n",
    "<div class=\"alert alert block alert-success\">\n",
    "1. Create a **numpy** array of rank 1 of 3 ones<br>\n",
    "2. Create a **numpy** array of rank 3 of 3 ones</div>"
   ]
  },
  {
   "cell_type": "code",
   "execution_count": 123,
   "metadata": {},
   "outputs": [
    {
     "data": {
      "text/plain": [
       "array([1., 1., 1.])"
      ]
     },
     "execution_count": 123,
     "metadata": {},
     "output_type": "execute_result"
    }
   ],
   "source": [
    "np.ones(3)"
   ]
  },
  {
   "cell_type": "code",
   "execution_count": 124,
   "metadata": {},
   "outputs": [
    {
     "data": {
      "text/plain": [
       "array([[1., 1., 1.],\n",
       "       [1., 1., 1.],\n",
       "       [1., 1., 1.]])"
      ]
     },
     "execution_count": 124,
     "metadata": {},
     "output_type": "execute_result"
    }
   ],
   "source": [
    "np.ones((3, 3))"
   ]
  },
  {
   "cell_type": "markdown",
   "metadata": {},
   "source": [
    "### Create A Constant Array\n",
    "\n",
    "If you're looking to create an array full of any number, simply call the **_full()_** function on *numpy* as follows:\n",
    "\n",
    "`np.full((row, col), int_or_float)`\n",
    "\n",
    "**ACTION STEPS:**\n",
    "<div class=\"alert alert-block alert-success\">\n",
    "1. Create a constant array of 5 rows, 8 columns with 1 as the 2nd input parameter.<br>\n",
    "2. Create a constant array of 8 rows, 5 columns with 1.75 as the 2nd input parameter.</div>"
   ]
  },
  {
   "cell_type": "code",
   "execution_count": 125,
   "metadata": {},
   "outputs": [
    {
     "data": {
      "text/plain": [
       "array([[1, 1, 1, 1, 1, 1, 1, 1],\n",
       "       [1, 1, 1, 1, 1, 1, 1, 1],\n",
       "       [1, 1, 1, 1, 1, 1, 1, 1],\n",
       "       [1, 1, 1, 1, 1, 1, 1, 1],\n",
       "       [1, 1, 1, 1, 1, 1, 1, 1]])"
      ]
     },
     "execution_count": 125,
     "metadata": {},
     "output_type": "execute_result"
    }
   ],
   "source": [
    "np.full((5, 8), 1)"
   ]
  },
  {
   "cell_type": "code",
   "execution_count": 126,
   "metadata": {},
   "outputs": [
    {
     "data": {
      "text/plain": [
       "array([[1.75, 1.75, 1.75, 1.75, 1.75],\n",
       "       [1.75, 1.75, 1.75, 1.75, 1.75],\n",
       "       [1.75, 1.75, 1.75, 1.75, 1.75],\n",
       "       [1.75, 1.75, 1.75, 1.75, 1.75],\n",
       "       [1.75, 1.75, 1.75, 1.75, 1.75],\n",
       "       [1.75, 1.75, 1.75, 1.75, 1.75],\n",
       "       [1.75, 1.75, 1.75, 1.75, 1.75],\n",
       "       [1.75, 1.75, 1.75, 1.75, 1.75]])"
      ]
     },
     "execution_count": 126,
     "metadata": {},
     "output_type": "execute_result"
    }
   ],
   "source": [
    "np.full((8, 5), 1.75)"
   ]
  },
  {
   "cell_type": "markdown",
   "metadata": {},
   "source": [
    "### linspace\n",
    "Return evenly spaced numbers over a specified interval.\n",
    "\n",
    "`np.linspace(float1, float2, float3)`\n",
    "\n",
    "- float1:  starting float\n",
    "- float2:  ending float\n",
    "- float3:  number of elements requested back\n",
    "\n",
    "**ACTION PLAN:**\n",
    "<div class=\"alert alert-block alert-success\">\n",
    "1. Create an array of 6 evenly spaced numbers from 0 up to and including 42<br>\n",
    "2. Create an array of 50 evenly spaced numbers from 0 up to and including 10<br>\n",
    "3. Show the shape of both</div>"
   ]
  },
  {
   "cell_type": "code",
   "execution_count": 127,
   "metadata": {},
   "outputs": [
    {
     "data": {
      "text/plain": [
       "array([ 0. ,  8.4, 16.8, 25.2, 33.6, 42. ])"
      ]
     },
     "execution_count": 127,
     "metadata": {},
     "output_type": "execute_result"
    }
   ],
   "source": [
    "np.linspace(0, 42, 6)"
   ]
  },
  {
   "cell_type": "code",
   "execution_count": 128,
   "metadata": {},
   "outputs": [
    {
     "data": {
      "text/plain": [
       "array([ 0.        ,  0.20408163,  0.40816327,  0.6122449 ,  0.81632653,\n",
       "        1.02040816,  1.2244898 ,  1.42857143,  1.63265306,  1.83673469,\n",
       "        2.04081633,  2.24489796,  2.44897959,  2.65306122,  2.85714286,\n",
       "        3.06122449,  3.26530612,  3.46938776,  3.67346939,  3.87755102,\n",
       "        4.08163265,  4.28571429,  4.48979592,  4.69387755,  4.89795918,\n",
       "        5.10204082,  5.30612245,  5.51020408,  5.71428571,  5.91836735,\n",
       "        6.12244898,  6.32653061,  6.53061224,  6.73469388,  6.93877551,\n",
       "        7.14285714,  7.34693878,  7.55102041,  7.75510204,  7.95918367,\n",
       "        8.16326531,  8.36734694,  8.57142857,  8.7755102 ,  8.97959184,\n",
       "        9.18367347,  9.3877551 ,  9.59183673,  9.79591837, 10.        ])"
      ]
     },
     "execution_count": 128,
     "metadata": {},
     "output_type": "execute_result"
    }
   ],
   "source": [
    "np.linspace(0, 10, 50)"
   ]
  },
  {
   "cell_type": "code",
   "execution_count": 129,
   "metadata": {},
   "outputs": [
    {
     "name": "stdout",
     "output_type": "stream",
     "text": [
      "(6,)\n",
      "(50,)\n"
     ]
    }
   ],
   "source": [
    "print(np.linspace(0, 42, 6).shape)\n",
    "print(np.linspace(0, 10, 50).shape)"
   ]
  },
  {
   "cell_type": "markdown",
   "metadata": {},
   "source": [
    "## eye\n",
    "\n",
    "Creates an identity matrix.\n",
    "\n",
    "`np.eye(int1)`\n",
    "\n",
    "The INT required input parameter tells how many columns/rows it should create to make a square and fill in the diagonal.\n",
    "\n",
    "**ACTION PLAN:**\n",
    "<div class=\"alert alert-block alert-success\">\n",
    "1. Create a 4 by 4 identity matrix</div>"
   ]
  },
  {
   "cell_type": "code",
   "execution_count": 130,
   "metadata": {},
   "outputs": [
    {
     "data": {
      "text/plain": [
       "array([[1., 0., 0., 0.],\n",
       "       [0., 1., 0., 0.],\n",
       "       [0., 0., 1., 0.],\n",
       "       [0., 0., 0., 1.]])"
      ]
     },
     "execution_count": 130,
     "metadata": {},
     "output_type": "execute_result"
    }
   ],
   "source": [
    "np.eye(4)"
   ]
  },
  {
   "cell_type": "markdown",
   "metadata": {},
   "source": [
    "## Random \n",
    "\n",
    "NumPy also has lots of ways to create random number arrays:\n",
    "\n",
    "### rand\n",
    "Create an array of the given shape and populate it with\n",
    "random samples from a uniform distribution\n",
    "over ``[0, 1)``.\n",
    "\n",
    "`np.random.rand(int1)` \n",
    "\n",
    "Creates a vector array of int1 elements with shape (`int1`, ) using random numbers.\n",
    "\n",
    "`np.random.rand(int1, int2)` \n",
    "\n",
    "Creates a matrix with shape (int1, int2) using random data\n",
    "\n",
    "**ACTION PLAN:**\n",
    "<div class=\"alert alert-block alert-success\">\n",
    "1. Create a random array of rank 1 with 2 elements<br>\n",
    "2. Create a random 5 by 5 matrix</div>"
   ]
  },
  {
   "cell_type": "code",
   "execution_count": 131,
   "metadata": {},
   "outputs": [
    {
     "data": {
      "text/plain": [
       "array([0.5404112 , 0.42660372])"
      ]
     },
     "execution_count": 131,
     "metadata": {},
     "output_type": "execute_result"
    }
   ],
   "source": [
    "np.random.rand(2)"
   ]
  },
  {
   "cell_type": "code",
   "execution_count": 132,
   "metadata": {},
   "outputs": [
    {
     "data": {
      "text/plain": [
       "array([[0.40448199, 0.73510483, 0.92432364, 0.27978011, 0.05575401],\n",
       "       [0.04527739, 0.03778322, 0.45109463, 0.9956768 , 0.88050061],\n",
       "       [0.7988688 , 0.17364499, 0.15867028, 0.0795346 , 0.03759284],\n",
       "       [0.17784147, 0.02820931, 0.94923377, 0.83099315, 0.82286409],\n",
       "       [0.73920828, 0.98859425, 0.31947909, 0.46729291, 0.90611318]])"
      ]
     },
     "execution_count": 132,
     "metadata": {},
     "output_type": "execute_result"
    }
   ],
   "source": [
    "np.random.rand(5, 5)"
   ]
  },
  {
   "cell_type": "markdown",
   "metadata": {},
   "source": [
    "### randn\n",
    "\n",
    "Return a sample (or samples) from the \"standard normal\" distribution - unlike rand which is uniform.\n",
    "\n",
    "<div class=\"alert alert-block alert-info\">This can include negative floats unlike **rand** function.</div>\n",
    "\n",
    "`np.random.randn(int1)`\n",
    "\n",
    "Creates an array with shape (int1, ) filled with samples from the \"standard normal\" deviation.\n",
    "\n",
    "`np.random.randn(int1, int2)`\n",
    "\n",
    "Creates an array with shape (int1, int2) filled with samples from the \"standard normal\" deviation.\n",
    "\n",
    "**ACTION PLAN:**\n",
    "<div class=\"alert alert-block alert-success\">\n",
    "1. Create a vector array of 2 samples of \"standard normal\" distribution<br>\n",
    "2. Create a 5 by 5 matrix array of \"standard normal\" distribution</div>"
   ]
  },
  {
   "cell_type": "code",
   "execution_count": 133,
   "metadata": {},
   "outputs": [
    {
     "data": {
      "text/plain": [
       "array([1.08877947, 1.06754447])"
      ]
     },
     "execution_count": 133,
     "metadata": {},
     "output_type": "execute_result"
    }
   ],
   "source": [
    "np.random.randn(2)"
   ]
  },
  {
   "cell_type": "code",
   "execution_count": 134,
   "metadata": {},
   "outputs": [
    {
     "data": {
      "text/plain": [
       "array([[-1.00092494, -2.08580086,  0.46459506,  0.7940381 , -0.08223547],\n",
       "       [-0.6663342 ,  1.6637729 ,  1.43370131,  0.00686651,  1.32561475],\n",
       "       [-0.35413265, -0.25829212, -1.19900661,  0.96755843,  0.28014604],\n",
       "       [ 0.0898928 , -1.68494654,  0.56005148, -0.46347925, -0.2746866 ],\n",
       "       [-0.47031873, -0.62094928,  0.15781252, -0.19607709, -0.47166831]])"
      ]
     },
     "execution_count": 134,
     "metadata": {},
     "output_type": "execute_result"
    }
   ],
   "source": [
    "np.random.randn(5,5)"
   ]
  },
  {
   "cell_type": "markdown",
   "metadata": {},
   "source": [
    "### randint\n",
    "Return random integers from `low` (inclusive) to `high` (exclusive).\n",
    "\n",
    "`np.random.randint(int1, int2, int3)`\n",
    "\n",
    "If int3 is not provided, this command will return a single INT. Otherwise, an array of shape (`int3`, ) will be returned.\n",
    "\n",
    "**ACTION PLAN:**\n",
    "<div class=\"alert alert-block alert-success\">\n",
    "1. Return a random integer from 1 up to but not including 100<br>\n",
    "2. Create a vector array of 10 random integers from 1 to 100 exclusive</div>"
   ]
  },
  {
   "cell_type": "code",
   "execution_count": 135,
   "metadata": {},
   "outputs": [
    {
     "data": {
      "text/plain": [
       "42"
      ]
     },
     "execution_count": 135,
     "metadata": {},
     "output_type": "execute_result"
    }
   ],
   "source": [
    "np.random.randint(1, 100)"
   ]
  },
  {
   "cell_type": "code",
   "execution_count": 136,
   "metadata": {},
   "outputs": [
    {
     "data": {
      "text/plain": [
       "array([51, 24, 63, 55, 59, 84, 10, 47, 75, 56])"
      ]
     },
     "execution_count": 136,
     "metadata": {},
     "output_type": "execute_result"
    }
   ],
   "source": [
    "np.random.randint(0, 100, 10)"
   ]
  },
  {
   "cell_type": "markdown",
   "metadata": {},
   "source": [
    "# Array Attributes and Methods\n",
    "\n",
    "There are many built-in ways to generate Arrays - here are a few most common ones.\n",
    "\n",
    "## arange\n",
    "\n",
    "`np.arange(int1, int2, int3)`\n",
    "\n",
    "Provides an array of `int3` elements from `start_int` to `stop_int`.\n",
    "\n",
    "`np.arange(0, stop_int)` === `np.arnage(stop_int)`\n",
    "\n",
    "Provides an array of shape (int1, ) filled with integers starting from 0 up to but not including int1.\n",
    "\n",
    "- **1st argument:**  starting point\n",
    "- **2nd argument:**  up to and **not including** point\n",
    "- **3rd argument:**  preferred spacing\n",
    "\n",
    "<div class=\"alert alert-block alert-info\">**NOTE:** If None (or nothing provided) for 3rd argument it will default to 1</div>\n",
    "\n",
    "**ACTION STEPS:**\n",
    "<div class=\"alert alert-block alert-success\">\n",
    "1. Create a range of INTs from 0 to 25 & assign to **arr**<br>\n",
    "2. Create a range of INTs from 0 to 11 with a step of 2</div>"
   ]
  },
  {
   "cell_type": "code",
   "execution_count": 137,
   "metadata": {},
   "outputs": [
    {
     "data": {
      "text/plain": [
       "array([ 0,  1,  2,  3,  4,  5,  6,  7,  8,  9, 10, 11, 12, 13, 14, 15, 16,\n",
       "       17, 18, 19, 20, 21, 22, 23, 24])"
      ]
     },
     "execution_count": 137,
     "metadata": {},
     "output_type": "execute_result"
    }
   ],
   "source": [
    "arr = np.arange(0, 25)\n",
    "arr"
   ]
  },
  {
   "cell_type": "code",
   "execution_count": 138,
   "metadata": {},
   "outputs": [
    {
     "name": "stdout",
     "output_type": "stream",
     "text": [
      "[ 0  2  4  6  8 10]\n"
     ]
    }
   ],
   "source": [
    "print(np.arange(0, 11, 2))"
   ]
  },
  {
   "cell_type": "markdown",
   "metadata": {},
   "source": [
    "## dtype\n",
    "\n",
    "You can also grab the data type of the object in the array.\n",
    "\n",
    "`var.dtype`\n",
    "\n",
    "**ACTION PLAN:**\n",
    "<div class=\"alert alert-block alert-success\">\n",
    "1. Call the dtype attribute for **arr**</div>"
   ]
  },
  {
   "cell_type": "code",
   "execution_count": 139,
   "metadata": {},
   "outputs": [
    {
     "data": {
      "text/plain": [
       "dtype('int32')"
      ]
     },
     "execution_count": 139,
     "metadata": {},
     "output_type": "execute_result"
    }
   ],
   "source": [
    "arr.dtype"
   ]
  },
  {
   "cell_type": "markdown",
   "metadata": {},
   "source": [
    "## max,min,argmax,argmin\n",
    "\n",
    "These are useful methods for finding max or min values.\n",
    "<br>... Or to find their index locations using argmin or argmax.\n",
    "\n",
    "`var.max()`\n",
    "\n",
    "Returns the max value in the array.\n",
    "\n",
    "`var.argmax()`\n",
    "\n",
    "Returns the location (index) of the max value within the array.\n",
    "\n",
    "`var.min()`\n",
    "\n",
    "Returns the min value in the array\n",
    "\n",
    "`var.argmin()`\n",
    "\n",
    "Returns the location (index) of the min value within the array.\n",
    "\n",
    "**ACTION PLAN:**\n",
    "<div class=\"alert alert-block alert-success\">\n",
    "1. Assign **arr** the creation of an array of 25 random values of standard deviation<br>\n",
    "2. Find the max of **arr**<br>\n",
    "3. Find the index of the max of **arr**<br>\n",
    "4. Find the min of **arr**<br>\n",
    "5. Find the index of min of **arr**</div>"
   ]
  },
  {
   "cell_type": "code",
   "execution_count": 140,
   "metadata": {},
   "outputs": [
    {
     "name": "stdout",
     "output_type": "stream",
     "text": [
      "[-0.13209359 -0.24778005 -1.39082753  0.71506188 -0.82062382 -0.04308969\n",
      " -1.05513467 -0.4496411  -1.22567536  0.40388438  0.1896901   0.07874281\n",
      "  0.40809488  0.32239962 -0.24282174  0.22622597  0.23685462 -0.92694671\n",
      "  0.94280677  0.64168588  0.26435882 -1.90956528  0.8039342   0.70045309\n",
      "  0.53738928]\n"
     ]
    }
   ],
   "source": [
    "arr = np.random.randn(25)\n",
    "print(arr)"
   ]
  },
  {
   "cell_type": "code",
   "execution_count": 141,
   "metadata": {},
   "outputs": [
    {
     "data": {
      "text/plain": [
       "0.9428067678779701"
      ]
     },
     "execution_count": 141,
     "metadata": {},
     "output_type": "execute_result"
    }
   ],
   "source": [
    "arr.max()"
   ]
  },
  {
   "cell_type": "code",
   "execution_count": 142,
   "metadata": {},
   "outputs": [
    {
     "data": {
      "text/plain": [
       "18"
      ]
     },
     "execution_count": 142,
     "metadata": {},
     "output_type": "execute_result"
    }
   ],
   "source": [
    "arr.argmax()"
   ]
  },
  {
   "cell_type": "code",
   "execution_count": 143,
   "metadata": {},
   "outputs": [
    {
     "data": {
      "text/plain": [
       "-1.909565280516817"
      ]
     },
     "execution_count": 143,
     "metadata": {},
     "output_type": "execute_result"
    }
   ],
   "source": [
    "arr.min()"
   ]
  },
  {
   "cell_type": "code",
   "execution_count": 144,
   "metadata": {},
   "outputs": [
    {
     "data": {
      "text/plain": [
       "21"
      ]
     },
     "execution_count": 144,
     "metadata": {},
     "output_type": "execute_result"
    }
   ],
   "source": [
    "arr.argmin()"
   ]
  },
  {
   "cell_type": "markdown",
   "metadata": {},
   "source": [
    "# Shape\n",
    "\n",
    "Shape is an attribute that arrays have (not a method).\n",
    "\n",
    "`var.shape`\n",
    "\n",
    "Creates a **vector** and returns a 2 element tuple:  *(columns, rows)*\n",
    "\n",
    "#### For Single Array (Vector)\n",
    "\n",
    "Action Steps:\n",
    "<div class=\"alert alert-block alert-success\">\n",
    "1. Create a variable **arr_shape1** and assign it the value of an np.array() with 3 INTs & show result<br>\n",
    "2. Provide **arr_shape1**'s shape<br>\n",
    "3. Provide **arr_shape1**'s type<br>\n",
    "4. Show element 2 of **arr_shape1**</div>"
   ]
  },
  {
   "cell_type": "code",
   "execution_count": 145,
   "metadata": {},
   "outputs": [
    {
     "name": "stdout",
     "output_type": "stream",
     "text": [
      "[1 2 3]\n"
     ]
    }
   ],
   "source": [
    "arr_shape1 = np.array([1, 2, 3])\n",
    "print(arr_shape1)"
   ]
  },
  {
   "cell_type": "code",
   "execution_count": 146,
   "metadata": {},
   "outputs": [
    {
     "data": {
      "text/plain": [
       "(3,)"
      ]
     },
     "execution_count": 146,
     "metadata": {},
     "output_type": "execute_result"
    }
   ],
   "source": [
    "arr_shape1.shape"
   ]
  },
  {
   "cell_type": "code",
   "execution_count": 147,
   "metadata": {},
   "outputs": [
    {
     "data": {
      "text/plain": [
       "numpy.ndarray"
      ]
     },
     "execution_count": 147,
     "metadata": {},
     "output_type": "execute_result"
    }
   ],
   "source": [
    "type(arr_shape1)"
   ]
  },
  {
   "cell_type": "code",
   "execution_count": 148,
   "metadata": {},
   "outputs": [
    {
     "name": "stdout",
     "output_type": "stream",
     "text": [
      "3\n"
     ]
    }
   ],
   "source": [
    "print(arr_shape1[2])"
   ]
  },
  {
   "cell_type": "markdown",
   "metadata": {},
   "source": [
    "## Reshape\n",
    "Returns an array containing the same data with a new shape.\n",
    "\n",
    "`var.reshape(int1, int2)`\n",
    "\n",
    "Where **var** is some variable created for an array of shape `(int1, int2)`\n",
    "\n",
    "<div class=\"alert alert-block alert-info\">**REMEMBER:**<br>\n",
    "_int1 by int2 must create a matrix to fill that size<br><br>In other words ..._<br>\n",
    "- a 5 by 5 matrix will have 25 elements<br>\n",
    "- a 2 by 4 matrix will have 8 elements</div>\n",
    "\n",
    "<div class=\"alert alert-block alert-success\">**EXERCISES:**<br>\n",
    "1. print (or show) **arr**<br>\n",
    "2. Get the shape of vector **arr**<br>\n",
    "2. Reshape **arr** to be 1 row by 25 columns & show results<br>\n",
    "3. Provide the shape of answer to 2<br>\n",
    "4. Reshape **arr** as 25 rows by 1 column<br>\n",
    "5. Show shape of number 4<br>\n",
    "6. reshape **arr** to be 5x4</div>\n",
    "\n",
    "<div class=\"alert alert-block alert-warning\">**Thoughts to Ponder:**<br>\n",
    "1. What did you notice different beween 2 & 4?<br>\n",
    "2. What can you tell about this problem from the error in number 3?</div>"
   ]
  },
  {
   "cell_type": "code",
   "execution_count": 149,
   "metadata": {},
   "outputs": [
    {
     "data": {
      "text/plain": [
       "array([-0.13209359, -0.24778005, -1.39082753,  0.71506188, -0.82062382,\n",
       "       -0.04308969, -1.05513467, -0.4496411 , -1.22567536,  0.40388438,\n",
       "        0.1896901 ,  0.07874281,  0.40809488,  0.32239962, -0.24282174,\n",
       "        0.22622597,  0.23685462, -0.92694671,  0.94280677,  0.64168588,\n",
       "        0.26435882, -1.90956528,  0.8039342 ,  0.70045309,  0.53738928])"
      ]
     },
     "execution_count": 149,
     "metadata": {},
     "output_type": "execute_result"
    }
   ],
   "source": [
    "arr"
   ]
  },
  {
   "cell_type": "code",
   "execution_count": 151,
   "metadata": {},
   "outputs": [
    {
     "data": {
      "text/plain": [
       "(25,)"
      ]
     },
     "execution_count": 151,
     "metadata": {},
     "output_type": "execute_result"
    }
   ],
   "source": [
    "arr.shape"
   ]
  },
  {
   "cell_type": "code",
   "execution_count": 152,
   "metadata": {},
   "outputs": [
    {
     "data": {
      "text/plain": [
       "array([[-0.13209359, -0.24778005, -1.39082753,  0.71506188, -0.82062382,\n",
       "        -0.04308969, -1.05513467, -0.4496411 , -1.22567536,  0.40388438,\n",
       "         0.1896901 ,  0.07874281,  0.40809488,  0.32239962, -0.24282174,\n",
       "         0.22622597,  0.23685462, -0.92694671,  0.94280677,  0.64168588,\n",
       "         0.26435882, -1.90956528,  0.8039342 ,  0.70045309,  0.53738928]])"
      ]
     },
     "execution_count": 152,
     "metadata": {},
     "output_type": "execute_result"
    }
   ],
   "source": [
    "arr.reshape(1, 25)"
   ]
  },
  {
   "cell_type": "code",
   "execution_count": 153,
   "metadata": {},
   "outputs": [
    {
     "data": {
      "text/plain": [
       "(1, 25)"
      ]
     },
     "execution_count": 153,
     "metadata": {},
     "output_type": "execute_result"
    }
   ],
   "source": [
    "arr.reshape(1, 25).shape"
   ]
  },
  {
   "cell_type": "code",
   "execution_count": 154,
   "metadata": {},
   "outputs": [
    {
     "data": {
      "text/plain": [
       "array([[-0.13209359],\n",
       "       [-0.24778005],\n",
       "       [-1.39082753],\n",
       "       [ 0.71506188],\n",
       "       [-0.82062382],\n",
       "       [-0.04308969],\n",
       "       [-1.05513467],\n",
       "       [-0.4496411 ],\n",
       "       [-1.22567536],\n",
       "       [ 0.40388438],\n",
       "       [ 0.1896901 ],\n",
       "       [ 0.07874281],\n",
       "       [ 0.40809488],\n",
       "       [ 0.32239962],\n",
       "       [-0.24282174],\n",
       "       [ 0.22622597],\n",
       "       [ 0.23685462],\n",
       "       [-0.92694671],\n",
       "       [ 0.94280677],\n",
       "       [ 0.64168588],\n",
       "       [ 0.26435882],\n",
       "       [-1.90956528],\n",
       "       [ 0.8039342 ],\n",
       "       [ 0.70045309],\n",
       "       [ 0.53738928]])"
      ]
     },
     "execution_count": 154,
     "metadata": {},
     "output_type": "execute_result"
    }
   ],
   "source": [
    "arr.reshape(25, 1)"
   ]
  },
  {
   "cell_type": "code",
   "execution_count": 155,
   "metadata": {},
   "outputs": [
    {
     "data": {
      "text/plain": [
       "(25, 1)"
      ]
     },
     "execution_count": 155,
     "metadata": {},
     "output_type": "execute_result"
    }
   ],
   "source": [
    "arr.reshape(25, 1).shape"
   ]
  },
  {
   "cell_type": "code",
   "execution_count": 156,
   "metadata": {},
   "outputs": [
    {
     "ename": "ValueError",
     "evalue": "cannot reshape array of size 25 into shape (5,4)",
     "output_type": "error",
     "traceback": [
      "\u001b[1;31m---------------------------------------------------------------------------\u001b[0m",
      "\u001b[1;31mValueError\u001b[0m                                Traceback (most recent call last)",
      "\u001b[1;32m<ipython-input-156-f2736331b943>\u001b[0m in \u001b[0;36m<module>\u001b[1;34m()\u001b[0m\n\u001b[1;32m----> 1\u001b[1;33m \u001b[0marr\u001b[0m\u001b[1;33m.\u001b[0m\u001b[0mreshape\u001b[0m\u001b[1;33m(\u001b[0m\u001b[1;36m5\u001b[0m\u001b[1;33m,\u001b[0m \u001b[1;36m4\u001b[0m\u001b[1;33m)\u001b[0m\u001b[1;33m\u001b[0m\u001b[0m\n\u001b[0m",
      "\u001b[1;31mValueError\u001b[0m: cannot reshape array of size 25 into shape (5,4)"
     ]
    }
   ],
   "source": [
    "arr.reshape(5, 4)"
   ]
  },
  {
   "cell_type": "markdown",
   "metadata": {},
   "source": [
    "# Indexing & Slicing\n",
    "\n",
    "From here we're going to go over how to select elements or groups of elements from an array.\n",
    "\n",
    "**ACTION PLAN:**\n",
    "<div class=\"alert alert-block alert-success\">\n",
    "1. Assign **arr** the value returned from creating a sample array of ranged integers from [0, 11)</div>"
   ]
  },
  {
   "cell_type": "code",
   "execution_count": 157,
   "metadata": {},
   "outputs": [
    {
     "data": {
      "text/plain": [
       "array([ 0,  1,  2,  3,  4,  5,  6,  7,  8,  9, 10])"
      ]
     },
     "execution_count": 157,
     "metadata": {},
     "output_type": "execute_result"
    }
   ],
   "source": [
    "arr = np.arange(0, 11)\n",
    "arr"
   ]
  },
  {
   "cell_type": "markdown",
   "metadata": {},
   "source": [
    "## Bracket Indexing and Selection\n",
    "\n",
    "The simplest way to pick one or some elements of an array looks very similar to python lists.\n",
    "\n",
    "**ACTION PLAN:**\n",
    "<div class=\"alert alert-block alert-success\">\n",
    "1. Get element 8 of **arr**<br>\n",
    "2. Slice **arr** from element [1, 5)<br>\n",
    "3. Slice **arr** from element [None, 4)<br>\n",
    "4. Slice **arr** from element [0, 3)</div>\n",
    "\n",
    "<div class=\"alert alert-block alert-info\">**REMEMBER:**<br>\n",
    "If you see a None somewhere in documentation, it means you can leave it **_blank_**!!!</div>"
   ]
  },
  {
   "cell_type": "code",
   "execution_count": 158,
   "metadata": {},
   "outputs": [
    {
     "data": {
      "text/plain": [
       "8"
      ]
     },
     "execution_count": 158,
     "metadata": {},
     "output_type": "execute_result"
    }
   ],
   "source": [
    "arr[8]"
   ]
  },
  {
   "cell_type": "code",
   "execution_count": 159,
   "metadata": {},
   "outputs": [
    {
     "data": {
      "text/plain": [
       "array([1, 2, 3, 4])"
      ]
     },
     "execution_count": 159,
     "metadata": {},
     "output_type": "execute_result"
    }
   ],
   "source": [
    "arr[1:5]"
   ]
  },
  {
   "cell_type": "code",
   "execution_count": 160,
   "metadata": {},
   "outputs": [
    {
     "data": {
      "text/plain": [
       "array([0, 1, 2, 3])"
      ]
     },
     "execution_count": 160,
     "metadata": {},
     "output_type": "execute_result"
    }
   ],
   "source": [
    "arr[None:4]"
   ]
  },
  {
   "cell_type": "code",
   "execution_count": 161,
   "metadata": {},
   "outputs": [
    {
     "data": {
      "text/plain": [
       "array([0, 1, 2, 3])"
      ]
     },
     "execution_count": 161,
     "metadata": {},
     "output_type": "execute_result"
    }
   ],
   "source": [
    "arr[:4]"
   ]
  },
  {
   "cell_type": "code",
   "execution_count": 162,
   "metadata": {},
   "outputs": [
    {
     "data": {
      "text/plain": [
       "array([0, 1, 2])"
      ]
     },
     "execution_count": 162,
     "metadata": {},
     "output_type": "execute_result"
    }
   ],
   "source": [
    "arr[0:3]"
   ]
  },
  {
   "cell_type": "markdown",
   "metadata": {},
   "source": [
    "## Broadcasting\n",
    "\n",
    "NumPy arrays differ from a normal Python list because of their ability to _**broadcast**_.\n",
    "\n",
    "Basically? When you broadcast, it changes all elements to be whatever you _\"broadcast\"_.\n",
    "\n",
    "`var[int1:int2]=int3`\n",
    "\n",
    "**ACTION PLAN:**\n",
    "<div class=\"alert alert-block alert-success\">\n",
    "1. Make the 1st 4 elements in **arr** be 100.<br>\n",
    "2. Assign **arr** the value of an array of a range of integers between 0 and up to excluding 11<br>\n",
    "3. Create a slice of **arr** from 0 up to and including 5 - call it **slice_of_arr**<br>\n",
    "4. Broadcast to entire **slice_of_arr** the value of (INT) 99<br>\n",
    "5. Print **slice_of_arr**<br>\n",
    "6. Print **arr**<br>\n",
    "7. Call the **copy()** function on **arr** and assign to **arr_copy**</div>\n",
    "\n",
    "<div class=\"alert alert-block alert-warning\">**Thoughts To Ponder:**<br>\n",
    "1. (arr == arr_copy) == True ???<br>\n",
    "2. (arr is arr_copy) == True ???</div>"
   ]
  },
  {
   "cell_type": "code",
   "execution_count": 163,
   "metadata": {},
   "outputs": [
    {
     "data": {
      "text/plain": [
       "array([100, 100, 100, 100,   4,   5,   6,   7,   8,   9,  10])"
      ]
     },
     "execution_count": 163,
     "metadata": {},
     "output_type": "execute_result"
    }
   ],
   "source": [
    "arr[:4] = 100\n",
    "arr"
   ]
  },
  {
   "cell_type": "code",
   "execution_count": 164,
   "metadata": {},
   "outputs": [
    {
     "data": {
      "text/plain": [
       "array([ 0,  1,  2,  3,  4,  5,  6,  7,  8,  9, 10])"
      ]
     },
     "execution_count": 164,
     "metadata": {},
     "output_type": "execute_result"
    }
   ],
   "source": [
    "arr = np.arange(0, 11)\n",
    "arr"
   ]
  },
  {
   "cell_type": "code",
   "execution_count": 165,
   "metadata": {},
   "outputs": [
    {
     "data": {
      "text/plain": [
       "array([0, 1, 2, 3, 4, 5])"
      ]
     },
     "execution_count": 165,
     "metadata": {},
     "output_type": "execute_result"
    }
   ],
   "source": [
    "slice_of_arr = arr[0:6]\n",
    "slice_of_arr"
   ]
  },
  {
   "cell_type": "code",
   "execution_count": 166,
   "metadata": {},
   "outputs": [
    {
     "data": {
      "text/plain": [
       "array([99, 99, 99, 99, 99, 99])"
      ]
     },
     "execution_count": 166,
     "metadata": {},
     "output_type": "execute_result"
    }
   ],
   "source": [
    "slice_of_arr[:] = 99\n",
    "slice_of_arr"
   ]
  },
  {
   "cell_type": "code",
   "execution_count": 167,
   "metadata": {},
   "outputs": [
    {
     "name": "stdout",
     "output_type": "stream",
     "text": [
      "[99 99 99 99 99 99]\n"
     ]
    }
   ],
   "source": [
    "print(slice_of_arr)"
   ]
  },
  {
   "cell_type": "code",
   "execution_count": 168,
   "metadata": {},
   "outputs": [
    {
     "name": "stdout",
     "output_type": "stream",
     "text": [
      "[99 99 99 99 99 99  6  7  8  9 10]\n"
     ]
    }
   ],
   "source": [
    "print(arr)"
   ]
  },
  {
   "cell_type": "code",
   "execution_count": 169,
   "metadata": {},
   "outputs": [
    {
     "data": {
      "text/plain": [
       "array([99, 99, 99, 99, 99, 99,  6,  7,  8,  9, 10])"
      ]
     },
     "execution_count": 169,
     "metadata": {},
     "output_type": "execute_result"
    }
   ],
   "source": [
    "arr_copy = arr.copy()\n",
    "arr_copy"
   ]
  },
  {
   "cell_type": "code",
   "execution_count": 170,
   "metadata": {},
   "outputs": [
    {
     "data": {
      "text/plain": [
       "array([ True,  True,  True,  True,  True,  True,  True,  True,  True,\n",
       "        True,  True])"
      ]
     },
     "execution_count": 170,
     "metadata": {},
     "output_type": "execute_result"
    }
   ],
   "source": [
    "arr == arr_copy"
   ]
  },
  {
   "cell_type": "code",
   "execution_count": 171,
   "metadata": {},
   "outputs": [
    {
     "data": {
      "text/plain": [
       "False"
      ]
     },
     "execution_count": 171,
     "metadata": {},
     "output_type": "execute_result"
    }
   ],
   "source": [
    "arr is arr_copy"
   ]
  },
  {
   "cell_type": "markdown",
   "metadata": {},
   "source": [
    "## Indexing a 2D array (Matrices)\n",
    "\n",
    "The general format for a indexing a matrix is:\n",
    "\n",
    "- `arr_2d[row][col]`\n",
    "- `arr_2d[row,col]`\n",
    "\n",
    "I recommend usually using the comma notation for clarity.\n",
    "\n",
    "**ACTION PLAN:**\n",
    "<div class=\"alert alert-block alert-success\">\n",
    "1. Create **arr_2d** to be an array of rank 3 with 3 columns where each row is in increments of 5 starting at 5\n",
    "    _**HINT:** [[5, 10, 15], ...]_<br>\n",
    "2. What is row 1 of **arr_2d**?<br>\n",
    "3. What is returned from **arr_2d** at row 1, column 0?<br>\n",
    "4. Write number 3 a different way.<br>\n",
    "5. Create a slice of **arr_2d** from first 2 rows and columns 1 until the end<br>\n",
    "6. Reshape number 5 to be (1, 3)</div>\n",
    "\n",
    "<div class=\"alert alert-block alert-warning\">**Things To Ponder:**<br>\n",
    "- What exactly happened when you called **reshape(int1, int2)**?<br>\n",
    "- How to fix it?</div>"
   ]
  },
  {
   "cell_type": "code",
   "execution_count": 172,
   "metadata": {},
   "outputs": [
    {
     "data": {
      "text/plain": [
       "array([[ 5, 10, 15],\n",
       "       [20, 25, 30],\n",
       "       [35, 40, 45]])"
      ]
     },
     "execution_count": 172,
     "metadata": {},
     "output_type": "execute_result"
    }
   ],
   "source": [
    "arr_2d = np.array([[5, 10, 15], [20, 25, 30], [35, 40, 45]])\n",
    "arr_2d"
   ]
  },
  {
   "cell_type": "code",
   "execution_count": 173,
   "metadata": {},
   "outputs": [
    {
     "data": {
      "text/plain": [
       "array([20, 25, 30])"
      ]
     },
     "execution_count": 173,
     "metadata": {},
     "output_type": "execute_result"
    }
   ],
   "source": [
    "arr_2d[1]"
   ]
  },
  {
   "cell_type": "code",
   "execution_count": 174,
   "metadata": {},
   "outputs": [
    {
     "data": {
      "text/plain": [
       "20"
      ]
     },
     "execution_count": 174,
     "metadata": {},
     "output_type": "execute_result"
    }
   ],
   "source": [
    "arr_2d[1][0]"
   ]
  },
  {
   "cell_type": "code",
   "execution_count": 175,
   "metadata": {},
   "outputs": [
    {
     "data": {
      "text/plain": [
       "20"
      ]
     },
     "execution_count": 175,
     "metadata": {},
     "output_type": "execute_result"
    }
   ],
   "source": [
    "arr_2d[1, 0]"
   ]
  },
  {
   "cell_type": "code",
   "execution_count": 176,
   "metadata": {},
   "outputs": [
    {
     "data": {
      "text/plain": [
       "array([[10, 15],\n",
       "       [25, 30]])"
      ]
     },
     "execution_count": 176,
     "metadata": {},
     "output_type": "execute_result"
    }
   ],
   "source": [
    "arr_2d[:2, 1:]"
   ]
  },
  {
   "cell_type": "code",
   "execution_count": 179,
   "metadata": {},
   "outputs": [
    {
     "ename": "ValueError",
     "evalue": "cannot reshape array of size 4 into shape (1,3)",
     "output_type": "error",
     "traceback": [
      "\u001b[1;31m---------------------------------------------------------------------------\u001b[0m",
      "\u001b[1;31mValueError\u001b[0m                                Traceback (most recent call last)",
      "\u001b[1;32m<ipython-input-179-99c2cabc2ce8>\u001b[0m in \u001b[0;36m<module>\u001b[1;34m()\u001b[0m\n\u001b[1;32m----> 1\u001b[1;33m \u001b[0marr_2d\u001b[0m\u001b[1;33m[\u001b[0m\u001b[1;33m:\u001b[0m\u001b[1;36m2\u001b[0m\u001b[1;33m,\u001b[0m \u001b[1;36m1\u001b[0m\u001b[1;33m:\u001b[0m\u001b[1;33m]\u001b[0m\u001b[1;33m.\u001b[0m\u001b[0mreshape\u001b[0m\u001b[1;33m(\u001b[0m\u001b[1;36m1\u001b[0m\u001b[1;33m,\u001b[0m\u001b[1;36m3\u001b[0m\u001b[1;33m)\u001b[0m\u001b[1;33m\u001b[0m\u001b[0m\n\u001b[0m",
      "\u001b[1;31mValueError\u001b[0m: cannot reshape array of size 4 into shape (1,3)"
     ]
    }
   ],
   "source": [
    "arr_2d[:2, 1:].reshape(1,3)"
   ]
  },
  {
   "cell_type": "markdown",
   "metadata": {},
   "source": [
    "## Fancy Indexing\n",
    "\n",
    "Fancy indexing allows you to select entire rows out of order.\n",
    "\n",
    "`some_array[[rowx, ...]]`\n",
    "\n",
    "This will return the rows at each index within the list input.\n",
    "\n",
    "**ACTION PLAN:**\n",
    "<div class=\"alert alert-block alert-success\">\n",
    "1. Assign **arr_2d** a zeros array of 10 by 10<br>\n",
    "2. What is the count of row 1 in **arr_2d**? _(Trick Question!)_<br>\n",
    "3. Assign to **arr_length** the answer to number 2<br>\n",
    "4. For each element in range of the answer to number 2, broadcast the element _(assign the element to that row)_<br>\n",
    "5. Grab rows 6, 2, 4, and 7 from **arr_2d**</div>\n",
    "\n",
    "<div class=\"alert alert-block alert-warning\">**Thoughts To Ponder:**<br>\n",
    "- What did number 4 teach you?</div>"
   ]
  },
  {
   "cell_type": "code",
   "execution_count": 183,
   "metadata": {},
   "outputs": [
    {
     "data": {
      "text/plain": [
       "array([[0., 0., 0., 0., 0., 0., 0., 0., 0., 0.],\n",
       "       [0., 0., 0., 0., 0., 0., 0., 0., 0., 0.],\n",
       "       [0., 0., 0., 0., 0., 0., 0., 0., 0., 0.],\n",
       "       [0., 0., 0., 0., 0., 0., 0., 0., 0., 0.],\n",
       "       [0., 0., 0., 0., 0., 0., 0., 0., 0., 0.],\n",
       "       [0., 0., 0., 0., 0., 0., 0., 0., 0., 0.],\n",
       "       [0., 0., 0., 0., 0., 0., 0., 0., 0., 0.],\n",
       "       [0., 0., 0., 0., 0., 0., 0., 0., 0., 0.],\n",
       "       [0., 0., 0., 0., 0., 0., 0., 0., 0., 0.],\n",
       "       [0., 0., 0., 0., 0., 0., 0., 0., 0., 0.]])"
      ]
     },
     "execution_count": 183,
     "metadata": {},
     "output_type": "execute_result"
    }
   ],
   "source": [
    "arr_2d = np.zeros((10, 10))\n",
    "arr_2d"
   ]
  },
  {
   "cell_type": "code",
   "execution_count": 184,
   "metadata": {},
   "outputs": [
    {
     "data": {
      "text/plain": [
       "10"
      ]
     },
     "execution_count": 184,
     "metadata": {},
     "output_type": "execute_result"
    }
   ],
   "source": [
    "arr_2d.shape[1]"
   ]
  },
  {
   "cell_type": "code",
   "execution_count": 185,
   "metadata": {},
   "outputs": [
    {
     "data": {
      "text/plain": [
       "10"
      ]
     },
     "execution_count": 185,
     "metadata": {},
     "output_type": "execute_result"
    }
   ],
   "source": [
    "arr_length = arr_2d.shape[1]\n",
    "arr_length"
   ]
  },
  {
   "cell_type": "code",
   "execution_count": 186,
   "metadata": {},
   "outputs": [
    {
     "data": {
      "text/plain": [
       "array([[0., 0., 0., 0., 0., 0., 0., 0., 0., 0.],\n",
       "       [1., 1., 1., 1., 1., 1., 1., 1., 1., 1.],\n",
       "       [2., 2., 2., 2., 2., 2., 2., 2., 2., 2.],\n",
       "       [3., 3., 3., 3., 3., 3., 3., 3., 3., 3.],\n",
       "       [4., 4., 4., 4., 4., 4., 4., 4., 4., 4.],\n",
       "       [5., 5., 5., 5., 5., 5., 5., 5., 5., 5.],\n",
       "       [6., 6., 6., 6., 6., 6., 6., 6., 6., 6.],\n",
       "       [7., 7., 7., 7., 7., 7., 7., 7., 7., 7.],\n",
       "       [8., 8., 8., 8., 8., 8., 8., 8., 8., 8.],\n",
       "       [9., 9., 9., 9., 9., 9., 9., 9., 9., 9.]])"
      ]
     },
     "execution_count": 186,
     "metadata": {},
     "output_type": "execute_result"
    }
   ],
   "source": [
    "for element in range(arr_length):\n",
    "    arr_2d[element] = element\n",
    "\n",
    "arr_2d"
   ]
  },
  {
   "cell_type": "code",
   "execution_count": 187,
   "metadata": {},
   "outputs": [
    {
     "data": {
      "text/plain": [
       "array([[6., 6., 6., 6., 6., 6., 6., 6., 6., 6.],\n",
       "       [2., 2., 2., 2., 2., 2., 2., 2., 2., 2.],\n",
       "       [4., 4., 4., 4., 4., 4., 4., 4., 4., 4.],\n",
       "       [7., 7., 7., 7., 7., 7., 7., 7., 7., 7.]])"
      ]
     },
     "execution_count": 187,
     "metadata": {},
     "output_type": "execute_result"
    }
   ],
   "source": [
    "arr_2d[[6, 2, 4, 7]]"
   ]
  },
  {
   "cell_type": "markdown",
   "metadata": {},
   "source": [
    "## Slicing\n",
    "\n",
    "Similar to Python lists, NumPy arrays can be sliced. Since arrays may be multidimensional, you must specify a slice for each dimension of the array.\n",
    "\n",
    "**ACTION PLAN:**\n",
    "\n",
    "<div class=\"alert alert-block alert-success\">Create the following rank 2 array with shape (3, 4):</div>\n",
    "<div class=\"alert alert-block alert-warning\">[[ 1  2  3  4]<br>[ 5  6  7  8]<br>[ 9 10 11 12]]</div>"
   ]
  },
  {
   "cell_type": "code",
   "execution_count": 189,
   "metadata": {},
   "outputs": [
    {
     "data": {
      "text/plain": [
       "array([[ 1,  2,  3,  4],\n",
       "       [ 5,  6,  7,  8],\n",
       "       [ 9, 10, 11, 12]])"
      ]
     },
     "execution_count": 189,
     "metadata": {},
     "output_type": "execute_result"
    }
   ],
   "source": [
    "a = np.array([[1, 2, 3, 4], \n",
    "          [5, 6, 7, 8], \n",
    "          [9, 10, 11, 12]])\n",
    "a"
   ]
  },
  {
   "cell_type": "code",
   "execution_count": 190,
   "metadata": {},
   "outputs": [
    {
     "name": "stdout",
     "output_type": "stream",
     "text": [
      "[[ 1  2  3  4]\n",
      " [ 5  6  7  8]\n",
      " [ 9 10 11 12]]\n"
     ]
    }
   ],
   "source": [
    "print(np.array([[1, 2, 3, 4], [5, 6, 7, 8], [9, 10, 11, 12]]))"
   ]
  },
  {
   "cell_type": "markdown",
   "metadata": {},
   "source": [
    "Slicing with indexes is just like slicing with strings or lists.\n",
    "<div class=\"alert alert-block alert-info\">a = 'I love Python'<br>b = a[7:]    # 'Python'</div>\n",
    "\n",
    "Use slicing to:\n",
    "- pull out the subarray consisting of the first 2 rows and columns 1 and 2 & assign to **b**\n",
    "- ensure **b** has the following array of shape (2, 2)"
   ]
  },
  {
   "cell_type": "code",
   "execution_count": 191,
   "metadata": {},
   "outputs": [
    {
     "data": {
      "text/plain": [
       "array([[2, 3],\n",
       "       [6, 7]])"
      ]
     },
     "execution_count": 191,
     "metadata": {},
     "output_type": "execute_result"
    }
   ],
   "source": [
    "b = a[:2, 1:3]\n",
    "b"
   ]
  },
  {
   "cell_type": "markdown",
   "metadata": {},
   "source": [
    "A slice of an array is a view into the same data, so modifying it will modify the original array.\n",
    "\n",
    "Run these commands:\n",
    "<div class=\"alert alert-block alert-warning\">a[0, 1]<br>b[0, 0] = 77<br>a[0, 1]</div>\n",
    "<div class=\"alert alert-block alert-info\">**REMEMBER:** b[0, 0] is the same piece of data as a[0, 1]</div>"
   ]
  },
  {
   "cell_type": "code",
   "execution_count": 192,
   "metadata": {},
   "outputs": [
    {
     "name": "stdout",
     "output_type": "stream",
     "text": [
      "[[ 1  2  3  4]\n",
      " [ 5  6  7  8]\n",
      " [ 9 10 11 12]]\n",
      "[[2 3]\n",
      " [6 7]]\n"
     ]
    }
   ],
   "source": [
    "print(a)\n",
    "print(b)"
   ]
  },
  {
   "cell_type": "code",
   "execution_count": 193,
   "metadata": {},
   "outputs": [
    {
     "data": {
      "text/plain": [
       "2"
      ]
     },
     "execution_count": 193,
     "metadata": {},
     "output_type": "execute_result"
    }
   ],
   "source": [
    "a[0, 1]"
   ]
  },
  {
   "cell_type": "code",
   "execution_count": 194,
   "metadata": {},
   "outputs": [
    {
     "name": "stdout",
     "output_type": "stream",
     "text": [
      "2\n",
      "77\n"
     ]
    }
   ],
   "source": [
    "print(b[0, 0])\n",
    "b[0, 0] = 77\n",
    "print(b[0, 0])"
   ]
  },
  {
   "cell_type": "code",
   "execution_count": 195,
   "metadata": {},
   "outputs": [
    {
     "data": {
      "text/plain": [
       "77"
      ]
     },
     "execution_count": 195,
     "metadata": {},
     "output_type": "execute_result"
    }
   ],
   "source": [
    "a[0, 1]"
   ]
  },
  {
   "cell_type": "markdown",
   "metadata": {},
   "source": [
    "You can also mix integer indexing with slice indexing. However, doing so will yield an array of lower rank than the original array. Note that this is quite different from the way that MATLAB handles array slicing...\n",
    "\n",
    "Create the following rank 2 array with shape (3, 4):\n",
    "\n",
    "<div class=\"alert alert-block alert-info\">[[ 1  2  3  4]<br>  [ 5  6  7  8]<br>  [ 9 10 11 12]]</div>\n",
    "\n",
    "Here is the code to run:\n",
    "\n",
    "**ACTION PLAN:**\n",
    "<div class=\"alert alert-block alert-success\">\n",
    "1. Create an array of rank 3, where each rank consists of a range of 4 integers from [1:12]</div>"
   ]
  },
  {
   "cell_type": "code",
   "execution_count": 196,
   "metadata": {},
   "outputs": [
    {
     "name": "stdout",
     "output_type": "stream",
     "text": [
      "[[ 1  2  3  4]\n",
      " [ 5  6  7  8]\n",
      " [ 9 10 11 12]]\n"
     ]
    }
   ],
   "source": [
    "a = np.array([np.arange(1,5), np.arange(5, 9), np.arange(9, 13)])\n",
    "print(a)"
   ]
  },
  {
   "cell_type": "markdown",
   "metadata": {},
   "source": [
    "There are two ways of accessing the data in the middle row of the array.\n",
    "1. Mixing integer indexing with slices yields an array of lower rank\n",
    "2. Using only slices yields an array of the same rank as the original array\n",
    "\n",
    "**ACTION PLAN:**\n",
    "<div class=\"alert alert-block alert-success\">\n",
    "1. Print **a** and it's shape<br>\n",
    "2. Create variable row_r1 that has a rank 1 view of the 2nd row of a<br>\n",
    "2. Create variable row_r2 that has rank 2 view of the 2nd row of a</div>\n",
    "    \n",
    "<div class=\"alert alert-block alert-info\">**REMEMBER:**  A \"rank\" is the row of a matrix.</div>\n",
    "\n",
    "<div class=\"alert alert-block alert-warning\">**Thoughts to Ponder:**<br>\n",
    "1. (row_r1 == row_r2) == True?<br>\n",
    "2. (row_r1 is row_r2) == True?<br>\n",
    "3. (a[1, :] is row_r1) == True?<br>\n",
    "4. (row_r2 is a[1:2, :]) == True?<div>"
   ]
  },
  {
   "cell_type": "code",
   "execution_count": 197,
   "metadata": {},
   "outputs": [
    {
     "name": "stdout",
     "output_type": "stream",
     "text": [
      "[[ 1  2  3  4]\n",
      " [ 5  6  7  8]\n",
      " [ 9 10 11 12]] (3, 4)\n"
     ]
    }
   ],
   "source": [
    "print(a, a.shape)"
   ]
  },
  {
   "cell_type": "code",
   "execution_count": 198,
   "metadata": {},
   "outputs": [
    {
     "name": "stdout",
     "output_type": "stream",
     "text": [
      "[5 6 7 8] (4,)\n"
     ]
    }
   ],
   "source": [
    "row_r1 = a[1, :]\n",
    "print(row_r1, row_r1.shape)"
   ]
  },
  {
   "cell_type": "code",
   "execution_count": 88,
   "metadata": {},
   "outputs": [
    {
     "name": "stdout",
     "output_type": "stream",
     "text": [
      "[[5 6 7 8]] (1, 4)\n"
     ]
    }
   ],
   "source": [
    "row_r2 = a[1:2, :]\n",
    "print(row_r2, row_r2.shape)"
   ]
  },
  {
   "cell_type": "code",
   "execution_count": 89,
   "metadata": {},
   "outputs": [
    {
     "data": {
      "text/plain": [
       "array([[ True,  True,  True,  True]])"
      ]
     },
     "execution_count": 89,
     "metadata": {},
     "output_type": "execute_result"
    }
   ],
   "source": [
    "row_r1 == row_r2"
   ]
  },
  {
   "cell_type": "code",
   "execution_count": 90,
   "metadata": {},
   "outputs": [
    {
     "data": {
      "text/plain": [
       "False"
      ]
     },
     "execution_count": 90,
     "metadata": {},
     "output_type": "execute_result"
    }
   ],
   "source": [
    "row_r1 is row_r2"
   ]
  },
  {
   "cell_type": "code",
   "execution_count": 91,
   "metadata": {},
   "outputs": [
    {
     "data": {
      "text/plain": [
       "False"
      ]
     },
     "execution_count": 91,
     "metadata": {},
     "output_type": "execute_result"
    }
   ],
   "source": [
    "a[1, :] is row_r1"
   ]
  },
  {
   "cell_type": "code",
   "execution_count": 92,
   "metadata": {},
   "outputs": [
    {
     "data": {
      "text/plain": [
       "False"
      ]
     },
     "execution_count": 92,
     "metadata": {},
     "output_type": "execute_result"
    }
   ],
   "source": [
    "row_r2 is a[1:2, :]"
   ]
  },
  {
   "cell_type": "markdown",
   "metadata": {},
   "source": [
    "We can make the same distinction when accessing columns of an array...\n",
    "\n",
    "**ACTION PLAN:**\n",
    "<div class=\"alert alert-block alert-success\">\n",
    "1. print **a**<br>\n",
    "2. Assign **col_r1** the slice of a for all rows for column 1<br>\n",
    "3. Print **col_r1** and it's shape<br>\n",
    "4. Assign **col_r2** the slice of **a** for all rows between columns [1, 2)<br>\n",
    "5. print **col_r2** and it's shape</div>"
   ]
  },
  {
   "cell_type": "code",
   "execution_count": 199,
   "metadata": {},
   "outputs": [
    {
     "name": "stdout",
     "output_type": "stream",
     "text": [
      "[[ 1  2  3  4]\n",
      " [ 5  6  7  8]\n",
      " [ 9 10 11 12]]\n"
     ]
    }
   ],
   "source": [
    "print(a)"
   ]
  },
  {
   "cell_type": "code",
   "execution_count": 200,
   "metadata": {},
   "outputs": [
    {
     "name": "stdout",
     "output_type": "stream",
     "text": [
      "[ 2  6 10] (3,)\n"
     ]
    }
   ],
   "source": [
    "col_r1 = a[:,1]\n",
    "print(col_r1, col_r1.shape)"
   ]
  },
  {
   "cell_type": "code",
   "execution_count": 201,
   "metadata": {},
   "outputs": [
    {
     "name": "stdout",
     "output_type": "stream",
     "text": [
      "[[ 2]\n",
      " [ 6]\n",
      " [10]] (3, 1)\n"
     ]
    }
   ],
   "source": [
    "col_r2 = a[:,1:2]\n",
    "print(col_r2, col_r2.shape)"
   ]
  },
  {
   "cell_type": "markdown",
   "metadata": {},
   "source": [
    "In other words:\n",
    "- `a[:, 1]` is taking all of the rows of the first column and creating a 1 by x matrix (aka:  array)\n",
    "- `a[:,1:2]` is taking all rows of the columns between 1 and up to not including 2 in order to create an x by 1 column matrix\n",
    "\n",
    "Try this on for size:\n",
    "<div class=\"alert alert-block alert-warning\">print(a, a.shape)<br>print(a[:, 1], a[:, 1].shape)<br>print(a[:, :1], a[:, :1].shape)<br>print(a[:,2:], a[:,2:].shape)<br>print(a[:, 2:4], a[:, 2:4].shape)<br>print(a, a.shape)<br>print(a[1:,2:], a[1:,2:].shape)<div>"
   ]
  },
  {
   "cell_type": "code",
   "execution_count": 202,
   "metadata": {},
   "outputs": [
    {
     "name": "stdout",
     "output_type": "stream",
     "text": [
      "[[ 1  2  3  4]\n",
      " [ 5  6  7  8]\n",
      " [ 9 10 11 12]] (3, 4)\n"
     ]
    }
   ],
   "source": [
    "print(a, a.shape)"
   ]
  },
  {
   "cell_type": "code",
   "execution_count": 203,
   "metadata": {},
   "outputs": [
    {
     "name": "stdout",
     "output_type": "stream",
     "text": [
      "[ 2  6 10] (3,)\n"
     ]
    }
   ],
   "source": [
    "print(a[:, 1], a[:, 1].shape)"
   ]
  },
  {
   "cell_type": "code",
   "execution_count": 204,
   "metadata": {},
   "outputs": [
    {
     "name": "stdout",
     "output_type": "stream",
     "text": [
      "[[1]\n",
      " [5]\n",
      " [9]] (3, 1)\n"
     ]
    }
   ],
   "source": [
    "print(a[:, :1], a[:, :1].shape)"
   ]
  },
  {
   "cell_type": "code",
   "execution_count": 205,
   "metadata": {},
   "outputs": [
    {
     "name": "stdout",
     "output_type": "stream",
     "text": [
      "[[ 3  4]\n",
      " [ 7  8]\n",
      " [11 12]] (3, 2)\n"
     ]
    }
   ],
   "source": [
    "print(a[:,2:], a[:,2:].shape)"
   ]
  },
  {
   "cell_type": "code",
   "execution_count": 206,
   "metadata": {},
   "outputs": [
    {
     "name": "stdout",
     "output_type": "stream",
     "text": [
      "[[ 3  4]\n",
      " [ 7  8]\n",
      " [11 12]] (3, 2)\n"
     ]
    }
   ],
   "source": [
    "print(a[:, 2:4], a[:, 2:4].shape)"
   ]
  },
  {
   "cell_type": "code",
   "execution_count": 207,
   "metadata": {},
   "outputs": [
    {
     "name": "stdout",
     "output_type": "stream",
     "text": [
      "[[ 1  2  3  4]\n",
      " [ 5  6  7  8]\n",
      " [ 9 10 11 12]] (3, 4)\n"
     ]
    }
   ],
   "source": [
    "print(a, a.shape)"
   ]
  },
  {
   "cell_type": "code",
   "execution_count": 208,
   "metadata": {},
   "outputs": [
    {
     "name": "stdout",
     "output_type": "stream",
     "text": [
      "[[ 7  8]\n",
      " [11 12]] (2, 2)\n"
     ]
    }
   ],
   "source": [
    "print(a[1:,2:], a[1:,2:].shape)"
   ]
  },
  {
   "cell_type": "markdown",
   "metadata": {},
   "source": [
    "## Integer Array Indexing\n",
    "\n",
    "This feature is useful when selecting or mutating a single element from each row of a matrix.\n",
    "\n",
    "`arr_matrix[[row_x, ...], [col_a, ...]]`\n",
    "\n",
    "**ACTION PLAN:**\n",
    "<div class=\"alert alert-block alert-success\">\n",
    "1. Create matrix **a** as a 3 by 2 matrix of integers from 1 up to and including 6<br>\n",
    "2. Print an array of elements at (0, 0), (1, 1), and (2,0)<br>\n",
    "3. Print an array of elements at (0,1) and (0,1)</div>\n",
    "\n",
    "<div class=\"alert alert-class alert-warning\">**Thoughts To Ponder:**<br>\n",
    "Did number 3 break? Why or why not?</div>"
   ]
  },
  {
   "cell_type": "code",
   "execution_count": 209,
   "metadata": {},
   "outputs": [
    {
     "data": {
      "text/plain": [
       "array([[1, 2],\n",
       "       [3, 4],\n",
       "       [5, 6]])"
      ]
     },
     "execution_count": 209,
     "metadata": {},
     "output_type": "execute_result"
    }
   ],
   "source": [
    "a = np.array([[1, 2], [3, 4], [5, 6]])\n",
    "a"
   ]
  },
  {
   "cell_type": "code",
   "execution_count": 210,
   "metadata": {},
   "outputs": [
    {
     "name": "stdout",
     "output_type": "stream",
     "text": [
      "[1 4 5]\n"
     ]
    }
   ],
   "source": [
    "print(a[[0, 1, 2], [0, 1, 0]])"
   ]
  },
  {
   "cell_type": "code",
   "execution_count": 211,
   "metadata": {},
   "outputs": [
    {
     "name": "stdout",
     "output_type": "stream",
     "text": [
      "[2 2]\n"
     ]
    }
   ],
   "source": [
    "print(a[[0, 0], [1, 1]])"
   ]
  },
  {
   "cell_type": "markdown",
   "metadata": {},
   "source": [
    "This feature is useful when selecting or mutating a single element from each row of a matrix.\n",
    "\n",
    "**ACTION PLAN:**\n",
    "<div class=\"alert alert-block alert-success\">\n",
    "1. Reassign **a** to a 4 by 3 array of arrays from 1 up to and including 12<br>\n",
    "2. Create an array **b** of 4 integers, each between [0, 3)<br>\n",
    "3. Add 10 to the section of **a** where row input is a range [0, 4) and column input is **b**</div>\n",
    "\n",
    "<div class=\"alert alert-class alert-warning\">**Thoughts To Ponder:**<br>\n",
    "What exactly did you just do?</div>"
   ]
  },
  {
   "cell_type": "code",
   "execution_count": 212,
   "metadata": {},
   "outputs": [
    {
     "data": {
      "text/plain": [
       "array([[ 1,  2,  3],\n",
       "       [ 4,  5,  6],\n",
       "       [ 7,  8,  9],\n",
       "       [10, 11, 12]])"
      ]
     },
     "execution_count": 212,
     "metadata": {},
     "output_type": "execute_result"
    }
   ],
   "source": [
    "a = np.array([np.arange(1,4), np.arange(4,7), np.arange(7,10), np.arange(10,13)])\n",
    "a"
   ]
  },
  {
   "cell_type": "code",
   "execution_count": 213,
   "metadata": {},
   "outputs": [
    {
     "data": {
      "text/plain": [
       "array([0, 2, 0, 1])"
      ]
     },
     "execution_count": 213,
     "metadata": {},
     "output_type": "execute_result"
    }
   ],
   "source": [
    "b = np.array([0, 2, 0, 1])\n",
    "b"
   ]
  },
  {
   "cell_type": "code",
   "execution_count": 214,
   "metadata": {},
   "outputs": [
    {
     "data": {
      "text/plain": [
       "array([[11,  2,  3],\n",
       "       [ 4,  5, 16],\n",
       "       [17,  8,  9],\n",
       "       [10, 21, 12]])"
      ]
     },
     "execution_count": 214,
     "metadata": {},
     "output_type": "execute_result"
    }
   ],
   "source": [
    "a[np.arange(4), b] += 10\n",
    "a"
   ]
  },
  {
   "cell_type": "markdown",
   "metadata": {},
   "source": [
    "## Boolean Array Indexing (Selection)\n",
    "\n",
    "This section will briefly go over how to use brackets for selection based off of comparison operators.\n",
    "\n",
    "1. If you add a comparison operator to an array such as `np.arange(1, 11)` you receive a new array of booleans.\n",
    "\n",
    "2. When you apply that array of **_bools_** to the original array you get back only the ones that are **_True_**\n",
    "\n",
    "`some_array(some_bool)`\n",
    "\n",
    "Frequently used to select elements of an array that satisfy some condition.\n",
    "\n",
    "**ACTION PLAN:**\n",
    "<div class=\"alert alert-class alert-success\">\n",
    "1. Create **bool_idx** and assign the value of **a > 10**<br>\n",
    "2. Print the value of **a** at \"index\" **bool_idx**<br></div>"
   ]
  },
  {
   "cell_type": "code",
   "execution_count": 215,
   "metadata": {},
   "outputs": [
    {
     "data": {
      "text/plain": [
       "array([[ True, False, False],\n",
       "       [False, False,  True],\n",
       "       [ True, False, False],\n",
       "       [False,  True,  True]])"
      ]
     },
     "execution_count": 215,
     "metadata": {},
     "output_type": "execute_result"
    }
   ],
   "source": [
    "bool_idx = a > 10\n",
    "bool_idx"
   ]
  },
  {
   "cell_type": "code",
   "execution_count": 216,
   "metadata": {},
   "outputs": [
    {
     "data": {
      "text/plain": [
       "array([11, 16, 17, 21, 12])"
      ]
     },
     "execution_count": 216,
     "metadata": {},
     "output_type": "execute_result"
    }
   ],
   "source": [
    "a[bool_idx]"
   ]
  },
  {
   "cell_type": "markdown",
   "metadata": {},
   "source": [
    "## More Indexing Help\n",
    "\n",
    "If you would like to learn more, please <a href='http://docs.scipy.org/doc/numpy/reference/arrays.indexing.html'>read the documentation</a>.\n",
    "\n",
    "Indexing a 2d matrix can be a bit confusing at first, especially when you start to add in step size.\n",
    "\n",
    "Try google image searching **_NumPy indexing_** to find useful images, like this one:\n",
    "\n",
    "<img src= 'https://www.safaribooksonline.com/library/view/python-for-data/9781449323592/httpatomoreillycomsourceoreillyimages1346882.png' width=500/>\n"
   ]
  },
  {
   "cell_type": "markdown",
   "metadata": {},
   "source": [
    "# Congratulations!\n",
    "\n",
    "You have now completed part 1 of the basic training on working with **NumPy**!"
   ]
  },
  {
   "cell_type": "code",
   "execution_count": null,
   "metadata": {},
   "outputs": [],
   "source": []
  }
 ],
 "metadata": {
  "kernelspec": {
   "display_name": "Python 3",
   "language": "python",
   "name": "python3"
  },
  "language_info": {
   "codemirror_mode": {
    "name": "ipython",
    "version": 3
   },
   "file_extension": ".py",
   "mimetype": "text/x-python",
   "name": "python",
   "nbconvert_exporter": "python",
   "pygments_lexer": "ipython3",
   "version": "3.6.6"
  }
 },
 "nbformat": 4,
 "nbformat_minor": 2
}
