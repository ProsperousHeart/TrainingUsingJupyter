{
 "cells": [
  {
   "cell_type": "markdown",
   "metadata": {},
   "source": [
    "# NumPy \n",
    "\n",
    "NumPy (or Numpy) is a Linear Algebra Library for Python.<br>\n",
    "\n",
    "_**<font color=green>Why is it so important for Data Science with Python?</font>**_\n",
    "\n",
    "- Numpy is incredibly fast, as it has bindings to C libraries\n",
    "\n",
    "- Almost all of the libraries in the PyData Ecosystem rely on NumPy as one of their main building blocks\n",
    "\n",
    "__*[numpy](http://www.numpy.org/)*__ is the core library for scientific computing in Python. It provides a high-performance multidimensional array object, and tools for working with these arrays. If you are already familiar with MATLAB, you might find *[this tutorial useful](http://wiki.scipy.org/NumPy_for_Matlab_Users)* to get started with Numpy.\n",
    "\n",
    "For more info on why you would want to use Arrays instead of lists, [check out this great StackOverflow post](http://stackoverflow.com/questions/993984/why-numpy-instead-of-python-lists).\n",
    "\n",
    "We will only learn the basics of NumPy in this notebook. And to get started, we need to install it!"
   ]
  },
  {
   "cell_type": "markdown",
   "metadata": {},
   "source": [
    "## Installation Instructions\n",
    "\n",
    "It is **_highly recommended_** you install Python using the Anaconda distribution to make sure all underlying dependencies (such as Linear Algebra libraries) all sync up with the use of a conda install.\n",
    "\n",
    "If you have Anaconda, install NumPy by going to your terminal or command prompt and typing:\n",
    "    \n",
    "    conda install numpy\n",
    "    \n",
    "If you do not have Anaconda and can not install it, **please refer to [Numpy's official documentation on various installation instructions.](http://docs.scipy.org/doc/numpy-1.10.1/user/install.html)**"
   ]
  },
  {
   "cell_type": "markdown",
   "metadata": {},
   "source": [
    "## Using NumPy\n",
    "\n",
    "Once you've installed NumPy you can import it as a library: \n",
    "\n",
    "`import numpy as np`"
   ]
  },
  {
   "cell_type": "code",
   "execution_count": null,
   "metadata": {},
   "outputs": [],
   "source": []
  },
  {
   "cell_type": "markdown",
   "metadata": {},
   "source": [
    "NumPy has many built-in functions and capabilities. In this notebook we will focus on some of the most important aspects of NumPy:\n",
    "- vectors\n",
    "- arrays\n",
    "- matrices\n",
    "- number generation\n",
    "\n",
    "Let's start by discussing basic arrays.\n",
    "\n",
    "# Arrays\n",
    "\n",
    "NumPy arrays are the main way we will use NumPy throughout the course. NumPy arrays essentially come in two flavors:\n",
    "- vectors \n",
    "- matrices\n",
    "\n",
    "**Vectors** are strictly 1-d arrays. (like a list)\n",
    "\n",
    "**Matrices** are 2-d (but you should note a matrix can still have only one row or one column).\n",
    "\n",
    "A numpy *array* is a grid of values, all of the same type, and is indexed by a tuple of nonnegative integers.\n",
    "\n",
    "-  __rank:__ The number of dimensions in the array\n",
    "-  __shape:__ tuple of integers giving the size of the array along each dimension\n",
    "\n",
    "We can initialize numpy arrays from nested Python lists, and access elements using square brackets.\n",
    "\n",
    "You can read about other methods (than those listed below) of array creation [in the documentation](http://docs.scipy.org/doc/numpy/user/basics.creation.html#arrays-creation).\n",
    "\n",
    "\n",
    "## Creating NumPy Arrays\n",
    "\n",
    "### From a Python List\n",
    "\n",
    "We can create an array by directly converting a list or list of lists.\n",
    "\n",
    "**ACTION STEPS:**\n",
    "<div class=\"alert alert-block alert-success\">\n",
    "1. Create a list of integers & print it: 1, 2, 3<br>\n",
    "2. Create an array called **arr1** from that list:  `np.array(your_list)`<br>\n",
    "3. Show the type(**arr1**)<br>\n",
    "4. Show element 2 of **arr1**<br>\n",
    "5. Create **my_matrix** - a 3 element list where each element is made of 3 INTs<br>\n",
    "6. Create an array from **my_matrix** (see number 2 above)</div>"
   ]
  },
  {
   "cell_type": "code",
   "execution_count": null,
   "metadata": {},
   "outputs": [],
   "source": []
  },
  {
   "cell_type": "code",
   "execution_count": null,
   "metadata": {},
   "outputs": [],
   "source": []
  },
  {
   "cell_type": "code",
   "execution_count": null,
   "metadata": {},
   "outputs": [],
   "source": []
  },
  {
   "cell_type": "code",
   "execution_count": null,
   "metadata": {},
   "outputs": [],
   "source": []
  },
  {
   "cell_type": "code",
   "execution_count": null,
   "metadata": {},
   "outputs": [],
   "source": []
  },
  {
   "cell_type": "code",
   "execution_count": null,
   "metadata": {},
   "outputs": [],
   "source": []
  },
  {
   "cell_type": "markdown",
   "metadata": {},
   "source": [
    "## Built-in Methods\n",
    "\n",
    "There are many built-in ways to generate Arrays - here are a few most common ones.\n"
   ]
  },
  {
   "cell_type": "markdown",
   "metadata": {},
   "source": [
    "### arange\n",
    "\n",
    "`np.arange(int1, int2, int3=None)`\n",
    "\n",
    "Returns a number of evenly spaced values within a given interval.\n",
    "\n",
    "- **1st argument:**  starting point\n",
    "- **2nd argument:**  up to and **not including** point\n",
    "- **3rd argument:**  preferred spacing\n",
    "\n",
    "<div class=\"alert alert-block alert-info\">**NOTE:** If None (or nothing provided) for 3rd argument it will default to 1</div>\n",
    "\n",
    "**ACTION STEPS:**\n",
    "<div class=\"alert alert-block alert-success\">\n",
    "1. Create a range of INTs from 0 to 11<br>\n",
    "2. Create a range of INTs from 0 to 11 with a step of 2</div>"
   ]
  },
  {
   "cell_type": "code",
   "execution_count": null,
   "metadata": {},
   "outputs": [],
   "source": []
  },
  {
   "cell_type": "code",
   "execution_count": null,
   "metadata": {},
   "outputs": [],
   "source": []
  },
  {
   "cell_type": "markdown",
   "metadata": {},
   "source": [
    "### shape\n",
    "\n",
    "`var.shape`\n",
    "\n",
    "The **.shape** function provides a 2 element tuple:  *(columns, rows)*\n",
    "\n",
    "#### For Single Array (Vector)\n",
    "\n",
    "Action Steps:\n",
    "<div class=\"alert alert-block alert-warning\">\n",
    "1. Create a variable **arr_shape1** and assign it the value of an np.array() with 3 INTs & show result<br>\n",
    "2. Provide **arr_shape1**'s shape<br>\n",
    "3. Provide **arr_shape1**'s type<br>\n",
    "4. Show element 2 of **arr_shape1**</div>"
   ]
  },
  {
   "cell_type": "code",
   "execution_count": null,
   "metadata": {},
   "outputs": [],
   "source": []
  },
  {
   "cell_type": "code",
   "execution_count": null,
   "metadata": {},
   "outputs": [],
   "source": []
  },
  {
   "cell_type": "code",
   "execution_count": null,
   "metadata": {},
   "outputs": [],
   "source": []
  },
  {
   "cell_type": "code",
   "execution_count": null,
   "metadata": {},
   "outputs": [],
   "source": []
  },
  {
   "cell_type": "markdown",
   "metadata": {},
   "source": [
    "#### For Multiple Array (Matrix)\n",
    "\n",
    "Action Steps:\n",
    "<div class=\"alert alert-block alert-warning\">\n",
    "1. Create a variable **arr_shape2** and create an np.array like:<br>\n",
    "    | 1 | 2 | 3 |<br>\n",
    "    | 4 | 5 | 6 |<br>\n",
    "2. Provide **arr_shape2**'s shape<br>\n",
    "3. Provide **arr_shape2**'s type<br>\n",
    "4. Show element 1 of **arr_shape2**<br>\n",
    "5. Show element 1, column 2 of **arr_shape2**</div>"
   ]
  },
  {
   "cell_type": "code",
   "execution_count": null,
   "metadata": {},
   "outputs": [],
   "source": []
  },
  {
   "cell_type": "markdown",
   "metadata": {},
   "source": [
    "### zeros and ones\n",
    "\n",
    "Generate arrays of zeros or ones.\n",
    "\n",
    "`np.zeros(int1)`\n",
    "\n",
    "This is for a **numpy** rank 1 of int1 zeros.\n",
    "\n",
    "`np.zeros((int1, int2))`\n",
    "\n",
    "This is for a **numpy** rank int1 of int2 zeros.\n",
    "\n",
    "`np.ones(int1)`\n",
    "\n",
    "This is for a **numpy** rank 1 of int1 ones.\n",
    "\n",
    "`np.ones((int1, int2))`\n",
    "\n",
    "This is for a **numpy** rank int1 of int2 ones.\n",
    "\n",
    "This takes in 2 options for the first & only argument.\n",
    "1. INTEGER - will create an array of 1 row, INT columns\n",
    "2. TUPLE - will create an array of (row, col)\n",
    "\n",
    "**ACTION PLAN:**\n",
    "<div class=\"alert alert block alert-success\">\n",
    "1. Create a **numpy** array of rank 1 of 3 zeros<br>\n",
    "2. Create a **numpy** array of rank 4 of 8 zeros<br>\n",
    "3. Create a **numpy** array of rank 1 of 3 ones<br>\n",
    "4. Create a **numpy** array of rank 3 of 3 ones<br></div>"
   ]
  },
  {
   "cell_type": "code",
   "execution_count": null,
   "metadata": {},
   "outputs": [],
   "source": []
  },
  {
   "cell_type": "code",
   "execution_count": null,
   "metadata": {},
   "outputs": [],
   "source": []
  },
  {
   "cell_type": "code",
   "execution_count": null,
   "metadata": {},
   "outputs": [],
   "source": []
  },
  {
   "cell_type": "code",
   "execution_count": null,
   "metadata": {},
   "outputs": [],
   "source": []
  },
  {
   "cell_type": "markdown",
   "metadata": {},
   "source": [
    "### linspace\n",
    "Return evenly spaced numbers over a specified interval.\n",
    "\n",
    "`np.linspace(float1, float2, float3)`\n",
    "\n",
    "- float1:  starting float\n",
    "- float2:  ending float\n",
    "- float3:  number of elements requested back\n",
    "\n",
    "**ACTION PLAN:**\n",
    "<div class=\"alert alert-block alert-success\">\n",
    "1. Create an array of 6 evenly spaced numbers from 0 up to and including 42<br>\n",
    "2. Create an array of 50 evenly spaced numbers from 0 up to and including 10<br>\n",
    "3. Show the shape of both</div>"
   ]
  },
  {
   "cell_type": "code",
   "execution_count": null,
   "metadata": {},
   "outputs": [],
   "source": []
  },
  {
   "cell_type": "markdown",
   "metadata": {},
   "source": [
    "## eye\n",
    "\n",
    "Creates an identity matrix.\n",
    "\n",
    "`np.eye(int1)`\n",
    "\n",
    "The INT required input parameter tells how many columns/rows it should create to make a square and fill in the diagonal.\n",
    "\n",
    "**ACTION PLAN:**\n",
    "<div class=\"alert alert-block alert-success\">\n",
    "1. Create a 4 by 4 identity matrix</div>"
   ]
  },
  {
   "cell_type": "code",
   "execution_count": null,
   "metadata": {},
   "outputs": [],
   "source": []
  },
  {
   "cell_type": "markdown",
   "metadata": {},
   "source": [
    "## Random \n",
    "\n",
    "Numpy also has lots of ways to create random number arrays:\n",
    "\n",
    "### rand\n",
    "Create an array of the given shape and populate it with\n",
    "random samples from a uniform distribution\n",
    "over ``[0, 1)``.\n",
    "\n",
    "`np.random.rand(int1)` \n",
    "\n",
    "Creates a vector array of int1 elements with shape (2, ) using random numbers.\n",
    "\n",
    "`np.random.rand(int1, int2)` \n",
    "\n",
    "Creates a matrix with shape (int1, int2) using random data\n",
    "\n",
    "**ACTION PLAN:**\n",
    "<div class=\"alert alert-block alert-success\">\n",
    "1. Create a rnadom array of rank 1 with 2 elements<br>\n",
    "2. Create a random 5 by 5 matrix</div>\n",
    "\n"
   ]
  },
  {
   "cell_type": "code",
   "execution_count": null,
   "metadata": {},
   "outputs": [],
   "source": []
  },
  {
   "cell_type": "markdown",
   "metadata": {},
   "source": [
    "### randn\n",
    "\n",
    "Return a sample (or samples) from the \"standard normal\" distribution - unlike rand which is uniform.\n",
    "\n",
    "`np.random.randn(int1)`\n",
    "\n",
    "Creates an array with shape (int1, ) filled with samples from the \"standard normal\" deviation.\n",
    "\n",
    "_This can include negative floats unlike **rand** function._\n",
    "\n",
    "`np.random.randn(int1, int2)`\n",
    "\n",
    "Creates an array with shape (int1, int2) filled with samples from the \"standard normal\" deviation.\n",
    "This can include negative floats unlike **rand** function.\n",
    "\n",
    "**ACTION PLAN:**\n",
    "<div class=\"alert alert-block alert-success\">\n",
    "1. Create a vector array of 2 samples of \"standard normal\" distribution<br>\n",
    "2. Create a 5 by 5 matrix array of \"standard normal\" distribution</div>"
   ]
  },
  {
   "cell_type": "code",
   "execution_count": null,
   "metadata": {},
   "outputs": [],
   "source": []
  },
  {
   "cell_type": "code",
   "execution_count": null,
   "metadata": {},
   "outputs": [],
   "source": []
  },
  {
   "cell_type": "markdown",
   "metadata": {},
   "source": [
    "### randint\n",
    "Return random integers from `low` (inclusive) to `high` (exclusive).\n",
    "\n",
    "`np.random.ranint(int1, int2, int3)`\n",
    "\n",
    "If int3 is not provided, this command will return a single INT. Otherwise, an array of shape (int3, ) will be returned.\n",
    "\n",
    "**ACTION PLAN:**\n",
    "<div class=\"alert alert-block alert-success\">\n",
    "1. Return a random integer from 1 up to but not including 100<br>\n",
    "2. Create a vector array of 10 random integers from 1 to 100 exclusive</div>"
   ]
  },
  {
   "cell_type": "code",
   "execution_count": null,
   "metadata": {},
   "outputs": [],
   "source": []
  },
  {
   "cell_type": "code",
   "execution_count": null,
   "metadata": {},
   "outputs": [],
   "source": []
  },
  {
   "cell_type": "markdown",
   "metadata": {},
   "source": [
    "## Array Attributes and Methods\n",
    "\n",
    "Let's discuss some useful attributes and methods for an array.\n",
    "\n",
    "`np.arange(int1)`\n",
    "\n",
    "Provides an array of shape (int1, ) filled with integers starting from 0 up to but not including int1.\n",
    "\n",
    "**ACTION PLAN:**\n",
    "<div class=\"alert alert-block alert-success\">\n",
    "1. Create variable **arr** in a range up to 25<br>\n",
    "2. Create variable **ranarr** as a vector array from 0 to 50 with 10 random INT elements</div>"
   ]
  },
  {
   "cell_type": "code",
   "execution_count": null,
   "metadata": {},
   "outputs": [],
   "source": []
  },
  {
   "cell_type": "code",
   "execution_count": null,
   "metadata": {},
   "outputs": [],
   "source": []
  },
  {
   "cell_type": "markdown",
   "metadata": {},
   "source": [
    "## Reshape\n",
    "Returns an array containing the same data with a new shape.\n",
    "\n",
    "`var.reshape(int1, int2)`\n",
    "\n",
    "Where **var** is some variable created for an array.\n",
    "\n",
    "<div class=\"alert alert-block alert-info\">**REMEMBER:**<br>\n",
    "_int1 by int2 must create a matrix to fill that size<br><br>In other words ..._<br>\n",
    "- a 5 by 5 matrix will have 25 elements<br>\n",
    "- a 2 by 4 matrix will have 8 elements</div>\n",
    "\n",
    "<div class=\"alert alert-block alert-success\">**EXERCISES:**<br>\n",
    "1. print (or show) **arr**<br>\n",
    "2. reshape **arr** to be 5x5<br>\n",
    "3. reshape **arr** to be 5x4</div>\n",
    "\n",
    "<div class=\"alert alert-block alert-danger\">What can you tell about this problem from the error in number 3?</div>"
   ]
  },
  {
   "cell_type": "code",
   "execution_count": null,
   "metadata": {},
   "outputs": [],
   "source": []
  },
  {
   "cell_type": "code",
   "execution_count": null,
   "metadata": {},
   "outputs": [],
   "source": []
  },
  {
   "cell_type": "code",
   "execution_count": null,
   "metadata": {},
   "outputs": [],
   "source": []
  },
  {
   "cell_type": "markdown",
   "metadata": {},
   "source": [
    "### max,min,argmax,argmin\n",
    "\n",
    "These are useful methods for finding max or min values.\n",
    "<br>... Or to find their index locations using argmin or argmax.\n",
    "\n",
    "`var.max()`\n",
    "\n",
    "Returns the max value in the array.\n",
    "\n",
    "`var.argmax()`\n",
    "\n",
    "Returns the location (index) of the max value within the array.\n",
    "\n",
    "`var.min()`\n",
    "\n",
    "Returns the min value in the array\n",
    "\n",
    "`var.argmin()`\n",
    "\n",
    "Returns the location (index) of the min value within the array.\n",
    "\n",
    "**ACTION PLAN:**\n",
    "<div class=\"alert alert-block alert-success\">\n",
    "1. Find the max of **arr**<br>\n",
    "2. Find the index of the max of **arr**<br>\n",
    "3. Find the min of **arr**<br>\n",
    "4. Find the index of min of **arr**</div>"
   ]
  },
  {
   "cell_type": "code",
   "execution_count": null,
   "metadata": {},
   "outputs": [],
   "source": []
  },
  {
   "cell_type": "code",
   "execution_count": null,
   "metadata": {},
   "outputs": [],
   "source": []
  },
  {
   "cell_type": "code",
   "execution_count": null,
   "metadata": {},
   "outputs": [],
   "source": []
  },
  {
   "cell_type": "code",
   "execution_count": null,
   "metadata": {},
   "outputs": [],
   "source": []
  },
  {
   "cell_type": "markdown",
   "metadata": {},
   "source": [
    "## Shape\n",
    "\n",
    "Shape is an attribute that arrays have (not a method).\n",
    "\n",
    "`var.shape`\n",
    "\n",
    "Creates a **vector** of shape:  *(columns, rows)*\n",
    "\n",
    "`var.reshape(int1, int2)`\n",
    "\n",
    "Creates an **array** of shape:  *(int1, int2)*\n",
    "\n",
    "<div class=\"alert alert-block alert-success\">**EXERCISES:**<br>\n",
    "1. Get the shape of vector **arr**<br>\n",
    "2. Reshape **arr** to be 1 row by 25 columns & show results<br>\n",
    "3. Provide the share of reshaped **arr** as 1 row by 25 columns<br>\n",
    "4. Reshape **arr** as 25 rows by 1 column<br>\n",
    "5. Show shape of number 4</div>"
   ]
  },
  {
   "cell_type": "markdown",
   "metadata": {},
   "source": [
    "# Indexing & Selection\n",
    "\n",
    "From here we're going to go over how to select elements or groups of elements from an array.\n",
    "\n",
    "**ACTION PLAN:**\n",
    "<div class=\"alert alert-block alert-success\">\n",
    "1. Assign **arr** the value returned from creating a sample array of ranged integers from 0 up to & excluding 11</div>"
   ]
  },
  {
   "cell_type": "code",
   "execution_count": null,
   "metadata": {},
   "outputs": [],
   "source": []
  },
  {
   "cell_type": "markdown",
   "metadata": {},
   "source": [
    "## Bracket Indexing and Selection\n",
    "\n",
    "The simplest way to pick one or some elements of an array looks very similar to python lists.\n",
    "\n",
    "**ACTION PLAN:**\n",
    "<div class=\"alert alert-block alert-success\">\n",
    "1. Get element 8 of **arr**<br>\n",
    "2. Slice **arr** from element 1 up to & excluding 5<br>\n",
    "3. Slice **arr** from element None up to & excluding 4<br>\n",
    "4. Slice **arr** from element 0 up to & excluding 3</div>\n",
    "\n",
    "<div class=\"alert alert-block alert-info\">**REMEMBER:**<br>\n",
    "If you see a None somewhere in documentation, it means you can leave it **_blank_**!!!</div>"
   ]
  },
  {
   "cell_type": "code",
   "execution_count": null,
   "metadata": {},
   "outputs": [],
   "source": []
  },
  {
   "cell_type": "code",
   "execution_count": null,
   "metadata": {},
   "outputs": [],
   "source": []
  },
  {
   "cell_type": "code",
   "execution_count": null,
   "metadata": {},
   "outputs": [],
   "source": []
  },
  {
   "cell_type": "code",
   "execution_count": null,
   "metadata": {},
   "outputs": [],
   "source": []
  },
  {
   "cell_type": "markdown",
   "metadata": {},
   "source": [
    "## Broadcasting\n",
    "\n",
    "Numpy arrays differ from a normal Python list because of their ability to broadcast.\n",
    "\n",
    "Basically? When you broadcast, it changes all elements to be whatever you _\"broadcast\"_.\n",
    "\n",
    "`var[int1:int2]=int3`\n",
    "\n",
    "**ACTION PLAN:**\n",
    "<div class=\"alert alert-block alert-success\">\n",
    "1. Make the 1st 4 elements in **arr** be 100.<br>\n",
    "2. Assign **arr** the value of an array of a range of integers between 0 and up to excluding 11<br>\n",
    "3. Create a slice of **arr** from 0 up to and including 5 - call it **slice_of_arr**<br>\n",
    "4. Broadcast to entire **slice_of_arr** the value of (INT) 99<br>\n",
    "5. Print **slice_of_arr**<br>\n",
    "6. Print **arr**<br>\n",
    "7. Call the **copy()** function on **arr** and assign to **arr_copy**</div>\n",
    "\n",
    "<div class=\"alert alert-block alert-warning\">**Thoughts To Ponder:**<br>\n",
    "1. (arr == arr_copy) == True ???<br>\n",
    "2. (arr is arr_copy) == True ???</div>"
   ]
  },
  {
   "cell_type": "code",
   "execution_count": null,
   "metadata": {},
   "outputs": [],
   "source": []
  },
  {
   "cell_type": "code",
   "execution_count": null,
   "metadata": {},
   "outputs": [],
   "source": []
  },
  {
   "cell_type": "code",
   "execution_count": null,
   "metadata": {},
   "outputs": [],
   "source": []
  },
  {
   "cell_type": "code",
   "execution_count": null,
   "metadata": {},
   "outputs": [],
   "source": []
  },
  {
   "cell_type": "code",
   "execution_count": null,
   "metadata": {},
   "outputs": [],
   "source": []
  },
  {
   "cell_type": "code",
   "execution_count": null,
   "metadata": {},
   "outputs": [],
   "source": []
  },
  {
   "cell_type": "code",
   "execution_count": null,
   "metadata": {},
   "outputs": [],
   "source": []
  },
  {
   "cell_type": "markdown",
   "metadata": {},
   "source": [
    "***\n",
    "## Indexing a 2D array (Matrices)\n",
    "\n",
    "The general format for a indexing a matrix is:\n",
    "\n",
    "- `arr_2d[row][col]`\n",
    "- `arr_2d[row,col]`\n",
    "\n",
    "I recommend usually using the comma notation for clarity.\n",
    "\n",
    "**ACTION PLAN:**\n",
    "<div class=\"alert alert-block alert-success\">\n",
    "1. Create **arr_2d** to be an array of rank 3 with 3 columns where each row is in increments of 5 starting at 5\n",
    "    _**HINT:** [[5, 10, 15], ...]_<br>\n",
    "2. What is row 1 of **arr_2d**?<br>\n",
    "3. What is returned from **arr_2d** at row 1, column 0?<br>\n",
    "4. Write number 3 a different way.<br>\n",
    "5. Create a slice of **arr_2d** from first 2 rows and columns 1 until the end<br>\n",
    "6. Reshape number 5 to be (1, 3)</div>\n",
    "\n",
    "<div class=\"alert alert-block alert-warning\">**Things To Ponder:**<br>\n",
    "- What exactly happened when you called **reshape(int1, int2)**?</div>"
   ]
  },
  {
   "cell_type": "code",
   "execution_count": null,
   "metadata": {},
   "outputs": [],
   "source": []
  },
  {
   "cell_type": "code",
   "execution_count": null,
   "metadata": {},
   "outputs": [],
   "source": []
  },
  {
   "cell_type": "code",
   "execution_count": null,
   "metadata": {},
   "outputs": [],
   "source": []
  },
  {
   "cell_type": "code",
   "execution_count": null,
   "metadata": {},
   "outputs": [],
   "source": []
  },
  {
   "cell_type": "code",
   "execution_count": null,
   "metadata": {},
   "outputs": [],
   "source": []
  },
  {
   "cell_type": "code",
   "execution_count": null,
   "metadata": {},
   "outputs": [],
   "source": []
  },
  {
   "cell_type": "markdown",
   "metadata": {},
   "source": [
    "### Fancy Indexing\n",
    "\n",
    "Fancy indexing allows you to select entire rows or columns out of order,to show this, let's quickly build out a numpy array:\n",
    "\n",
    "`arr_2d[[int1, ...]]`\n",
    "\n",
    "This will return the rows at each index within the list input.\n",
    "\n",
    "**ACTION PLAN:**\n",
    "<div class=\"alert alert-block alert-success\">\n",
    "1. Assign **arr_2d** a zeros array of 10 by 10<br>\n",
    "2. What is the shape (count) of row 1 in **arr_2d**?<br>\n",
    "3. For each element in range of the answer to number 2, broadcast the element _(assign the element to that row)_<br>\n",
    "4. Grab rows 6, 2, 4, and 7 from **Arr_2d**</div>\n",
    "\n",
    "<div class=\"alert alert-block alert-warning\">**Thoughts To Ponder:**<br>\n",
    "- What did number 4 teach you?</div>"
   ]
  },
  {
   "cell_type": "code",
   "execution_count": null,
   "metadata": {},
   "outputs": [],
   "source": []
  },
  {
   "cell_type": "code",
   "execution_count": null,
   "metadata": {},
   "outputs": [],
   "source": []
  },
  {
   "cell_type": "code",
   "execution_count": null,
   "metadata": {},
   "outputs": [],
   "source": []
  },
  {
   "cell_type": "code",
   "execution_count": null,
   "metadata": {},
   "outputs": [],
   "source": []
  },
  {
   "cell_type": "markdown",
   "metadata": {},
   "source": []
  }
 ],
 "metadata": {
  "kernelspec": {
   "display_name": "Python 3",
   "language": "python",
   "name": "python3"
  },
  "language_info": {
   "codemirror_mode": {
    "name": "ipython",
    "version": 3
   },
   "file_extension": ".py",
   "mimetype": "text/x-python",
   "name": "python",
   "nbconvert_exporter": "python",
   "pygments_lexer": "ipython3",
   "version": "3.6.4"
  }
 },
 "nbformat": 4,
 "nbformat_minor": 2
}
