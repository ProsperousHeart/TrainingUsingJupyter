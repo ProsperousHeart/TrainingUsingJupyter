{
 "cells": [
  {
   "cell_type": "markdown",
   "metadata": {},
   "source": [
    "# IDEs Recommended To Use\n",
    "\n",
    "?\n",
    "\n",
    "# The Global Object\n",
    "\n",
    "?\n",
    "\n",
    "# The Process Object\n",
    "\n",
    "?\n",
    "\n",
    "# Readline\n",
    "\n",
    "?\n",
    "\n",
    "# Custom Events\n",
    "\n",
    "?\n",
    "\n",
    "# Module\n",
    "\n",
    "?\n",
    "\n",
    "# Exporting\n",
    "\n",
    "?\n",
    "\n",
    "# Child Processes\n",
    "\n",
    "?"
   ]
  },
  {
   "cell_type": "code",
   "execution_count": null,
   "metadata": {},
   "outputs": [],
   "source": []
  }
 ],
 "metadata": {
  "kernelspec": {
   "display_name": "Python 3",
   "language": "python",
   "name": "python3"
  },
  "language_info": {
   "codemirror_mode": {
    "name": "ipython",
    "version": 3
   },
   "file_extension": ".py",
   "mimetype": "text/x-python",
   "name": "python",
   "nbconvert_exporter": "python",
   "pygments_lexer": "ipython3",
   "version": "3.6.4"
  }
 },
 "nbformat": 4,
 "nbformat_minor": 2
}
