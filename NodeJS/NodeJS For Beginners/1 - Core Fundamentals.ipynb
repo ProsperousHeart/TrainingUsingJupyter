{
 "cells": [
  {
   "cell_type": "markdown",
   "metadata": {},
   "source": [
    "# IDEs Recommended To Use\n",
    "\n",
    "## Visual Studio Code\n",
    "\n",
    "The suggested IDE by the course creator is [Visual Studio Code](https://code.visualstudio.com) - free version.\n",
    "\n",
    "<img src=\"files/IMGs/VSC.png\">\n",
    "\n",
    "It comes with built-in support for:\n",
    "- JavaScript\n",
    "- TypeScript\n",
    "- Node.js\n",
    "\n",
    "... and has a rich ecosystem of extensions for other languages such as:\n",
    "- C++\n",
    "- C#\n",
    "- Java\n",
    "- Python\n",
    "- PHP\n",
    "- Go\n",
    "\n",
    "... AND runtimes such as .NET and Unity!\n",
    "\n",
    "It has things like:\n",
    "\n",
    "- a built-in terminal\n",
    "- lots of features & plugins\n",
    "- nice GUI\n",
    "- easy to create & manage files\n",
    "- can split windows (like Atom)\n",
    "\n",
    "You can learn more about how to use this IDE when you [watch these introductory videos](https://code.visualstudio.com/docs/introvideos/overview).\n",
    "\n",
    "### Installing VSC\n",
    "\n",
    "Once you download it from the previously provided link, you will run through the installation of Visual Studio Code. The defaults are usually fine.\n",
    "\n",
    "\n",
    "<img src=\"files/IMGs/VSC01.png\">"
   ]
  },
  {
   "cell_type": "markdown",
   "metadata": {},
   "source": [
    "Read and accept (if you do) the EULA.\n",
    "\n",
    "<img src=\"files/IMGs/VSC03.png\">"
   ]
  },
  {
   "cell_type": "markdown",
   "metadata": {},
   "source": [
    "Choose the location with which you wish to install the program.\n",
    "\n",
    "<img src=\"files/IMGs/VSC04.png\">"
   ]
  },
  {
   "cell_type": "markdown",
   "metadata": {},
   "source": [
    "Name it whatever you want - again, defaults generally are best. Your choice.\n",
    "\n",
    "<img src=\"files/IMGs/VSC05.png\">"
   ]
  },
  {
   "cell_type": "markdown",
   "metadata": {},
   "source": [
    "This was one exception that I would change. The default was this:\n",
    "\n",
    "<img src=\"files/IMGs/VSC06.png\">"
   ]
  },
  {
   "cell_type": "markdown",
   "metadata": {},
   "source": [
    "However I am doing my installation like this:\n",
    "\n",
    "<img src=\"files/IMGs/VSC07.png\">\n",
    "\n",
    "The reason being is:\n",
    "1. I want to be able to open a file in VSC directly from my Windows Explorer.\n",
    "2. I want to be able to open a directory in VSC directly from my Windows Explorer.\n",
    "3. I want Windows to know that certain file extensions should always use this IDE.\n",
    "4. I still want VSC to be added to PATH.\n",
    "\n",
    "And I didn't check *Create a desktop icon* because I don't want the icon on my desktop - it's already in my Start folder"
   ]
  },
  {
   "cell_type": "markdown",
   "metadata": {},
   "source": [
    "Once you've chosen your settings, it's time to install!\n",
    "\n",
    "<img src=\"files/IMGs/VSC08.png\">"
   ]
  },
  {
   "cell_type": "markdown",
   "metadata": {},
   "source": [
    "This process may take a couple of minues. Eventually you'll get to this screen and the process will have completed! (Uncheck the box if you're not yet ready to code in VSC.)\n",
    "\n",
    "<img src=\"files/IMGs/VSC09.png\">"
   ]
  },
  {
   "cell_type": "markdown",
   "metadata": {},
   "source": [
    "### Suggested Commands\n",
    "\n",
    "`CTRL + ~`<br>\n",
    "Brings up the terminal - at least on a Mac (haven't tested on PC yet)."
   ]
  },
  {
   "cell_type": "markdown",
   "metadata": {},
   "source": [
    "## WebStorm\n",
    "\n",
    "The IDE used in the course, however, was [WebStorm](https://www.jetbrains.com/webstorm) - \"the smartest JavaScript IDE\" ... However this is a PAID product, so if you're not yet ready to get your own monthly or annual subscription? Stick with [Visual Studio Code](https://code.visualstudio.com).\n",
    "\n",
    "(FYI - it's created by [JetBrains](https://www.jetbrains.com)!)\n",
    "\n",
    "This also has a built-iun terminal ... meaning it wraps around your bash shell from your computer (command prompt). So for example - you could put in `cd Desltop` on a PC and change directory to your Desktop.\n",
    "\n",
    "The course creator likes this for similar reasons as to Visual Studio Code.\n",
    "\n",
    "**_Are you a student?_** You can get a free license with your college email!\n",
    "\n",
    "You may also get a free (perhaps discounted?) license by saying you're a student of the course creator? But this theory hasn't been tested. (And be a person of integrity - don't say that unless you actually purchased this course.)\n",
    "\n",
    "\n",
    "# The Global Object\n",
    "\n",
    "Two items were created:\n",
    "- global.html\n",
    "- global.js\n",
    "\n",
    "Each browser has a \"global object\" that all variables get added to.\n",
    "\n",
    "If you open up the HTML file and then the console of your browser, you can see that you can create variables. At which point you can then call them.\n",
    "\n",
    "`var = name\n",
    "window.name`\n",
    "\n",
    "Note that `name` and `window.name` are the same - the browser assumes global variable object.\n",
    "\n",
    "You could also do `let varName = something` however this is a newer JavaScript and may not be available in your browser. (JavaScript 6)\n",
    "\n",
    "**Bottom Line:** Everything gets added to the *window* object.\n",
    "\n",
    "\n",
    "## The JS\n",
    "\n",
    "Each JavaScript file will have a lot of commands that are part of the global object.\n",
    "\n",
    "For example:<br>\n",
    "`console.log(\"Something here.\")`\n",
    "\n",
    "You would get the same thing back if you did:<br>\n",
    "`global.console.log(\"Something here.\")`\n",
    "\n",
    "Variables are **not** added automatically to the *global* object like they are in a *window* object.\n",
    "\n",
    "**REMEMBER:** Every functionality or feature that JS has in the browser is available in **Node**. Only difference is we have *extra* stuff in **Node**.\n",
    "\n",
    "\n",
    "## Comparison of GLOBAL in Node vs WINDOW in Browser\n",
    "\n",
    "You **global** object is basically the same thing as your **window** object in your browser.\n",
    "\n",
    "In browser, if you were to run `var name = \"Inigo Montoyo\"` it would automatically be added to **window** object - this is not the case in **Node**.\n",
    "\n",
    "\n",
    "## Running The JS File\n",
    "\n",
    "Since **node** is already installed, so you can simply put the following in the console to execute files using Node:\n",
    "`node global` or `node global.js`\n",
    "\n",
    "Node will always expect a JavaScript file. Therefore no need to add the .js extension when attempting to run a JS file.\n",
    "\n",
    "**REMEMBER:** Every separate file in Node.js is it's own module. Therefore to use a variable from another file, you *must* import it. How to get it out?\n",
    "- add the variable to the global object\n",
    "- export it"
   ]
  },
  {
   "cell_type": "markdown",
   "metadata": {},
   "source": [
    "# The Process Object\n",
    "\n",
    "?\n",
    "\n",
    "# Readline\n",
    "\n",
    "?\n",
    "\n",
    "# Custom Events\n",
    "\n",
    "?\n",
    "\n",
    "# Module\n",
    "\n",
    "?\n",
    "\n",
    "# Exporting\n",
    "\n",
    "?\n",
    "\n",
    "# Child Processes\n",
    "\n",
    "?"
   ]
  },
  {
   "cell_type": "code",
   "execution_count": null,
   "metadata": {},
   "outputs": [],
   "source": []
  }
 ],
 "metadata": {
  "kernelspec": {
   "display_name": "Python 3",
   "language": "python",
   "name": "python3"
  },
  "language_info": {
   "codemirror_mode": {
    "name": "ipython",
    "version": 3
   },
   "file_extension": ".py",
   "mimetype": "text/x-python",
   "name": "python",
   "nbconvert_exporter": "python",
   "pygments_lexer": "ipython3",
   "version": "3.6.4"
  }
 },
 "nbformat": 4,
 "nbformat_minor": 2
}
