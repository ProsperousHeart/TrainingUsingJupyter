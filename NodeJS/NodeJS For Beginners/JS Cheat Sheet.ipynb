{
 "cells": [
  {
   "cell_type": "raw",
   "metadata": {},
   "source": [
    "var name = \"Inigo Montoyo\";\n",
    "\n",
    "var newName = name.toUpperCase(name);\n",
    "\n",
    "console.log(newName);    # includes a <br> or \\n as well like print in python\n",
    "console.log(`newName variable is ${newName}`);\n",
    "\n",
    "# display directory\n",
    "console.log(__dirname);\n",
    "\n",
    "# display file name\n",
    "console.log(__filename);\n",
    "\n",
    "# bring in other modules\n",
    "# note this section had squiggly lines ... 12:01 prior showed how to resolve\n",
    "var path = require('path');\n",
    "\n",
    "# print the filename and extension\n",
    "console.log(path.basename(__filename));"
   ]
  },
  {
   "cell_type": "code",
   "execution_count": null,
   "metadata": {},
   "outputs": [],
   "source": []
  }
 ],
 "metadata": {
  "kernelspec": {
   "display_name": "Python 3",
   "language": "python",
   "name": "python3"
  },
  "language_info": {
   "codemirror_mode": {
    "name": "ipython",
    "version": 3
   },
   "file_extension": ".py",
   "mimetype": "text/x-python",
   "name": "python",
   "nbconvert_exporter": "python",
   "pygments_lexer": "ipython3",
   "version": "3.6.4"
  }
 },
 "nbformat": 4,
 "nbformat_minor": 2
}
