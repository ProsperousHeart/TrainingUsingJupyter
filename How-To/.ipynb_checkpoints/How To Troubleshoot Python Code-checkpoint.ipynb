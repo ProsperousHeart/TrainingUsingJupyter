{
 "cells": [
  {
   "cell_type": "markdown",
   "metadata": {},
   "source": [
    "<a href='https://www.learntocodeonline.com/'> <img src='files/IMGs/learn to code online.png'></a>"
   ]
  },
  {
   "cell_type": "markdown",
   "metadata": {},
   "source": [
    "# Introduction\n",
    "\n",
    "It's one thing to learn how to use a programming language to create something amazing for it's intended users.\n",
    "It's quite another to know how to code effectively, efficiently, and securely.\n",
    "\n",
    "As a programmer, it is your job to:\n",
    "- think of all the ways in which a user might break your code\n",
    "- determine next piece to complete based on timeline of the business unit\n",
    "- code in such a way that someone behind you can easily pick up where you left off\n",
    "- create opportunities for others to utilize your work (reducing duplicate work and wasted time)\n",
    "- ensure that all consumers (end users & programmers) have an easy experience with your product\n",
    "\n",
    "Now obviously due to time constraints some things are not as complete as they should be or even touched on at all. But when you focus on the above, you are more likely to get proper working code with less bugs and less unhappy customers because you put **quality over quantity**.\n",
    "\n",
    "And being able to product quality over quantity also requires a better troubleshooting toolbox. That's why this training will be to specifically cover _**troubleshooting in python**_."
   ]
  },
  {
   "cell_type": "markdown",
   "metadata": {},
   "source": [
    "# How To Troubleshoot Python\n",
    "\n",
    "As [I've discussed before](https://www.linkedin.com/feed/update/urn:li:activity:6475399796298444800), there is no one right way to program. However, with proper mindset and tools you can be more efficient and pythonic.\n",
    "\n",
    "Here you will find other options to troubleshoot python. If you have additional suggestions, please contact me via [FB](https://www.facebook.com/LadiesLearnToCodeOnline) or utilize github to push suggested changes."
   ]
  },
  {
   "cell_type": "markdown",
   "metadata": {},
   "source": [
    "## Print Or Utilize Logging - A LOT\n",
    "\n",
    "One of the easiest ways to ensure you are leveraging the different options to print or use logging is covered in my previous talk on [How To Think Like A Programmer](https://www.linkedin.com/feed/update/urn:li:activity:6475399796298444800) regarding creating a \"bare bones\" script. While you may not keep up with as much detail as this outlines as your script progresses, this foundational setup will help you with troubleshooting in the future. So I highly suggest doing your best to follow the guidelines given.\n",
    "\n",
    "In that same training's [code](https://github.com/ProsperousHeart/Personal-Projects/blob/master/Cisco-Live-2018/STEP3-Functions.py#L12), I provided additional information on two ways to leverage the logging module:\n",
    "- via console\n",
    "- via logging file creation\n",
    "\n",
    "### Why Should You Use PRINT Or The Logging Module So Much?\n",
    "\n",
    "There are several reasons to leverage this module. Can you think of more?\n",
    "\n",
    "1. It confirms you have received expected date input for a function.\n",
    "\n",
    "2. It confirms you have sent expected output when a function was called.\n",
    "\n",
    "3. Provides you the opportunity to minimize time to resolution by breaking down where and why you're broken down.\n",
    "\n",
    "4. Can check if you're hitting expected code or not (and determine why if not)\n",
    "\n",
    "5. Provides you the ability to notice strange behaviors (e.g.:  an error message keeps appearing even though you put the block of code in a try-except block, so script keeps going with incorrect data)\n",
    "\n",
    "### Ideas On How To Effectively Use Logging\n",
    "\n",
    "1. Think of your logging as a catch-all for you to be able to troubleshoot your script. Obviously you want to clean it up later for production code, but this is your first step. IF you keep this in mind, then finding and fixing bugs in the future will become a lot easier.\n",
    "\n",
    "2. Be sure to do the starting and ending lines of a function as outlined in \"[How To Write A Bare Bones Script](https://www.linkedin.com/feed/update/urn:li:activity:6475399796298444800)\" - this will allow you to see when your script enters and exits a function. Easier to track through your debugging. **ALTERNATE:  _You can put it before and after calling the function instead._**\n",
    "\n",
    "3. When using [logger module](https://docs.python.org/3/library/logging.html), be sure to enable it to go all the way to the debug level. This provides you many different ways to provide logs - including writing scripts that only show certain log levels as requested by the person pulling logs. I utilize logging 2 different ways in my code [here](https://github.com/ProsperousHeart/Personal-Projects/blob/master/Cisco-Live-2018/semibasic-final.py#L24) & provide additional information in the comments.\n",
    "\n",
    "4.  Using **logger.info('Something here')** allows you to choose INFO level lines, such as to confirm information being sent/received between functions.\n",
    "\n",
    "5. Once you've confirmed a function is working as expected, **at least** comment out the logging lines so they don't clutter up your output for additional troubleshooting. You can always uncomment them later as needed.\n",
    "\n",
    "### Why Not Always Use Print?\n",
    "\n",
    "Depending on the environment, print may not be your best option. It's a quick & dirty way to do your troubleshooting, but using the logging module allows for more flexibility - as well as a better way for your end users to leverage the debugging features in your script.\n",
    "\n",
    "e.g.:  Cisco logging requires you to turn on certain logging features to get the logs for what you need when troubleshooting so TAC can assist"
   ]
  },
  {
   "cell_type": "markdown",
   "metadata": {},
   "source": [
    "## Start With Code That Already Works\n",
    "\n",
    "This is not always feasible, but when possible do it!\n",
    "\n",
    "While you learn more from your mistakes (such as what not to do and what special coding issues to avoid in the future) you will minimize your time to complete since you will not be reinventing the wheel.\n",
    "\n",
    "By reusing someone else's code, it also provides you a unique opportunity to see other coding styles, including how to be more efficient with your own code (like using [list comprehensions](https://docs.python.org/3/tutorial/datastructures.html#list-comprehensions) and [dictionary comprehensions](https://www.python.org/dev/peps/pep-0274)).\n",
    "\n",
    "Ensure to always give credit where credit is due - git and GitHub already have this option, as do many other VCSs (version control systems)."
   ]
  },
  {
   "cell_type": "markdown",
   "metadata": {},
   "source": [
    "## Run Code With Every Change\n",
    "\n",
    "When you make huge changes without testing along the way, you open yourself up to finding multiple bugs and spending way longer on troubleshooting than is necessary.\n",
    "\n",
    "The more you change or write between saving & running your code, the more places you have to go back and search to see if you hit an error.\n",
    "\n",
    "This also allows you to predict where issues might arise in the future if reworking of major code parts is required.\n",
    "\n",
    "**REMEMBER:  errors can trickle down or up within your code**"
   ]
  },
  {
   "cell_type": "markdown",
   "metadata": {},
   "source": [
    "## Read The Error Message\n",
    "\n",
    "Most people will see the error message and not understand how to utilize it to troubleshoot. I urge you to actually sit and read the message. It is very rare that the error does not provide you with the following:\n",
    "\n",
    "- information on the type of error\n",
    "- what line of code the error happened\n",
    "- why the error occurred\n",
    "\n",
    "The only time this might not be accurate is if you use [try-except-else](https://docs.python.org/3/tutorial/errors.html) clauses inaccurately. You never want to catch all with your exceptions, as being too broad can provide inaccurate information when troubleshooting. And you rarely want to completely ignore an error in your code. An error means there's a problem.\n",
    "\n",
    "Now, there will come a time when you've never seen an error message like it before. That's when you utilize this next option ..."
   ]
  },
  {
   "cell_type": "markdown",
   "metadata": {},
   "source": [
    "## Google The Error Message\n",
    "\n",
    "TBD"
   ]
  },
  {
   "cell_type": "markdown",
   "metadata": {},
   "source": [
    "## Leverage Your Bugs To Improve Your QA\n",
    "\n",
    "Make note of where the bug is found so you can refer back later.\n",
    "\n",
    "Once you have been able to debug, sometimes this is an opportunity for you to update your Quality Assurance testing.\n",
    "- Did this happen only under a certain condition?\n",
    "- Or was this because your code was bad and you weren't getting the data you expected?\n",
    "\n",
    "By keeping a running list of tests that have broken your code before, you are better able to ensure that you do not reintroduce bugs into your code."
   ]
  },
  {
   "attachments": {},
   "cell_type": "markdown",
   "metadata": {},
   "source": [
    "# Additional Resources\n",
    "\n",
    "- Free [Udacity Training](https://classroom.udacity.com/courses/ud775) Using Github & Git\n",
    "- [Python Debugging Tools](https://wiki.python.org/moin/PythonDebuggingTools)\n",
    "- Hartley Brody's [Debugging Code For Beginners](https://blog.hartleybrody.com/debugging-code-beginner)\n",
    "- Python For Biologists [29 Common Beginner Errors](https://pythonforbiologists.com/29-common-beginner-errors-on-one-page)\n",
    "- A YouTuibe video on [Transforming Code into Beautiful, Idiomatic Python](https://www.youtube.com/watch?v=OSGv2VnC0go)\n",
    "- https://www.cs.bu.edu/courses/cs108/guides/debug.html"
   ]
  },
  {
   "cell_type": "code",
   "execution_count": null,
   "metadata": {},
   "outputs": [],
   "source": []
  }
 ],
 "metadata": {
  "kernelspec": {
   "display_name": "Python 3",
   "language": "python",
   "name": "python3"
  },
  "language_info": {
   "codemirror_mode": {
    "name": "ipython",
    "version": 3
   },
   "file_extension": ".py",
   "mimetype": "text/x-python",
   "name": "python",
   "nbconvert_exporter": "python",
   "pygments_lexer": "ipython3",
   "version": "3.6.6"
  }
 },
 "nbformat": 4,
 "nbformat_minor": 2
}
