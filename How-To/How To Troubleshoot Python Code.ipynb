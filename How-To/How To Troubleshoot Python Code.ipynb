{
 "cells": [
  {
   "cell_type": "markdown",
   "metadata": {},
   "source": [
    "<a href='https://www.learntocodeonline.com/'> <img src='files/IMGs/learn to code online.png'></a>"
   ]
  },
  {
   "cell_type": "markdown",
   "metadata": {},
   "source": [
    "# Introduction\n",
    "\n",
    "It's one thing to learn how to use a programming language to create something amazing for it's intended users.\n",
    "It's quite another to know how to code effectively, efficiently, and securely.\n",
    "\n",
    "As a programmer, it is your job to:\n",
    "- think of all the ways in which a user might break your code\n",
    "- determine next piece to complete based on timeline of the business unit\n",
    "- code in such a way that someone behind you can easily pick up where you left off\n",
    "- create opportunities for others to utilize your work (reducing duplicate work and wasted time)\n",
    "- ensure that all consumers (end users & programmers) have an easy experience with your product\n",
    "\n",
    "Now obviously due to time constraints some things are not as complete as they should be or even touched on at all. But when you focus on the above, you are more likely to get proper working code with less bugs and less unhappy customers because you put **quality over quantity**.\n",
    "\n",
    "\n",
    "## What Will Be Discussed\n",
    "\n",
    "- ?\n",
    "\n",
    "# Additional Tips\n",
    "\n",
    "- secure site links"
   ]
  },
  {
   "cell_type": "code",
   "execution_count": null,
   "metadata": {},
   "outputs": [],
   "source": []
  }
 ],
 "metadata": {
  "kernelspec": {
   "display_name": "Python 3",
   "language": "python",
   "name": "python3"
  },
  "language_info": {
   "codemirror_mode": {
    "name": "ipython",
    "version": 3
   },
   "file_extension": ".py",
   "mimetype": "text/x-python",
   "name": "python",
   "nbconvert_exporter": "python",
   "pygments_lexer": "ipython3",
   "version": "3.6.6"
  }
 },
 "nbformat": 4,
 "nbformat_minor": 2
}
