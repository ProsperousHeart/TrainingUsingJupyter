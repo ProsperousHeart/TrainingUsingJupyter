{
 "cells": [
  {
   "cell_type": "markdown",
   "metadata": {},
   "source": [
    "<a href='https://www.learntocodeonline.com/'> <img src='files/IMGs/learn to code online.png'></a>"
   ]
  },
  {
   "cell_type": "markdown",
   "metadata": {},
   "source": [
    "# Introduction\n",
    "\n",
    "It's one thing to learn how to use a programming language to create something amazing for it's intended users.\n",
    "It's quite another to know how to code effectively, efficiently, and securely.\n",
    "\n",
    "As a programmer, it is your job to:\n",
    "- think of all the ways in which a user might break your code\n",
    "- determine next piece to complete based on timeline of the business unit\n",
    "- code in such a way that someone behind you can easily pick up where you left off\n",
    "- create opportunities for others to utilize your work (reducing duplicate work and wasted time)\n",
    "- ensure that all consumers (end users & programmers) have an easy experience with your product\n",
    "\n",
    "Now obviously due to time constraints some things are not as complete as they should be or even touched on at all. But when you focus on the above, you are more likely to get proper working code with less bugs and less unhappy customers because you put **quality over quantity**.\n",
    "\n",
    "And being able to product quality over quantity also requires a better troubleshooting toolbox. That's why this training will be to specifically cover _**troubleshooting in python**_."
   ]
  },
  {
   "cell_type": "markdown",
   "metadata": {},
   "source": [
    "# How To Troubleshoot Python\n",
    "\n",
    "As [I've discussed before](https://www.linkedin.com/feed/update/urn:li:activity:6475399796298444800), there is no one right way to program. However, with proper mindset and tools you can be more efficient and pythonic.\n",
    "\n",
    "Here you will find other options to troubleshoot python. If you have additional suggestions, please contact me via [FB](https://www.facebook.com/LadiesLearnToCodeOnline) or utilize github to push suggested changes."
   ]
  },
  {
   "cell_type": "markdown",
   "metadata": {},
   "source": [
    "## Print Or Utilize Logging - A LOT\n",
    "\n",
    "..."
   ]
  },
  {
   "cell_type": "markdown",
   "metadata": {},
   "source": [
    "## Leverage Your Bugs To Improve Your QA\n",
    "\n",
    "Make note of where the bug is found so you can refer back later.\n",
    "\n",
    "Once you have been able to debug, sometimes this is an opportunity for you to update your Quality Assurance testing.\n",
    "- Did this happen only under a certain condition?\n",
    "- Or was this because your code was bad and you weren't getting the data you expected?\n",
    "\n",
    "By keeping a running list of tests that have broken your code before, you are better able to ensure that you do not reintroduce bugs into your code."
   ]
  },
  {
   "attachments": {},
   "cell_type": "markdown",
   "metadata": {},
   "source": [
    "# Additional Resources\n",
    "\n",
    "- Free [Udacity Training](https://classroom.udacity.com/courses/ud775) Using Github & Git\n",
    "- [Python Debugging Tools](https://wiki.python.org/moin/PythonDebuggingTools)\n",
    "- Hartley Brody's [Debugging Code For Beginners](https://blog.hartleybrody.com/debugging-code-beginner)\n",
    "- Python For Biologists [29 Common Beginner Errors](https://pythonforbiologists.com/29-common-beginner-errors-on-one-page)\n",
    "- A YouTuibe video on [Transforming Code into Beautiful, Idiomatic Python](https://www.youtube.com/watch?v=OSGv2VnC0go)\n",
    "- https://www.cs.bu.edu/courses/cs108/guides/debug.html"
   ]
  },
  {
   "cell_type": "code",
   "execution_count": null,
   "metadata": {},
   "outputs": [],
   "source": []
  }
 ],
 "metadata": {
  "kernelspec": {
   "display_name": "Python 3",
   "language": "python",
   "name": "python3"
  },
  "language_info": {
   "codemirror_mode": {
    "name": "ipython",
    "version": 3
   },
   "file_extension": ".py",
   "mimetype": "text/x-python",
   "name": "python",
   "nbconvert_exporter": "python",
   "pygments_lexer": "ipython3",
   "version": "3.6.6"
  }
 },
 "nbformat": 4,
 "nbformat_minor": 2
}
