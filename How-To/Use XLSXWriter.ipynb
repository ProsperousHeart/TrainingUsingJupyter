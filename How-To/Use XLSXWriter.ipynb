{
 "cells": [
  {
   "cell_type": "markdown",
   "metadata": {},
   "source": [
    "# Introduction\n",
    "\n",
    "In this Jupyter notebook, I will be covering how I have used the amazing [XLSXWriter](https://xlsxwriter.readthedocs.io/).\n",
    "\n",
    "While there is also [openpyxl](https://openpyxl.readthedocs.io/en/stable/), I really liked XLSXWriter much better.\n",
    "\n",
    "While there are MANY ways to use this, I am going to cover how I use it to:\n",
    "- read in an excel file\n",
    "- create a new excel file\n",
    "- some formatting\n",
    "- centering columns\n",
    "\n",
    "Be sure to [read the docs](https://xlsxwriter.readthedocs.io/) for additional things not covered here.\n",
    "\n",
    "# Setup\n",
    "\n",
    "You will need the following to be installed:\n",
    "- python 3\n",
    "- pandas\n",
    "- xlsxwriter\n",
    "\n",
    "`pip3 install pandas`\n",
    "\n",
    "`pip3 install XlsxWriter`\n",
    "\n",
    "If you don't already have a [virtual environment](https://github.com/ProsperousHeart/cheatsheets/blob/master/Tools/VirtualEnvironments.md) created, please do so now. You can even [use my cheat sheet](https://github.com/ProsperousHeart/cheatsheets/blob/master/Processes/virtualenvs.md). Inside this virtual environment is where you should install **pandas** and **xlsxwriter** ... The reason for this is not every project can use some of the later versions of packages, so you want to ensure you don't cause issues later down the line.\n",
    "\n",
    "In this walkthrough, I also provide an XLSX file that will allow us to populate data. This comes from the [UCI Machine Learning Repository](http://archive.ics.uci.edu/ml/datasets/Air+Quality) and covers air quality from March 2004 to February 2005. While we will not necessarily be using this data for any other purpose other than how to use XLSXWriter, this is what the data entails:\n",
    "- 9358 instances of hourly averaged responses from an array of 5 metal oxide chemical sensors embedded in an air quality chemical multisensor device\n",
    "- device was located in a significantly polluted area at road level in an Italian city\n",
    "- Ground Truth hourly averaged concentrations for:\n",
    "    1. CO2\n",
    "    2. SNO - tin oxide\n",
    "    3. NMHC - Non Metanic Hydrocarbons in micrograms\n",
    "    4. C6H6 - Benzene (micrograms)\n",
    "    5. TIO2 - titanium dioxide\n",
    "    6. NOX - Total Nitrogen Oxides (ppb)\n",
    "    7. WOX - Tungsten oxide\n",
    "    8. NO2 - Nitrogen Dioxide (microgram)\n",
    "- includes date & time"
   ]
  },
  {
   "cell_type": "markdown",
   "metadata": {},
   "source": [
    "# Code\n",
    "\n",
    "The first step you need is data. In whatever format you get it, plug it into a pandas DataFrame. Whether from MongoDB, hard coded, or even another XLSX file it really doesn't matter.\n",
    "\n",
    "For this example, we'll use the XLSX file mentioned above."
   ]
  },
  {
   "cell_type": "code",
   "execution_count": 5,
   "metadata": {},
   "outputs": [],
   "source": [
    "# add your imports\n",
    "import pandas\n",
    "import xlsxwriter # yes, install was XlsxWriter but import all lower case\n",
    "\n",
    "FILE = 'files/AirQualityUCI.csv'"
   ]
  },
  {
   "cell_type": "code",
   "execution_count": 7,
   "metadata": {},
   "outputs": [],
   "source": [
    "def read_file(filename_str:str):\n",
    "    \"\"\"\n",
    "    This function takes in the path of a CSV file \n",
    "    and returns a DataFrame of the data.\n",
    "    \n",
    "    \"\"\"\n",
    "    \n",
    "    pass"
   ]
  },
  {
   "cell_type": "code",
   "execution_count": 8,
   "metadata": {},
   "outputs": [],
   "source": [
    "df = read_file(FILE)"
   ]
  },
  {
   "cell_type": "code",
   "execution_count": null,
   "metadata": {},
   "outputs": [],
   "source": []
  }
 ],
 "metadata": {
  "kernelspec": {
   "display_name": "Python 3",
   "language": "python",
   "name": "python3"
  },
  "language_info": {
   "codemirror_mode": {
    "name": "ipython",
    "version": 3
   },
   "file_extension": ".py",
   "mimetype": "text/x-python",
   "name": "python",
   "nbconvert_exporter": "python",
   "pygments_lexer": "ipython3",
   "version": "3.6.5"
  }
 },
 "nbformat": 4,
 "nbformat_minor": 2
}
