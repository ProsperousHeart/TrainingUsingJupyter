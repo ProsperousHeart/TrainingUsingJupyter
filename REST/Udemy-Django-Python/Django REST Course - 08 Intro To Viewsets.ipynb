{
 "cells": [
  {
   "cell_type": "markdown",
   "metadata": {},
   "source": [
    "___\n",
    "\n",
    "<a href='https://www.learntocodeonline.com/'> <img src='files/IMGs/learn to code online.png' /></a>\n",
    "___"
   ]
  },
  {
   "cell_type": "markdown",
   "metadata": {},
   "source": [
    "# What Is A ViewSet?\n",
    "\n",
    "This is the other framwork view. APIView was the other.\n",
    "\n",
    "Just like APIViews, they allow us to write the logic for our endpoints. However - instead of defining functions that map to HTTP methods, Viewsets accept functions that map to common API object actions.\n",
    "\n",
    "- list\n",
    "- create\n",
    "- retrieve\n",
    "- update\n",
    "- partial update\n",
    "- destroy\n",
    "\n",
    "These Viewsets take care of a lot of the common logic for you.\n",
    "\n",
    "Additional benefits:\n",
    "- perfect for standard database operations\n",
    "- fastest way to make a database interface\n",
    "\n",
    "## When To Use ViewSets\n",
    "\n",
    "Most of the time it comes down to personal preference. Here are some examples for when you need to use Viewsets over APIViews:\n",
    "\n",
    "1. need a simple CRUD (**C**reate **R**ead **U**pdate **D**elete) interface to your DB\n",
    "2. need quick and simple API to manage pre-defined objects\n",
    "3. need little to no customization on the logic\n",
    "4. you are working with standard data structures"
   ]
  },
  {
   "cell_type": "markdown",
   "metadata": {},
   "source": [
    "# Create A Simple Viewset\n",
    "\n",
    "This section will create the \"Hello Viewset\".\n",
    "\n",
    "1. Load up your `views.py` file in the **profiles_api** app folder.\n",
    "\n",
    "\n",
    "2. Add the following import above the APIView import:  `from rest_framework import viewsets`\n",
    "\n",
    "    This is the base module for all the different viewsets that Django REST framework offers.\n",
    "    \n",
    "\n",
    "3. Below your APIView code, create a new class that inherits from:  `viewsets.ViewSet`"
   ]
  },
  {
   "cell_type": "code",
   "execution_count": null,
   "metadata": {},
   "outputs": [],
   "source": [
    "class HelloViewSet(viewsets.ViewSet):\n",
    "    \"\"\"Test API ViewSet.\"\"\"\n",
    "    \n",
    "    def list(self, request):  # typically a HTTP GET to the root of an endpoint\n",
    "        \"\"\"Return a hello message.\"\"\"\n",
    "        a_viewset = [\n",
    "            'Uses actions (list, create, retrieve, update, partial_update)',\n",
    "            'Automatically maps to URLs using Routers',\n",
    "            'Provides more functionality with less code.'\n",
    "        ]\n",
    "        \n",
    "        return Response({'message': 'Hello!', 'a_viewset': a_viewset})"
   ]
  },
  {
   "cell_type": "markdown",
   "metadata": {},
   "source": [
    "The functions within this new class are actions you would take on an object - not HTTP calls."
   ]
  },
  {
   "cell_type": "markdown",
   "metadata": {},
   "source": [
    "# Add A URL Router\n",
    "\n",
    "Just like with APIView, we need to map (or register) our ViewSet to a URL so we can use it in the browser. Django REST has a special Router class that can be used to automatically set up the different routes for our URL to our ViewSet.\n",
    "\n",
    "This is one of the advantages for using a ViewSet over an APIView.\n",
    "\n",
    "Now it's time to add a router to your HelloViewSet.\n",
    "\n",
    "1. Go to your `url.py` file in the profiles_api folder - **not** the one in the profiles_project folder.\n",
    "\n",
    "\n",
    "2. Add/update the following imports at the top:\n",
    "\n",
    "    - update `from django.urls import path` to `from django.urls import path, include`\n",
    "    - `from rest_framework.routers import DefaultRouter`\n",
    "\n",
    "\n",
    "3. Create your router under the imports & assign it a URL"
   ]
  },
  {
   "cell_type": "code",
   "execution_count": null,
   "metadata": {},
   "outputs": [],
   "source": [
    "router = DefaultRouter()\n",
    "\n",
    "# register a new URL that points to our HelloViewSet\n",
    "# input 1 - string is the URL you would like to use\n",
    "# input 2 - name of the viewset we want to assign/register to the router\n",
    "# input 3 - base name (used for retrieving URLs in Router)\n",
    "router.register('hello-viewset', views.HelloViewSet, base_name='hello-viewset')"
   ]
  },
  {
   "cell_type": "markdown",
   "metadata": {},
   "source": [
    "4. In the urlpatterns, create a new url with a blank string for the RegEx\n",
    "\n",
    "    `url(r'', include(router.urls))`\n",
    "\n",
    "    That way the router creates the URLs for you."
   ]
  },
  {
   "cell_type": "markdown",
   "metadata": {},
   "source": [
    "# Testing Our Viewset\n",
    "\n",
    "Ensure the development server is up and running. It's possible you may have to restart to get latest changes.\n",
    "\n",
    "Go to your browser and the root API URL:  `http://127.0.0.1:8080/api/`\n",
    "\n",
    "It should look a little different than last time:\n",
    "\n",
    "<img src='files\\IMGs\\views\\ViewSet-01.png'>\n",
    "\n",
    "It used to say there was no page linked to this URL!\n",
    "\n",
    "If you click the link next to it, you will find the Hello-Viewset you just created.\n",
    "\n",
    "`http://127.0.0.1:8080/api/hello-viewset/`\n",
    "\n",
    "<img src='files\\IMGs\\views\\ViewSet-02.png'>\n",
    "\n",
    "## Commit To Git\n",
    "\n",
    "In your **git bash** program ...\n",
    "\n",
    "1. go to project directory:  `cd workspace/PROJECTNAME` (in this example **profiles-rest-api**)\n",
    "2. Call `git add .`\n",
    "3. Call `git commit -am \"Added our first viewset and router.\"`"
   ]
  },
  {
   "cell_type": "markdown",
   "metadata": {},
   "source": [
    "# Add Create, Retrieve, Update, Partial Update, And Destroy Functions\n",
    "\n",
    "It's time to complete our ViewSet.\n",
    "\n",
    "1. Locate the `views.py` file in the profiles_api app folder.\n",
    "\n",
    "2. Go to bottom where you added the **HelloViewSet** class. You will now add a serializer class to this class the same way we added it to the **HelloAPIView** class.\n",
    "\n",
    "**NOTE:** ViewSets and APIViews can use the same serializer!\n",
    "\n",
    "3. Below the docstring, add the following:  `serializer_class = serializers.HelloSerializer`\n",
    "\n",
    "4. Add the functions to the class."
   ]
  },
  {
   "cell_type": "code",
   "execution_count": null,
   "metadata": {},
   "outputs": [],
   "source": [
    "    # CREATE - takes care of the HTTP POST function\n",
    "    # creates new objects in the system\n",
    "    def create(self, request):\n",
    "        \"\"\"Create a new hello message.\"\"\"\n",
    "        \n",
    "        serializer = serializers.HelloSerializer(data=request.data)\n",
    "        \n",
    "        if serializer.is_valid():\n",
    "            name = serializer.data.get('name')\n",
    "            message = 'Hello {0}'.format(name)\n",
    "            return Response({'message': message})\n",
    "        \n",
    "        else:\n",
    "            return Response(\n",
    "                serializer.errors, status=status.HTTP_400_BAD_REQUEST)\n",
    "    \n",
    "    # RETRIEVE - gets a specific object by it's ID\n",
    "    def retrieve(self, request, pk=None):\n",
    "        \"\"\"Handles getting an object by it's ID.\"\"\"\n",
    "        \n",
    "        return Response({'http_method': 'GET'})\n",
    "    \n",
    "    # UPDATE - corresponds to the HTTP PUT\n",
    "    def update(self, request, pk=None):\n",
    "        \"\"\"Handles updating an object.\"\"\"\n",
    "        \n",
    "        return Response({'http_method': 'PUT'})\n",
    "    \n",
    "    # PARTIAL_UPDATE - corresponds to HTTP PATCH method\n",
    "    def partial_update(self, request, pk=None):\n",
    "        \"\"\"Handles updating part of an object.\"\"\"\n",
    "        \n",
    "        return Response({'http_method': 'PATCH'})\n",
    "    \n",
    "    # DESTROY - corresponds to HTTP DELETE method\n",
    "    def destory(self, request, pk=None):\n",
    "        \"\"\"Handles removing an object.\"\"\"\n",
    "        \n",
    "        return Response({'http_method': 'DELETE'})"
   ]
  },
  {
   "cell_type": "markdown",
   "metadata": {},
   "source": [
    "# Test Viewset\n",
    "\n",
    "Ensure your development server is running & refresh your Chrome page.\n",
    "You may have to restart for changes to take effect.\n",
    "\n",
    "<img src='files\\IMGs\\views\\ViewSet-03.png'>\n",
    "\n",
    "You will now see a new POST button! Click on the **HTML form** tab.\n",
    "\n",
    "<img src='files\\IMGs\\views\\ViewSet-04.png'>\n",
    "\n",
    "Put in a name less than 10 characters, and then test validation with more than 10!\n",
    "\n",
    "<img src='files\\IMGs\\views\\ViewSet-05.png'>\n",
    "\n",
    "<img src='files\\IMGs\\views\\ViewSet-06.png'>\n",
    "\n",
    "If you're looking to view a specific object, you will need to provide an ID at the end of the URL. This will return a detail view - which is retrieved from the DB (when scripted).\n",
    "\n",
    "`http://127.0.0.1:8080/api/hello-viewset/1/`\n",
    "\n",
    "<img src='files\\IMGs\\views\\ViewSet-07.png'>\n",
    "\n",
    "Typically what you'll have on the root view, you will have a list of objects in the database. (Like a preview - e.g.:  ID and a first name.)\n",
    "\n",
    "If you wanted details about a specific object, you would provide the ID of the object in the URL to retrieve the full object from the DB.\n",
    "\n",
    "In the Django framework, we can also update the object by using the new PUT method."
   ]
  },
  {
   "cell_type": "markdown",
   "metadata": {},
   "source": [
    "## Commit To Git\n",
    "\n",
    "In your **git bash** program ...\n",
    "\n",
    "1. go to project directory:  `cd workspace/PROJECTNAME` (in this example **profiles-rest-api**)\n",
    "2. Call `git add .`\n",
    "3. Call `git commit -am \"Added create, retrieve, update, partial_update, and destroy methods to our ViewSet.\"`"
   ]
  },
  {
   "cell_type": "code",
   "execution_count": null,
   "metadata": {},
   "outputs": [],
   "source": []
  }
 ],
 "metadata": {
  "kernelspec": {
   "display_name": "Python 3 (ipykernel)",
   "language": "python",
   "name": "python3"
  },
  "language_info": {
   "codemirror_mode": {
    "name": "ipython",
    "version": 3
   },
   "file_extension": ".py",
   "mimetype": "text/x-python",
   "name": "python",
   "nbconvert_exporter": "python",
   "pygments_lexer": "ipython3",
   "version": "3.10.2"
  }
 },
 "nbformat": 4,
 "nbformat_minor": 2
}
