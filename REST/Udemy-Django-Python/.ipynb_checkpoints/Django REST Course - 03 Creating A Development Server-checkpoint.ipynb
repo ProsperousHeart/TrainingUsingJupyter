{
 "cells": [
  {
   "cell_type": "markdown",
   "metadata": {},
   "source": [
    "___\n",
    "\n",
    "<a href='https://www.learntocodeonline.com/'> <img src='files/IMGs/learn to code online.png' /></a>\n",
    "___"
   ]
  },
  {
   "cell_type": "markdown",
   "metadata": {},
   "source": [
    "# Creating A Vagrant File\n",
    "\n",
    "You can use the Vagrant command line interface (CLI) to create a template file.\n",
    "\n",
    "1. Use **git bash** to navigate to your project.\n",
    "\n",
    "2. Initialize the Vagrant CLI:  `vagrant init`\n",
    "\n",
    "<img src='files/IMGs/Vagrant/vagrant-init-01.png'>\n",
    "\n",
    "This creates a vagrant init file."
   ]
  },
  {
   "cell_type": "markdown",
   "metadata": {},
   "source": [
    "# Configuring Vagrant Box\n",
    "\n",
    "This Vagrant file will describe a server we can use to test our profiles REST API. When it is created, there is no customization - just bare basics.\n",
    "\n",
    "Copy the full content of [this file](https://gist.github.com/LondonAppDev/d990ab5354673582c35df1ee277d6c24) into your created file.\n",
    "\n",
    "This file is a basic template file used for Django projects. You can then tweak as you need if any changes are required.\n",
    "\n",
    "## The Network Command\n",
    "\n",
    "Allows connectivity between your host (the machine the virtual box is on) and your guest (the VM).\n",
    "\n",
    "## The Provisioning Script\n",
    "\n",
    "This is what is run when you first create your server.\n",
    "\n",
    "This sets up the server to be able to support our application.\n",
    "- updates the packages on the server to the latest version\n",
    "- sets locale to get rid of Ubuntu error\n",
    "- installs:\n",
    "    1. python3-dev\n",
    "    2. sqlite\n",
    "    3. python-pip (package manager)\n",
    "    4. virtualenvwrapper (for virtual environments)"
   ]
  },
  {
   "cell_type": "markdown",
   "metadata": {},
   "source": [
    "# Running & Connecting To Our Dev Server\n",
    "\n",
    "## Spin Up Your Server\n",
    "\n",
    "Start vagrant server with **git bash**.\n",
    "\n",
    "1. Ensure you are working in the directory of your project then provide the command:  `vagrant up`\n",
    "\n",
    "<img src='files/IMGs/Vagrant/vagrant-init-02.png'>\n",
    "\n",
    "When you run this command in a location with a vagrant file, this file is detected and it creates a virtual server using VirtualBox to the specification described in the vagrant file.\n",
    "\n",
    "If this is the first time it has downloaded the image it might take some time.\n",
    "\n",
    "Once completed, it outputs all of the commands it runs on the server then it goes back to your shell.\n",
    "\n",
    "## Connect To Your Server\n",
    "\n",
    "`vagrant ssh` - secure shell, which is the most common way of connecting and interacting with linux & unix servers on the internet.\n",
    "\n",
    "This will be used to connect to the local server on our machine. (Thus simulating a live server.)\n",
    "\n",
    "<img src='files/IMGs/Vagrant/vagrant-init-04.png'>\n",
    "\n",
    "The first time you log in, it configures the virtualenv wrapper.\n",
    "\n",
    "At this point, the commands are being run on the server, not the local desktop.\n",
    "\n",
    "## Exit (Close) Your Server\n",
    "\n",
    "Simply type `exit` in the window. This will take you back to the local machine.\n",
    "\n",
    "Ready to open again?\n",
    "\n",
    "1. `vagrant up`\n",
    "2. `vagrant ssh`\n",
    "3. `exit`"
   ]
  },
  {
   "cell_type": "markdown",
   "metadata": {},
   "source": [
    "# Running A \"Hello World\" Script\n",
    "\n",
    "Vagrant has a cool feature where it synchronizes the code of your project of the local directory the vagrant file is running from to the vagrant server.\n",
    "\n",
    "Run the following command while SSH'd into the vagrant server to access these files:  `cd /vagrant`\n",
    "\n",
    "Just like before, you can run `ls` to see what's inside.\n",
    "- files that begin with \".\" are hidden files and not shown\n",
    "\n",
    "Want to view all files? Run:  `ls -a`\n",
    "\n",
    "## Create \"Hello World.py\" Script\n",
    "\n",
    "1. Add new file via Atom called `hello_world.py`\n",
    "2. `print(\"Hello World!\")`\n",
    "3. Confirm the new file is ther eby running `ls`\n",
    "4. Run the script in bash (on the live server) using:  `python hello_world.py`\n",
    "\n",
    "## Git Commit\n",
    "\n",
    "It's best to do it locally and NOT on the vagrant server.\n",
    "\n",
    "Open another **git bash** window and navigate to your project directory again. This means one will be local, and one will be connected to the server.\n",
    "\n",
    "1. `git add .`\n",
    "2. `git commit -am \"some message\"`\n",
    "\n",
    "Remember:  green are new changes and not committed while grey have been added & committed"
   ]
  },
  {
   "cell_type": "code",
   "execution_count": null,
   "metadata": {},
   "outputs": [],
   "source": []
  }
 ],
 "metadata": {
  "kernelspec": {
   "display_name": "Python 3",
   "language": "python",
   "name": "python3"
  },
  "language_info": {
   "codemirror_mode": {
    "name": "ipython",
    "version": 3
   },
   "file_extension": ".py",
   "mimetype": "text/x-python",
   "name": "python",
   "nbconvert_exporter": "python",
   "pygments_lexer": "ipython3",
   "version": "3.6.6"
  }
 },
 "nbformat": 4,
 "nbformat_minor": 2
}
