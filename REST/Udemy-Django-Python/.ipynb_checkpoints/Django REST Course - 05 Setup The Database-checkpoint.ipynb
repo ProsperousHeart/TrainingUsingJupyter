{
 "cells": [
  {
   "cell_type": "markdown",
   "metadata": {},
   "source": [
    "___\n",
    "\n",
    "<a href='https://www.learntocodeonline.com/'> <img src='files/IMGs/learn to code online.png' /></a>\n",
    "___"
   ]
  },
  {
   "cell_type": "markdown",
   "metadata": {},
   "source": [
    "# What Are Django Models\n",
    "\n",
    "In django, we use **models** to describe the data we need for our application. Django then uses these models to automatically setup and configure our database to store our data effectively.\n",
    "\n",
    "Each model maps to a specific table in our database.\n",
    "\n",
    "Django handles the interactions between our models and database on our behalf. Meaning? No need to write SQL statements directly.\n",
    "\n",
    "# Creating Our User Database Model\n",
    "\n",
    "The *user profile model* will be used to manage users in our system\n",
    "- creating a registered user\n",
    "- checking a user's credentials when they log in\n",
    "- deleting users\n",
    "\n",
    "Standard practice is to put all models in a `models.py` file in your app folder - in this example, it will be the `profiles-rest-api > src > profiles_project > profiles_api` folder.\n",
    "\n",
    "<img src='files/IMGs/models/models01.png'>\n",
    "\n",
    "As you noticed above, every app will have a *models.py* file created for you."
   ]
  },
  {
   "cell_type": "markdown",
   "metadata": {},
   "source": [
    "## Creating \"User Profile\" Model\n",
    "\n",
    "Django out of the box has it's own user profile model we can use:  **django-admin**\n",
    "\n",
    "But here, we will create a custom user model that will override django's built-in user model. This will provide us control over the fields required for the user profiles in our system.\n",
    "\n",
    "Standard fields in django's original user model will be overwritten.\n",
    "\n",
    "### Importing New Packages\n",
    "\n",
    "**AbstractBaseUser** is the user base of the django standard user model. We will import and build on top of it.\n",
    "\n",
    "`from django.contrib.auth.models import AbstractBaseUser`\n",
    "\n",
    "This will be the base of our user model. We will also need to import the permissions mix-in:\n",
    "\n",
    "`from django.contrib.auth.models import PermissionsMixin`\n",
    "\n",
    "This allows us to add permissions to our user model."
   ]
  },
  {
   "cell_type": "code",
   "execution_count": null,
   "metadata": {},
   "outputs": [],
   "source": [
    "from django.contrib.auth.models import AbstractBaseUser\n",
    "from django.contrib.auth.models import PermissionsMixin"
   ]
  },
  {
   "cell_type": "markdown",
   "metadata": {},
   "source": [
    "### Creating The Model\n",
    "\n",
    "Each model is defined by a class. It should inherit from both imported packages."
   ]
  },
  {
   "cell_type": "code",
   "execution_count": null,
   "metadata": {},
   "outputs": [],
   "source": [
    "class UserProfile(AbstractBaseUser, PermissionsMixin):\n",
    "    \"\"\"Represents a user profile in our system.\"\"\""
   ]
  },
  {
   "cell_type": "markdown",
   "metadata": {},
   "source": [
    "Once the class is defined with docstring, we can start adding fields to the model. These **fields** are the data we want to collect and store within the database.\n",
    "\n",
    "Be sure to check out the official django documentation for [model field reference](https://docs.djangoproject.com/en/1.11/ref/models/fields/). It has a list of all the different fields you can use in your system."
   ]
  },
  {
   "cell_type": "code",
   "execution_count": null,
   "metadata": {},
   "outputs": [],
   "source": [
    "    email = models.EmailField(max_length=255, unique=True)"
   ]
  },
  {
   "cell_type": "markdown",
   "metadata": {},
   "source": [
    "The **max_length** attribute is **_required_** for all char fields. The max possible is 255. This retricts the length of the item, but also helps with a different validation on the field as well.\n",
    "\n",
    "The **unique** attribute ensures there are no duplicate emails.\n",
    "\n",
    "Now we'll add the name field."
   ]
  },
  {
   "cell_type": "code",
   "execution_count": null,
   "metadata": {},
   "outputs": [],
   "source": [
    "    name = models.CharField(max_length=255)"
   ]
  },
  {
   "cell_type": "markdown",
   "metadata": {},
   "source": [
    "The next field will be to determine if a user is active in the system ... Meaning you can use this to disable user accounts.\n",
    "\n",
    "This is a requirement when you add a custom user model to django.\n",
    "\n",
    "This will use a BooleanField object type, and you should set the default to **True** if no other value is provided."
   ]
  },
  {
   "cell_type": "code",
   "execution_count": null,
   "metadata": {},
   "outputs": [],
   "source": [
    "    is_active = models.BooleanField(default=True)"
   ]
  },
  {
   "cell_type": "markdown",
   "metadata": {},
   "source": [
    "The next field will be used to determine if a user is a Staff member. You will want this default to be **False**.\n",
    "\n",
    "This is also required by django, so if you are doing a custom user model you will need to set up this field."
   ]
  },
  {
   "cell_type": "code",
   "execution_count": null,
   "metadata": {},
   "outputs": [],
   "source": [
    "    is_staff = models.BooleanField(default=False)"
   ]
  },
  {
   "cell_type": "markdown",
   "metadata": {},
   "source": [
    "Once all fields are set for a model, you will need to create an **ObjectManager** - a class to help manage the user profile.\n",
    "\n",
    "This is also required when substituting the user model for a custom one."
   ]
  },
  {
   "cell_type": "code",
   "execution_count": null,
   "metadata": {},
   "outputs": [],
   "source": [
    "    objects = UserProfileManager()"
   ]
  },
  {
   "cell_type": "markdown",
   "metadata": {},
   "source": [
    "The **UserProfileManager** class will be created later.\n",
    "\n",
    "There are a few more attributes to be set with the user profile model."
   ]
  },
  {
   "cell_type": "code",
   "execution_count": null,
   "metadata": {},
   "outputs": [],
   "source": [
    "    USERNAME_FIELD = 'email'"
   ]
  },
  {
   "cell_type": "markdown",
   "metadata": {},
   "source": [
    "The standard django user model has a username field that users will login as - they're handle. We will be replacing this with their email address. (Generally easier for people to remember.)\n",
    "\n",
    "Now to define the list of **_required_** fields that all users will use. It will be a list of strings and can be whatever fields you would like."
   ]
  },
  {
   "cell_type": "code",
   "execution_count": null,
   "metadata": {},
   "outputs": [],
   "source": [
    "    REQUIRED_FIELDS = ['name']"
   ]
  },
  {
   "cell_type": "markdown",
   "metadata": {},
   "source": [
    "Email is not in this list because it is already required by the system automatically, since it is the username field.\n",
    "\n",
    "Now it's time to create some helper functions for our model.\n",
    "\n",
    "The first one will be a function we can use to get the full name of the user in the system. Since it is a **_class_** function it requires the _self_ as a required input parameter.\n",
    "\n",
    "This class is used by the django-admin."
   ]
  },
  {
   "cell_type": "code",
   "execution_count": null,
   "metadata": {},
   "outputs": [],
   "source": [
    "    def get_name(self):\n",
    "        \"\"\"Used to get a user's full name.\"\"\"\n",
    "        \n",
    "        return self.name"
   ]
  },
  {
   "cell_type": "markdown",
   "metadata": {},
   "source": [
    "The next required class will return the \"short name\" of the user.\n",
    "\n",
    "If you had a different type of name, used first and last name as separate fields, etc you could script something to accommodate for it. (Or even remove the @domain of the email.) For now, it will just return the name as is."
   ]
  },
  {
   "cell_type": "code",
   "execution_count": null,
   "metadata": {},
   "outputs": [],
   "source": [
    "    def get_short_name(self):\n",
    "        \"\"\"Used to get a user's short name.\"\"\"\n",
    "        \n",
    "        return self.name"
   ]
  },
  {
   "cell_type": "markdown",
   "metadata": {},
   "source": [
    "The next required function is the **__str__** method (with double underscores since it's a [dunder method](https://www.geeksforgeeks.org/dunder-magic-methods-python)). It is required in django so it knows how to return our object as a string.\n",
    "\n",
    "In this instance, we will return the email since it will be unique."
   ]
  },
  {
   "cell_type": "code",
   "execution_count": null,
   "metadata": {},
   "outputs": [],
   "source": [
    "    def __str__(self):\n",
    "        \"\"\"Django uses this when it needs to convert an object to a string.\"\"\"\n",
    "        \n",
    "        return self.email"
   ]
  },
  {
   "cell_type": "markdown",
   "metadata": {},
   "source": [
    "## Add A User Model Manager\n",
    "\n",
    "Since we created a unique user profile, we need to teach django how to use it.\n",
    "\n",
    "In the same file, you will need to import the **BaseUSerManager** package."
   ]
  },
  {
   "cell_type": "code",
   "execution_count": null,
   "metadata": {},
   "outputs": [],
   "source": [
    "from django.contrib.auth.models import BaseUserManager"
   ]
  },
  {
   "cell_type": "markdown",
   "metadata": {},
   "source": [
    "You will now begin building your **UserProfileManager** class.\n",
    "- It must inherit from the **BaseUserManager** package you just added.\n",
    "- It can be added above or below the **UserProfile** class. (I suggest above.)\n",
    "\n",
    "_**NOTE:**  Be sure the class name of your user manager is the same as what you called it when created the user profile model._\n",
    "\n",
    "There are many ways with which you can [customize your authentication](https://docs.djangoproject.com/en/1.11/topics/auth/customizing) in Django. If you would like more information on the normalize feature, **[click here](https://docs.djangoproject.com/en/1.11/topics/auth/customizing/#django.contrib.auth.models.BaseUserManager.normalize_email)**."
   ]
  },
  {
   "cell_type": "code",
   "execution_count": null,
   "metadata": {},
   "outputs": [],
   "source": [
    "class UserProfileManager(BaseUserMaanger):\n",
    "    \"\"\"Helps Django work with our custom user model.\"\"\"\n",
    "    \n",
    "    # create user with model\n",
    "    def create_user(self, email, name, password=None):\n",
    "        \"\"\"Creates a new user profile object.\"\"\"\n",
    "        \n",
    "        # logic to create a new user in the system\n",
    "        \n",
    "        if not email:\n",
    "            raise ValueError('Users must have an email address.')\n",
    "        \n",
    "        # normalize the email address - convert to lower case\n",
    "        email = self.normalize_email(email)\n",
    "        \n",
    "        # create a new user profile object\n",
    "        user = self.model(email=email, name=name)\n",
    "        \n",
    "        # set password - this encrypts the PW for us\n",
    "        # password is converted to a hash stored in the DB - no clear text\n",
    "        user.set_password(password)\n",
    "        \n",
    "        # save using same DB used when we created the UserProfileManager\n",
    "        user.save(using=self._db)\n",
    "        \n",
    "        return user"
   ]
  },
  {
   "cell_type": "markdown",
   "metadata": {},
   "source": [
    "The next class function will be used to tell Django how to create a Super User!\n",
    "\n",
    "This user will have full control of everything."
   ]
  },
  {
   "cell_type": "code",
   "execution_count": null,
   "metadata": {},
   "outputs": [],
   "source": [
    "    # create super user\n",
    "    def create_superuser(self, email, name, password):\n",
    "        \"\"\"Creates and saves a new superuser with given details.\"\"\"\n",
    "        \n",
    "        user = self.create_user(email, name, password)\n",
    "        \n",
    "        user.is_superuser = True\n",
    "        user.is_staff = True\n",
    "        \n",
    "        user.save(using=self._db)\n",
    "        \n",
    "        return user"
   ]
  },
  {
   "cell_type": "markdown",
   "metadata": {},
   "source": [
    "# Set Our Custom Django User Model\n",
    "\n",
    "We ahve to configure Django to know how to use these models and user manager.\n",
    "\n",
    "This is done in the settings file. This is located in the project folder.\n",
    "\n",
    "In this instance it will be the following location:\n",
    "`profiles-rest-api > src > profiles_project > profiles_project > settings.py`\n",
    "\n",
    "<img src='files/IMGs/models/models02.png'>\n",
    "\n",
    "At the bottom of the file must add a new attribute to tell Django to use our custom user model instead of it's built-in default user model."
   ]
  },
  {
   "cell_type": "code",
   "execution_count": null,
   "metadata": {},
   "outputs": [],
   "source": [
    "AUTH_USER_MODEL = \"profiles_api.UserProfile\""
   ]
  },
  {
   "cell_type": "markdown",
   "metadata": {},
   "source": [
    "The string that is assigned to the attribute is the model you wish for it to use. In order to do so, it must be the name of the app, dot notation, then the class as shown above."
   ]
  },
  {
   "cell_type": "markdown",
   "metadata": {},
   "source": [
    "# Create Migrations & Sync Database\n",
    "\n",
    "Django has an awesome feature called **database migrations** - which can be used to automatically create and make changes to our DB based on what we change in the models.\n",
    "\n",
    "It works by looking at the current stated of the DB, the current state of our models, and seeing what the differences are.\n",
    "\n",
    "You create the migrations using the management command that comes with Django."
   ]
  },
  {
   "cell_type": "markdown",
   "metadata": {},
   "source": [
    "## Create Migrations\n",
    "\n",
    "In the vagrant server ...\n",
    "\n",
    "1. In git bash go to project directory:  `cd workspace/PROJECTNAME`\n",
    "2. `vagrant up`\n",
    "3. `vagrant ssh`\n",
    "4. `workon VIRTUALENVNAME` (such as **profiles_api**)\n",
    "5. `cd /vagrant/src/profiles_project`\n",
    "6. `python manage.py makemigrations`\n",
    "\n",
    "This command will check our models, the database, and make a migration file that contains all of the changes from what's existing in the database & what has been changed in the models.\n",
    "\n",
    "If this is a first time run, it will just set the database up as is, since no changes to be done.\n",
    "\n",
    "<img src='files/IMGs/db/db01.png'>\n",
    "\n",
    "If there is an error, it will tell you and you will need to update your code.\n",
    "\n",
    "When you look back in Atom, you will see that a new folder in the changed app directory has been created.\n",
    "\n",
    "<img src='files/IMGs/db/db02.png'>\n",
    "\n",
    "You will also see there is a new file called *0001_initial.py* - which is automatically created by Django. It tells Django how to set up our database\n",
    "\n"
   ]
  },
  {
   "cell_type": "markdown",
   "metadata": {},
   "source": [
    "## Run Migrations\n",
    "\n",
    "Initially this will be to create the database. Subsequent runs will update as needed.\n",
    "\n",
    "In the same running vagrant server, run:  `python manage.py migrate`\n",
    "\n",
    "This will go through all of our DB migrations and run them on the DB.\n",
    "\n",
    "<img src='files/IMGs/db/db03.png'>\n",
    "\n",
    "As you can see, a bunch of things were created. The other files around our migration final (the initial one) are migration files that are included with the different Django apps that we're using.\n",
    "\n",
    "- using the Django auth app creates the auth table\n",
    "- using the Django sessions creates a sessions table for the admin\n",
    "\n",
    "This has also created a SQLite file.\n",
    "\n",
    "**DO NOT** try to open this, as it is generally a large binary file and could crash the editor.\n",
    "\n",
    "<img src='files/IMGs/db/db04.png'>\n",
    "\n",
    "If you continue to run the migrate command, it will tell you that there were no migrations to apply.\n",
    "\n",
    "<img src='files/IMGs/db/db05.png'>\n",
    "\n",
    "The reason is because everything has been applied to the database - no need to apply more.\n",
    "\n"
   ]
  },
  {
   "cell_type": "markdown",
   "metadata": {},
   "source": [
    "## Commit To Git\n",
    "\n",
    "In your **git bash** program ...\n",
    "\n",
    "1. go to project directory:  `cd workspace/PROJECTNAME` (in this example **profiles-rest-api**)\n",
    "2. Call `git add .`\n",
    "3. Call `git commit -am \"Added a custom user profile model, a manager, and the migrations for our DB.\""
   ]
  },
  {
   "cell_type": "code",
   "execution_count": null,
   "metadata": {},
   "outputs": [],
   "source": []
  }
 ],
 "metadata": {
  "kernelspec": {
   "display_name": "Python 3",
   "language": "python",
   "name": "python3"
  },
  "language_info": {
   "codemirror_mode": {
    "name": "ipython",
    "version": 3
   },
   "file_extension": ".py",
   "mimetype": "text/x-python",
   "name": "python",
   "nbconvert_exporter": "python",
   "pygments_lexer": "ipython3",
   "version": "3.6.6"
  }
 },
 "nbformat": 4,
 "nbformat_minor": 2
}
