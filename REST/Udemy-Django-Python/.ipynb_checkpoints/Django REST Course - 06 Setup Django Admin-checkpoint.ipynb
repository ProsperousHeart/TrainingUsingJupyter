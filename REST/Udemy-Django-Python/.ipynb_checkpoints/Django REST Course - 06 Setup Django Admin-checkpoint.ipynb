{
 "cells": [
  {
   "cell_type": "markdown",
   "metadata": {},
   "source": [
    "___\n",
    "\n",
    "<a href='https://www.learntocodeonline.com/'> <img src='files/IMGs/learn to code online.png' /></a>\n",
    "___"
   ]
  },
  {
   "cell_type": "markdown",
   "metadata": {},
   "source": [
    "Before we get started, be sure to bookmark the [official documentation for Django admin](https://docs.djangoproject.com/en/1.11/ref/contrib/admin).\n",
    "\n",
    "The Django admin is an awesome feature that comes with Djangot that gives us a website we can use to manage the models we've created in our database.\n",
    "\n",
    "# Creating A Super User\n",
    "\n",
    "Load up your **git bash** then switch to project to work on the server.\n",
    "\n",
    "1. `cd workspace/PROJECT` - where PROJECT here is profiles-rest-api\n",
    "2. `vangrant up`\n",
    "3. `vagrant ssh`\n",
    "4. `workon VIRTUALENV` - where VIRTUALENV in this instance is profiles_api\n",
    "5. navigate to location of project (in this instance **profiles_project**):  `cd /vagrant/src/PROJECT`\n",
    "\n",
    "Once you are in this location, you will create your superuser.\n",
    "\n",
    "`python manage.py createsuperuser`\n",
    "\n",
    "This will then allow you to input the different fields.\n",
    "\n",
    "Remember - the password will never show clear text, so you will not see the characters as you type them.\n",
    "\n",
    "<img src='files/IMGs/admin/admin01.png'>\n"
   ]
  },
  {
   "cell_type": "markdown",
   "metadata": {},
   "source": [
    "# Enable Django Admin\n",
    "\n",
    "In this section we will be registering our models with the Django admin in order to be able to manage the user profile objects from the Django admin.\n",
    "\n",
    "This will be done in the **admin.py** file under the app folder - in this case, the **profiles_api** app.\n",
    "\n",
    "<img src='files/IMGs/admin/admin02.png'>\n",
    "\n",
    "It is the file used to register your apps with Django.\n",
    "\n",
    "1. Import your modules file\n",
    "\n",
    "    `from . import models`<br><br>\n",
    "\n",
    "2. Register user profile model with the Django admin\n",
    "\n",
    "    `admin.site.register(models.UserProfile)`<br>\n",
    "\n",
    "The `.` means \"from current location\".\n"
   ]
  },
  {
   "cell_type": "markdown",
   "metadata": {},
   "source": [
    "# Test Django Admin\n",
    "\n",
    "Start the python dev server that comes with Django. You will need to go to **git bash** where you are on the running vagrant server.\n",
    "\n",
    "Run the following command:  `python manage.py runserver 0.0.0.0:8080`\n",
    "\n",
    "<img src='files/IMGs/admin/admin03.png'>\n",
    "\n",
    "Use your browser (Chrome in this example) to go to:  `127.0.0.1:8080`\n",
    "\n",
    "<img src='files/IMGs/admin/admin04.png'>"
   ]
  },
  {
   "cell_type": "markdown",
   "metadata": {},
   "source": [
    "This is the original server page - add **/admin** to the end to access the administration page:  `127.0.0.1:8080/admin`\n",
    "\n",
    "<img src='files/IMGs/admin/admin05.png'>\n",
    "\n",
    "You then need to login with the credentials you created earlier.\n",
    "\n",
    "<img src='files/IMGs/admin/admin06.png'>\n",
    "\n",
    "## Navigating The Admin Page\n",
    "\n",
    "This will show the different apps enabled in our Django project.\n",
    "\n",
    "### AUTH TOKEN\n",
    "\n",
    "Built into Django and included in the framework.\n",
    "\n",
    "### AUTHENTICATION AND AUTHORIZATION\n",
    "\n",
    "Built into Django and included in the framework.\n",
    "\n",
    "### PROFILES_API\n",
    "\n",
    "We created this - it is our user profiles model. It will show you the list of users.\n",
    "\n",
    "<img src='files/IMGs/admin/admin07.png'>\n",
    "\n",
    "If you click on the username of your user, you will see a screen similar to this:\n",
    "\n",
    "<img src='files/IMGs/admin/admin08.png'>"
   ]
  },
  {
   "cell_type": "markdown",
   "metadata": {},
   "source": [
    "## Commit To Git\n",
    "\n",
    "In your **git bash** program ...\n",
    "\n",
    "1. go to project directory:  `cd workspace/PROJECTNAME` (in this example **profiles-rest-api**)\n",
    "2. Call `git add .`\n",
    "3. Call `git commit -am \"Enabled the Django admin for the user profile model.\"`"
   ]
  },
  {
   "cell_type": "code",
   "execution_count": null,
   "metadata": {},
   "outputs": [],
   "source": []
  }
 ],
 "metadata": {
  "kernelspec": {
   "display_name": "Python 3",
   "language": "python",
   "name": "python3"
  },
  "language_info": {
   "codemirror_mode": {
    "name": "ipython",
    "version": 3
   },
   "file_extension": ".py",
   "mimetype": "text/x-python",
   "name": "python",
   "nbconvert_exporter": "python",
   "pygments_lexer": "ipython3",
   "version": "3.6.6"
  }
 },
 "nbformat": 4,
 "nbformat_minor": 2
}
