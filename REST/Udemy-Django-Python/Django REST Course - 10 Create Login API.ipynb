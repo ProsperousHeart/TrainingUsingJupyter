{
 "cells": [
  {
   "cell_type": "markdown",
   "metadata": {},
   "source": [
    "___\n",
    "\n",
    "<a href='https://www.learntocodeonline.com/'> <img src='files/IMGs/learn to code online.png' /></a>\n",
    "___"
   ]
  },
  {
   "cell_type": "markdown",
   "metadata": {},
   "source": [
    "# [Create Login API ViewSet](https://www.udemy.com/course/django-python/learn/lecture/6955102#questions)\n",
    "\n",
    "This API will allow users to log into the system using **Token Authentication**. It works by generating a token (random string) sent to the API for every request you make that requires authentication. This section will walk through how to generate the token - or create a login API.\n",
    "\n",
    "These changes will be made in the `views.py` file in the **profiles_api** app folder. Once again, the Django platform has something that can do this for you - but it's fixed as an API view and doesn't have a ViewSet option to use.\n",
    "\n",
    "You therefore cannot use it with your standard default router used to setup standard URLs. So we have to *trick the system* to think it's a ViewSet.\n",
    "\n",
    "1. Import the auth token that comes with the Django REST framework & the API settings"
   ]
  },
  {
   "cell_type": "code",
   "execution_count": null,
   "metadata": {},
   "outputs": [],
   "source": [
    "# from rest_framework.authtoken.serializers import AuthTokenSerializer\n",
    "from rest_framework.authtoken.views import ObtainAuthToken\n",
    "from rest_framework.settings import api_settings"
   ]
  },
  {
   "cell_type": "markdown",
   "metadata": {},
   "source": [
    "2. Create an API ViewSet which passes the request through to the obtained AuthToken APIView. Then you will have a ViewSet for your API login that you canuse with your default router.\n",
    "\n",
    "You will now create a new class ... The **ObtainAuthToken** does not enable itself by default in the browsable Django admin site - so it needs to be overwritten."
   ]
  },
  {
   "cell_type": "code",
   "execution_count": null,
   "metadata": {},
   "outputs": [],
   "source": [
    "class UserLoginApiView(ObtainAuthToken):\n",
    "    \"\"\"Handle creating user authentication tokens\"\"\"\n",
    "    \n",
    "    # add renderer classes to ObtainAuthToken view\n",
    "    # enabled in the Django admin\n",
    "    renderer_classes = api_settings.DEFAULT_RENDERER_CLASSES"
   ]
  },
  {
   "cell_type": "code",
   "execution_count": null,
   "metadata": {},
   "outputs": [],
   "source": [
    "# this was from 2018 ---- not used when reviewing 2022 training\n",
    "class LoginViewSet(viewsets.ViewSet):\n",
    "    \"\"\"Checks email and password & returns an auth token.\"\"\"\n",
    "    \n",
    "    serializer_class = AuthTokenSerializer\n",
    "    \n",
    "    # create a CREATE function (HTTP POST to ViewSet)\n",
    "    def create(self, request):\n",
    "        \"\"\"User the ObtainAuthToken APIView to validate and create a token.\"\"\"\n",
    "        \n",
    "        # pass the request through to ObtainAuthToken APIView\n",
    "        # and call the POST request - you create a new isntance\n",
    "        # of the ObtainAuthToken by adding () ...\n",
    "        # It does the same thing it would normally, but we're\n",
    "        # calling it through our ViewSet & return the response\n",
    "        # in the CREATE function.\n",
    "        return ObtainAuthToken().post(request)"
   ]
  },
  {
   "cell_type": "markdown",
   "metadata": {},
   "source": [
    "## 3. Add the ViewSet to your URL router.\n",
    "\n",
    "This is located in the `urls.py` file in the **profiles_api** app folder.\n",
    "\n",
    "You will need to create a new router underneat the profile router.\n",
    "\n",
    "As of 2018, you would do so by adding a new router:  `router.register('login', views.LoginViewSet, base_name='login')`\n",
    "\n",
    "    Since it's not a **models** ViewSet we need to set the **base_name** in the call. Otherwise there is no way for Django to know what to call this object our router.\n",
    "\n",
    "But as of 2022, you would update the **urlpatterns** with an additional path between the `hello-view` and `''` paths:\n",
    "`path('login/', views.UserLoginApiView.as_view())`\n",
    "\n",
    "<img src='files/IMGs/views/10-Login-URL.png'>"
   ]
  },
  {
   "cell_type": "markdown",
   "metadata": {},
   "source": [
    "# Test Login API\n",
    "\n",
    "Follow the same process as before:\n",
    "\n",
    "1. ensure the vagrant server is up\n",
    "- open git bash\n",
    "- `vagrant up`\n",
    "- `workon profiles_api`\n",
    "- `cd /vagrant/src/profiles_project`\n",
    "- `python manage.py runserver 0.0.0.0:8000`\n",
    "\n",
    "2. access the API in your Chrome browser on the base API URL:  **http://127.0.0.1:8000/api/login**\n",
    "\n",
    "As per 2022, you cannot see this from the root. If we wanted to, it would need to be created as a ViewSet instead of an APIView because then it could be viewed from root:\n",
    "\n",
    "<img src='files/IMGs/login-01.png'>"
   ]
  },
  {
   "cell_type": "markdown",
   "metadata": {},
   "source": [
    "3. Click the login URL from root.\n",
    "\n",
    "When you get to the page, it has done an HTTP GET, which returns an HTTP 405 \"method not allowed\" response. That's because you can't make this method call on a login API - only a POST to log in.\n",
    "\n",
    "<img src='files/IMGs/login-02.png'>"
   ]
  },
  {
   "cell_type": "markdown",
   "metadata": {},
   "source": [
    "4. Log in as your super user. (Remember that username is the email address in this example, since we used the built-in serializer of the REST framework.)\n",
    "\n",
    "The API will then post the username and password to the server and generate a temporary token used to authenticate with the other APIs.\n",
    "\n",
    "<img src='files/IMGs/login-03.png'>\n",
    "\n",
    "This token will be used in the next portion, so be sure to keep it handy."
   ]
  },
  {
   "cell_type": "markdown",
   "metadata": {},
   "source": [
    "# Set Token Header Using ModHeader Extension\n",
    "\n",
    "This section will show you how to use your AuthToken to authorize yourself with your API.\n",
    "\n",
    "Here's how it works in a real app:\n",
    "- client side app will make a HTTP request to our login endpoint with the username and password it wants to authenticate\n",
    "- a user will enter their email & password\n",
    "- the app will call the API login endpoint\n",
    "- backend will confirm that the username / password are valid\n",
    "- if valid will generate and return a token to the user\n",
    "- the app is then responsible for ensuring the token is included in all future HTTP requests\n",
    "\n",
    "The app does this by adding the token to the HTTP headers for all future requests it makes. The HTTP header is like metadata that goes along with the HTTP request. (Data about the request.)\n",
    "\n",
    "In that data is an authorization HTTP header. This authorization HTTP header will include your token. Then every time the app makes a request to the API, we can check it it's provided a valid token in the HTTP headers. If valid, it will perform the request. Otherwise will return a 401 unauthorized response.\n",
    "\n",
    "The app can then redirect the user back to the login page to get a new token.\n",
    "\n",
    "## Using ModHeader Extension\n",
    "\n",
    "Here's how you simulate adding the HTTPS headers to your request using **ModHeaders** - a chrome extension.\n",
    "\n",
    "This extension will be needed for the rest of the course. It may be blue, mine was grey.\n",
    "\n",
    "<img src='files/IMGs/ModHeaders-01.png'>\n",
    "\n",
    "When you click on it, you will receive a nice window you can use to add custom HTTP headers to yor request.\n",
    "\n",
    "<img src='files/IMGs/ModHeaders-02.png'>\n",
    "\n",
    "Before adding any headers, you need to add a filter. This filter will ensure HTTP headers only apply to this specific web page. The reason for this is if you forget this is still running, it can interfere with other sites.\n",
    "\n",
    "1. Click on the plus symbol and choose **Filter** to add a new filter.\n",
    "\n",
    "?\n",
    "\n",
    "2. Add a filter that matches any website that contains the URL:  **127.0.0.1:8080**\n",
    "\n",
    "<img src='files/IMGs/ModHeaders-03.png'>\n",
    "\n",
    "<img src='files/IMGs/ModHeaders-04.png'>\n",
    "\n",
    "You will use the following code:  `*//127.0.0.1:8080/*`\n",
    "\n",
    "The __\\*__ is a wildcard - meaning it will match any text before or after, but will match all the other pieces that are not a wildcard.\n",
    "\n",
    "<img src='files/IMGs/ModHeaders-05.png'>\n",
    "\n",
    "3. Add your authorization header in the **Request Headers** section.\n",
    "\n",
    "`Authorization` will be th name of the header you're adding.\n",
    "\n",
    "<img src='files/IMGs/ModHeaders-06.png'>\n",
    "\n",
    "In the value section, add `Token` then a space, and then the token you received in prior ObtainAuthToken request.\n",
    "\n",
    "<img src='files/IMGs/ModHeaders-07.png'>\n",
    "\n",
    "4. Test in your API by doing the following:\n",
    "- go back to API root\n",
    "- click on the profile page\n",
    "\n",
    "<img src='files/IMGs/ModHeaders-08.png'>\n",
    "\n",
    "You should now see that you are logged in as your Super User.\n",
    "\n",
    "<img src='files/IMGs/ModHeaders-09.png'>\n",
    "\n",
    "Add the ID to the end of the URL to see the detailed view.\n",
    "\n",
    "<img src='files/IMGs/ModHeaders-10.png'>\n",
    "\n",
    "You can see that you now have the options to update and delete the user account.\n",
    "\n",
    "5. Test the option to edit the user.\n",
    "\n",
    "Modify the name. Be sure to use the correct password. Then click PUT button.\n",
    "\n",
    "<img src='files/IMGs/ModHeaders-11.png'>\n",
    "\n",
    "You can see the name now has a 1 at the end.\n",
    "\n",
    "## How can you log out?\n",
    "\n",
    "Go back into **ModHeaders** and uncheck the authorization header & go back into the address bar then hit enter.\n",
    "\n",
    "**DO NOT** refresh the page, as it will attempt the POST again.\n",
    "\n",
    "<img src='files/IMGs/ModHeaders-13.png'>\n",
    "\n",
    "You should see that the edit option has disappeared since you are no longer authorized with the API.\n",
    "\n",
    "Turn authorization back on, then go to your user profile list.\n",
    "\n",
    "_What happens when you try to access another profile that is **not** the one you are logged in as?_\n",
    "\n",
    "Remember - you have a permissions class that says you can only modify the user you are logged in as."
   ]
  },
  {
   "cell_type": "markdown",
   "metadata": {},
   "source": [
    "## Commit To Git\n",
    "\n",
    "In your **git bash** program ...\n",
    "\n",
    "1. go to project directory:  `cd workspace/PROJECTNAME` (in this example **profiles-rest-api**)\n",
    "2. Call `git add .`\n",
    "3. Call `git commit -am \"Added login API.\"`"
   ]
  },
  {
   "cell_type": "code",
   "execution_count": null,
   "metadata": {},
   "outputs": [],
   "source": []
  }
 ],
 "metadata": {
  "kernelspec": {
   "display_name": "Python 3 (ipykernel)",
   "language": "python",
   "name": "python3"
  },
  "language_info": {
   "codemirror_mode": {
    "name": "ipython",
    "version": 3
   },
   "file_extension": ".py",
   "mimetype": "text/x-python",
   "name": "python",
   "nbconvert_exporter": "python",
   "pygments_lexer": "ipython3",
   "version": "3.10.2"
  }
 },
 "nbformat": 4,
 "nbformat_minor": 2
}
