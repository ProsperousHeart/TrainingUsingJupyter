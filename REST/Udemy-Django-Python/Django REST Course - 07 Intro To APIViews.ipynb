{
 "cells": [
  {
   "cell_type": "markdown",
   "metadata": {},
   "source": [
    "___\n",
    "\n",
    "<a href='https://www.learntocodeonline.com/'> <img src='files/IMGs/learn to code online.png' /></a>\n",
    "___"
   ]
  },
  {
   "cell_type": "markdown",
   "metadata": {},
   "source": [
    "Django REST framework offers helper classes to create our API endpoints:\n",
    "- APIView\n",
    "- ViewSet\n",
    "\n",
    "Each one is slightly different & offers it's own benefits.\n",
    "\n",
    "# What Is An APIView?\n",
    "\n",
    "If you would like to learn more about this, check out the [APIView Official Docs](http://www.django-rest-framework.org/api-guide/views/).\n",
    "\n",
    "## What In An APIView?\n",
    "\n",
    "This is the most basic view to build your API, and it:\n",
    "\n",
    "- enables you to describe the logic which makes our API endpoint\n",
    "\n",
    "- allows you to define functions that match the standard HTTP methods\n",
    "\n",
    "    1. GET:    get 1 or more items\n",
    "    2. POST:   create an item\n",
    "    3. PUT:    update an item\n",
    "    4. PATCH:  partially update an item\n",
    "    5. DELETE: delete an item\n",
    "\n",
    "\n",
    "- give you the most control over your application logic & is perfect for:\n",
    "\n",
    "    1. implementing complex logic\n",
    "    2. calling other APIs\n",
    "    3. working with local files\n",
    "\n",
    "# When To Use APIViews\n",
    "\n",
    "It depends on personal preference. Here are some examples for when it might be better to use APIViews:\n",
    "\n",
    "- you need full control of your application logic (intensive algorithm, updating multiple items in 1 API call, etc)\n",
    "<br><br>\n",
    "- when processing files and rendering a synchronous response\n",
    "<br><br>\n",
    "- when you are calling other APIs/services\n",
    "<br><br>\n",
    "- need to access local files or data"
   ]
  },
  {
   "cell_type": "markdown",
   "metadata": {},
   "source": [
    "# [Create First APIView](https://www.udemy.com/course/django-python/learn/lecture/6945594#questions)\n",
    "\n",
    "You will need to start by opening up the `views.py` file in your app folder - in this example under the project app folder:  `profiles_api`\n",
    "\n",
    "<img src='files/IMGs/views/APIviews-01.png'>\n",
    "\n",
    "A view is the application logic behind the view.\n",
    "\n",
    "It's what get run when the user visits our API endpoint.\n",
    "\n",
    "## Creating A \"Hello World\" View\n",
    "\n",
    "The following code will replace the content in the **views.py** file shown above.\n",
    "\n",
    "A **Response** object is a standard response object that we return from our API view that can be rendered into an API output.\n",
    "\n",
    "When creating the **HelloAPIView** it must inherit from the **APIView**."
   ]
  },
  {
   "cell_type": "code",
   "execution_count": null,
   "metadata": {},
   "outputs": [],
   "source": [
    "# import APIView class from rest_framework.views module\n",
    "from rest_framework.views import APIView\n",
    "# import Response class from rest_framework.response module\n",
    "from rest_framework.response import Response\n",
    "\n",
    "class HelloAPIView(APIView):\n",
    "    \"\"\"Test API View.\"\"\"\n",
    "    \n",
    "    # API Views works by defining functions that match standard HTTP methods.\n",
    "    def get(self, request, format=None):\n",
    "        \"\"\"Returns a list of APIView features.\"\"\"\n",
    "        \n",
    "        an_apiview = [\n",
    "            'Uses HTTP methods as functions (get, post, patch, put, delete)',\n",
    "            'It is similar to a traditional Django view',\n",
    "            'Gives you the most control over your logic',\n",
    "            'Is mapped manually to URLs'\n",
    "        ]\n",
    "        \n",
    "        # return a Response instance\n",
    "        #     Response({'message': '', 'variable': value, ...})\n",
    "        return Response({'message': 'Hello!', 'an_apiview': an_apiview})\n"
   ]
  },
  {
   "cell_type": "markdown",
   "metadata": {},
   "source": [
    "The way this works is you will define a URL (your endpoint) then assign to this view. The Django REST framework then handles it by calling the appropriate function in the view for the HTTP request you made."
   ]
  },
  {
   "cell_type": "markdown",
   "metadata": {},
   "source": [
    "# [Configure View URL](https://www.udemy.com/course/django-python/learn/lecture/6945592#questions)\n",
    "\n",
    "We now need to create a URL to map to this view so we can access it via the HTTP server. You do this with the **URL dispatcher**!\n",
    "\n",
    "These URLs are described in the `urls.py` file in the root of our project folder or directory.\n",
    "\n",
    "<img src='files/IMGs/views/URLview-01.png'>\n",
    "\n",
    "This is the entry points for all URLs in our app."
   ]
  },
  {
   "cell_type": "markdown",
   "metadata": {},
   "source": [
    "## Adding URL To Pattern List\n",
    "\n",
    "You can see how to set up these URLs in the above image.\n",
    "\n",
    "`path('admin/', admin.site.urls)`\n",
    "\n",
    "This file config tells Django to forward anything with _admin/_ to the admin app. But we need to create our own mapping to the profiles API app.\n",
    "\n",
    "It is best to keep a **urls.py** file for each Python project that you add to the app.\n",
    "\n",
    "1. Create a new **urls.py** file in your **profiles_api** app.\n",
    "\n",
    "\n",
    "2. Update the project's **urls.py** file within the imports in the project folder from `from django.urls import path` to `from django.urls import path, include`\n",
    "\n",
    "\n",
    "3. Add a URL to the project's **urls.py** list in the following format:  `path('api/', include('profiles_api.urls'))`\n",
    "\n",
    "The way that it works is that first **api** indicates which \"app\" to look at, and then checks the URLs list in the **urls.py** file for the appropriate app for additional details.\n",
    "\n",
    "### 2018 Original Info\n",
    "\n",
    "When originally taking this course, we would have described Django URLs using a technology called **[Regular Expressions](https://regexr.com)**. These are a way to manipulate strings so that you can detect certain string patterns & extract certain data from a string.\n",
    "\n",
    "The `r` indicates the string is a **regular expression**.\n",
    "\n",
    "The `^` indicates we want to ensure that the beginning of the string starts with:  **api/**\n",
    "\n",
    "Thus anything that starts with that will be matched and passed through to the **profiles_api.urls** file.\n",
    "\n",
    "If you would like to learn more about this, check out the [URL Dispatcher Official Docs](https://docs.djangoproject.com/en/1.11/topics/http/urls.).\n",
    "\n",
    "Since then,it looks like Django improved their modules so as not to require this.\n",
    "\n",
    "## Add URLs file In API for profiles_api App\n",
    "\n",
    "If you haven't alrady, add a new file to your API folder. In this example it will be the **profiles_api** folder.\n",
    "\n",
    "<img src='files/IMGs/views/URLview-02.png'>"
   ]
  },
  {
   "cell_type": "code",
   "execution_count": null,
   "metadata": {},
   "outputs": [],
   "source": [
    "# from django.conf.urls import url\n",
    "from django.urls import path\n",
    "# from . import views\n",
    "from profiles_api import views\n",
    "\n",
    "urlpatterns = [\n",
    "    # url(r'^hello-view/', views.HelloAPIView.as_view()),\n",
    "    path('hello-view/', views.HelloAPIView.as_view()), \n",
    "]"
   ]
  },
  {
   "cell_type": "markdown",
   "metadata": {},
   "source": [
    "When we call our APIView, it will look at the root project URLs config file. It will detect that we have **api** at the beginning of our URL and it's going to look inside the **profiles_api.urls** module.\n",
    "\n",
    "After looking into that file, it then checks the next part of the URL after this **/api** part & will see we typed **hello-view** - this is what tells Django to render the result of this view's APIView. It will return that result to the screen. (The class is rendered.)"
   ]
  },
  {
   "cell_type": "markdown",
   "metadata": {},
   "source": [
    "# Testing Our APIView\n",
    "\n",
    "Once you've mapped a URL, it is time to test the changes made.\n",
    "\n",
    "Get your server up and running (if it wasn't already) go to:  `127.0.0.1:8000`\n",
    "\n",
    "<img src='files/IMGs/views/URLview-05.png'>\n",
    "\n",
    "As you can see, if you try to access a site that doesn't exist, it will tell you and provide options."
   ]
  },
  {
   "cell_type": "markdown",
   "metadata": {},
   "source": [
    "If you try `127.0.0.1:8000/api/`:\n",
    "\n",
    "<img src='files/IMGs/views/URLview-06.png'>\n",
    "\n",
    "Not quite there, but does indicate additional options."
   ]
  },
  {
   "cell_type": "markdown",
   "metadata": {},
   "source": [
    "When you try:  `127.0.0.1:8000/api/hello-view`\n",
    "\n",
    "<img src='files/IMGs/views/URLview-04.png'>\n",
    "\n",
    "You see that it has rendered the results of our API view.\n",
    "\n",
    "This rendering comes from the file _views.py_ under the API folder. This view is linked throughout the URL files as outlined earlier.\n",
    "\n",
    "## Commit To Git\n",
    "\n",
    "In your **git bash** program ...\n",
    "\n",
    "1. go to project directory:  `cd workspace/PROJECTNAME` (in this example **profiles-rest-api**)\n",
    "2. Call `git add .`\n",
    "3. Call `git commit -am \"Created our first APIView.\"`"
   ]
  },
  {
   "cell_type": "markdown",
   "metadata": {},
   "source": [
    "# Create A Serializer\n",
    "\n",
    "A **serializer object** is an object in the Django REST framework we can use to describe the data we need to return and retrieve from our API. It allows us to easy convert data input (like a text string or JSON) to a Python object and vice versa. This is similar to a Django form, which you define & has various fields for API input.\n",
    "\n",
    "If you would like to learn more, check out the following official docs:\n",
    "- [Serializers](http://www.django-rest-framework.org/api-guide/serializers)\n",
    "- [Serializer Fields](http://www.django-rest-framework.org/api-guide/fields)\n",
    "\n",
    "Here we will add POST or update functionality to our APIView through a serializer.\n",
    "\n",
    "Create **serializers.py** file in the API app folder - in this instance it will be under the **profiles_api** folder. It is good practice to keep all serializers for your app in a single file.\n",
    "\n",
    "Now you will need to provide the following code:"
   ]
  },
  {
   "cell_type": "code",
   "execution_count": null,
   "metadata": {},
   "outputs": [],
   "source": [
    "from rest_framework import serializers\n",
    "\n",
    "\n",
    "# create a new serializer class that inherits from the imported module\n",
    "class HelloSerializer(serializers.Serializer):\n",
    "    \"\"\"Serializes a name field for testing our APIView.\"\"\"\n",
    "    \n",
    "    # this CharField has a lot of pre-defined validation\n",
    "    name = serializers.CharField(max_length=10)"
   ]
  },
  {
   "cell_type": "markdown",
   "metadata": {},
   "source": [
    "Serializers also provide data validation rules. Be sure to review documentation for more on this."
   ]
  },
  {
   "cell_type": "markdown",
   "metadata": {},
   "source": [
    "## Add Serializer To APIView\n",
    "\n",
    "You will add this to the API's **views.py** file.\n",
    "\n",
    "1. Import the status - a list of different HTTP response codes:\n",
    "    \n",
    "    `from rest_framework import status`\n",
    "\n",
    "\n",
    "2. Import the serializers file (tells our API what data to expect when making POST, PUT, and PATCH requests):\n",
    "    \n",
    "    `from . import serializers` or ...\n",
    "    \n",
    "    `from profiles_api import serializers`\n",
    "    \n",
    "    \n",
    "3. Update the **HelloAPIView** class. Right below the docstring and above the GET function, add a serializer variable.\n",
    "\n",
    "    `serializer_class = serializers.HelloSerializer`\n",
    "\n",
    "<img src='files/IMGs/views/serializers01.png'>"
   ]
  },
  {
   "cell_type": "markdown",
   "metadata": {},
   "source": [
    "# Add POST Method To APIView\n",
    "\n",
    "If you would like to learn more, check out the [Status Codes Official Docs](http://www.django-rest-framework.org/api-guide/status-codes).\n",
    "\n",
    "Once you have created the **serializer_class** we can create the POST function. This will be the logic that is called when an HTTP POST request is sent to our APIView.\n",
    "\n",
    "Put the following function below the GET..."
   ]
  },
  {
   "cell_type": "code",
   "execution_count": null,
   "metadata": {},
   "outputs": [],
   "source": [
    "    def post(self, request):\n",
    "        \"\"\"Create a hello message with our name.\"\"\"\n",
    "        \n",
    "        # create our serializer - pass in the request information\n",
    "        # serializer = serializers.HelloSerializer(data=request.data)\n",
    "        serializer = self.serializer_class(data=request.data)\n",
    "        \n",
    "        # check if serializer has valid data\n",
    "        if serializer.is_valid():\n",
    "            name = serializer.validated_data.get('name')\n",
    "            message = f\"Hello {name}\"\n",
    "            return Response({'message': message})\n",
    "        else:\n",
    "            # return a message about what went wrong and the status\n",
    "            # 400 means bad request to API\n",
    "            return Response(\n",
    "                serializer.errors, \n",
    "                status=status.HTTP_400_BAD_REQUEST\n",
    "            )"
   ]
  },
  {
   "cell_type": "markdown",
   "metadata": {},
   "source": [
    "The `self.serializer_class` is a function that comes with the APIView that retrieves the configured serializer class for our view. It is the **standard** way to retrieve the serializer class when working with serializers in a view."
   ]
  },
  {
   "cell_type": "markdown",
   "metadata": {},
   "source": [
    "# Test POST Function\n",
    "\n",
    "Head over to your development server. If it's not been running, start your server:\n",
    "\n",
    "1. CTRL+C\n",
    "2. `python manage.py runserver 0.0.0.0:8000`\n",
    "\n",
    "Open Chrome and refresh the page for:  **127.0.0.1:8000/api/hello-view**\n",
    "\n",
    "You should now see the POST option available.\n",
    "\n",
    "<img src='files/IMGs/views/APIviews-02.png'>\n",
    "\n",
    "If you look at the bottom, it now also has a new section at the bottom to put in data for the POST method. Test it by putting in a name ...\n",
    "\n",
    "<img src='files/IMGs/views/APIviews-03.png'>\n",
    "\n",
    "... and then pressing the button! Here's an example of what it could look like in response:\n",
    "\n",
    "<img src='files/IMGs/views/APIviews-04.png'>\n",
    "\n",
    "Now try testing the 10 character limit - testing it's validation!\n",
    "\n",
    "<img src='files/IMGs/views/APIviews-05.png'>\n",
    "\n",
    "As you can see, the field tells you what's wrong as well as the JSON response."
   ]
  },
  {
   "cell_type": "markdown",
   "metadata": {},
   "source": [
    "# Add PUT, PATCH, and DELETE Methods\n",
    "\n",
    "This part is fairly easy after creating the GET and POST methods. You simply create a function below them for each one.\n",
    "\n",
    "## PUT Method\n",
    "\n",
    "The PUT request is often used to update an object using a specific primary key. Thus ...\n",
    "\n",
    "The input parameter **pk** stands for **p**rimary **k**ey.\n",
    "\n",
    "Since we're doing an update, it will update a specific object. It identifies what object that is with the object's primary key - the ID for the object in the DB. This is typically put in the URL when calling the API."
   ]
  },
  {
   "cell_type": "code",
   "execution_count": null,
   "metadata": {},
   "outputs": [],
   "source": [
    "    def put(self, request, pk=None):\n",
    "        \"\"\"Handles updating an object.\"\"\"\n",
    "        \n",
    "        # for now return what this method does\n",
    "        return Response({'method': 'put'})"
   ]
  },
  {
   "cell_type": "markdown",
   "metadata": {},
   "source": [
    "## PATCH Method\n",
    "\n",
    "Used to partially update an object so it doesn't update the whole object - just a part of it. It would only update the fields provided in the request."
   ]
  },
  {
   "cell_type": "code",
   "execution_count": null,
   "metadata": {},
   "outputs": [],
   "source": [
    "    def patch(self, request, pk=None):\n",
    "        \"\"\"Patch request, only update fields provided in the request.\"\"\"\n",
    "        \n",
    "        # return a dictionary with what this method does\n",
    "        return Response({'method': 'patch'})"
   ]
  },
  {
   "cell_type": "markdown",
   "metadata": {},
   "source": [
    "## DELETE Method\n",
    "\n",
    "Pretty self explanatory. It deletes an object."
   ]
  },
  {
   "cell_type": "code",
   "execution_count": null,
   "metadata": {},
   "outputs": [],
   "source": [
    "    def delete(self, request, pk=None):\n",
    "        \"\"\"Deletes an object.\"\"\"\n",
    "        \n",
    "        # return a dictionary with what this method does\n",
    "        return Response({'method': 'delete'})"
   ]
  },
  {
   "cell_type": "markdown",
   "metadata": {},
   "source": [
    "# Test the PUT, PATCH, and DELETE Methods\n",
    "\n",
    "Make sure the Django developer server is still running on vagrant. If not, start it back up. After [restarting the page](http://127.0.0.1:8080/api/hello-view), you will see that it now shows the PUT, PATCH, and DELETE functions on the page.\n",
    "\n",
    "<img src='files/IMGs/views/URLview-07.png'>\n",
    "\n",
    "This was detected in the API view and automatically displayed on the page.\n",
    "\n",
    "**NOTE:** You may have to start and restart the server for full changes to take effect."
   ]
  },
  {
   "cell_type": "markdown",
   "metadata": {},
   "source": [
    "## Testing The PUT & PATCH\n",
    "\n",
    "## PUT\n",
    "\n",
    "You only need to use the HTML form section, as it updates the entire object.\n",
    "\n",
    "<img src='files/IMGs/views/URLview-08.png'>"
   ]
  },
  {
   "cell_type": "markdown",
   "metadata": {},
   "source": [
    "## PATCH\n",
    "\n",
    "Ensure that you are on the RAW data form, not HTML. The reason for this is that the way PATCH works is you only provide the fields you want to update in the API. If you used the HTML form, it would update all of the fields.\n",
    "\n",
    "Try using a blank JSON object like so for each:\n",
    "\n",
    "<img src='files/IMGs/views/URLview-11.png'>\n",
    "\n",
    "<img src='files/IMGs/views/URLview-12.png'>\n",
    "\n",
    "This response is what we asked it to respond with in the API view."
   ]
  },
  {
   "cell_type": "markdown",
   "metadata": {},
   "source": [
    "## Testing The DELETE Button\n",
    "\n",
    "The response provided by clicking the DELETE button is also what we told it to respond with in the API view.\n",
    "\n",
    "<img src='files/IMGs/views/URLview-13.png'>\n",
    "\n",
    "<img src='files/IMGs/views/URLview-14.png'>\n",
    "\n",
    "<img src='files/IMGs/views/URLview-15.png'>"
   ]
  },
  {
   "cell_type": "markdown",
   "metadata": {},
   "source": [
    "## Commit To Git\n",
    "\n",
    "In your **git bash** program ...\n",
    "\n",
    "1. go to project directory:  `cd workspace/PROJECTNAME` (in this example **profiles-rest-api**)\n",
    "2. Call `git add .`\n",
    "3. Call `git commit -am \"Added POST, PUT, PATCH, and DELETE functions to our APIView.\"`"
   ]
  }
 ],
 "metadata": {
  "kernelspec": {
   "display_name": "Python 3 (ipykernel)",
   "language": "python",
   "name": "python3"
  },
  "language_info": {
   "codemirror_mode": {
    "name": "ipython",
    "version": 3
   },
   "file_extension": ".py",
   "mimetype": "text/x-python",
   "name": "python",
   "nbconvert_exporter": "python",
   "pygments_lexer": "ipython3",
   "version": "3.10.2"
  }
 },
 "nbformat": 4,
 "nbformat_minor": 2
}
