{
 "cells": [
  {
   "cell_type": "markdown",
   "metadata": {},
   "source": [
    "___\n",
    "\n",
    "<a href='https://www.learntocodeonline.com/'> <img src='files/IMGs/learn to code online.png' /></a>\n",
    "___"
   ]
  },
  {
   "cell_type": "markdown",
   "metadata": {},
   "source": [
    "# Plan Our Profiles API\n",
    "\n",
    "Now that we have created a simple API, we can move on to a profiles API.\n",
    "\n",
    "Basic requirements:\n",
    "1. create a new profile (handle new registrations in the system)\n",
    "    - validate profile data\n",
    "2. list existing profiles\n",
    "    - search for profiles via email or name\n",
    "3. view specific profile (using an ID)\n",
    "4. update \"my profile\" of a logged in user\n",
    "    - update name/email address\n",
    "    - change password\n",
    "5. delete profile\n",
    "\n",
    "URLs for our API:\n",
    "1. list of all profiles:  **`/api/profile/`**\n",
    "    - GET (list profiles)\n",
    "    - POST (create profile)\n",
    "    <br><br>\n",
    "2. manage a specific profile:  **`/api/profile/<profile_id>/`**\n",
    "    - GET (view specific profile)\n",
    "    - PUT/PATCH (update profile)\n",
    "    - DELETE (remove profile)"
   ]
  },
  {
   "cell_type": "markdown",
   "metadata": {},
   "source": [
    "# Create User Profile Serializer\n",
    "\n",
    "If you would like more information, check out the [ModelSerializer official documentation](http://www.django-rest-framework.org/api-guide/serializers/#modelserializer).\n",
    "\n",
    "Ensure that you have the **profiles-rest-api** project open in your Atom!\n",
    "\n",
    "Locate the `serializers.py` file in the profiles_api folder.\n",
    "\n",
    "Now we will create a ModelSerializer - similar to the HelloSerializer created earlier, but these are designed to be used with models. There is a bunch of extra functionality that makes it really easy to work with existing Django database models.\n",
    "\n",
    "1. import the following:\n",
    "\n",
    "    `from . import models` ----- or -----> `from profiles_api import models`\n",
    "\n",
    "\n",
    "2. Create a new class below your HelloSerializer that will inherit from serializers.ModelSerializer"
   ]
  },
  {
   "cell_type": "code",
   "execution_count": null,
   "metadata": {},
   "outputs": [],
   "source": [
    "class UserProfileSerializer(serializers.ModelSerializer):\n",
    "    \"\"\"A serializer for our user profile objects.\"\"\"\n",
    "    \n",
    "    # create a meta class that tells Django REST framework\n",
    "    # what fields we want to take from our model\n",
    "    class Meta:\n",
    "        # assign model we want it to point to (our user profile model)\n",
    "        model = models.UserProfile\n",
    "        \n",
    "        # what fields to use in the serializer\n",
    "        fields = ('id', 'email', 'name', 'password')\n",
    "        \n",
    "        # define extra keyword arguments for your model\n",
    "        # allows you to tell Django REST framework special attributes\n",
    "        # you want to apply to those fields above\n",
    "        # keys in teh dictionary are the fields you want to add custom args to\n",
    "        extra_kwargs = {\n",
    "            'password': {\n",
    "                'write_only': True,\n",
    "                'style': {'input_type': 'password'}  # custom style for browsable API\n",
    "            }\n",
    "        }\n",
    "        \n",
    "    # create a special function that overwrites the CREATE functionality\n",
    "    # this will allow us control over how users are created\n",
    "    # we want to encrypt the PW as a hash\n",
    "    def create(self, validated_data):\n",
    "        \"\"\"Create and return a new user.\"\"\"\n",
    "        \n",
    "        user = models.UserProfile.objects.create_user(\n",
    "            email=validated_data['email'],\n",
    "            name=validated_data['name'],\n",
    "            password=validated_data['password']\n",
    "        )\n",
    "        \n",
    "        # user.set_password(validated_data['password'])\n",
    "        # user.save()\n",
    "        \n",
    "        return user\n",
    "    \n",
    "    # added to avoid clear text issue\n",
    "    # https://github.com/LondonAppDev/profiles-rest-api/blob/master/profiles_api/serializers.py#L34\n",
    "    def update(self, instance, validated_data):\n",
    "        \"\"\"Handle updating user account\"\"\"\n",
    "        if 'password' in validated_data:\n",
    "            password = validated_data.pop('password')\n",
    "            instance.set_password(password)  # saves as hash\n",
    " \n",
    "        return super().update(instance, validated_data)"
   ]
  },
  {
   "cell_type": "markdown",
   "metadata": {},
   "source": [
    "The **update()** function was added as per [here](https://www.udemy.com/course/django-python/learn/lecture/18186246#questions/5287482)."
   ]
  },
  {
   "cell_type": "markdown",
   "metadata": {},
   "source": [
    "# [Create User Profiles Viewset](https://www.udemy.com/course/django-python/learn/lecture/6955052#questions/5287482)\n",
    "\n",
    "We will now create a ViewSet to access the serializer through an endpoint.\n",
    "\n",
    "Open the `views.py` file in the profiles_app app folder.\n",
    "\n",
    "Import your model file:  `from . import models` or `from profiles_api import models`\n",
    "\n",
    "For our user profile API, we will be using a model ViewSet - which is similar a standard ViewSet, except it is specifically designed for managing models through our API. Therefore, it has a lot of the functionality we need already built into it.\n",
    "\n",
    "The way you use a Model ViewSet is to connect it to a serializer class (like a regular ViewSet) then provide a query set to the Model ViewSet so it knows which objects in the database are going to be managed through the ViewSet.\n",
    "\n",
    "Scroll to the bottom of the file to add the UserProfileViewSet class."
   ]
  },
  {
   "cell_type": "code",
   "execution_count": null,
   "metadata": {},
   "outputs": [],
   "source": [
    "class UserProfileViewSet(viewsets.ModelViewSet):\n",
    "    \"\"\"Handles creating, reading and updating profiles.\"\"\"\n",
    "    # ModelViewSet is a special ViewSet by the Django REST framework\n",
    "    # that takes care of all of the logic for CRU our model items\n",
    "    \n",
    "    # define the serializer class - this serializer has the model\n",
    "    # in the metadata so it knows which model to look for\n",
    "    # to handle user objects\n",
    "    serializer_class = serializers.UserProfileSerializer\n",
    "    \n",
    "    # query the set which tells the ViewSet how to retrieve\n",
    "    # the object from our DB\n",
    "    queryset = models.UserProfile.objects.all() # this retrieves all of them"
   ]
  },
  {
   "cell_type": "markdown",
   "metadata": {},
   "source": [
    "The Django REST framework knows the standard functions you would want to perform on a model ViewSet:\n",
    "- CREATE for new items\n",
    "- LIST to list models in the database\n",
    "- UPDATE for partial update\n",
    "- DESTROY for specific models in the database"
   ]
  },
  {
   "cell_type": "markdown",
   "metadata": {},
   "source": [
    "# [Register Profile ViewSet With URL Router](https://www.udemy.com/course/django-python/learn/lecture/6955058#questions/5287482)\n",
    "\n",
    "Open the `urls.py` file in the profiles_api app folder.\n",
    "\n",
    "Registering is simple - just need to register with a router and Django REST framework will do the rest.\n",
    "\n",
    "Below the latest router registration add:"
   ]
  },
  {
   "cell_type": "code",
   "execution_count": null,
   "metadata": {},
   "outputs": [],
   "source": [
    "router.register('profile', views.UserProfileViewSet)"
   ]
  },
  {
   "cell_type": "markdown",
   "metadata": {},
   "source": [
    "**NOTE:** \n",
    "When specifying a Model ViewSet, you do not need to provide a base_name... As long as you have already provided the **queryset** in your **views.py** file for **UserProfileViewSet**. Django can figure out the name based on the model assigned to it. Only need to provide if **queryset** not provided or you wish to override the name of the query set that is associated to it."
   ]
  },
  {
   "cell_type": "markdown",
   "metadata": {},
   "source": [
    "# [Test Creating A Profile](https://www.udemy.com/course/django-python/learn/lecture/6955062#questions/5287482)\n",
    "\n",
    "Ensure the vagrant server is running - may have to restart.\n",
    "\n",
    "1. In git bash, change directory to where you profiles-rest-api project is located:  `cd workspace/profiles-rest-api`\n",
    "<br><br>\n",
    "2. `vagrant up`\n",
    "<br><br>\n",
    "3. `vagrant ssh`\n",
    "<br><br>\n",
    "4. `workon profiles_api`\n",
    "<br><br>\n",
    "5. `cd /vagrant/src/profiles_project`\n",
    "<br><br>\n",
    "6. Start development server:  `python manage.py runserver 0.0.0.0:8000`\n",
    "\n",
    "Once you have the server up, head over to the following in Chrome:\n",
    "**127.0.0.1:8000/api**\n",
    "\n",
    "Notice on the root API page that we have an additional entry to the list of APIs that are available.\n",
    "\n",
    "<img src='files\\IMGs\\views\\ProfilesAPI-01.png'>"
   ]
  },
  {
   "cell_type": "markdown",
   "metadata": {},
   "source": [
    "Click on the link to head over to the **API/profile** of the API.\n",
    "\n",
    "<img src='files\\IMGs\\views\\ProfilesAPI-02.png'>\n",
    "\n",
    "This is the **list** or HTTP GET to our **api/profile** endpoint. It lists all users in the system.\n",
    "\n",
    "## Test POST Without Data\n",
    "\n",
    "<img src='files\\IMGs\\views\\ProfilesAPI-03.png'>"
   ]
  },
  {
   "cell_type": "markdown",
   "metadata": {},
   "source": [
    "## Create A New User\n",
    "\n",
    "<img src='files\\IMGs\\views\\ProfilesAPI-04.png'>\n",
    "\n",
    "Since the password was set to write_only, it never gets returned by the API."
   ]
  },
  {
   "cell_type": "markdown",
   "metadata": {},
   "source": [
    "## Test User Update\n",
    "\n",
    "Go back to the root of the API for profiles:  **127.0.0.1:8080/api/profile**\n",
    "\n",
    "<img src='files\\IMGs\\views\\ProfilesAPI-05.png'>\n",
    "\n",
    "You can now see the different users in the system.\n",
    "\n",
    "Add the ID to the end of the URL to see the information from the new user you just created:  **127.0.0.1:8080/api/profile/2**\n",
    "\n",
    "<img src='files\\IMGs\\views\\ProfilesAPI-06.png'>"
   ]
  },
  {
   "cell_type": "markdown",
   "metadata": {},
   "source": [
    "You can see at the bottom it has given you the option to modify the user profile.\n",
    "\n",
    "- HTML form allows you to use PUT\n",
    "<img src='files\\IMGs\\views\\ProfilesAPI-07.png'>\n",
    "\n",
    "- Raw Data form allows you to use PATCH\n",
    "<img src='files\\IMGs\\views\\ProfilesAPI-08.png'>"
   ]
  },
  {
   "cell_type": "markdown",
   "metadata": {},
   "source": [
    "If using RAW DATA, delete the ID (you can't change that) and any other field you don't wish to update. Make the changes you wish to do, then click PATCH.\n",
    "\n",
    "<img src='files\\IMGs\\views\\ProfilesAPI-09.png'>\n",
    "\n",
    "You will see that it updated on that screen ...\n",
    "\n",
    "<img src='files\\IMGs\\views\\ProfilesAPI-10.png'>\n",
    "\n",
    "As well as at the root of the API:  **127.0.0.1:8080/api/profile**\n",
    "\n",
    "<img src='files\\IMGs\\views\\ProfilesAPI-11.png'>\n",
    "\n",
    "## Commit To Git\n",
    "\n",
    "In your **git bash** program ...\n",
    "\n",
    "1. go to project directory:  `cd workspace/PROJECTNAME` (in this example **profiles-rest-api**)\n",
    "2. Call `git add .`\n",
    "3. Call `git commit -am \"Added profile listing and creating feature.\"`"
   ]
  },
  {
   "cell_type": "markdown",
   "metadata": {},
   "source": [
    "# Create Permission Class\n",
    "\n",
    "If you would like more information, check out the [Permissions official documentation](http://www.django-rest-framework.org/api-guide/permissions).\n",
    "\n",
    "At this point, there is no security applied to your API. Thus anyone can use the API to update any profile. This will be resolved by creating a user profile permissions class and applying to the UserProfile ViewSet.\n",
    "\n",
    "1. Create a new file in your **profiles_api** application folder:  `permissions.py`\n",
    "\n",
    "This will be where we store all of our permission classes for our application. The permissions class is a class that Django REST framework uses to determine if the user has the permission to make the changes they're asking.\n",
    "\n",
    "Each time a request is made to our API, the Django permissions classes are checked to ensure that the request being made is a legal request.\n",
    "\n",
    "You create permission classes by inheriting from the base permissions class that comes with the Django REST framework. This *permissions* module contains all of the base permission classes in the Django REST framework."
   ]
  },
  {
   "cell_type": "code",
   "execution_count": null,
   "metadata": {},
   "outputs": [],
   "source": [
    "# import the base permissions module from Django REST framework\n",
    "from rest_framework import permissions\n",
    "\n",
    "\n",
    "class UpdateOwnProfile(permissions.BasePermission):\n",
    "    \"\"\"Allow users to edit their own profile.\"\"\"\n",
    "    \n",
    "    # this is called every time we make a request to our API\n",
    "    # the result determines whether the user has the permission\n",
    "    # to make the request / perform the action\n",
    "    def has_object_permission(self, request, view, obj):\n",
    "        \"\"\"Check user is trying to edit their own profile.\"\"\"\n",
    "        \n",
    "        # allow users to be able to view any profile in the system\n",
    "        # don't want to apply any permissions if user is simply\n",
    "        # trying to view a profile\n",
    "        # This is completed by checking the safe methods list\n",
    "        # provided by the REST Django framework\n",
    "        \n",
    "        # HTTP safe methods are non-destructive - allows you to \n",
    "        # retrieve data but not change/modify/delete any objects        \n",
    "        if request.method in permissions.SAFE_METHODS:\n",
    "            return True\n",
    "        \n",
    "        # making change on own profile?\n",
    "        return obj.id == request.user.id"
   ]
  },
  {
   "cell_type": "markdown",
   "metadata": {},
   "source": [
    "# Add Authentication & Permissions To ViewSet\n",
    "\n",
    "Now that we have created our permissions class, it is time to add it to the ViewSet - or configure it to use the permission. This will be done in the `views.py` file in the **profiles_api** app folder.\n",
    "\n",
    "1. Need to import the new file first.\n",
    "\n",
    "    `from . import permissions` or `from profiles_api import permissions`\n",
    "    \n",
    "    Or you can simply add `, permissions` to the end of your import line witht he other imports from the same module.\n",
    "\n",
    "\n",
    "2. Import the token authentication class that comes with the REST framework.\n",
    "\n",
    "    `from rest_framework.authentication import TokenAuthentication`\n",
    "\n",
    "    There are multiple ways to authenticate using the REST framework. As stated, we will be using token authentication. It is the most effective & popular way to authenticate with an API.\n",
    "\n",
    "    Token authnetication works by giving the user a temporary token that it inserts in the headers of the HTTP requests from the Django REST framework. It then uses this token to check that the user has authenticated with the system. It is in effect a password to ensure that changes are made appropriately without forcing the user to constantly put in their password.\n",
    "    \n",
    "\n",
    "3. At the bottom of the file, update your **UserProfileViewSet** to use your new permissions class and token authentication.\n",
    "\n",
    "    The reason these are created as tuples is because you can add multiple authentication classes or permissions classes to a particualr viewset. _(e.g.:  you may also want session authentication that requires a cookie to hold the session variable)_"
   ]
  },
  {
   "cell_type": "code",
   "execution_count": null,
   "metadata": {},
   "outputs": [],
   "source": [
    "...\n",
    "    # add an authentication class variable below the query set variable\n",
    "    # ensure a comma is after it to ensure Python knows it's a tuple\n",
    "    authentication_classes = (TokenAuthentication,)\n",
    "    \n",
    "    # define permission classes that will be applied\n",
    "    permission_classes = (permissions.UpdateUserProfile,)"
   ]
  },
  {
   "cell_type": "markdown",
   "metadata": {},
   "source": [
    "Although the **TokenAuthenticaion** is what we will be using, you can configure 1 or more type at at time.  This is done by adding all of the classes to your **authentication_classes** class variable."
   ]
  },
  {
   "cell_type": "markdown",
   "metadata": {},
   "source": [
    "# Test New Permissions\n",
    "\n",
    "Once you've saved the files, ensure you are currently connected to the server through gitbash. In the Chrome window, either reload or go to the profile url:  **http://127.0.0.1:8080/api/profile/**\n",
    "\n",
    "It will still look the same, since viewing profiles & creating new profiles is allowed & part of the HTTP safe methods list. But ... *what happens if you try and modify another user's profile?*\n",
    "\n",
    "1. Click on the URL and add one of the IDs to the end.\n",
    "\n",
    "<img src=\"files/IMGs/permissions-01.png\">\n",
    "\n",
    "You can still see the profile as shown above, however you don't have the option to change or delete the object. Therefore you can see the permissions class is working properly.\n",
    "\n",
    "## Commit To Git\n",
    "\n",
    "In your **git bash** program ...\n",
    "\n",
    "1. go to project directory:  `cd workspace/PROJECTNAME` (in this example **profiles-rest-api**)\n",
    "2. Call `git add .`\n",
    "3. Call `git commit -am \"Added permissions and authentication to our UserProfileViewSet.\"`"
   ]
  },
  {
   "cell_type": "markdown",
   "metadata": {},
   "source": [
    "# Add Search Profiles Feature\n",
    "\n",
    "This one of the more advanced features to add to your user profile ViewSet. This will provide the avility to search profiles by name or email address. The code will be applied to the **profiles_api** app folder in the `views.py` file.\n",
    "\n",
    "1. A few more imports will be needed:\n",
    "\n",
    "`# REST framework filters module to provide filtering capability\n",
    "from rest_framework import filters`\n",
    "\n",
    "2. Scroll to bottom of file to add more class variables to your UserProfileViewSet to tell it which filters to use."
   ]
  },
  {
   "cell_type": "code",
   "execution_count": null,
   "metadata": {},
   "outputs": [],
   "source": [
    "...\n",
    "    # filters to use\n",
    "    filter_backends = (filters.SearchFilter,)\n",
    "    \n",
    "    #fields to filter by\n",
    "    search_fields = ('name', 'email')"
   ]
  },
  {
   "cell_type": "markdown",
   "metadata": {},
   "source": [
    "# Test Searching Profiles\n",
    "\n",
    "1. After saving your changes, be sure your vagrant server is up and go to your browser.\n",
    "<br><br>\n",
    "2. Click on the root your **USer Profile List** on your API page.\n",
    "\n",
    "<img src=\"files/IMGs/permissions-02.png\">\n",
    "\n",
    "This shows a list of the user profiles that are in the system.\n",
    "\n",
    "3. Create a new user to test the search capability.\n",
    "\n",
    "<img src=\"files/IMGs/permissions-03.png\">\n",
    "\n",
    "4. Use the filter capability to search for the new user. Go back to the **USer Profile List** - you will notice that there is a new option for filters!\n",
    "\n",
    "<img src=\"files/IMGs/permissions-04.png\">\n",
    "\n",
    "When you click on the button, a search field will pop up.\n",
    "\n",
    "<img src=\"files/IMGs/permissions-05.png\">\n",
    "\n",
    "5. Search for the name of one of your users.\n",
    "\n",
    "<img src=\"files/IMGs/permissions-06.png\">\n",
    "\n",
    "You will also note that you can see what the HTTP call used.\n",
    "\n",
    "<img src=\"files/IMGs/permissions-07.png\">\n",
    "\n",
    "It will also be in the URL:  **http://127.0.0.1:8080/api/profile/?search=New**\n",
    "\n",
    "When using the API from a client application (like a mobile app or website) this is how you would use the search feature. - There won't be a webpage, so it needs to add the filter parameters in the URL.\n",
    "\n",
    "Also known as **get parameters**. In this instance, we have a *search* **GET parameter** using phrase _New_ for the field. And it will return any user with that name in the username or email."
   ]
  },
  {
   "cell_type": "markdown",
   "metadata": {},
   "source": [
    "## Commit To Git\n",
    "\n",
    "In your **git bash** program ...\n",
    "\n",
    "1. go to project directory:  `cd workspace/PROJECTNAME` (in this example **profiles-rest-api**)\n",
    "2. Call `git add .`\n",
    "3. Call `git commit -am \"Added search function to user profiles API.\"`"
   ]
  },
  {
   "cell_type": "code",
   "execution_count": null,
   "metadata": {},
   "outputs": [],
   "source": []
  }
 ],
 "metadata": {
  "kernelspec": {
   "display_name": "Python 3 (ipykernel)",
   "language": "python",
   "name": "python3"
  },
  "language_info": {
   "codemirror_mode": {
    "name": "ipython",
    "version": 3
   },
   "file_extension": ".py",
   "mimetype": "text/x-python",
   "name": "python",
   "nbconvert_exporter": "python",
   "pygments_lexer": "ipython3",
   "version": "3.10.2"
  }
 },
 "nbformat": 4,
 "nbformat_minor": 2
}
