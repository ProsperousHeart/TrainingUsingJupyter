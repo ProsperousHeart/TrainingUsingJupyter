{
 "cells": [
  {
   "cell_type": "markdown",
   "id": "ee665031",
   "metadata": {},
   "source": [
    "# Into To Depliying App To AWS\n",
    "\n",
    "Since there is so much to know about AWS, this will mostly focus on a specific use case:\n",
    "_How to get your app up & running on a server on the internet  so you can test it with friends & family._\n",
    "\n",
    "We will use the **AWS Free Tier**. We will be creating a new server on AWS, deploying our code, & configuring the server to make it available on the internet.\n",
    "\n",
    "You will need to sign up for the AWS free tier [here](https://aws.amazon.com/free/?all-free-tier.sort-by=item.additionalFields.SortRank&all-free-tier.sort-order=asc&awsf.Free%20Tier%20Types=*all&awsf.Free%20Tier%20Categories=*all)."
   ]
  },
  {
   "cell_type": "markdown",
   "id": "67a6051a",
   "metadata": {},
   "source": [
    "# Add Key Pair to AWS\n",
    "\n",
    "TBD"
   ]
  },
  {
   "cell_type": "markdown",
   "id": "063c5a7f",
   "metadata": {},
   "source": [
    "# Create EC2 Server Instance\n",
    "\n",
    "TBD"
   ]
  },
  {
   "cell_type": "markdown",
   "id": "0dae1239",
   "metadata": {},
   "source": [
    "# Add Deployment Script & Configs To Project\n",
    "\n",
    "TBD"
   ]
  },
  {
   "cell_type": "markdown",
   "id": "ef8ee591",
   "metadata": {},
   "source": [
    "# Deploy To Server\n",
    "\n",
    "TBD"
   ]
  },
  {
   "cell_type": "markdown",
   "id": "5dc606ec",
   "metadata": {},
   "source": [
    "# Update Allowed Hosts & Deploy Changes\n",
    "\n",
    "TBD"
   ]
  }
 ],
 "metadata": {
  "kernelspec": {
   "display_name": "Python 3 (ipykernel)",
   "language": "python",
   "name": "python3"
  },
  "language_info": {
   "codemirror_mode": {
    "name": "ipython",
    "version": 3
   },
   "file_extension": ".py",
   "mimetype": "text/x-python",
   "name": "python",
   "nbconvert_exporter": "python",
   "pygments_lexer": "ipython3",
   "version": "3.10.2"
  }
 },
 "nbformat": 4,
 "nbformat_minor": 5
}
