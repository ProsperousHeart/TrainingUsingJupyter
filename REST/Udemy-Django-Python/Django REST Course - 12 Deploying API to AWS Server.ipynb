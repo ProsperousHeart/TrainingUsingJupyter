{
 "cells": [
  {
   "cell_type": "markdown",
   "id": "ea655726",
   "metadata": {},
   "source": [
    "# Into To Deploying App To AWS\n",
    "\n",
    "Since there is so much to know about AWS, this will mostly focus on a specific use case:\n",
    "_How to get your app up & running on a server on the internet  so you can test it with friends & family._\n",
    "\n",
    "We will use the **AWS Free Tier**. We will be creating a new server on AWS, deploying our code, & configuring the server to make it available on the internet.\n",
    "\n",
    "You will need to sign up for the AWS free tier [here](https://aws.amazon.com/free/?all-free-tier.sort-by=item.additionalFields.SortRank&all-free-tier.sort-order=asc&awsf.Free%20Tier%20Types=*all&awsf.Free%20Tier%20Categories=*all)."
   ]
  },
  {
   "cell_type": "markdown",
   "id": "2eed5111",
   "metadata": {},
   "source": [
    "# Add Key Pair to AWS\n",
    "\n",
    "In thsi section, we will add an SSH key pair to AWS. This will be done so that when we create our server, we can connect to it using SSH authentication. This is the same method of authentication used to connect to GitHub.\n",
    "\n",
    "In prior vieo we created an SSH key paid on our local machine. We will now be using the public key to add to AWS insetad of GitHub.\n",
    "\n",
    "## Output the content of public key pair\n",
    "\n",
    "If you don't have your SSH yet, follow the instructions [here](https://docs.github.com/en/authentication/connecting-to-github-with-ssh/checking-for-existing-ssh-keys).\n",
    "\n",
    "1. Open **git bash** or terminal window - NOT on the vagrant server\n",
    "\n",
    "\n",
    "2. Run:  `cat ~/.ssh/id_rsa.pub`\n",
    "\n",
    "    Be sure to copy everything - including the email.\n",
    "    \n",
    "    \n",
    "3. After logging into AWS console, go into the **Services** option and **EC2**. This si where the key pairs can be added for use on server instances.\n",
    "\n",
    "\n",
    "4.  Under **Network & Security** go to **Key Pairs**. If you don't already see it, click on the **Actions** drop down and select **Import key pair**.\n",
    "\n",
    "<img src='files/IMGs/AWS/AWS01.png'>\n",
    "\n",
    "\n",
    "5. Give it a name you'll remember (and if using more than one machine, ensure you can tell the difference). Then paste the output of your RSA data in the box.\n",
    "\n",
    "\n",
    "6. Click **Import Key** to successfully import the key.\n",
    "\n",
    "<img src='files/IMGs/AWS/AWS02.png'>"
   ]
  },
  {
   "cell_type": "markdown",
   "id": "6b4f3e55",
   "metadata": {},
   "source": [
    "# Create EC2 Server Instance\n",
    "\n",
    "This EC2 server instance will run our project. This _instance_ is a virtual machine that you can spin up and & connect to in order to deploy your application.\n",
    "\n",
    "1. Open AWS console & select EC2 - if you are not already in the **EC2 Dashboard** be sure to click there. This is where you will find all of your EC2 server instances.\n",
    "\n",
    "<img src='files/IMGs/AWS/AWS03.png'>\n",
    "\n",
    "\n",
    "2. Click on **Launch instance** to create a new instance. If you are using the free tier 12 month period, you should not be charged as long as you use the options for the free tier.\n",
    "\n",
    "<img src='files/IMGs/AWS/AWS04.png'>"
   ]
  },
  {
   "cell_type": "markdown",
   "id": "fdab29d4",
   "metadata": {},
   "source": [
    "3. Give your instance a name. In the **Aplication and Os Images (Amazon Machine Image)** section, click the **Browse more AMIs** and then locate the one mentioned [here](https://gist.github.com/LondonAppDev/d195610d79c9cca1769b6b5fece09067) (`Ubuntu Server 18.04`).\n",
    "\n",
    "<img src='files/IMGs/AWS/AWS05.png'>\n",
    "\n",
    "    Then click **Select** button.\n",
    "    \n",
    "<img src='files/IMGs/AWS/AWS06.png'>"
   ]
  },
  {
   "cell_type": "markdown",
   "id": "4e63f6b8",
   "metadata": {},
   "source": [
    "4. Be sure to choose the **micro** instance if it's not chosen already. (2nd one down.)\n",
    "\n",
    "<img src='files/IMGs/AWS/AWS07.png'>\n",
    "\n",
    "\n",
    "5. Choose your key pair for login using the one you just added.\n",
    "\n",
    "<img src='files/IMGs/AWS/AWS08.png'>"
   ]
  },
  {
   "cell_type": "markdown",
   "id": "d4827dcf",
   "metadata": {},
   "source": [
    "6. In the **Network settings** area, be sure to check **_Allow HTTP traffic from the internet\n",
    "\n",
    "<img src='files/IMGs/AWS/AWS09.png'>\n",
    "\n",
    "\n",
    "7. Click the **Launch instance** button."
   ]
  },
  {
   "cell_type": "markdown",
   "id": "cda90c0d",
   "metadata": {},
   "source": [
    "You should now see a screen similar to:\n",
    "\n",
    "<img src='files/IMGs/AWS/AWS10.png'>\n",
    "\n",
    "At this point, you can set up billing alerts if oyu wish to know when you are coming close to your free tier limits."
   ]
  },
  {
   "cell_type": "markdown",
   "id": "ee694b40",
   "metadata": {},
   "source": [
    "# [Add Deployment Script & Configs To Project](https://www.udemy.com/course/django-python/learn/lecture/7371366#questions)\n",
    "\n",
    "## Add Files To Project\n",
    "\n",
    "1. Download the **deploy.zip** file [here](https://drive.google.com/file/d/1axRytyrpIAUN5K_LOyMnIlr5ZwdXBglV/view). Thsi file contains a ZIp of all the scripts & configuration files needed to deploy the project. (We'll add the contents of this to our project.)\n",
    "\n",
    "2. Unzip the downloaded ZIP & copy the _deploy directory_ into your profiles REST API project:\n",
    "\n",
    "<img src='files/IMGs/AWS/AWS11.png'>\n",
    "\n",
    "## Review Of Files\n",
    "\n",
    "In Atom, you should now see something like this:\n",
    "\n",
    "<img src='files/IMGs/AWS/AWS12.png'>\n",
    "\n",
    "### setup.sh\n",
    "\n",
    "This script that will be used to setup th server when it's first created.\n",
    "\n",
    "Need to update the project URL for your GitHub project. This is because the script will clone the contents of our project to the server when we run it. You can find the correct URL on the GitHub site under the **Code** drop down:\n",
    "\n",
    "<img src='files/IMGs/AWS/AWS13.png'>\n",
    "\n",
    "This URL needds to be in the **PROJECT_GIT_URL** variable.\n",
    "\n",
    "The **PROJECT_BASE_PATH** is where the project will be kept on the AWS server.\n",
    "\n",
    "In the **apt-get install** we will install:\n",
    "- git:  clone the project\n",
    "- nginx:  the web server that will serve the static files & act as a proxy to our uWSGI service that will run in **supervisor**\n",
    "\n",
    "Other installations:\n",
    "- uwsgi:  Python daemon for running python code as a web server\n",
    "\n",
    "The `manage.py collectstatic --noinput` will collect all of the static files for all of the apps in our project into one directory. When you use the Django management server, it does this automatically for you. But since we're not going to be using the Django DEV server on PROD, we need to create a location with all of the static files we can use to serve the CSS & JavaScript for the Django admin & REST framework browseable API.\n",
    "\n",
    "Configuring the **supervisor** - an app on linux that allows you to manage processes. Thsi is what will manage our Python process or our uWSGI server."
   ]
  },
  {
   "cell_type": "markdown",
   "id": "9de28985",
   "metadata": {},
   "source": [
    "### update.sh\n",
    "\n",
    "This script will be used to update the code on the server when we make a change. Once the server is setup, **setup.sh** will only work once. You'll then need to use the **update.sh** script to pull updates or changes from git onto the server."
   ]
  },
  {
   "cell_type": "markdown",
   "id": "719a5acb",
   "metadata": {},
   "source": [
    "### Update settings.py\n",
    "\n",
    "In the project folder, you'll need to update the **setings.py** file for it to run better on the server. Here are the settings changes to be made:\n",
    "\n",
    "1. Disable DEBUG mode, as it is best practice to nbever run in DEBUG mode when it is publicly accessible. If you leave it as `True`, it opens you up to vulnerabilities. Running in DEBUG mode means that if there are any errors or exceptions in the API it will return a full stack trace on the screen. This can reveal secret information like the Django secret file or other things making your server vulnerable.\n",
    "\n",
    "    Since we want to run DEBUG on vagrant DEV server but not on AWS, replace `DEBUG = True` with:"
   ]
  },
  {
   "cell_type": "code",
   "execution_count": null,
   "id": "b510bcf6",
   "metadata": {},
   "outputs": [],
   "source": [
    "DEBUG = bool(int(os.environ.get('DEBUG', 1)))  # the 1 is for if \"DEBUG\" doesn't exist"
   ]
  },
  {
   "cell_type": "markdown",
   "id": "80bddea0",
   "metadata": {},
   "source": [
    "This will pull in the value of the environment variable called DEBUG. This environment variable is set in the **supervisor_profiles_api.conf** file. When **DEBUG=0**, this sets the debug environment variable to 0 when we run our application.\n",
    "\n",
    "2. Need to add a static route to the bottom of your configuration."
   ]
  },
  {
   "cell_type": "code",
   "execution_count": null,
   "id": "b903cfcf",
   "metadata": {},
   "outputs": [],
   "source": [
    "STATIC_ROOT = 'static/'"
   ]
  },
  {
   "cell_type": "markdown",
   "id": "a0465e16",
   "metadata": {},
   "source": [
    "The **STATIC_ROOT** is the location where Django will store all of the static files when we run our collect static command in the **setup.sh** file.\n",
    "\n",
    "There is 1 more command that needs to be run to ensure the setup scripts are executable.\n",
    "\n",
    "when you send a file to a server, the file needs to have the permissions to be executable if you want to run it as an executable script. This can be done by:\n",
    "\n",
    "1. Opening the terminal in **git bash** in your project\n",
    "\n",
    "\n",
    "2. Run `chmod +x deploy/*.sh` - this runs the **chmod** command to set executable any file that ends in **.sh** in our deployed directory."
   ]
  },
  {
   "cell_type": "markdown",
   "id": "f9865b84",
   "metadata": {},
   "source": [
    "# Deploy To Server\n",
    "\n",
    "TBD"
   ]
  },
  {
   "cell_type": "markdown",
   "id": "f9cf679b",
   "metadata": {},
   "source": [
    "# Update Allowed Hosts & Deploy Changes\n",
    "\n",
    "TBD"
   ]
  }
 ],
 "metadata": {
  "kernelspec": {
   "display_name": "Python 3 (ipykernel)",
   "language": "python",
   "name": "python3"
  },
  "language_info": {
   "codemirror_mode": {
    "name": "ipython",
    "version": 3
   },
   "file_extension": ".py",
   "mimetype": "text/x-python",
   "name": "python",
   "nbconvert_exporter": "python",
   "pygments_lexer": "ipython3",
   "version": "3.10.2"
  }
 },
 "nbformat": 4,
 "nbformat_minor": 5
}
