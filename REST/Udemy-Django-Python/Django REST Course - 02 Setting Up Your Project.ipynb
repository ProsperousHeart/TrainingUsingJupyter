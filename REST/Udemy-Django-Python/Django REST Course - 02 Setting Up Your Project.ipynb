{
 "cells": [
  {
   "cell_type": "markdown",
   "metadata": {},
   "source": [
    "___\n",
    "\n",
    "<a href='https://www.learntocodeonline.com/'> <img src='files/IMGs/learn to code online.png' /></a>\n",
    "___"
   ]
  },
  {
   "cell_type": "markdown",
   "metadata": {},
   "source": [
    "# Creating A Workspace\n",
    "\n",
    "A workspace is a directory on your machine that will host all of the files required for your project. **Organization** is what determines a good from great developer.\n",
    "\n",
    "He always creates his workspace in the home directory:  `workspace`\n",
    "\n",
    "You can then create a shortcut to it in the **Quick ACcess** section.\n",
    "\n",
    "Within the *workspace* folder, create a directory for the project you will be working on. For the intent and purpose of this training, it should be titled:  `profiles-rest-api`\n",
    "\n",
    "Recommended to NOT use spaces or capitalization since we will be using **git bash** to navigate.\n",
    "\n",
    "It is also recommended to put it in the home, however if you [create a symbolic link](https://skimfeed.com/blog/symbolic-links-in-windows-for-pointing-a-folder-to-another-folder-on-an-external-hard-drive-or-ssd/) it won't matter where you put it. You will still be able to follow these steps exactly.\n",
    "\n",
    "## Navigate To Project Folder With Atom\n",
    "\n",
    "Open the directory in Atom.\n",
    "1. Open the program\n",
    "2. Close all tabs\n",
    "3. File > Add Project Folder > select the project folder in your workspace\n",
    "\n",
    "Nifty feature of Atom is that you can have multiple projects available at once!\n",
    "\n",
    "## How To Navigate To Project Folder With Git Bash\n",
    "\n",
    "1. open Windows menu and search for **git bash** - then open the program\n",
    "\n",
    "This is basically a replacement for the command prompt window, but gives a lot of linux online tools needed in this course. Also a lot easier to work with git projects.\n",
    "\n",
    "2. Use **ls** to list all files and folders in current location\n",
    "\n",
    "3. Use the **cd** (change directory) command to navigate to the project folder:\n",
    "- `cd workspace`\n",
    "- `cd profiles-rest-api`\n",
    "\n",
    "You can also auto-complete your line if you press the **TAB** key.\n",
    "\n",
    "Goofed up? You can move up a folder by typing:  `cd..`"
   ]
  },
  {
   "cell_type": "markdown",
   "metadata": {},
   "source": [
    "# Creating A Git Project\n",
    "\n",
    "Take note of the following cheat sheets:\n",
    "- [GitHub Markdown](https://github.com/adam-p/markdown-here/wiki/Markdown-Cheatsheet)\n",
    "- [GitHub Python.gitignore](https://gist.github.com/LondonAppDev/66c3291e4f487ac92fcc96735e44c35e)\n",
    "\n",
    "## ReadMe File\n",
    "\n",
    "This file is created first so that explains what the project is called and what it is about. This will be a markdown file, so the filename will look like this:  `README.md`\n",
    "\n",
    "Markdown is a typical markup language for readme files - it is an adopted standard.\n",
    "\n",
    "## GitIgnore File\n",
    "\n",
    "Every time you do a change in git, you must do a commit - or a snapshot of what your code is currently. This allows you to compare to previous snapshot so you can see all of the changes in every file.\n",
    "\n",
    "The **git ignore** file tells git what files do NOT need to be added to git.\n",
    "\n",
    "Other files are created as a byproduct of source code that we do not want to commit to version control - such as things created when new developers run the code.\n",
    "\n",
    "1. Right click on project folder > New File\n",
    "\n",
    "2. Call it:  `.gitignore` (and yes, a period at the front)\n",
    "\n",
    "Depending on what language you're using, your gitignore file might look different. Since we're using python, you'll want to copy the entire contents of [GitHub Python.gitignore](https://gist.github.com/LondonAppDev/66c3291e4f487ac92fcc96735e44c35e) to your file."
   ]
  },
  {
   "cell_type": "markdown",
   "metadata": {},
   "source": [
    "# Initialize Git Repository\n",
    "\n",
    "1. Locate the **git bash** desktop app.\n",
    "\n",
    "2. Change directory into your project folder. `cd workspace/profiles-rest-api`\n",
    "\n",
    "3. Enter the command:  `git init`\n",
    "\n",
    "This initializes our project as an empty git repo.\n",
    "\n",
    "# Add Files To Repo\n",
    "\n",
    "Every time you wish to add a file to the repo you must run: `git add FILENAME`\n",
    "\n",
    "If you wish to add all files, run:  `git add .`"
   ]
  },
  {
   "cell_type": "markdown",
   "metadata": {},
   "source": [
    "# Commit Changes\n",
    "\n",
    "Every time you make a change to files in your repo, you want to commit the changes to git by using the following command:<br>\n",
    "`git commit -a -m \"description of change since last commit\"`\n",
    "\n",
    "<img src='files/IMGs/git-01.png'>"
   ]
  },
  {
   "cell_type": "code",
   "execution_count": null,
   "metadata": {},
   "outputs": [],
   "source": []
  }
 ],
 "metadata": {
  "kernelspec": {
   "display_name": "Python 3",
   "language": "python",
   "name": "python3"
  },
  "language_info": {
   "codemirror_mode": {
    "name": "ipython",
    "version": 3
   },
   "file_extension": ".py",
   "mimetype": "text/x-python",
   "name": "python",
   "nbconvert_exporter": "python",
   "pygments_lexer": "ipython3",
   "version": "3.6.6"
  }
 },
 "nbformat": 4,
 "nbformat_minor": 2
}
