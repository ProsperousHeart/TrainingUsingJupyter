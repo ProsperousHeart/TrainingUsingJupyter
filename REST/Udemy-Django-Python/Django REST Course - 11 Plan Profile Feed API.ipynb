{
 "cells": [
  {
   "cell_type": "markdown",
   "metadata": {},
   "source": [
    "___\n",
    "\n",
    "<a href='https://www.learntocodeonline.com/'> <img src='files/IMGs/learn to code online.png' /></a>\n",
    "___"
   ]
  },
  {
   "cell_type": "markdown",
   "metadata": {},
   "source": [
    "# [Plan Profile Feed API](https://www.udemy.com/course/django-python/learn/lecture/6955114#questions)\n",
    "\n",
    "This will show how to handle user profile feed items.\n",
    "\n",
    "**Basid Features/Requirements:**\n",
    "- creating new feed items for logged in users ONLY\n",
    "- updating existing feed items (typo, change content already posted)\n",
    "- deleting an item\n",
    "- viewing other users' feed items\n",
    "\n",
    "**URLs To Provide:**\n",
    "1. `/api/feed/` - list all items in the database\n",
    "    - GET (list feed items)\n",
    "    - POST (create feed item for logged in user)\n",
    "\n",
    "\n",
    "2. `/api/feed/<feed_item_id>/` - manages specific feed item\n",
    "    - GET (gets feed item or \"detail view\")\n",
    "    - PUT / PATCH (update feed item)\n",
    "    - DELETE (delete item)"
   ]
  },
  {
   "cell_type": "markdown",
   "metadata": {},
   "source": [
    "# [Add New Model Item](https://www.udemy.com/course/django-python/learn/lecture/6955118#questions)\n",
    "\n",
    "We'll need to create a new Django model for storing user profile feed items in the database.\n",
    "\n",
    "1. In the **profiles_api** app, open the **models.py** file.\n",
    "\n",
    "\n",
    "2. Add the following import to retrieve settings from our Django project **settings.py** file:  `from django.conf import settings`\n",
    "\n",
    "    We will be retrieving the `AUTH_USER_MODEL`.\n",
    "\n",
    "\n",
    "3. At the bottom of the **models.py** file, we'll need to create the new model. This will allow users to store status updates in the system. When these feed items are created, it will associate the object with the user that created it. _(We will use foreign keys to link models to each other in Django.)_"
   ]
  },
  {
   "cell_type": "code",
   "execution_count": null,
   "metadata": {},
   "outputs": [],
   "source": [
    "class ProfileFeedItem(models.Model):\n",
    "    \"\"\"Profiles status update.\"\"\"\n",
    "    \n",
    "    # setting up a foreign key field it sets up a \n",
    "    # FK relationship in the DB to a remote model\n",
    "    # BENEFIT:  ensure integrity of the DB is maintained\n",
    "    user_profile = models.ForeignKey(\n",
    "        # 1st argument:  name of the model that is the remote model for the FK\n",
    "        # don't want to hard code - use the settings.py file\n",
    "        settings.AUTH_USER_MODEL, \n",
    "        # 2nd argument:  on delete - tells DB what to do if remove field is deleted\n",
    "        # if set to CASCADE, it cascades changes downt hrough related fields\n",
    "        on_delete=models.CASCADE\n",
    "    )\n",
    "    \n",
    "    # contains text of feed update\n",
    "    status_text = models.CharField(max_length=255)\n",
    "    \n",
    "    # every time new created, automatically add date/time stamp\n",
    "    created_on = models.DateTimeField(auto_now_add=True)\n",
    "    \n",
    "    # str representation of our model\n",
    "    # (what to do when convert model instance to a STR)\n",
    "    def __str__(self):\n",
    "        \"\"\"Return the model as a string.\"\"\"\n",
    "        return self._status_text"
   ]
  },
  {
   "cell_type": "markdown",
   "metadata": {},
   "source": [
    "# [Create & Run Model Migration](https://www.udemy.com/course/django-python/learn/lecture/6955126#questions)\n",
    "\n",
    "With the new model, must run the migration so Django can create the migrations file for creating necessary database tables for our model.\n",
    "\n",
    "1. In your **git bash** and run the following commands if your server is not already up:\n",
    "\n",
    "    - `vagrant up`\n",
    "    - `varant ssh`\n",
    "    - `cd /vagrant/`\n",
    "    - `workon profiles_api` (or whatever you called your virtual environment)\n",
    "    - `cd profiles_project` (if your **manage.py** file is not in the **vagrant** folder)\n",
    "\n",
    "\n",
    "2. Run your migration by running:  `python manage.py makemigrations`\n",
    "\n",
    "<img src='files/IMGs/ProfileFeed/PF01.png'>"
   ]
  },
  {
   "cell_type": "markdown",
   "metadata": {},
   "source": [
    "You can also see a new file was added to our project folder:\n",
    "\n",
    "<img src='files/IMGs/ProfileFeed/PF02.png'>\n",
    "\n",
    "This file contains the migration file to create our model in the database. You can see it creates a new model with the name **ProfileFeedItem** and adds the appropriate fields to represent the new model.\n",
    "\n",
    "<img src='files/IMGs/ProfileFeed/PF03.png'>"
   ]
  },
  {
   "cell_type": "markdown",
   "metadata": {},
   "source": [
    "Now that the migration file has been created, it's time to apply the changes to the database by running the migration:  `python manage.py migrate`\n",
    "\n",
    "<img src='files/IMGs/ProfileFeed/PF04.png'>"
   ]
  },
  {
   "cell_type": "markdown",
   "metadata": {},
   "source": [
    "# [Add Profile Feed Model To Admin](https://www.udemy.com/course/django-python/learn/lecture/6955130#questions)\n",
    "\n",
    "Now that the ProfileFeedItem model has been created, it needs to be registered in the Django admin! This will allow us to manage objects in this table through the admin interface.\n",
    "\n",
    "1. In the **profiles_api** app folder, open the **admin.py** file.\n",
    "\n",
    "\n",
    "2. Add:  `admin.site.register(models.ProfileFeedItem)`\n",
    "\n",
    "<img src='files/IMGs/ProfileFeed/PF05.png'>"
   ]
  },
  {
   "cell_type": "markdown",
   "metadata": {},
   "source": [
    "# [Create Profile Feed Item Serializer](https://www.udemy.com/course/django-python/learn/lecture/6955136#questions)\n",
    "\n",
    "In your app, open the **serializers.py** file to create a new class with the following requirements:\n",
    "- based on the ProfileFeedItem model\n",
    "- creates a feed item based on authenticated user"
   ]
  },
  {
   "cell_type": "code",
   "execution_count": null,
   "metadata": {},
   "outputs": [],
   "source": [
    "class ProfileFeedItemSerializer(serializers.ModelSerializer):\n",
    "    \"\"\"Serializes profile feed items.\"\"\"\n",
    "    \n",
    "    # set model serializer to ProfileFeedItem class in models.py\n",
    "    class Meta:\n",
    "        model = models.ProfileFeedItem\n",
    "        \n",
    "        # create fields based on the model\n",
    "        # Django always has an INT \"id\" & automatically RO\n",
    "        # since \"created_on\" is also autmatically created, it is RO\n",
    "        fields = ('id', 'user_profile', 'status_text', 'created_on')\n",
    "        \n",
    "        # make user_profile the authenticated user\n",
    "        extra_kwargs = {\n",
    "            'user_profile': {'read_only': True}\n",
    "        }"
   ]
  },
  {
   "cell_type": "markdown",
   "metadata": {},
   "source": [
    "# Create ViewSet For Your Profile Feed Item\n",
    "\n",
    "?"
   ]
  },
  {
   "cell_type": "markdown",
   "metadata": {},
   "source": [
    "# Test Feed API\n",
    "\n",
    "?"
   ]
  },
  {
   "cell_type": "markdown",
   "metadata": {},
   "source": [
    "# Add Permissions For Feed API\n",
    "\n",
    "?"
   ]
  },
  {
   "cell_type": "markdown",
   "metadata": {},
   "source": [
    "# Test Feed API Permissions\n",
    "\n",
    "?"
   ]
  },
  {
   "cell_type": "markdown",
   "metadata": {},
   "source": [
    "# Restrict Viewing Status Updates To Logged In Users Only\n",
    "\n",
    "?"
   ]
  },
  {
   "cell_type": "markdown",
   "metadata": {},
   "source": [
    "# Test New Private Feed\n",
    "\n",
    "?"
   ]
  },
  {
   "cell_type": "markdown",
   "metadata": {},
   "source": [
    "## Commit To Git\n",
    "\n",
    "In your **git bash** program ...\n",
    "\n",
    "1. go to project directory:  `cd workspace/PROJECTNAME` (in this example **profiles-rest-api**)\n",
    "2. Call `git add .`\n",
    "3. Call `git commit -am \"Added login API.\"`"
   ]
  },
  {
   "cell_type": "code",
   "execution_count": null,
   "metadata": {},
   "outputs": [],
   "source": []
  }
 ],
 "metadata": {
  "kernelspec": {
   "display_name": "Python 3 (ipykernel)",
   "language": "python",
   "name": "python3"
  },
  "language_info": {
   "codemirror_mode": {
    "name": "ipython",
    "version": 3
   },
   "file_extension": ".py",
   "mimetype": "text/x-python",
   "name": "python",
   "nbconvert_exporter": "python",
   "pygments_lexer": "ipython3",
   "version": "3.10.2"
  }
 },
 "nbformat": 4,
 "nbformat_minor": 2
}
