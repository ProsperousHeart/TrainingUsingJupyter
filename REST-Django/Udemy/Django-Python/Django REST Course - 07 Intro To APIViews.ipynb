{
 "cells": [
  {
   "cell_type": "markdown",
   "metadata": {},
   "source": [
    "___\n",
    "\n",
    "<a href='https://www.learntocodeonline.com/'> <img src='files/IMGs/learn to code online.png' /></a>\n",
    "___"
   ]
  },
  {
   "cell_type": "markdown",
   "metadata": {},
   "source": [
    "Django REST framework offers helper classes to create our API endpoints:\n",
    "- the API view\n",
    "- the viewset\n",
    "\n",
    "Each one is slightly different & offers it's own benefits.\n",
    "\n",
    "# What Is An APIView?\n",
    "\n",
    "If you would like to learn more about this, check out the [APIView Official Docs](http://www.django-rest-framework.org/api-guide/views/).\n",
    "\n",
    "## What In An APIView?\n",
    "\n",
    "This is the most basic view to build your API, and it:\n",
    "\n",
    "- enables you to describe the logic which makes our API endpoint\n",
    "\n",
    "- allows you to define functions that match the standard HTTP methods\n",
    "\n",
    "    1. GET:    get more items\n",
    "    2. POST:   create an item\n",
    "    3. PUT:    update an item\n",
    "    4. PATCH:  partially update an item\n",
    "    5. DELETE: delete an item\n",
    "<br><br>\n",
    "- give you the most control over your application logic & is perfect for:\n",
    "\n",
    "    1. implementing complex logic\n",
    "    2. calling other APIs\n",
    "    3. working with local files\n",
    "\n",
    "# When To Use APIViews\n",
    "\n",
    "It depends on personal preference. Here are some examples for when it might be better to use APIViews:\n",
    "\n",
    "- you need full control of your application logic (intensive algorithm, updating multiple items in 1 API call, etc)\n",
    "<br><br>\n",
    "- when processing files and rendering a synchronous response\n",
    "<br><br>\n",
    "- when you are calling other APIs/services\n",
    "<br><br>\n",
    "- need to access local files or data"
   ]
  },
  {
   "cell_type": "markdown",
   "metadata": {},
   "source": [
    "# Create First APIView\n",
    "\n",
    "You will need to start by opening up the `views.py` file in your API folder.\n",
    "\n",
    "<img src='files/IMGs/admin/admin01.png'>"
   ]
  },
  {
   "cell_type": "markdown",
   "metadata": {},
   "source": [
    "# Configure View URL\n",
    "\n",
    "If you would like to learn more about this, check out the [URL Dispatcher Official Docs](https://docs.djangoproject.com/en/1.11/topics/http/urls.)."
   ]
  },
  {
   "cell_type": "markdown",
   "metadata": {},
   "source": [
    "# Testing Our APIView\n",
    "\n",
    "?"
   ]
  },
  {
   "cell_type": "markdown",
   "metadata": {},
   "source": [
    "# Create A Serializer\n",
    "\n",
    "If you would like to learn more, check out the following official docs:\n",
    "- [Serializers](http://www.django-rest-framework.org/api-guide/serializers)\n",
    "- [Serializer Fields](http://www.django-rest-framework.org/api-guide/fields)"
   ]
  },
  {
   "cell_type": "markdown",
   "metadata": {},
   "source": [
    "# Add POST Method To APIView\n",
    "\n",
    "If you would like to learn more, check out the [Status Codes Official Docs](http://www.django-rest-framework.org/api-guide/status-codes)."
   ]
  },
  {
   "cell_type": "markdown",
   "metadata": {},
   "source": [
    "# Test POST Function\n",
    "\n",
    "?"
   ]
  },
  {
   "cell_type": "markdown",
   "metadata": {},
   "source": [
    "# Add PUT, PATCH, and DELETE Methods\n",
    "\n",
    "?"
   ]
  },
  {
   "cell_type": "markdown",
   "metadata": {},
   "source": [
    "# Test the PUT, PATCH, and DELETE Methods\n",
    "\n",
    "?"
   ]
  }
 ],
 "metadata": {
  "kernelspec": {
   "display_name": "Python 3",
   "language": "python",
   "name": "python3"
  },
  "language_info": {
   "codemirror_mode": {
    "name": "ipython",
    "version": 3
   },
   "file_extension": ".py",
   "mimetype": "text/x-python",
   "name": "python",
   "nbconvert_exporter": "python",
   "pygments_lexer": "ipython3",
   "version": "3.6.6"
  }
 },
 "nbformat": 4,
 "nbformat_minor": 2
}
