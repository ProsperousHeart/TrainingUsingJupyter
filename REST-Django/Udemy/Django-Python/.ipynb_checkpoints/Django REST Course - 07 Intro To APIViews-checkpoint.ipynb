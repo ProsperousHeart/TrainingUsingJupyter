{
 "cells": [
  {
   "cell_type": "markdown",
   "metadata": {},
   "source": [
    "___\n",
    "\n",
    "<a href='https://www.learntocodeonline.com/'> <img src='files/IMGs/learn to code online.png' /></a>\n",
    "___"
   ]
  },
  {
   "cell_type": "markdown",
   "metadata": {},
   "source": [
    "Django REST framework offers helper classes to create our API endpoints:\n",
    "- the API view\n",
    "- the viewset\n",
    "\n",
    "Each one is slightly different & offers it's own benefits.\n",
    "\n",
    "# What Is An APIView?\n",
    "\n",
    "If you would like to learn more about this, check out the [APIView Official Docs](http://www.django-rest-framework.org/api-guide/views/).\n",
    "\n",
    "## What In An APIView?\n",
    "\n",
    "This is the most basic view to build your API, and it:\n",
    "\n",
    "- enables you to describe the logic which makes our API endpoint\n",
    "\n",
    "- allows you to define functions that match the standard HTTP methods\n",
    "\n",
    "    1. GET:    get more items\n",
    "    2. POST:   create an item\n",
    "    3. PUT:    update an item\n",
    "    4. PATCH:  partially update an item\n",
    "    5. DELETE: delete an item\n",
    "<br><br>\n",
    "- give you the most control over your application logic & is perfect for:\n",
    "\n",
    "    1. implementing complex logic\n",
    "    2. calling other APIs\n",
    "    3. working with local files\n",
    "\n",
    "# When To Use APIViews\n",
    "\n",
    "It depends on personal preference. Here are some examples for when it might be better to use APIViews:\n",
    "\n",
    "- you need full control of your application logic (intensive algorithm, updating multiple items in 1 API call, etc)\n",
    "<br><br>\n",
    "- when processing files and rendering a synchronous response\n",
    "<br><br>\n",
    "- when you are calling other APIs/services\n",
    "<br><br>\n",
    "- need to access local files or data"
   ]
  },
  {
   "cell_type": "markdown",
   "metadata": {},
   "source": [
    "# Create First APIView\n",
    "\n",
    "You will need to start by opening up the `views.py` file in your app folder - in this example under the folder:  `profiles_api`\n",
    "\n",
    "<img src='files/IMGs/views/APIviews-01.png'>\n",
    "\n",
    "A view is the application logic behind the view.\n",
    "\n",
    "It's what get run when the user visits our API endpoint.\n",
    "\n",
    "## Creating A \"Hello World\" View\n",
    "\n",
    "The following code will be added to the **views.py** file shown above.\n",
    "\n",
    "A **Response** object is a standard response object that we return from our API view that can be rendered into an API output.\n",
    "\n",
    "When creating the **HelloAPIView** it must inherit from the **APIView**."
   ]
  },
  {
   "cell_type": "code",
   "execution_count": null,
   "metadata": {},
   "outputs": [],
   "source": [
    "from rest_framework.views import APIView\n",
    "from rest_framework.response import Response\n",
    "\n",
    "class HelloAPIView(APIView):\n",
    "    \"\"\"Test API View.\"\"\"\n",
    "    \n",
    "    # API Views works by defining functions that match standard HTTP methods.\n",
    "    def get(self, request, format=None):\n",
    "        \"\"\"Returns a list of APIView features.\"\"\"\n",
    "        \n",
    "        an_apiview = [\n",
    "            'Uses HTTP methods as functions (get, post, patch, put, delete)',\n",
    "            'It is similar to a traditional Django view',\n",
    "            'Gives you the most control over your logic',\n",
    "            'Is mapped manually to URLs'\n",
    "        ]\n",
    "        \n",
    "        # return a Response instance\n",
    "        #     Response({'message': '', 'variable': value, ...})\n",
    "        return Response({'message': 'Hello!', 'an_apiview': an_apiview})"
   ]
  },
  {
   "cell_type": "markdown",
   "metadata": {},
   "source": [
    "# Configure View URL\n",
    "\n",
    "We now need to create a URL to map to this view so we can access it via the HTTP server. You do this with the **URL dispatcher**!\n",
    "\n",
    "These URLs are described in the `urls.py` file in the project folder.\n",
    "\n",
    "<img src='files/IMGs/views/URLview-01.png'>\n",
    "\n",
    "## Adding URL To Pattern List\n",
    "\n",
    "You can see how to set up these URLs in the above image.\n",
    "\n",
    "`url(r'^admin/', admin.site.urls)`\n",
    "\n",
    "This file config tells Django to forward anything with _admin/_ to the admin app. But we need to create our own mapping to the profiles API app.\n",
    "\n",
    "It is best to keep a **urls.py** file for each Python project that you add to the app.\n",
    "\n",
    "1. Add the following to the top within the imports for the main **urls.py** in the project folder:  `from django.conf.urls import include`\n",
    "<br><br>\n",
    "2. Add a URL to the list in the following format:  `url(r'^api/', include('profiles_api.urls')`\n",
    "\n",
    "You've described Django URLs using a technology called **[Regular Expressions](https://regexr.com)**. These are a way to manipulate strings so that you can detect certain string patterns & extract certain data from a string.\n",
    "\n",
    "The `r` indicates the string is a **regular expression**.\n",
    "\n",
    "The `^` indicates we want to ensure that the beginning of the string starts with:  **api/**\n",
    "\n",
    "Thus anything that starts with that will be matched and passed through to the **profiles_api.urls** file.\n",
    "\n",
    "If you would like to learn more about this, check out the [URL Dispatcher Official Docs](https://docs.djangoproject.com/en/1.11/topics/http/urls.).\n",
    "\n",
    "## Create URLs file In API\n",
    "\n",
    "Add a new file to your API folder - in this example it will be the **profiles_api** folder.\n",
    "\n",
    "<img src='files/IMGs/views/URLview-02.png'>"
   ]
  },
  {
   "cell_type": "code",
   "execution_count": null,
   "metadata": {},
   "outputs": [],
   "source": [
    "from django.conf.urls import url\n",
    "from . import views\n",
    "\n",
    "urlpatterns = [\n",
    "    url(r'^hello-view/', views.HelloAPIView.as_view()),\n",
    "]"
   ]
  },
  {
   "cell_type": "markdown",
   "metadata": {},
   "source": [
    "When we call our APIView, it will look at the root project URLs config file. It will detect that we have **api** at the beginning of our URL and it's going to look inside the **profiles_api.urls** module.\n",
    "\n",
    "After looking into that file, it then checks the next part of the URL after this **/api** part & will see we typed **hello-view** - this is what tells Django to render the result of this view's APIView. It will return that result to the screen."
   ]
  },
  {
   "cell_type": "markdown",
   "metadata": {},
   "source": [
    "# Testing Our APIView\n",
    "\n",
    "Once you've mapped a URL, it is time to test the changes made.\n",
    "\n",
    "Get your server up and running (if it wasn't already) go to:  `127.0.0.1:8080`\n",
    "\n",
    "<img src='files/IMGs/views/URLview-05.png'>\n",
    "\n",
    "As you can see, if you try to access a site that doesn't exist, it will tell you and provide options.\n",
    "\n",
    "If you try `127.0.0.1:8080/api/`:\n",
    "\n",
    "<img src='files/IMGs/views/URLview-06.png'>\n",
    "\n",
    "Not quite there, but does indicate additional options.\n",
    "\n",
    "When you try:  `127.0.0.1:8080/api/hello-view`\n",
    "\n",
    "<img src='files/IMGs/views/URLview-04.png'>\n",
    "\n",
    "You see that it has rendered the results of our API view.\n",
    "\n",
    "This rendering comes from the file _views.py_ under the API folder. This view is linked throughout the URL files as outlined earlier.\n",
    "\n",
    "## Commit To Git\n",
    "\n",
    "In your **git bash** program ...\n",
    "\n",
    "1. go to project directory:  `cd workspace/PROJECTNAME` (in this example **profiles-rest-api**)\n",
    "2. Call `git add .`\n",
    "3. Call `git commit -am \"Created our first APIView.\"`"
   ]
  },
  {
   "cell_type": "markdown",
   "metadata": {},
   "source": [
    "# Create A Serializer\n",
    "\n",
    "If you would like to learn more, check out the following official docs:\n",
    "- [Serializers](http://www.django-rest-framework.org/api-guide/serializers)\n",
    "- [Serializer Fields](http://www.django-rest-framework.org/api-guide/fields)"
   ]
  },
  {
   "cell_type": "markdown",
   "metadata": {},
   "source": [
    "# Add POST Method To APIView\n",
    "\n",
    "If you would like to learn more, check out the [Status Codes Official Docs](http://www.django-rest-framework.org/api-guide/status-codes)."
   ]
  },
  {
   "cell_type": "markdown",
   "metadata": {},
   "source": [
    "# Test POST Function\n",
    "\n",
    "?"
   ]
  },
  {
   "cell_type": "markdown",
   "metadata": {},
   "source": [
    "# Add PUT, PATCH, and DELETE Methods\n",
    "\n",
    "?"
   ]
  },
  {
   "cell_type": "markdown",
   "metadata": {},
   "source": [
    "# Test the PUT, PATCH, and DELETE Methods\n",
    "\n",
    "?"
   ]
  }
 ],
 "metadata": {
  "kernelspec": {
   "display_name": "Python 3",
   "language": "python",
   "name": "python3"
  },
  "language_info": {
   "codemirror_mode": {
    "name": "ipython",
    "version": 3
   },
   "file_extension": ".py",
   "mimetype": "text/x-python",
   "name": "python",
   "nbconvert_exporter": "python",
   "pygments_lexer": "ipython3",
   "version": "3.6.6"
  }
 },
 "nbformat": 4,
 "nbformat_minor": 2
}
