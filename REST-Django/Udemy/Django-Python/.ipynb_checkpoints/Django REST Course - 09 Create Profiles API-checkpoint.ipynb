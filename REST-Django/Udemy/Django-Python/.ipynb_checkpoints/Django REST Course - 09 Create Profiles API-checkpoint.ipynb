{
 "cells": [
  {
   "cell_type": "markdown",
   "metadata": {},
   "source": [
    "___\n",
    "\n",
    "<a href='https://www.learntocodeonline.com/'> <img src='files/IMGs/learn to code online.png' /></a>\n",
    "___"
   ]
  },
  {
   "cell_type": "markdown",
   "metadata": {},
   "source": [
    "# Plan Our Profiles API\n",
    "\n",
    "Now that we have created a simple API, we can move on to a profiles API.\n",
    "\n",
    "Basic requirements:\n",
    "1. create a new profile (handle new registrations in the system)\n",
    "    - validate profile data\n",
    "2. list existing profiles\n",
    "    - search for profiles\n",
    "3. view specific profile (using an ID)\n",
    "4. update \"my profile\" of a logged in user\n",
    "    - update name/email address\n",
    "    - change password\n",
    "5. delete profile\n",
    "\n",
    "URLs for our API:\n",
    "1. list of all profiles:  **/api/profile/**\n",
    "    - GET (list profiles)\n",
    "    - POST (create profile)\n",
    "    <br><br>\n",
    "2. manage a specific profile:  **/api/profile/<profile_id>/**\n",
    "    - GET (view specific profile)\n",
    "    - PUT/PATCH (update profile)\n",
    "    - DELETE (remove profile)"
   ]
  },
  {
   "cell_type": "markdown",
   "metadata": {},
   "source": [
    "# Create User Profile Serializer\n",
    "\n",
    "If you would like more information, check out the [ModelSerializer official documentation](http://www.django-rest-framework.org/api-guide/serializers/#modelserializer).\n",
    "\n",
    "Ensure that you have the **profiles-rest-api** project open in your Atom!\n",
    "\n",
    "Locate the `serializers.py` file in the profiles_api folder.\n",
    "\n",
    "Now we will create a ModelSerializer - similar to the HelloSerializer created earlier, but these are designed to be used with models.\n",
    "\n",
    "1. import the following:  `from . import models`\n",
    "<br><br>\n",
    "2. Create a new class below your HelloSerializer that will inherit from serializers.ModelSerializer"
   ]
  },
  {
   "cell_type": "code",
   "execution_count": null,
   "metadata": {},
   "outputs": [],
   "source": [
    "class UserProfileSerializer(serializers.ModelSerializer):\n",
    "    \"\"\"A serializer for our user profile objects.\"\"\"\n",
    "    \n",
    "    # create a meta class that tells Django REST framework\n",
    "    # what fields we want to take from our model\n",
    "    class Meta:\n",
    "        # assign model we want it to point to\n",
    "        model = models.UserProfile\n",
    "        \n",
    "        # what fields to use in the serializer\n",
    "        fields = ('id', 'email', 'name', 'password')\n",
    "        \n",
    "        # define extra keyword arguments for your model\n",
    "        # allows you to tell Django REST framework special attributes\n",
    "        # you want to apply to those fields above\n",
    "        extra_kwargs = {'password': {'write_only': True}}\n",
    "        \n",
    "    # create a special function that overwrites the CREATE functionality\n",
    "    # this will allow us control over how users are created\n",
    "    # we want to encrypt the PW as a hash\n",
    "    def create(self, validated_data):\n",
    "        \"\"\"Create and return a new user.\"\"\"\n",
    "        \n",
    "        user = models.UserProfile(\n",
    "            email=validated_data['email'],\n",
    "            name=validated_data['name']\n",
    "        )\n",
    "        \n",
    "        user.set_password(validated_data['password'])\n",
    "        user.save()\n",
    "        \n",
    "        return user"
   ]
  },
  {
   "cell_type": "markdown",
   "metadata": {},
   "source": [
    "# Create User Profiles Viewset\n",
    "\n",
    "Open the `views.py` file in the profiles_app app folder.\n",
    "\n",
    "Import your model file:  `from . import models`\n",
    "\n",
    "Scroll to the bottom of the file to add the UserProfileViewSet class."
   ]
  },
  {
   "cell_type": "code",
   "execution_count": null,
   "metadata": {},
   "outputs": [],
   "source": [
    "class UserProfileViewSet(viewsets.ModelViewSet):\n",
    "    \"\"\"Handles creating, reading and updating profiles.\"\"\"\n",
    "    # ModelViewSet is a special ViewSet by the Django REST framework\n",
    "    # that takes care of all of the logic for CRU our model items\n",
    "    \n",
    "    # define the serializer class - this serializer has the model\n",
    "    # in the metadata so it knows which model to look for\n",
    "    # to handle user objects\n",
    "    serializer_class = serializers.UserProfileSerializer\n",
    "    \n",
    "    # query the set which tells the ViewSet how to retrieve\n",
    "    # the object from our DB\n",
    "    queryset = models.UserProfile.objects.all() # this retrieves all of them"
   ]
  },
  {
   "cell_type": "markdown",
   "metadata": {},
   "source": [
    "# Register Profile ViewSet With URL Router\n",
    "\n",
    "Open the `urls.py` file in the profiles_api app folder.\n",
    "\n",
    "Registering is simple - just need to register with a router and Django REST framework will do the rest.\n",
    "\n",
    "Below the latest router registration add:<br>\n",
    "`router.register('profile', views.UserProfileViewSet)`\n",
    "\n",
    "**NOTE:** \n",
    "When specifying a Model ViewSet, you do not need to provide a base_name."
   ]
  },
  {
   "cell_type": "markdown",
   "metadata": {},
   "source": [
    "# Test Creating A Profile\n",
    "\n",
    "Ensure the vagrant server is running - may have to restart.\n",
    "\n",
    "1. In git bash, change directory to where you profiles-rest-api project is located:  `cd workspace/profiles-rest-api`\n",
    "<br><br>\n",
    "2. `vagrant up`\n",
    "<br><br>\n",
    "3. `vagrant ssh`\n",
    "<br><br>\n",
    "4. `workon profiles_api`\n",
    "<br><br>\n",
    "5. `cd /vagrant/src/profiles_project`\n",
    "<br><br>\n",
    "6. Start development server:  `python manage.py runserver 0.0.0.0:8080`\n",
    "\n",
    "Once you have the server up, head over to the following in Chrome:\n",
    "**127.0.0.1:8080/api**\n",
    "\n",
    "Notice on the root API page that we have an additional entry to the list of APIs that are available.\n",
    "\n",
    "<img src='files\\IMGs\\views\\ProfilesAPI-01.png'>\n",
    "\n",
    "Click on the link to head over to the **API/profile** of the API.\n",
    "\n",
    "<img src='files\\IMGs\\views\\ProfilesAPI-02.png'>\n",
    "\n",
    "This is the **list** or HTTP GET to our **api/profile** endpoint. It lists all users in the system.\n",
    "\n",
    "## Test POST Without Data\n",
    "\n",
    "<img src='files\\IMGs\\views\\ProfilesAPI-03.png'>\n",
    "\n",
    "## Create A New User\n",
    "\n",
    "<img src='files\\IMGs\\views\\ProfilesAPI-04.png'>\n",
    "\n",
    "Since the password was set to write_only, it never gets returned by the API.\n",
    "\n",
    "## Test User Update\n",
    "\n",
    "Go back to the root of the API for profiles:  **127.0.0.1:8080/api/profile**\n",
    "\n",
    "<img src='files\\IMGs\\views\\ProfilesAPI-05.png'>\n",
    "\n",
    "You can now see the different users in the system.\n",
    "\n",
    "Add the ID to the end of the URL to see the information from the new user you just created:  **127.0.0.1:8080/api/profile/2**\n",
    "\n",
    "<img src='files\\IMGs\\views\\ProfilesAPI-06.png'>\n",
    "\n",
    "You can see at the bottom it has given you the option to modify the user profile.\n",
    "\n",
    "- HTML form allows you to use PUT\n",
    "<img src='files\\IMGs\\views\\ProfilesAPI-07.png'>\n",
    "\n",
    "- Raw Data form allows you to use PATCH\n",
    "<img src='files\\IMGs\\views\\ProfilesAPI-08.png'>\n",
    "\n",
    "If using RAW DATA, delete the ID (you can't change that) and any other field you don't wish to update. Make the changes you wish to do, then click PATCH.\n",
    "\n",
    "<img src='files\\IMGs\\views\\ProfilesAPI-09.png'>\n",
    "\n",
    "You will see that it updated on that screen ...\n",
    "\n",
    "<img src='files\\IMGs\\views\\ProfilesAPI-10.png'>\n",
    "\n",
    "As well as at the root of the API:  **127.0.0.1:8080/api/profile**\n",
    "\n",
    "<img src='files\\IMGs\\views\\ProfilesAPI-11.png'>\n",
    "\n",
    "## Commit To Git\n",
    "\n",
    "In your **git bash** program ...\n",
    "\n",
    "1. go to project directory:  `cd workspace/PROJECTNAME` (in this example **profiles-rest-api**)\n",
    "2. Call `git add .`\n",
    "3. Call `git commit -am \"Added profile listing and creating feature.\"`"
   ]
  },
  {
   "cell_type": "markdown",
   "metadata": {},
   "source": [
    "# Create Permission Class\n",
    "\n",
    "If you would like more information, check out the [Permissions official documentation](http://www.django-rest-framework.org/api-guide/permissions)."
   ]
  },
  {
   "cell_type": "markdown",
   "metadata": {},
   "source": [
    "# Add Authentication & Permissions To ViewSet\n",
    "\n",
    "?"
   ]
  },
  {
   "cell_type": "markdown",
   "metadata": {},
   "source": [
    "# Test New Permissions\n",
    "\n",
    "?"
   ]
  },
  {
   "cell_type": "markdown",
   "metadata": {},
   "source": [
    "# Add Search Profiles Feature\n",
    "\n",
    "?"
   ]
  },
  {
   "cell_type": "markdown",
   "metadata": {},
   "source": [
    "# Test Searching Profiles\n",
    "\n",
    "?"
   ]
  },
  {
   "cell_type": "markdown",
   "metadata": {},
   "source": [
    "## Commit To Git\n",
    "\n",
    "In your **git bash** program ...\n",
    "\n",
    "1. go to project directory:  `cd workspace/PROJECTNAME` (in this example **profiles-rest-api**)\n",
    "2. Call `git add .`\n",
    "3. Call `git commit -am \"Added create, retrieve, update, partial_update, and destroy methods to our ViewSet.\"`"
   ]
  },
  {
   "cell_type": "code",
   "execution_count": null,
   "metadata": {},
   "outputs": [],
   "source": []
  }
 ],
 "metadata": {
  "kernelspec": {
   "display_name": "Python 3",
   "language": "python",
   "name": "python3"
  },
  "language_info": {
   "codemirror_mode": {
    "name": "ipython",
    "version": 3
   },
   "file_extension": ".py",
   "mimetype": "text/x-python",
   "name": "python",
   "nbconvert_exporter": "python",
   "pygments_lexer": "ipython3",
   "version": "3.6.6"
  }
 },
 "nbformat": 4,
 "nbformat_minor": 2
}
