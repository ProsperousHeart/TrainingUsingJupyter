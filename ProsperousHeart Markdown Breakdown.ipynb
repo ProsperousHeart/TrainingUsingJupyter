{
 "cells": [
  {
   "cell_type": "markdown",
   "metadata": {},
   "source": [
    "# Introduction\n",
    "From my many different roles throughout the software development cycle, one thing is clear.\n",
    "\n",
    "<div class=\"alert alert-block alert-success\">Documentation is **key** to everyone's success!</div>\n",
    "\n",
    "So while there are many tutorials out there to teach you what I am about to share, I'm going to bring my own flavor to it!\n",
    "\n",
    "Welcome and feel free to reach out with questions."
   ]
  },
  {
   "cell_type": "markdown",
   "metadata": {},
   "source": [
    "# Headings\n",
    "`# title`<br>\n",
    "`## major subheading`<br>\n",
    "`### subheading`<br>\n",
    "`#### 4th level subheading`"
   ]
  },
  {
   "cell_type": "markdown",
   "metadata": {},
   "source": [
    "# Emphasis\n",
    "\n",
    "## Bold\n",
    "<div class=\"alert alert-block alert-info\">`__this__` will become __this__<br>`**this**` will become **this**</div>\n",
    "\n",
    "## Italics\n",
    "<div class=\"alert alert-block alert-info\">`_this_` will become _this_<br>`*this*` will become *this*</div>"
   ]
  },
  {
   "cell_type": "markdown",
   "metadata": {},
   "source": [
    "# Mathematical Symbols\n",
    "\n",
    "Use this code:  `$ mathematical symbols $`\n",
    "\n",
    "EXAMPLE:  `$ + $`\n",
    "\n",
    "$ + $ or $ - $ or $ / $"
   ]
  },
  {
   "cell_type": "markdown",
   "metadata": {},
   "source": [
    "# Monospace Font\n",
    "\n",
    "<div class=\"alert alert-block alert-info\">`this will make it`</div>"
   ]
  },
  {
   "cell_type": "code",
   "execution_count": null,
   "metadata": {},
   "outputs": [],
   "source": []
  }
 ],
 "metadata": {
  "kernelspec": {
   "display_name": "Python 3",
   "language": "python",
   "name": "python3"
  },
  "language_info": {
   "codemirror_mode": {
    "name": "ipython",
    "version": 3
   },
   "file_extension": ".py",
   "mimetype": "text/x-python",
   "name": "python",
   "nbconvert_exporter": "python",
   "pygments_lexer": "ipython3",
   "version": "3.6.4"
  }
 },
 "nbformat": 4,
 "nbformat_minor": 2
}
