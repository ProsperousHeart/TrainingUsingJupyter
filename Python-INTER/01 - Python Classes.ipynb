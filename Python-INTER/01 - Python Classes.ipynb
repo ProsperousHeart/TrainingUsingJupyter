{
 "cells": [
  {
   "cell_type": "markdown",
   "metadata": {},
   "source": [
    "# Python Classes\n",
    "\n",
    "## Magic Methods (Dunders)\n",
    "\n",
    "This is a term you will hear among many programmer groups. **magic methods** are special methods with double underscores at the beginning and end of their names. (*Also known as __dunder methods__!*)\n",
    "\n",
    "These methods allow you to create functionality that can't be represented in a normal method.\n",
    "\n",
    "There are a lot of methods available (such as those listed in [this article on GitHub](https://rszalski.github.io/magicmethods)) but the one you'll see most? Is the one that allows you to create an instance (or instantiate) an object of said class type.\n",
    "\n",
    "### `__init__`\n",
    "\n",
    "The `__init__` dunder or magic method is the most important method within a class. This is the function of the class object that is called when an instance of the object is instantiated or created.\n",
    "\n",
    "All `__init__` methods __must__ start with __*self*__ as the first parameter.\n",
    "\n",
    "_NOTE:  This parameter indicates to Python that when calling __self__ you are referring to the INSTANCE that is calling the method, vs making a change to all instances._\n",
    "\n",
    "<hr>\n",
    "\n",
    "```python\n",
    "class Wood_Cup:\n",
    "    \"\"\"\n",
    "    This class is to create a wooden cup object.\n",
    "    \n",
    "    \"\"\"\n",
    "    \n",
    "    def __init__(self, wood_type_obj = None, size = None, art_class_obj = None, handle_loc = \"R\", staves = 0):\n",
    "        \"\"\"\n",
    "        This is the __init__ method which allows someone to create an instance of the Wood_Cup class.\n",
    "        \n",
    "        This function determines what attributes each instance of the class will have.\n",
    "        \n",
    "        \"\"\"\n",
    "        \n",
    "        self.staves = staves\n",
    "        self.wood_type = wood_type_obj\n",
    "        self.art_class_obj = art_class_obj\n",
    "        self.staves = staves\n",
    "        self.size = size\n",
    "        ```\n",
    "\n",
    "<hr>\n",
    "\n",
    "When creating or instantiating a new instance of a class, you do not need to add *__self__* as an input parameter.\n",
    "\n",
    "Such as:  `new_cup = Wood_Cup(\"birch\", \"B\", None, \"L\", 8)`\n",
    "\n",
    "There are lots of built-in methods for classes that can really help to clean up your code as well as make it more pliable."
   ]
  },
  {
   "cell_type": "markdown",
   "metadata": {},
   "source": [
    "## Class Attributes\n",
    "\n",
    "Every time you create a class object, you create an _instance_ of that object ... Meaning a piece of code with the same attributes as other instances of that class type, but are not referring to the same piece of data.\n",
    "\n",
    "Each instance of a class has a set of attributes, or pieces of data associated with them.\n",
    "\n",
    "So when thinking of creating classes, think of all the base attributes. For example ...\n",
    "\n",
    "If you were to create a class for a cat, what attributes would it have?\n",
    "- number of legs\n",
    "- color of fur\n",
    "- sex\n",
    "- age\n",
    "- eye color\n",
    "\n",
    "And the list could go on. Each of these attributes, you would have the ability to update a particular instance vs all cats.\n",
    "\n",
    "You access each attribute by using __dot syntax__ like so:\n",
    "`new_cup.staves = 10`"
   ]
  },
  {
   "cell_type": "code",
   "execution_count": null,
   "metadata": {},
   "outputs": [],
   "source": []
  }
 ],
 "metadata": {
  "kernelspec": {
   "display_name": "Python 3",
   "language": "python",
   "name": "python3"
  },
  "language_info": {
   "codemirror_mode": {
    "name": "ipython",
    "version": 3
   },
   "file_extension": ".py",
   "mimetype": "text/x-python",
   "name": "python",
   "nbconvert_exporter": "python",
   "pygments_lexer": "ipython3",
   "version": "3.6.4"
  }
 },
 "nbformat": 4,
 "nbformat_minor": 2
}
