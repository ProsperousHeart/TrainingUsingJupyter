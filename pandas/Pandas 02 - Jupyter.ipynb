{
 "cells": [
  {
   "cell_type": "markdown",
   "metadata": {},
   "source": [
    "___\n",
    "\n",
    "<a href='https://www.prosperousheart.com/'> <img src='files/learn to code online.png' /></a>\n",
    "___"
   ]
  },
  {
   "cell_type": "markdown",
   "metadata": {},
   "source": [
    "# Jupyter Notebooks\n",
    "\n",
    "However you accessed anaconda (from here out I will refer to the Anaconda prompt) open that up.\n",
    "\n",
    "Navigate to a directory you wish to have your Jupyter notebooks ...\n",
    "\n",
    "<img src='IMGs/jupyter-01.png'>\n",
    "\n",
    "Then type:  `jupyter notebook`\n",
    "\n",
    "<img src='IMGs/jupyter-02.png'>\n",
    "\n",
    "This basically creates a local server that will process the python commands we give & basically spit back the output. It will then open a tab in your default browser of choice that looks similar to:\n",
    "\n",
    "<img src='IMGs/jupyter-03.png'>\n",
    "\n",
    "This acts very similar to a Windows Explorer app where you can see your computer's directories laid out.\n",
    "\n",
    "## Create A New Notebook\n",
    "\n",
    "<img src='IMGs\\jupyter-04.png'>\n",
    "\n",
    "## Give It A Name Or Update Name\n",
    "\n",
    "<img src='IMGs\\jupyter-05.png'>\n",
    "\n",
    "<img src='IMGs\\jupyter-06.png'>\n",
    "\n",
    "To ensure it's working, you can do a simple math command then SHIFT + ENTER:\n",
    "\n",
    "<img src='IMGs\\jupyter-07.png'>\n",
    "\n",
    "## Saving A Notebook\n",
    "\n",
    "You can either do `CTRL + s` ... or you can:\n",
    "\n",
    "<img src='IMGs\\jupyter-08.png'>\n",
    "\n",
    "## Stop Running Notebook\n",
    "\n",
    "Closing the tab does not make the notebook inactive and remove it from memory.\n",
    "\n",
    "<img src='IMGs\\jupyter-09.png'>\n",
    "\n",
    "### Option 1 - Checking Box And Choosing Shutdown Option\n",
    "\n",
    "<img src='IMGs\\jupyter-10.png'>\n",
    "\n",
    "<img src='IMGs\\jupyter-11.png'>\n",
    "\n",
    "### Option 2 - Going To Running Tab\n",
    "\n",
    "<img src='IMGs\\jupyter-12.png'>\n",
    "\n",
    "## Server Shutdown\n",
    "\n",
    "Closing your notebooks and browser windows does NOT shut down the server.\n",
    "\n",
    "You must close the command prompt (window closes) or `CTRL + c` (window stays open) to shut down the server."
   ]
  },
  {
   "cell_type": "markdown",
   "metadata": {},
   "source": [
    "# Jupyter Notebook Interface\n",
    "\n",
    "This section will focus on familiarizing you with the notebook, including code execution.\n",
    "\n",
    "When ready to work with a notebook, be sure to navigate to the location you wish to create or utilize files with. Otherwise, you have to use special code in order to access the files. - Very much like normal programming or even HTML."
   ]
  },
  {
   "cell_type": "markdown",
   "metadata": {},
   "source": [
    "## View Menu\n",
    "\n",
    "### Toggle Header\n",
    "\n",
    "The **Toggle Header** will toggle the top header - the one with the title.\n",
    "\n",
    "<img src='IMGs/jupyter-13.png'>\n",
    "\n",
    "<img src='IMGs/jupyter-13b.png'>\n",
    "\n",
    "And voila! The header is gone.\n",
    "\n",
    "### Toggle Toolbar\n",
    "\n",
    "This will remove the toolbar - also known as the shortcuts.\n",
    "\n",
    "<img src='IMGs/jupyter-14a.png'>\n",
    "\n",
    "When you choose this option, it will look like this:\n",
    "\n",
    "<img src='IMGs/jupyter-14b.png'>\n",
    "\n",
    "This look is minimalistic and reduces the \"stuff\" on your screen.\n",
    "\n",
    "Once you learn the keyboard shortcuts, you may prefer to have this off."
   ]
  },
  {
   "cell_type": "markdown",
   "metadata": {},
   "source": [
    "## Kernel Menu\n",
    "\n",
    "The **kernel** refers to the server that's currently running & returns data to you when you execute a cell.\n",
    "\n",
    "If you ever run into any issues (frozen cell, notebook appears to freeze, etc) you will want to choose a restart option.\n",
    "\n",
    "<img src='IMGs/jupyter-15.png'>\n",
    "\n",
    "Just be mindful that the **_Restart & Clear Output_** will clear any computations returned by the kernel.\n",
    "\n",
    "The **_Restart & Run All_** is helpful in instances where maybe you had an infinite loop that caused your notebook to lag. You may have fixed it, but it's still causing an issue. Once you've fixed the issue, it will restart the server and run all current cells."
   ]
  },
  {
   "cell_type": "markdown",
   "metadata": {},
   "source": [
    "## Edit Menu\n",
    "\n",
    "This menu shows a lot of the common copy/paste functionalities found in things like a word processing program.\n",
    "\n",
    "<img src='IMGs/jupyter-16.png'>"
   ]
  },
  {
   "cell_type": "markdown",
   "metadata": {},
   "source": [
    "# Cell Types & Cell Modes\n",
    "\n",
    "Whenever you execute the cell, the number in brackets will increase indicating the order of execution, like this:\n",
    "\n",
    "<img src='IMGs/jupyter-17.png'>\n",
    "\n",
    "The above image shows that the first cell was run, then the second, then the first again.\n",
    "\n",
    "## Cell Types\n",
    "\n",
    "<div class=\"alert alert-block alert-info\">Cells are not limited to Python code! They can have different types.</div>\n",
    "\n",
    "<img src='IMGs/jupyter-18.png'>\n",
    "\n",
    "**Code** allows you to run code such as Python.\n",
    "\n",
    "**Markdown** allows you to create headings and such like what you've seen here. It's a lightweight language used for things like text formatting & aesthetics (bulleted lists, embedding video, etc). It basically accomplishes everything outside of code.\n",
    "\n",
    "    Benefits include (but are not limited to) descriptions, long paragraphs about what you're doing, headers, sections, etc.\n",
    "    \n",
    "## Cell Modes\n",
    "\n",
    "There are 2 cell modes:\n",
    "1. Edit Mode\n",
    "2. Command Mode\n",
    "\n",
    "Whenever you are in **edit mode** you are in a cell and able to change content. The other indicator is the <font color='green'>green</font> outline around the cell.\n",
    "\n",
    "<img src='IMGs/jupyter-19.png'>\n",
    "\n",
    "The **command mode** can be triggered by pressing the ESC key. This will change the outlint from <font color='green'>green</font> to <font color='blue'>blue</font>.\n",
    "    \n",
    "<img src='IMGs/jupyter-20.png'>\n",
    "\n",
    "This **command mode** is operating on the \"top level\" or layer of the notebook. Therefore the keys will not be interpreted as literal characters but *keyboard shortcuts*!\n",
    "\n",
    "### Keyboard Shortcuts In Command Mode\n",
    "\n",
    "1. **a** - this will create a new cell above the current one\n",
    "2. **y** - this will change the cell to *Code* from *Markdown*\n",
    "2. **m** - this will change the cell to *Markdown* from *Code*"
   ]
  },
  {
   "cell_type": "code",
   "execution_count": null,
   "metadata": {},
   "outputs": [],
   "source": []
  },
  {
   "cell_type": "markdown",
   "metadata": {},
   "source": [
    "<div class=\"alert alert-block alert-info\">DIV option 1: alert-info</div>\n",
    "\n",
    "<div class=\"alert alert-block alert-success\">DIV option 2: success</div>\n",
    "\n",
    "<div class=\"alert alert-block alert-warning\">DIV option 3:  warning</div>"
   ]
  }
 ],
 "metadata": {
  "kernelspec": {
   "display_name": "Python 3",
   "language": "python",
   "name": "python3"
  },
  "language_info": {
   "codemirror_mode": {
    "name": "ipython",
    "version": 3
   },
   "file_extension": ".py",
   "mimetype": "text/x-python",
   "name": "python",
   "nbconvert_exporter": "python",
   "pygments_lexer": "ipython3",
   "version": "3.6.5"
  }
 },
 "nbformat": 4,
 "nbformat_minor": 2
}
