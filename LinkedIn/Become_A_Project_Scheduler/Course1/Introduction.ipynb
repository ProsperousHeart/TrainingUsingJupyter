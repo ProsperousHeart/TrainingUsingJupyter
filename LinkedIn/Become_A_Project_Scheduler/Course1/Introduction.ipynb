{
 "cells": [
  {
   "cell_type": "markdown",
   "id": "90e49cf5",
   "metadata": {},
   "source": [
    "This course is done by [John Riopel](https://www.linkedin.com/in/john-riopel/) (Program & Project Manager) and [Bonnie Biafore](https://www.linkedin.com/in/bonniebiafore/?trk=lil_instructor) (PMP, Trainer, & Best-Selling Author).\n",
    "\n",
    "The official title of [this course](https://www.linkedin.com/learning/managing-time-constrained-projects-with-microsoft-project) is `Managing Time-Constrained Projects with Microsoft Project`.\n",
    "\n",
    "A project schedule is critical to communicating time constraints. IT goes through an example instance of a project that a prior PM put in place (now \"overdue\") and walks you through how to leverage different aspets (_e.g.: dependencies, lag, lead_) to validate the information in MS Project to work through setting up an accurate schedule. It will cover how to find issues to fix, techniques for slack & critical path to work through."
   ]
  }
 ],
 "metadata": {
  "kernelspec": {
   "display_name": "Python 3 (ipykernel)",
   "language": "python",
   "name": "python3"
  },
  "language_info": {
   "codemirror_mode": {
    "name": "ipython",
    "version": 3
   },
   "file_extension": ".py",
   "mimetype": "text/x-python",
   "name": "python",
   "nbconvert_exporter": "python",
   "pygments_lexer": "ipython3",
   "version": "3.10.2"
  }
 },
 "nbformat": 4,
 "nbformat_minor": 5
}
