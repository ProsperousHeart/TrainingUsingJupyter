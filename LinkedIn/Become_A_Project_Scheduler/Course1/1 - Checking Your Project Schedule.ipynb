{
 "cells": [
  {
   "cell_type": "markdown",
   "id": "f525135c",
   "metadata": {},
   "source": [
    "# [Making Tasks Automatically Or Manually Scheduled](https://www.linkedin.com/learning/managing-time-constrained-projects-with-microsoft-project/making-tasks-automatically-scheduled-or-manually-scheduled?autoplay=true&contextUrn=urn%3Ali%3AlyndaLearningPath%3A56db2e7e3dd5596be4e4989e&u=76276956)\n",
    "\n",
    "In this video, they used the **Exercise Files > Ch01 > Home_remodel_TC01_01.mpp** file.\n",
    "\n",
    "## Changing Update Settings\n",
    "\n",
    "In a time constraint project, you may want to work as you plan. This is likely to happen in most projects, especially if there was no planning ahead of time or requirements change. \n",
    "\n",
    "You can do this by...\n",
    "\n",
    "### Updating Setting From File Ribbon\n",
    "\n",
    "1. Go to Project **File > Options > Schedule**\n",
    "\n",
    "\n",
    "2. Locate the **_Scheduling options_** section for this. It should look similar to:\n",
    "<img src=\"IMGS/ChkProjSched01.png\">\n",
    "\n",
    "\n",
    "3. Change from **Manually Scheduled** to **Auto Scheduled** so you can utilize the _scheduling engine_.\n",
    "\n",
    "\n",
    "4. Press the **OK** button to change the setting."
   ]
  },
  {
   "cell_type": "markdown",
   "id": "67aed3ae",
   "metadata": {},
   "source": [
    "### Updating Visual Settings\n",
    "\n",
    "This can be hidden later, but if you want to ensure all tasks are automated you will need to be able to see this.\n",
    "\n",
    "1. Right-click on the **Task Name** column and choose **Insert Column**\n",
    "\n",
    "\n",
    "2. Choose **Task Mode** for the column - you cna do this by starting to type it then selecting the option:\n",
    "<img src=\"IMGS/ChkProjSched02.png\">\n",
    "\n",
    "\n",
    "This gives a visual task-by-task display to show whether they are auto or manually scheduled."
   ]
  },
  {
   "cell_type": "markdown",
   "id": "b5bc25f5",
   "metadata": {},
   "source": [
    "## Update All Tasks To Auto-Scheduled\n",
    "\n",
    "If you have a mix of manual and auto scheduled tasks, you can change them all to auto by:\n",
    "\n",
    "1. Selecting the **Task Name** column\n",
    "\n",
    "\n",
    "2. Hitting the **Auto Schedule** button in the _File ribbon_\n",
    "<img src=\"IMGS/ChkProjSched03.png\">\n",
    "\n",
    "\n",
    "3. Select the **Information** option\n",
    "<img src=\"IMGS/ChkProjSched04.png\">\n",
    "\n",
    "\n",
    "4. Go to the **Advanced** tab & change the **Constraint type** to **As Soon As Possible** - removing any task constraints that currently exist\n",
    "<img src=\"IMGS/ChkProjSched05.png\">"
   ]
  },
  {
   "cell_type": "markdown",
   "id": "9afa47fc",
   "metadata": {},
   "source": [
    "## Update Project To Start Particular Day\n",
    "\n",
    "1. Under the _Project ribbon_, select **Project Information**\n",
    "<img src=\"IMGS/ChkProjSched06.png\">\n",
    "\n",
    "\n",
    "2. Type in or choose from the date picker your start date\n",
    "<img src=\"IMGS/ChkProjSched07.png\">"
   ]
  },
  {
   "cell_type": "markdown",
   "id": "fe591c07",
   "metadata": {},
   "source": [
    "## Show Project Summary\n",
    "\n",
    "If you would like to have an overview of the complete summary, go to the _Format ribbon_ and select **Project Summary Task** checkbox."
   ]
  },
  {
   "cell_type": "markdown",
   "id": "487bcd0b",
   "metadata": {},
   "source": [
    "# [Checking Task Lists](https://www.linkedin.com/learning/managing-time-constrained-projects-with-microsoft-project/checking-task-links?autoSkip=true&autoplay=true&contextUrn=urn%3Ali%3AlyndaLearningPath%3A56db2e7e3dd5596be4e4989e&resume=false&u=76276956)\n",
    "\n",
    "In this video, they used the **Exercise Files > Ch01 > Home_remodel_TC01_02.mpp** file.\n",
    "\n",
    "This section will cover how to change some of the features in Microsoft Project.\n",
    "\n",
    "1. In the **File > Options > Schedule** section, delesect the **Autolink inserted or moved tasks** - this will create the auto-creation of predecessor successor relationships\n",
    "\n",
    "\n",
    "2. We typically add a start and end date for projects. Insert a task above line 1 of your tasks, but below the project's task line - call it \"Start Project Milestone\" & link to the first task in your project.\n",
    "    - 0 day duration (so Proejct knows it's a milestone)\n",
    "    - add success as:  **3, 5, 8**\n",
    "    \n",
    "    Add final task:  \"Complete Project\""
   ]
  },
  {
   "cell_type": "markdown",
   "id": "4ea93f79",
   "metadata": {},
   "source": [
    "## Create Filter To Find Links Or Missing Links\n",
    "\n",
    "You can create a filter by going to the **View** ribbon, selecting the filter drop down, and select **New Filter**:\n",
    "<img src=\"IMGS/ChkProjSched08.png\">\n",
    "\n",
    "\n",
    "1. Provide name\n",
    "\n",
    "\n",
    "2. Add **Predecessory** column as a **Field Name**\n",
    "\n",
    "\n",
    "3. Have test be **equals**\n",
    "\n",
    "\n",
    "4. Leave **Value(s)** empty since looking for no predecessors.\n",
    "\n",
    "\n",
    "5. Since we always link at the task level (not typically at summary lines) ...then on the 4th row have **Summary == no**\n",
    "\n",
    "\n",
    "6. Add any additional filters you need then click **Apply** or **Save** if you wish to reuse the filter\n",
    "<img src=\"IMGS/ChkProjSched09.png\">"
   ]
  },
  {
   "cell_type": "markdown",
   "id": "2f81bcc0",
   "metadata": {},
   "source": [
    "## Dynamically Create Predessor/Successor Relationship\n",
    "\n",
    "In the Gantt chart, hover of the bar. Click on the item and you can drag to another section. This will automatically form the relationship, similar to this:\n",
    "<img src=\"IMGS/ChkProjSched10.png\">"
   ]
  },
  {
   "cell_type": "markdown",
   "id": "a5cb79de",
   "metadata": {},
   "source": [
    "## See Multiple Predecessars & Successors Of Any Task\n",
    "\n",
    "In the **View** ribbon, check the **Details** box:\n",
    "<img src=\"IMGS/ChkProjSched11.png\">\n",
    "\n",
    "This will show the **Details form** that allows you to see multiple predecessors & successors for any given task. You can change thsi view by right=-clicking in the white space on the right.\n",
    "\n",
    "By adding information in the **Task Form** it is similar to adding it in the boxes in the top above it."
   ]
  },
  {
   "cell_type": "markdown",
   "id": "b8b2087b",
   "metadata": {},
   "source": [
    "## Adding Non-Project Time\n",
    "\n",
    "You will do this by going to **Project > Change Working Time**. This is where you can add holidays, company off days, etc."
   ]
  },
  {
   "cell_type": "markdown",
   "id": "6a3abbfa",
   "metadata": {},
   "source": [
    "# [Adding Lag Or Lead Between Tasks](https://www.linkedin.com/learning/managing-time-constrained-projects-with-microsoft-project/adding-lag-or-lead-between-tasks?autoSkip=true&autoplay=true&contextUrn=urn%3Ali%3AlyndaLearningPath%3A56db2e7e3dd5596be4e4989e&resume=false&u=76276956)\n",
    "\n",
    "In this video, they used the **Exercise Files > Ch01 > Home_remodel_TC01_03.mpp** file.\n",
    "\n",
    "1. go to link arrow between tasks in the Gantt chart - double click on it\n",
    "<img src=\"IMGS/ChkProjSched12.png\">\n",
    "\n",
    "\n",
    "2. Make the update to the lag as needed, using a positive for lag and a negative for lead"
   ]
  },
  {
   "cell_type": "markdown",
   "id": "2d7820c5",
   "metadata": {},
   "source": [
    "# [What Does The Deadline Field Do?](https://www.linkedin.com/learning/managing-time-constrained-projects-with-microsoft-project/what-does-the-deadline-field-do?autoSkip=true&autoplay=true&contextUrn=urn%3Ali%3AlyndaLearningPath%3A56db2e7e3dd5596be4e4989e&resume=false&u=76276956)\n",
    "\n",
    "In this video, they used the **Exercise Files > Ch01 > Home_remodel_TC01_04.mpp** file.\n",
    "\n",
    "We can track a target date for a given milestone or task.\n",
    "\n",
    "1. Doubleclick on your task\n",
    "\n",
    "\n",
    "2. Update the **Deadline** portion (or target date) for the activity\n",
    "<img src=\"IMGS/ChkProjSched13.png\">\n",
    "\n",
    "\n",
    "Deadlines act different from a **Constraint** - so you can have both.\n",
    "\n",
    "Once the activity is completed, it shows as a green arrow in the Gantt chart.\n",
    "\n",
    "If finish exceeds the deadline, an indicator will show in the _Indicators_ column to let you know the task is past due.\n",
    "\n",
    "Deadlines provide ability to see target dates vs current schedule."
   ]
  },
  {
   "cell_type": "markdown",
   "id": "3e017e30",
   "metadata": {},
   "source": [
    "# [Tracking Deadlines With Formatted Toolbars](https://www.linkedin.com/learning/managing-time-constrained-projects-with-microsoft-project/tracking-deadlines-with-formatted-taskbars?autoSkip=true&autoplay=true&contextUrn=urn%3Ali%3AlyndaLearningPath%3A56db2e7e3dd5596be4e4989e&resume=false&u=76276956)\n",
    "\n",
    "In this video, they used the **Exercise Files > Ch01 > Home_remodel_TC01_05.mpp** file.\n",
    "\n",
    "If you want to see all deadlines on a single line, you will want to roll them up to your project summary line.\n",
    "\n",
    "1. Right click in the Gantt section and choose **Bar Styles**\n",
    "<img src=\"IMGS/ChkProjSched14.png\">\n",
    "\n",
    "\n",
    "2. In the **Bar Styles** box, select the row that should happen just after this new one you will add - nameit:  _Rolled Up Deadlines_\n",
    "<img src=\"IMGS/ChkProjSched15.png\">\n",
    "\n",
    "\n",
    "3. Since we want to display a new bar style but no bar, change _Middle_ shape to **blank** shape\n",
    "\n",
    "\n",
    "4. For _End_ choose a shape like the down arrow & a color (like gold)\n",
    "\n",
    "\n",
    "5. In **Show For ... Tasks** update to **Rolled Up**\n",
    "\n",
    "\n",
    "6. In the **From** and **To** fields, choose Deadline\n",
    "\n",
    "\n",
    "7. Click the **OK** button\n",
    "\n",
    "\n",
    "8. Select the various tasks you want to see deadlines for - you can do so by seelcting the **CTRL** key and clicking the different tasks - be sure to include line 0 (total project summary task)\n",
    "\n",
    "\n",
    "9. Right-click on any of those tasks and select **Information** from the menu - ensure the **Rollup** checkbox is checked\n",
    "\n",
    "\n",
    "Your rolled up tasks will now show the milestone date and deadline."
   ]
  },
  {
   "cell_type": "markdown",
   "id": "8733d79f",
   "metadata": {},
   "source": [
    "# Adding Buffers To Your Schedule\n",
    "\n",
    "In this video, they used the **Exercise Files > Ch01 > Home_remodel_TC01_06.mpp** file.\n",
    "\n",
    "In time constrained projects, you may have lag used as a buffer.\n",
    "\n",
    "## Automatic Mode\n",
    "\n",
    "### Create Buffer Task & Relink\n",
    "\n",
    "You will need to:\n",
    "\n",
    "1. Right click the final task that should start after the buffer and choose **Insert task** from the menu - then name the task & provide the duration (for the lag you are \"replacing\")\n",
    "<img src=\"IMGS/ChkProjSched16.png\">\n",
    "\n",
    "\n",
    "2. Break the link between the 2 tasks by clicking the tasks and then the **Unlink Tasks** button\n",
    "<img src=\"IMGS/ChkProjSched17.png\">\n",
    "\n",
    "\n",
    "3. Re-link the tasks by selecting all related links and then hitting the **Link the Selected Tasks** button - this will put them in sequence\n",
    "<img src=\"IMGS/ChkProjSched18.png\">\n",
    "\n",
    "\n",
    "### Provide Ability To View Buffers\n",
    "\n",
    "#### Create Buffer Field (Label The Task)\n",
    "\n",
    "1. Insert a customizable column by right-clicking a column, choose **Insert Column** and then choosing **Flag1**\n",
    "\n",
    "\n",
    "2. Rename to **Buffer** by right-clicking on the **Flag1** column name, selecting **Custom Fields**, hit the **Rename** button and update the name.\n",
    "\n",
    "\n",
    "3. Change the **Buffer** field from **No** to **Yes** for the buffer task\n",
    "\n",
    "\n",
    "#### Create Format For Gantt Chart\n",
    "\n",
    "1. Go back to **Bar Styles**\n",
    "\n",
    "\n",
    "2. Insert row below **Task** bar style & call it **Buffer**\n",
    "<img src=\"IMGS/ChkProjSched19.png\">\n",
    "\n",
    "\n",
    "3. For **Middle**, change the color so you can see it\n",
    "\n",
    "\n",
    "4. For **Show For ... Tasks** type:  `Normal, Flag1, Active, Not Manually Scheduled`\n",
    "\n",
    "\n",
    "5. Press **OK** button"
   ]
  },
  {
   "cell_type": "markdown",
   "id": "cc20fdb9",
   "metadata": {},
   "source": [
    "## Manual Mode\n",
    "\n",
    "1. Insert a column to left of **Task Name** - use **Task Mode**\n",
    "\n",
    "\n",
    "2. For whatever task you would like, change from _Auto Scheduled_ to _Manually Scheduled_ - this will allow you to see the summary line\n",
    "\n",
    "By doing this, you will be able to tell when the series of tasks exceeds the particular summary."
   ]
  },
  {
   "cell_type": "markdown",
   "id": "b5d9bb2a",
   "metadata": {},
   "source": [
    "# Managing Buffers\n",
    "\n",
    "In this video, they used the **Exercise Files > Ch01 > Home_remodel_TC01_07.mpp** file.\n",
    "\n",
    "Updating the **End Date** will allow you to see how these buffers impact your schedule.\n",
    "\n",
    "If using a manual buffer that exceeds it's summary, you can right click and choose **Task Inspector** for suggestions on how to resolve."
   ]
  }
 ],
 "metadata": {
  "kernelspec": {
   "display_name": "Python 3 (ipykernel)",
   "language": "python",
   "name": "python3"
  },
  "language_info": {
   "codemirror_mode": {
    "name": "ipython",
    "version": 3
   },
   "file_extension": ".py",
   "mimetype": "text/x-python",
   "name": "python",
   "nbconvert_exporter": "python",
   "pygments_lexer": "ipython3",
   "version": "3.10.2"
  }
 },
 "nbformat": 4,
 "nbformat_minor": 5
}
