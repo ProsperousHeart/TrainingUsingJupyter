{
 "cells": [
  {
   "cell_type": "markdown",
   "id": "47137b4d",
   "metadata": {},
   "source": [
    "# [Displaying The Critical Path & Slack](https://www.linkedin.com/learning/managing-time-constrained-projects-with-microsoft-project/displaying-the-critical-path-and-slack?autoplay=true&contextUrn=urn%3Ali%3AlyndaLearningPath%3A56db2e7e3dd5596be4e4989e&resume=false&u=76276956)\n",
    "\n",
    "In this video, they used the **Exercise Files > Ch02 > Home_remodel_TC02_01.mpp** file.\n",
    "\n",
    "## Adding Critical Path & Slack\n",
    "\n",
    "If your project is supposed to be done in a particular timeframe and you're already over, you can use the **Critical Path** to see the longest path through the project.\n",
    "\n",
    "You will got ot he _Format_ ribbon and check the **Critical Task** box.\n",
    "<img src=\"IMGS/2/01.png\">\n",
    "\n",
    "You will now see tasks that are essential, as they will change colors.\n",
    "\n",
    "You can do the same for **Late Tasks**:\n",
    "<img src=\"IMGS/2/02.png\">\n",
    "\n",
    "... or how much slack is available:\n",
    "<img src=\"IMGS/2/03.png\">\n",
    "\n",
    "The **Slack** option will show a line under the task bar in the Gantt chart for the spare time the task can have.\n",
    "\n",
    "## Show Time On Non-Critical Tasks\n",
    "\n",
    "1. Right-click in Gantt chart andselect **Bar STyles**\n",
    "\n",
    "\n",
    "2. Ensure the **Tasks** line is selected, and then select the **Text** tab:\n",
    "<img src=\"IMGS/2/04.png\">\n",
    "\n",
    "\n",
    "3. Change **Right** from _Resource Names_ to _Total Slack_ then hit the **OK** button.\n",
    "<img src=\"IMGS/2/05.png\">"
   ]
  },
  {
   "cell_type": "markdown",
   "id": "6b20c513",
   "metadata": {},
   "source": [
    "# [Fixing An Incomplete Critical Path](https://www.linkedin.com/learning/managing-time-constrained-projects-with-microsoft-project/fixing-an-incomplete-critical-path?autoSkip=true&autoplay=true&contextUrn=urn%3Ali%3AlyndaLearningPath%3A56db2e7e3dd5596be4e4989e&resume=false&u=76276956)\n",
    "\n",
    "In this video, they used the **Exercise Files > Ch02 > Home_remodel_TC02_02.mpp** file.\n",
    "\n",
    "In this example, the project has exceeded the time the customer gave for completion. Team has been asked to revisit estimates for hte work.\n",
    "\n",
    "They mentioned several things they had already done, but one shortcut that was new was to change the successor to be **finish to finish** by adding the task number and FF, like:  `28ff`"
   ]
  },
  {
   "cell_type": "markdown",
   "id": "2af216e4",
   "metadata": {},
   "source": [
    "# Filtering to Show Critical Path\n",
    "\n",
    "In this video, they used the **Exercise Files > Ch02 > Home_remodel_TC02_03.mpp** file.\n",
    "\n",
    "Onthe _View_ tab, select the drop down for **Filter** and choose **Critical**.\n",
    "\n",
    "This is basically looking at the **Critical** column that is likely not showing in your columns - which you can add."
   ]
  },
  {
   "cell_type": "markdown",
   "id": "b3a562f4",
   "metadata": {},
   "source": [
    "# [Filtering To Show Multiple Critical Paths](https://www.linkedin.com/learning/managing-time-constrained-projects-with-microsoft-project/filtering-to-show-multiple-critical-paths?autoSkip=true&autoplay=true&contextUrn=urn%3Ali%3AlyndaLearningPath%3A56db2e7e3dd5596be4e4989e&resume=false&u=76276956)\n",
    "\n",
    "In this video, they used the **Exercise Files > Ch02 > Home_remodel_TC02_04.mpp** file.\n",
    "\n",
    "To see how fara away some of the non-critical activities are, you will:\n",
    "\n",
    "1. Go to **File > Options > Advanced**\n",
    "\n",
    "\n",
    "2. Scroll to the bottom to locate the _Tasks are critical if slack is less than or equal to ??? days_\n",
    "\n",
    "\n",
    "3. Update from 0 if you would like to see those tasks that are needing to be completed soon\n",
    "\n",
    "\n",
    "This helps you understand risk tolerance within your project."
   ]
  },
  {
   "cell_type": "markdown",
   "id": "198c836f",
   "metadata": {},
   "source": [
    "# [Setting A Baseline](https://www.linkedin.com/learning/managing-time-constrained-projects-with-microsoft-project/setting-a-baseline?autoSkip=true&autoplay=true&contextUrn=urn%3Ali%3AlyndaLearningPath%3A56db2e7e3dd5596be4e4989e&resume=false&u=76276956)\n",
    "\n",
    "In this video, they used the **Exercise Files > Ch02 > Home_remodel_TC02_05.mpp** file.\n",
    "\n",
    "This will show variance moving forward.\n",
    "\n",
    "1. Go to _Task_ ribbon and under the **Gantt Chart** select **Tracking Gantt** view - you may need to zoom out using the lower right-hand corner\n",
    "<img src=\"IMGS/2/06.png\">\n",
    "\n",
    "\n",
    "2. Go to _Project_ ribbon and select **Set Baseline**\n",
    "<img src=\"IMGS/2/07.png\">\n",
    "\n",
    "\n",
    "3. Choose which baseline you would like to set as from the **Set baseline** dropdown\n",
    "\n",
    "\n",
    "You will now be bale to see any changes made further on, alongside what this current baseline is."
   ]
  },
  {
   "cell_type": "markdown",
   "id": "791f8720",
   "metadata": {},
   "source": [
    "# [Looking For Schedule Problems](https://www.linkedin.com/learning/managing-time-constrained-projects-with-microsoft-project/looking-for-schedule-problems?autoSkip=true&autoplay=true&contextUrn=urn%3Ali%3AlyndaLearningPath%3A56db2e7e3dd5596be4e4989e&resume=false&u=76276956)\n",
    "\n",
    "In this video, they used the **Exercise Files > Ch02 > Home_remodel_TC02_06.mpp** file.\n",
    "\n",
    "## Updates To Buffer\n",
    "\n",
    "In this video, because of the earlier changes the buffer didn't show properly.\n",
    "\n",
    "1. Created a new bar style for buffer at the bottom with a different color than initially created\n",
    "\n",
    "2. Rturned to the **Gantt Chart** view and cut the top Buffer bar style, then pasted it right below the critical bar style, since MS Project applies from top to bottom.\n",
    "\n",
    "## Finish No Earlier Than\n",
    "\n",
    "Project was 28 days and they wanted it to be 30 days.\n",
    "\n",
    "1. Double-click the \"Complet projhect\"milestone\n",
    "\n",
    "\n",
    "2. Change **Constraint type** to **Finish No Earlier Than** - provide a date"
   ]
  }
 ],
 "metadata": {
  "kernelspec": {
   "display_name": "Python 3 (ipykernel)",
   "language": "python",
   "name": "python3"
  },
  "language_info": {
   "codemirror_mode": {
    "name": "ipython",
    "version": 3
   },
   "file_extension": ".py",
   "mimetype": "text/x-python",
   "name": "python",
   "nbconvert_exporter": "python",
   "pygments_lexer": "ipython3",
   "version": "3.10.2"
  }
 },
 "nbformat": 4,
 "nbformat_minor": 5
}
