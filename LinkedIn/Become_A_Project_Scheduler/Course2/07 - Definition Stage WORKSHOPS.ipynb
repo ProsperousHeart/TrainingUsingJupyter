{
 "cells": [
  {
   "cell_type": "markdown",
   "id": "be395bc1",
   "metadata": {},
   "source": [
    "# [Change Management Facilitation](https://www.linkedin.com/learning/change-management-for-projects/change-management-facilitation)\n",
    "\n",
    "Facilitated workshops are an important part of the project. They're used to:\n",
    "- define requirements\n",
    "- create plans\n",
    "- gather ideas\n",
    "- resolve issues\n",
    "- create plans\n",
    "\n",
    "Each workshop should have an allocated independent facilitator. (Guidance on rules and processes for running a facilitated workshop is in this course's exercise file:  `Facilitation Process.pdf`)\n",
    "\n",
    "This will outline some skills to help keep your workshop & project on track.\n",
    "\n",
    "1. **Active Listening.** Listen to others first. Really hear what the speaker is saying. _Listening first earns the right to be heard ourselves._\n",
    "\n",
    "    - **Be present** & genuinely interested in what is being said. This breaks down hostility and barriers.\n",
    "    - **Pay attention to body language.** Listen with your eyes - what body language do you observe when the other person is talking? Are you picking p on any hidden messages that give yo clues on their position?\n",
    "    - **Ask questions.** Listen with your instincts - sometimes you can sense when someone is holding back. Gently ask questiosn that lead them to open up.\n",
    "    - **Try to understand how they feel.** Listen with your heart - what do you think they are feeling?\n",
    "\n",
    "\n",
    "2. **Empathy** - recognizing others' emotions & having the ability to put yourself in another person's shoes. To effective use empathy, you need to practice:\n",
    "\n",
    "    - Seeing things from the other person's perspective.\n",
    "    - Validate their perspective.\n",
    "    - Consider your attitude. Are you concerned with finding a solution or being right? Have an open mind & attitude to others' opinions.\n",
    "    - Actively listen.\n",
    "    - Ask what they want."
   ]
  },
  {
   "cell_type": "markdown",
   "id": "83eb98a3",
   "metadata": {},
   "source": [
    "# [What To Do When A Workshop Goes Off Course](https://www.linkedin.com/learning/change-management-for-projects/what-to-do-when-a-workshop-goes-off-course)\n",
    "\n",
    "Recognize & empathize - let them know you know how they feel. Offer to speak individually with them to take the issue outside of the workshop. That way you can focus on the workshop's objectives."
   ]
  },
  {
   "cell_type": "markdown",
   "id": "65d660bd",
   "metadata": {},
   "source": [
    "# [How To Deal With Conflict Between attendees](https://www.linkedin.com/learning/change-management-for-projects/how-to-deal-with-conflict-between-attendees)\n",
    "\n",
    "People and change often equals conflict, and it's not uncommon that thsoe emotions surface at events like workshops."
   ]
  },
  {
   "cell_type": "markdown",
   "id": "47ed9f91",
   "metadata": {},
   "source": [
    "# [How To Deal With An Attendee Who Has Not Accepted Change](https://www.linkedin.com/learning/change-management-for-projects/how-to-deal-with-an-attendee-who-has-not-accepted-change)\n",
    "\n",
    "Not everyone moves at the same pace, and those going through change can go through a lot of emotions. In a workshop, problems can arise if they haven't yet accepted the change.\n",
    "\n",
    "Sometimes they need more time to think things through. Consider postponing the workshop & offering support in teh mean time."
   ]
  },
  {
   "cell_type": "markdown",
   "id": "adc189bd",
   "metadata": {},
   "source": [
    "# [Plan Readiness For Change](https://www.linkedin.com/learning/change-management-for-projects/plan-readiness-for-change)\n",
    "\n",
    "Project deliverables are not generally just dropped in a BU, nor used by everyone seamlessly.\n",
    "\n",
    "To prepare for change:\n",
    "1. Communicate with BUs to clearly define their requirements (each BU may have different requirements from the system)\n",
    "2. With their input and feedback, gain their commitment to using when delivered\n",
    "3. Involve early adopters (this will help influence other users when they hear how it's progressing)\n",
    "4. Address need for training & support during & after delivery"
   ]
  }
 ],
 "metadata": {
  "kernelspec": {
   "display_name": "Python 3 (ipykernel)",
   "language": "python",
   "name": "python3"
  },
  "language_info": {
   "codemirror_mode": {
    "name": "ipython",
    "version": 3
   },
   "file_extension": ".py",
   "mimetype": "text/x-python",
   "name": "python",
   "nbconvert_exporter": "python",
   "pygments_lexer": "ipython3",
   "version": "3.10.2"
  }
 },
 "nbformat": 4,
 "nbformat_minor": 5
}
