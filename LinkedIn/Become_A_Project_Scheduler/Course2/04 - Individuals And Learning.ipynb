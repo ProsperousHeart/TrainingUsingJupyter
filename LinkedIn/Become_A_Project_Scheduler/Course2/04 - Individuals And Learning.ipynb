{
 "cells": [
  {
   "cell_type": "markdown",
   "id": "5b7bb807",
   "metadata": {},
   "source": [
    "# [Plan Learning Needs](https://www.linkedin.com/learning/change-management-for-projects/plan-learning-needs)\n",
    "\n",
    "When a change is introduced to an orgniazation, it frequently means that people need to learn something new.\n",
    "\n",
    "Common approach to defining what is to be learned is to identify the knolwedge, skills, and attitudes required from the learners. This new knowledge could be regulations ties to their job or ability to use a new software.\n",
    "\n",
    "Your job as the PM is to work with the change manager to create the learning plan based on your knowledge of the products being delivered & schedule for delivery.\n",
    "\n",
    "People learn in different ways, so helping to plan the learning needs is nto as simple as showing people how things owrk.\n",
    "\n",
    "**[Kolb's cycle](https://www.simplypsychology.org/learning-kolb.html)** (later adopted by Honey & Mumford) is a great tool to help with planning learning. It suggests that in order for true learning to be achieved, all 4 stages of the cycle need to be experienced in any order. People move through the stages via a chance in behavior.\n",
    "\n",
    "<img src =\"IMGs/4/01.png\">\n",
    "\n",
    "Honey & Mumford took the theory further saying individuals have a preference towards a particular learning style. But being exposed to other learning styles may consolidate their learning.\n",
    "\n",
    "1. **Activist** - attracted to the _concrete experience_. They like to dive in & try things, enjoy role playing or playing with a new system before training.\n",
    "\n",
    "\n",
    "2. **Reflector** - attracted to _reflective observation_. They like to learn by watcing others & benefit from demonstrations or online learning courses.\n",
    "\n",
    "\n",
    "3. **Theorist** - attracted to _abstract conceptualization_. They're generally happy to read up on topics, attend a seminar, conference, or lecture to elarn more\n",
    "\n",
    "\n",
    "4. **Pragmatist** - attracted to _practical experimentation_. Like to test & apply theories in a real life environment.\n",
    "\n",
    "\n",
    "<img src =\"IMGs/4/02.png\">"
   ]
  },
  {
   "cell_type": "markdown",
   "id": "22649ab8",
   "metadata": {},
   "source": [
    "# [How To Apply Kolb's Learning Styles](https://www.linkedin.com/learning/change-management-for-projects/how-to-apply-kolb-s-learning-styles)\n",
    "\n",
    "Training package that applies to everyone's preferences is essential.\n",
    "\n",
    "<img src =\"IMGs/4/03.png\">\n",
    "\n",
    "It is still essential the learners complete a skills test either online or in a real life situation to confirm their new skills.\n",
    "\n",
    "By not enforcing compulsory attendance to a hands on course, learners can choose the method they feel most comfortable with."
   ]
  }
 ],
 "metadata": {
  "kernelspec": {
   "display_name": "Python 3 (ipykernel)",
   "language": "python",
   "name": "python3"
  },
  "language_info": {
   "codemirror_mode": {
    "name": "ipython",
    "version": 3
   },
   "file_extension": ".py",
   "mimetype": "text/x-python",
   "name": "python",
   "nbconvert_exporter": "python",
   "pygments_lexer": "ipython3",
   "version": "3.10.2"
  }
 },
 "nbformat": 4,
 "nbformat_minor": 5
}
