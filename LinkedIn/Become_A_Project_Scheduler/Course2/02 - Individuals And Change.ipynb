{
 "cells": [
  {
   "cell_type": "markdown",
   "id": "154fabc8",
   "metadata": {},
   "source": [
    "# [Effects Of Change On Individuals](https://www.linkedin.com/learning/change-management-for-projects/effects-of-change-on-individuals)\n",
    "\n",
    "Ever noticed how people respond when they hear something about their job or working environment will change?\n",
    "\n",
    "As a PM, the [Kubler-Ross Change Curve](https://www.ekrfoundation.org/5-stages-of-grief/change-curve/) is one of the most useful tools the trainer has used. It helps you understand that the emoptional responses to change are compeltely normal - and that people won't change by you simply telling them to accept it. People must go on their emotional journey.\n",
    "\n",
    "<img src =\"IMGs/2/01.png\">\n",
    "\n",
    "The above curve shows the emotions people will have and the behaviors they will exhibit. From there, you can ID the people management activities to help overcome those behaviors. Which in turn can help them move to acceptance.\n",
    "\n",
    "For some, they can bypass steps and while other may find it a long process.\n",
    "\n",
    "Here are some behaviors for each emotion.\n",
    "\n",
    "## Shock\n",
    "\n",
    "They may want to get away from teh bearer of bad news - unable to accept what they're hearing.\n",
    "\n",
    "Watch out for people who seem to be ignoring any information about the change & quietly try to get on with things as normal.\n",
    "\n",
    "## Denial\n",
    "\n",
    "They don't believe the change will happen.\n",
    "\n",
    "Be aware of people who seem to be working al ittle harder than normal & keeping their heads under the radar.\n",
    "\n",
    "## Anger\n",
    "\n",
    "They may be looking for someone to blame for the change - which often leads to anger at the imagined source. (In some cases is the PM.)\n",
    "\n",
    "Keep an eye out for people who are expressing negative views of the change, blaming anyone & everyone for it.\n",
    "\n",
    "## Bargaining\n",
    "\n",
    "Feeling is they do more, maybe the change won't happen & they'll be safe.\n",
    "\n",
    "Look for people who seem to focus on negotiating to keep things as they are.\n",
    "\n",
    "## Confusion & Depression\n",
    "\n",
    "This sets in at the lowest point.\n",
    "\n",
    "Watch for people clinging to old ways of doing things. They could be withdrawing or seeming disinterested. Morale & productivity at lowest point & motivating them is very difficult.\n",
    "\n",
    "Eventually, the individual will resolve to address the change head-on, telling themslves to do something about it. And they are now ...\n",
    "\n",
    "## Acceptance & Problem Solving\n",
    "\n",
    "You may see renewed energy & sense of purpose in those people.\n",
    "\n",
    "Once they decide to act, they'll start thinking what they can do.\n",
    "\n",
    "The journey to problem solving has staretd."
   ]
  },
  {
   "cell_type": "markdown",
   "id": "aec64f24",
   "metadata": {},
   "source": [
    "# [How To Deal With Shock](https://www.linkedin.com/learning/change-management-for-projects/how-to-deal-with-shock)\n",
    "\n",
    "Communicate 1:1 and ask if they want to discuss any details.\n",
    "\n",
    "Offer them time to think about it, as they understand it's a lot to take in straight away.\n",
    "\n",
    "Taking the time to meet 1:1 is an effective way to deal with shock & help the project move forward."
   ]
  },
  {
   "cell_type": "markdown",
   "id": "cfb6010b",
   "metadata": {},
   "source": [
    "# [How To Deal With Denial](https://www.linkedin.com/learning/change-management-for-projects/how-to-deal-with-denial)\n",
    "\n",
    "This may be someone who pushes back after being told about a planned change.\n",
    "\n",
    "Invite them to participate - let them know their feedback is valued.\n",
    "\n",
    "They may mention prior failures.\n",
    "\n",
    "Be prepared to repeat messages if they contionue to fall on deaf ears.\n",
    "\n",
    "As the PM ...\n",
    "1. acknowledge previous failures, the impact it had & lessons learned going forward\n",
    "2. make it very clear the change will proceed\n",
    "3. ask the person to engage in action again\n",
    "4. get agreement"
   ]
  },
  {
   "cell_type": "markdown",
   "id": "36534dd4",
   "metadata": {},
   "source": [
    "# [How To Deal With Anger & Blame](https://www.linkedin.com/learning/change-management-for-projects/how-to-deal-with-anger-and-blame)\n",
    "\n",
    "Acknowledge their fear. Let them feel heard. Bring up benefits. Address their concerns and find solutions.\n",
    "\n",
    "Listen, empathize, remove blame, and clarify the reason for the project. Offer to find out & share more information."
   ]
  },
  {
   "cell_type": "markdown",
   "id": "eb641fba",
   "metadata": {},
   "source": [
    "# [How To Deal With Bargaining](https://www.linkedin.com/learning/change-management-for-projects/how-to-deal-with-bargaining)\n",
    "\n",
    "Confirmt he change, then spot their concern - and address it.\n",
    "\n",
    "Let them know you want their input. You can spend time with them & address their concerns or get their managers to meet on 1:1. Once they agree, get them involved in a peer group."
   ]
  },
  {
   "cell_type": "markdown",
   "id": "2eb0330a",
   "metadata": {},
   "source": [
    "# [How To Deal With Confusion & Depression](https://www.linkedin.com/learning/change-management-for-projects/how-to-deal-with-confusion-and-depression)\n",
    "\n",
    "They may seem disillusioned. Genuinely engage with them & empathize - offer support & coaching to help them reach acceptance.\n",
    "\n",
    "Once they feel like they have support, it is far more likely that they will move forward & feel more positive about the change."
   ]
  },
  {
   "cell_type": "markdown",
   "id": "564f2aa2",
   "metadata": {},
   "source": [
    "# [How To Deal With Acceptance & Problem-Solving](https://www.linkedin.com/learning/change-management-for-projects/how-to-deal-with-acceptance-and-problem-solving)\n",
    "\n",
    "For a person who finally realized the potential opportunities, it's vital to seem to be supportive of trials & innovation - even if they don't work."
   ]
  }
 ],
 "metadata": {
  "kernelspec": {
   "display_name": "Python 3 (ipykernel)",
   "language": "python",
   "name": "python3"
  },
  "language_info": {
   "codemirror_mode": {
    "name": "ipython",
    "version": 3
   },
   "file_extension": ".py",
   "mimetype": "text/x-python",
   "name": "python",
   "nbconvert_exporter": "python",
   "pygments_lexer": "ipython3",
   "version": "3.10.2"
  }
 },
 "nbformat": 4,
 "nbformat_minor": 5
}
