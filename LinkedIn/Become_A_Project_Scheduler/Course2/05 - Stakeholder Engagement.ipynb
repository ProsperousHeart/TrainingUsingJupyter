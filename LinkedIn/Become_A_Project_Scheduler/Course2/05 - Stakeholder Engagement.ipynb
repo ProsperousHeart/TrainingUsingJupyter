{
 "cells": [
  {
   "cell_type": "markdown",
   "id": "32db3c53",
   "metadata": {},
   "source": [
    "# [Engaging Stakeholders](https://www.linkedin.com/learning/change-management-for-projects/engaging-stakeholders)\n",
    "\n",
    "Knowing who your stakeholders are & determining how to communicate with them effectively is extremely important for hte project & a vital skill for hte PM. It is also something you'll have to master fo revery project.\n",
    "\n",
    "Generic process every PM should know:\n",
    "\n",
    "1. Identify stakeholders - forgetting a stakeholder could be detrimental to a project\n",
    "    - brainstorm a list\n",
    "    - talk to other stakeholders\n",
    "    - create stakeholder mindmaps\n",
    "    - hold a stakeholder ID workshop\n",
    "    \n",
    "    One tool used to ID stakeholders is **CPIG** - a method of segmenting your stakeholders into 4 broad categories:\n",
    "        **C**ustomers - the people who want the change & benefit from it\n",
    "        **P**roviders - those who will provide the solution (could be internal, external, or a mix of both people)\n",
    "        **I**nfluencers - groups like the media, trade unions, steering groups or committees\n",
    "        **G**overnance - likely to be decision makers or regulators (internal or external)\n",
    "\n",
    "\n",
    "2. Analyze stakeholders - understand a little more about them (where possible, seek out for a face to face chat - at least call adn talk to them); create a stakeholder profile and:\n",
    "    - find out what interested in about the change\n",
    "    - determine what they already know & don't know\n",
    "    - find out what they need to know\n",
    "    - determine how they'd like to receive their information\n",
    "\n",
    "\n",
    "3. Create the communications plan based on the information you've gathered - set out the communication you will provide throughout the change for each stakeholder\n",
    "\n",
    "\n",
    "4. Review stakehodlers & communications - it's important to regularly catch up with & review your stakeholders (to update their profiles & communications since all sorts of things can change including their level of interest or support, new ones may need to be identified, etc)"
   ]
  },
  {
   "cell_type": "markdown",
   "id": "ad32d5a1",
   "metadata": {},
   "source": [
    "# [Planning Change Communications](https://www.linkedin.com/learning/change-management-for-projects/planning-change-communications)\n",
    "\n",
    "People can make or break your project. Communicating at an appropriate time & through an appropriate channel is essential for the success of the project.\n",
    "\n",
    "You need to build rapport with your stakeholders - including how they prefer to communicate.\n",
    "\n",
    "5 key factors to consider for each stakeholder when creating the communications plan:\n",
    "\n",
    "1. **Objectives** - having already analyzed each stakeholder, you should have an idea of what they're interested in & to what level. Understanding the purpose ensure the correct content & tone. Consider:\n",
    "    - is this communication to gain support?\n",
    "    - is this to inform?\n",
    "    - do you need their feedback?\n",
    "    - will the communication lead to a decision?\n",
    "    \n",
    "\n",
    "2.  What are the **key messages** to get across? Are you ...\n",
    "    - selling the benefits & opportunities to be gained from the change?\n",
    "    - explaining reasons for the change to gain their commitment?\n",
    "    - providing updates on progress relevant to them?\n",
    "\n",
    "\n",
    "3. What is the **channel and frequency**? _Frequency_ depends on what you need to share, like weekly reports. _Channel_ is how the information is sent & depends on who is receiving it. (Not all stakeholders will want the message sent through the same channel.) The channel(s) will have been determined throught he stakeholder profiles.\n",
    "\n",
    "\n",
    "4. **Who will create and deliver** the communciations? Not all comms will be sent by the PM, so it's important to ID who will be respondible for creating & delivering the comms - could be the same or different people, depending on what the comm is.\n",
    "\n",
    "\n",
    "5. **Measurement** - how will the comms be measured? Don't assume all comms will be received and understood clearly. You need to ensure they have the desired effect. A quick check can determine if they are receiving enough, too little, or completely confused. Based on feedback, you can update your communications plan. (If you have access to the exercise files, see **_Communications Plan_DL.xlsx_**)"
   ]
  }
 ],
 "metadata": {
  "kernelspec": {
   "display_name": "Python 3 (ipykernel)",
   "language": "python",
   "name": "python3"
  },
  "language_info": {
   "codemirror_mode": {
    "name": "ipython",
    "version": 3
   },
   "file_extension": ".py",
   "mimetype": "text/x-python",
   "name": "python",
   "nbconvert_exporter": "python",
   "pygments_lexer": "ipython3",
   "version": "3.10.2"
  }
 },
 "nbformat": 4,
 "nbformat_minor": 5
}
