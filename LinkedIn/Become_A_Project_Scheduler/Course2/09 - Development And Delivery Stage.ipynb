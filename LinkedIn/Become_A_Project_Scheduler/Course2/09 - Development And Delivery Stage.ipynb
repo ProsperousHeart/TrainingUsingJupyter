{
 "cells": [
  {
   "cell_type": "markdown",
   "id": "d1fb4507",
   "metadata": {},
   "source": [
    "# [Motivating People](https://www.linkedin.com/learning/change-management-for-projects/motivating-people)\n",
    "\n",
    "For change to happen, people first need to WANT it to happen. They must feel motivated & that the reward is worth it.\n",
    "\n",
    "As a PM, you will need to know how to continually motivate your team & users during the project.\n",
    "\n",
    "1. Get commitment\n",
    "2. Keep people focused on delivery\n",
    "3. Motivate end users\n",
    "\n",
    "[Herzberg's Motivation Theory](https://www.simplypsychology.org/herzbergs-two-factor-theory.html) can be helpful in keeping people motivated. His study noted that job satisfactikno stemmed from a set of motivators, which when used caused people to take action and make change. These motivators are:\n",
    "- achievement\n",
    "- recognition\n",
    "- responsibility\n",
    "- advancement\n",
    "- learning\n",
    "- type & nature of work\n",
    "\n",
    "He also noted a set of hygiene factors that employees expected from their employer & were rarely successful in motivating people. These factors are:\n",
    "- pay\n",
    "- company policy\n",
    "- quality of supervision\n",
    "- working relations\n",
    "- working conditions\n",
    "- status\n",
    "\n",
    "However, a lack of (or withdrawal) of these hygiene factors would lead to dissatisfaction & a lack of motivation.\n",
    "\n",
    "Taking these observations into account, here are some ways to motivate people:\n",
    "\n",
    "1. **Provide recognition** when it's due - either for an individual or a team\n",
    "\n",
    "\n",
    "2. **Create visibility** - keep the project highly visible & celebrate the prouject's successes (helps team members feel a sense of achievement in how their efforts contribute to the project objectives)\n",
    "\n",
    "\n",
    "3. **Build in variety** - keep the work varied! Be a proactive manager of hte team, providing challenges & coaching to help the team acquire new skills.\n",
    "\n",
    "\n",
    "4. **Offer opportunities for growth**\n",
    "\n",
    "\n",
    "5. **Acknoweldge individual contributions**\n",
    "\n",
    "\n",
    "6. **Delegate responsibility** to those who earn it & avoid micromanagement"
   ]
  },
  {
   "cell_type": "markdown",
   "id": "84d5af85",
   "metadata": {},
   "source": [
    "# [Dealing With A Demotivated Team Member](https://www.linkedin.com/learning/change-management-for-projects/dealing-with-a-demotivated-team-member)\n",
    "\n",
    "_\"I just heard you're going to be losing some responsibilities after this change. I was wondering how you feel about that?\"_\n",
    "\n",
    "Let them know their efforts were recognized & they were onsidered an expert. Present a new opportunity for them."
   ]
  },
  {
   "cell_type": "markdown",
   "id": "d93f4394",
   "metadata": {},
   "source": [
    "# [Dealing With A Demotivated Team](https://www.linkedin.com/learning/change-management-for-projects/dealing-with-a-demotivated-team)\n",
    "\n",
    "Remind the team they have your trust.\n",
    "\n",
    "Recognize the good work they have already achieved."
   ]
  },
  {
   "cell_type": "markdown",
   "id": "7dc16c80",
   "metadata": {},
   "source": [
    "# [Reporting & Communication](https://www.linkedin.com/learning/change-management-for-projects/reporting-and-communication)\n",
    "\n",
    "AS the project progresses, it is essential for the PM to keep stakeholders informed. Sometimes this information is used to make decisions, thus having concise & accurate information is essential.\n",
    "\n",
    "Possible ways to gather information:\n",
    "- formal weekly team report (good for audit trail)\n",
    "- email or phone call update every few days (less formal but likely more appropriate with a highly skilled team)\n",
    "- daily standup (highly collaborative & transparent - usually conducted in front of team board)\n",
    "\n",
    "Once information is gathered, need to communicate to stakeholders as outlined in communication plan. (Not all stakeholders will want the same info in the same format.)"
   ]
  }
 ],
 "metadata": {
  "kernelspec": {
   "display_name": "Python 3 (ipykernel)",
   "language": "python",
   "name": "python3"
  },
  "language_info": {
   "codemirror_mode": {
    "name": "ipython",
    "version": 3
   },
   "file_extension": ".py",
   "mimetype": "text/x-python",
   "name": "python",
   "nbconvert_exporter": "python",
   "pygments_lexer": "ipython3",
   "version": "3.10.2"
  }
 },
 "nbformat": 4,
 "nbformat_minor": 5
}
