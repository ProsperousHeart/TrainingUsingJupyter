{
 "cells": [
  {
   "cell_type": "markdown",
   "id": "6cbbdd48",
   "metadata": {},
   "source": [
    "# [Introduction](https://www.linkedin.com/learning/change-management-for-projects/people-are-the-key-to-change)\n",
    "\n",
    "People are creatures of habit & don't like change - especially when companies try to change how we work.\n",
    "\n",
    "Studies show 80% of initiatives fail to stick. Reasons for failure:\n",
    "- lack of people (management) skills\n",
    "- inadequate communications\n",
    "- poor leadership\n",
    "- ineffective management\n",
    "\n",
    "So this will address the side of people management to help change stick."
   ]
  },
  {
   "cell_type": "markdown",
   "id": "0aae775a",
   "metadata": {},
   "source": [
    "# Overview\n",
    "\n",
    "## [Change Management Roles](https://www.linkedin.com/learning/change-management-for-projects/change-management-roles)\n",
    "\n",
    "Every hange should have people dedicated to specific roles to ensure smooth transition. And that it sticks.\n",
    "\n",
    "There are a number of key roles you will need to interact with:\n",
    "\n",
    "1. **Change Manager** - defines the change management activities & manages change by:\n",
    "    - developing change management plan that sets out many things, including communication objectives for the change\n",
    "    - planning a large number of activities to provide support to staff affected by the change\n",
    "    - creating a business continuity plan to ensure the change is not detrimentally disruptive to the business\n",
    "    \n",
    "\n",
    "2. **Sponsor** - likely they also hold a wider role in the change (_e.g.:  head of business unit looking for change to be delivered_) with main responsibilities being to:\n",
    "    - identify the benefits the change will deliver to the BU & check they are aligned with strategic objectives\n",
    "    - gain and build buy-in or support from key stakeholders within the business\n",
    "    - ensure funding is provided & gets appropriate approval to begin and continue\n",
    "\n",
    "\n",
    "3. **Change Agent** - usually a voluntary role that:\n",
    "    - acts as a single point of contact for the BU, as they have all detsails of the change & can provide feedback to the PM (also act as facilitators, data gatherers, educators, & advisors)\n",
    "    - ensures change gains relevant commitment from stakeholders\n",
    "    - help plan delivery, as they will be able to share concerns or information on confluict with the PM (which enables them to plan more effectively on how the change is delivered)\n",
    "\n",
    "\n",
    "It is on the PM to work with everyone to ensure everyone is aware of what's being delivered to the BUs & be prepared for the change."
   ]
  },
  {
   "cell_type": "markdown",
   "id": "965bfea1",
   "metadata": {},
   "source": [
    "## [Change Management In The Project Lifecycle](https://www.linkedin.com/learning/change-management-for-projects/change-management-in-the-project-lifecycle)\n",
    "\n",
    "**Change Management** takes place throughout the project lifecycle - and it's sometimes hard to separate the change activities from the project activities. Regardless, it's the people that make the changes and ensure it sticks.\n",
    "\n",
    "To ensure changes stay, change management activities should always run alongside a project and be fully integrated within it.\n",
    "\n",
    "## Continuous Activities\n",
    "\n",
    "1st focus on continuous activities - which are all about ...\n",
    "\n",
    "### Individuals & Change\n",
    "\n",
    "PMs need to understand how people are affect emotionally - their journey through the **change curve**, how this leads to resistance, * consider the learning needs of affected stakeholders.\n",
    "\n",
    "### Stakeholder Engagement & Communications\n",
    "\n",
    "The earlier you ID, analyze, assess the impact, & communicate to stakeholders - the better!\n",
    "\n",
    "Stakeholders can change over the course of a project - which is a good reson why it is important to carry out regular reviews.\n",
    "\n",
    "<img src =\"IMGs/1/01.png\">"
   ]
  },
  {
   "cell_type": "markdown",
   "id": "aad4e6b8",
   "metadata": {},
   "source": [
    "## People Management Skills During Each Lifecycle Stage\n",
    "\n",
    "**STAGE 1 - Concept**\n",
    "1. It's important for you to be involved in helping to analyze the drivers for the change. It allows stakeholders to understand the reason for undertaking the project - which helps tailor communications & plan for resistance from those impacted.\n",
    "\n",
    "\n",
    "2. You'll be involved in defining the approach for the project's development. (_e.g.:  one release vs multiple releases_)\n",
    "\n",
    "**STAGE 2 - Definition**\n",
    "You'll need to negotiate with business roles to build the team and participate in:\n",
    "- faciliatated workshops to define deliverables\n",
    "- negotiation\n",
    "- team building\n",
    "\n",
    "**STAGE 3 - Development**\n",
    "Once here, you'll need to:\n",
    "- keep the team motivated\n",
    "- ensure progress is tracked to provide concise information\n",
    "- report to interested stakeholders\n",
    "- provide input into change readiness for the BUs\n",
    "\n",
    "**STAGE 4 - Delivery & Completion**\n",
    "PM is responsible for:\n",
    "- ensuring smooth transition of product(s) to the BUs\n",
    "- providing support as necessary\n",
    "- may also be responsible for removing legacy systems & ensuring the change is embedded fully into the business\n",
    "\n",
    "<img src =\"IMGs/1/02.png\">"
   ]
  }
 ],
 "metadata": {
  "kernelspec": {
   "display_name": "Python 3 (ipykernel)",
   "language": "python",
   "name": "python3"
  },
  "language_info": {
   "codemirror_mode": {
    "name": "ipython",
    "version": 3
   },
   "file_extension": ".py",
   "mimetype": "text/x-python",
   "name": "python",
   "nbconvert_exporter": "python",
   "pygments_lexer": "ipython3",
   "version": "3.10.2"
  }
 },
 "nbformat": 4,
 "nbformat_minor": 5
}
