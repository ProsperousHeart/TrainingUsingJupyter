{
 "cells": [
  {
   "cell_type": "markdown",
   "id": "59a4f16f",
   "metadata": {},
   "source": [
    "# [Deliver Outputs](https://www.linkedin.com/learning/change-management-for-projects/deliver-outputs)\n",
    "\n",
    "Highest risk of failure is when the project is ready to deliver. This is because change is new & fragile. Here are 4 things you can do to help ensure the change is delivered smoothly & sticks:\n",
    "\n",
    "1. Meet with the change manager to discuss how the productswill be handed over to the BU. It is essential to:\n",
    "    - ID the users who need & will use the products\n",
    "    - what activities should be carried out & when\n",
    "    - how to keep affected stakeholders informed about the delivery of outputs they will be using\n",
    "    \n",
    "\n",
    "2. Define & plan the **training requirements**. As the product moves through development, you shoudl facilitate workshops with the training team, change manager, & project team members to ID the best way to:\n",
    "    - train users\n",
    "    - create training materials\n",
    "    - deliver training\n",
    "    \n",
    "    \n",
    "3. ID required post-delivery support (_e.g.:  FAQs, technical briefings, ongoing training_) - sometimes ongoing maintenance may also be required. This should be defined at the beginning of the project. This can be addressed with troubleshooting and dealing with outstanding issues.\n",
    "\n",
    "\n",
    "Start planning for delivery early in the project lifecycle."
   ]
  },
  {
   "cell_type": "markdown",
   "id": "18702308",
   "metadata": {},
   "source": [
    "# [Disbanding Project Team](https://www.linkedin.com/learning/change-management-for-projects/disbanding-project-team)\n",
    "\n",
    "When ap roject comes to an end, the PM has several important people management activities to carry out before the team is disbanded.\n",
    "\n",
    "1. **Conduct performance reviews** for each member of the project team. They likely have worked on this for a significant amount of time, so their performance should feed into their overall annual review.\n",
    "    - Reivews are a great motivator for people to want to participate in projects in the future\n",
    "    - Should be carried out on a 1:1 basis\n",
    "    - Follow up in writing to their direct manager\n",
    "\n",
    "\n",
    "2. **Check for reintegration plans** - sometimes they are moved to a project outside their day role and it's not always easy to just step back in. People need to know what will happen when the project is finished & they turn up for work the next day. They may need a phased integration - which requires throught & planning.\n",
    "\n",
    "\n",
    "3. **Communicate with stakeholders** about the disbanding of the team. It's vitally important everyone knows the project resources are about to be released back to the business as usual so plans can be made on how best to utilize them. (Most important!!!)\n",
    "\n",
    "\n",
    "4. **Evaluate the project** - this assesses how well the project has performed against it's objectives of time, cost, quality, and scope. It also provides lessons learned about the mangement of the project. This review is highly collaborative and should include everyone on the project team, with each person having an opportunity to contribute their feedback.\n",
    "    - mark what went well and should continue to be done\n",
    "    - note what didn't work so well with suggestions for how to improve\n",
    "\n",
    "\n",
    "5. **Recognize & celebrate achievements** - tema members can recognize their achievement & receive appropriate recognition for their efforts."
   ]
  },
  {
   "cell_type": "markdown",
   "id": "0843512b",
   "metadata": {},
   "source": [
    "# Conclusion\n",
    "\n",
    "Additional courses can be found int he `Additional Courses.pdf` exercise file.\n",
    "\n",
    "For official certification, check out[this](https://apmg-international.com/product/change-management).\n",
    "\n",
    "For on site training or consulting, email:  `cpeet@it-explained.co.uk`\n",
    "\n",
    "You can also connect with her on LinkedIn [here](https://www.linkedin.com/in/claudine-peet-6069b214/)."
   ]
  }
 ],
 "metadata": {
  "kernelspec": {
   "display_name": "Python 3 (ipykernel)",
   "language": "python",
   "name": "python3"
  },
  "language_info": {
   "codemirror_mode": {
    "name": "ipython",
    "version": 3
   },
   "file_extension": ".py",
   "mimetype": "text/x-python",
   "name": "python",
   "nbconvert_exporter": "python",
   "pygments_lexer": "ipython3",
   "version": "3.10.2"
  }
 },
 "nbformat": 4,
 "nbformat_minor": 5
}
