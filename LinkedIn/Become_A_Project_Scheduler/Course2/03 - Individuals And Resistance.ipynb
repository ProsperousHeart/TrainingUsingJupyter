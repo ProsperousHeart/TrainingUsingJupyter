{
 "cells": [
  {
   "cell_type": "markdown",
   "id": "dfab72e4",
   "metadata": {},
   "source": [
    "# [Plan For Resistance](https://www.linkedin.com/learning/change-management-for-projects/plan-for-resistance)\n",
    "\n",
    "Resistance can be found in 3 categories:\n",
    "1. Job/Skills - may be concerned of having ot learn new skills\n",
    "2. Status (personal) - stakeholder previously experienced similar change gone badly & may feel anxious the change will be the same\n",
    "3. Operational\n",
    "\n",
    "In the **Concept** stage of the _Proejct Lfiecycle_, you will work with a change manager to conduct a **force field analysis** to identify the driving & resisting forces for change. It helps create a strategy for resistance - which defines activities that need to take place to deal with resistance during the proejct.\n",
    "\n",
    "During **Development** stage, you'll carry out these activities & meet regularly with the change manager to discuss the management of resistance.\n",
    "\n",
    "During **delivery & Completion** stage, you and the change manager will be working closely  with the BUs to ensure a smooth transition.\n",
    "\n",
    "<img src =\"IMGs/3/01.png\">"
   ]
  },
  {
   "cell_type": "markdown",
   "id": "755ff37a",
   "metadata": {},
   "source": [
    "# [How To Deal With Job/Skills Resistance](https://www.linkedin.com/learning/change-management-for-projects/how-to-deal-with-job-skills-resistance)\n",
    "\n",
    "We all feel apprehensive when having to learn something new.\n",
    "\n",
    "Handle the situation by making them aware of the many different forms of materials available - make it almost impossible for them to dodge the training.\n",
    "\n",
    "It's important to listen to your stakeholders and find out what they're worried about. Address this with them to sucessfully overcome their resistance."
   ]
  },
  {
   "cell_type": "markdown",
   "id": "d8fbfad4",
   "metadata": {},
   "source": [
    "# [How To Deal With Status/Personal Resistance](https://www.linkedin.com/learning/change-management-for-projects/how-to-deal-with-job-skills-resistance)\n",
    "\n",
    "Change in an organization can sometimes mean an unwelcome change in person alstatus. They may be finding it difficult to deal with the loss or see the possible opportunities available.\n",
    "\n",
    "Give them opportunites to get invovled and feel important.\n",
    "\n",
    "Help them understand how important they are to the success of the new \"system\". Get them on board!"
   ]
  },
  {
   "cell_type": "markdown",
   "id": "3dcd89d4",
   "metadata": {},
   "source": [
    "# [How To Deal With Operational Resistance](https://www.linkedin.com/learning/change-management-for-projects/how-to-deal-with-operational-resistance)\n",
    "\n",
    "Soemtimes people resist change when it affects them from an operational perspective.\n",
    "\n",
    "Take the time to listen to their concerns. Empathize with them. BE proactive - arrange a meeting the the program manager to build a trust relationship with them."
   ]
  }
 ],
 "metadata": {
  "kernelspec": {
   "display_name": "Python 3 (ipykernel)",
   "language": "python",
   "name": "python3"
  },
  "language_info": {
   "codemirror_mode": {
    "name": "ipython",
    "version": 3
   },
   "file_extension": ".py",
   "mimetype": "text/x-python",
   "name": "python",
   "nbconvert_exporter": "python",
   "pygments_lexer": "ipython3",
   "version": "3.10.2"
  }
 },
 "nbformat": 4,
 "nbformat_minor": 5
}
