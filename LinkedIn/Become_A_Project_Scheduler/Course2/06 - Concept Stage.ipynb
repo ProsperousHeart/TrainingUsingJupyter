{
 "cells": [
  {
   "cell_type": "markdown",
   "id": "a1897d84",
   "metadata": {},
   "source": [
    "# [Drivers For Change](https://www.linkedin.com/learning/change-management-for-projects/drivers-for-change)\n",
    "\n",
    "Change should never be done without a good reason, but even so it can be tricky to find the initial momentum to get started. Therefore, it is important to understand the driving & resisting forces for change. (If resisting forces are too high, change is unlikely to progress - let alone get started.)\n",
    "\n",
    "[Lewin's force field analysis](https://www.mindtools.com/pages/article/newTED_06.htm) is a key tool the PM and change manager can use to ID what type of resistance is likely to arise & help plan how to address it during the project.\n",
    "\n",
    "The basis is that in order to create the momentum for change, the **driving forces** need to be increased while the **resisting forces** are decreased. By adding a simple scoring system, you can score the level of pressure exerted by the opposing forces.\n",
    "\n",
    "Here is an example of making a specific change in an office:\n",
    "\n",
    "<img src =\"IMGs/6/01.png\">\n",
    "\n",
    "The above has 11 to 9 for scoring, indicating there may be enough momentum to begin the change.\n",
    "\n",
    "To increase the driving forces, you'll need early stakeholder engagement so you can ID the beenfits necessary to gain commitment & ensure a clear vision of the change is created & communicated.\n",
    "\n",
    "To deal with resisting forces, the PM & change manger should:\n",
    "1. clarify the strategy & reassure the staff the the challenges have been considered and planned for\n",
    "2. PM to present a plan showing time scales have been considered, that there is time to take on the project, & resources have been committed\n",
    "3. demonstrate the plans in process with lead to a successful project\n",
    "\n",
    "If you have access to the exercise files, you can utilize:  `Force Field Analysis Template_DL.xlsx`"
   ]
  },
  {
   "cell_type": "markdown",
   "id": "3baf406c",
   "metadata": {},
   "source": [
    "# [Plan The Project Approach](https://www.linkedin.com/learning/change-management-for-projects/plan-the-project-approach)\n",
    "\n",
    "How to change an organization can have a very big impact on the people affected.\n",
    "\n",
    "During the **concept stage**, the PM, sponsor, and change manager should discuss how to roll out the project deliverables and the impact this will have on affected stakeholders.\n",
    "\n",
    "## Waterfall Approach\n",
    "\n",
    "In this approach, deliverables go through a design stage, development, testing, then delivery to the BU.\n",
    "\n",
    "**Advantages:**\n",
    "- long lead time gives affected BUs **time to gain commitment** to the change\n",
    "- early definition of deliverables means users have **clarity about outputs** from an early stage (more time to work with users and gain wider acceptance)\n",
    "\n",
    "## Agile approach\n",
    "\n",
    "This is incremental and involves short cycles of development, testing, & release.\n",
    "\n",
    "**Advantages:**\n",
    "- early increment can be used to run apilot study and test proof of concept\n",
    "- lead to early realization of benefits\n",
    "- potentially earlier buy in since they can see the benefits for the change\n",
    "- reduces level of resistance\n",
    "- requires users to be involved in the development of the product (user involvement leads to greater uptake & easier embedding)"
   ]
  },
  {
   "cell_type": "markdown",
   "id": "43d1ccd0",
   "metadata": {},
   "source": [
    "# [Factors That Influence Change](https://www.linkedin.com/learning/change-management-for-projects/factors-that-influence-change)\n",
    "\n",
    "When people have experience with a poorly executed change, they have a long and unforgiving memory.\n",
    "\n",
    "5 factors a PM needs to pay attention to when planning stakeholder engagement:\n",
    "\n",
    "1. **Nature of the change** - where has the change come from? is it internal or external? (_e.g.:  compliance with legislation, customer demands, etc_)\n",
    "\n",
    "\n",
    "2. **Consequences of the change** - not all change is positive for everyone\n",
    "\n",
    "\n",
    "3. **Organizational history** - need to know how to generate confidence that lessons have been learned & explain how you plan to implement this change differently\n",
    "\n",
    "\n",
    "4. **Individual personality type** - allow time and accept it is perfectly normal for different individuals to respond to change in different ways\n",
    "\n",
    "\n",
    "5. **History of an individual** - their baggage will affect their attitude (they have experienced change elsewhere), so be sure you address their concerns and attitudes towards the change"
   ]
  }
 ],
 "metadata": {
  "kernelspec": {
   "display_name": "Python 3 (ipykernel)",
   "language": "python",
   "name": "python3"
  },
  "language_info": {
   "codemirror_mode": {
    "name": "ipython",
    "version": 3
   },
   "file_extension": ".py",
   "mimetype": "text/x-python",
   "name": "python",
   "nbconvert_exporter": "python",
   "pygments_lexer": "ipython3",
   "version": "3.10.2"
  }
 },
 "nbformat": 4,
 "nbformat_minor": 5
}
