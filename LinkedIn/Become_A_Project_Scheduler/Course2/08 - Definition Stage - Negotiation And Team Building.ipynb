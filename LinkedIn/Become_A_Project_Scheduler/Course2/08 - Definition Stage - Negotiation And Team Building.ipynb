{
 "cells": [
  {
   "cell_type": "markdown",
   "id": "d2659b4e",
   "metadata": {},
   "source": [
    "# [Negotiation Skills](https://www.linkedin.com/learning/change-management-for-projects/negotiation-skills)\n",
    "\n",
    "PMs need to be master negotiators, since youi will always be negotiating for something:  resources, time, project support\n",
    "\n",
    "Regardless of the negotiation, success is found following certain steps:\n",
    "1. both parties to realize negotiation is needed\n",
    "2. once both agree, they will prepare for the negotiation (each considering what they want & their bottom line)\n",
    "3. agree to meet at a particular time & place\n",
    "4. negotiate with offers & counteroffers\n",
    "5. when agreement reached, formalize and document\n",
    "6. review execution"
   ]
  },
  {
   "cell_type": "markdown",
   "id": "94dae2a5",
   "metadata": {},
   "source": [
    "# [Building A Project Team](https://www.linkedin.com/learning/change-management-for-projects/building-a-project-team)\n",
    "\n",
    "As a PM, your job is to manage the project - not do the work. So you'll need a team for that.\n",
    "\n",
    "There are 2 change management models to help lead your team effectively.\n",
    "\n",
    "## [Glaser's Five Elements](https://edussonpapers.com/change-management-essay/) For An Effective Team\n",
    "\n",
    "A team must have a **mission & goals**. This provides clarity & purpose for the work they will perform.\n",
    "\n",
    "Every team needs **roles** which clarify their responsibilities & outline authority for the project.\n",
    "\n",
    "**Operating processes** set out how the team will work, collaborate, make decisions, resolve issues, and communicate progress.\n",
    "\n",
    "**Interpersonal relationships** clarify how the team will engage with & support others during the change.\n",
    "\n",
    "**Interteam relationships** identify how they will engage & collaborate with other teams during the change.\n",
    "\n",
    "## [Tuckman's Model of Team Development](https://www.mindtools.com/pages/article/newLDR_86.htm)\n",
    "\n",
    "This tool provides insight into team behaviors at different stages of the project, which allows the PM to adjust their management style appropriately.\n",
    "\n",
    "**Stage 1:  Forming**\n",
    "\n",
    "A team will be getting together for the first time. They'll want confirmation from leader on objectives as well as who will be doing what & how it will be done. (Commanding style of leadership by telling the team what they will be doing.)\n",
    "\n",
    "**Stage 2:  Storming**\n",
    "\n",
    "After team has had a chance to consider goals, processes, and roles, they begin questioning them & testing boundaries. This can lead to conflict, which sometimes has positive outcomes. (Adopt a more affiliative style of leadership encouraging team members to talk to each other to resolve conflicts.)\n",
    "\n",
    "**Stage 3:  Norming**\n",
    "\n",
    "The team is working well together. May still have an occasional disagreement on how to tackle an issue but largely making progress. (Take a more democratic approach to leadership.)\n",
    "\n",
    "**Stage 4:  Performing**\n",
    "\n",
    "Team has improved the way they work together, so you cna focus on a coaching leadership. Focus on developing team members within their role.\n",
    "\n",
    "<img src=\"IMGs/8/01.png\">"
   ]
  },
  {
   "cell_type": "markdown",
   "id": "bd7af5dc",
   "metadata": {},
   "source": [
    "# [How To Deal With The Forming Stage](https://www.linkedin.com/learning/change-management-for-projects/how-to-deal-with-the-forming-stage)\n",
    "\n",
    "When a team is assembled, it may be the firs ttime many oif them have worked together. They need to get to know each other before they can understand each other's strengths & weaknesses.\n",
    "\n",
    "They are generally very polite and conforming. They look for someone to direct them. They will look to the PM to confirm obejctives, define roles, and clarify processes to be used."
   ]
  },
  {
   "cell_type": "markdown",
   "id": "ea964917",
   "metadata": {},
   "source": [
    "# [How To Deal With The Storming Stage](https://www.linkedin.com/learning/change-management-for-projects/how-to-deal-with-the-storming-stage)\n",
    "\n",
    "Building a facilitator style of leadership aims to create harmony & build bonds within the team. Don't tell them the solution - listen & let them talk it out."
   ]
  },
  {
   "cell_type": "markdown",
   "id": "21358938",
   "metadata": {},
   "source": [
    "# [How To Deal With The Norming Stage](https://www.linkedin.com/learning/change-management-for-projects/how-to-deal-with-the-norming-stage)\n",
    "\n",
    "Don't offer solutions - allow them to foster collaboration and suggest next steps."
   ]
  },
  {
   "cell_type": "markdown",
   "id": "273a57be",
   "metadata": {},
   "source": [
    "# [How To Deal With The Performing Stage](https://www.linkedin.com/learning/change-management-for-projects/how-to-deal-with-the-performing-stage)\n",
    "\n",
    "A team in thsi stage shouldn't need much direction at all. They should be working cohesively & helping each other out - including looking for ways to improve how they work.\n",
    "\n",
    "_\"Any ideas on how to pass on your lessons for future projects?\"_"
   ]
  }
 ],
 "metadata": {
  "kernelspec": {
   "display_name": "Python 3 (ipykernel)",
   "language": "python",
   "name": "python3"
  },
  "language_info": {
   "codemirror_mode": {
    "name": "ipython",
    "version": 3
   },
   "file_extension": ".py",
   "mimetype": "text/x-python",
   "name": "python",
   "nbconvert_exporter": "python",
   "pygments_lexer": "ipython3",
   "version": "3.10.2"
  }
 },
 "nbformat": 4,
 "nbformat_minor": 5
}
